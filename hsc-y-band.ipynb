{
 "cells": [
  {
   "cell_type": "markdown",
   "id": "266a786a-d058-47af-96d8-74e168c56df2",
   "metadata": {},
   "source": [
    "The goal for this notebook is to determine how many coadds a particular visit will contribute to, then to build those coadds (including other possible visits)."
   ]
  },
  {
   "cell_type": "code",
   "execution_count": 1,
   "id": "5496ce70-07ea-4562-b6fd-8c07ef76d315",
   "metadata": {
    "execution": {
     "iopub.execute_input": "2024-06-18T19:43:51.925629Z",
     "iopub.status.busy": "2024-06-18T19:43:51.925141Z",
     "iopub.status.idle": "2024-06-18T19:43:55.089261Z",
     "shell.execute_reply": "2024-06-18T19:43:55.088732Z",
     "shell.execute_reply.started": "2024-06-18T19:43:51.925611Z"
    }
   },
   "outputs": [],
   "source": [
    "REPO = '/sdf/data/rubin/repo/main/'\n",
    "\n",
    "from lsst.daf.butler import Butler\n",
    "from pprint import pprint\n",
    "import lsst.afw.image as afwImage\n",
    "from lsst.skymap import Index2D\n",
    "import numpy as np\n",
    "import matplotlib as mpl\n",
    "from matplotlib import pyplot as plt\n",
    "\n",
    "%matplotlib inline\n",
    "\n",
    "butler = Butler(REPO)\n",
    "registry = butler.registry\n",
    "\n",
    "# define image display backend\n",
    "import lsst.afw.display as afwDisplay\n",
    "afwDisplay.setDefaultBackend('firefly')"
   ]
  },
  {
   "cell_type": "code",
   "execution_count": 2,
   "id": "99188ded-6201-4a9d-829c-4352c2e2b83f",
   "metadata": {
    "execution": {
     "iopub.execute_input": "2024-06-18T19:43:55.090256Z",
     "iopub.status.busy": "2024-06-18T19:43:55.090103Z",
     "iopub.status.idle": "2024-06-18T19:43:55.092769Z",
     "shell.execute_reply": "2024-06-18T19:43:55.092386Z",
     "shell.execute_reply.started": "2024-06-18T19:43:55.090241Z"
    }
   },
   "outputs": [],
   "source": [
    "input_collection = 'HSC/runs/RC2/w_2024_22/DM-44526'"
   ]
  },
  {
   "cell_type": "code",
   "execution_count": 3,
   "id": "91769018-db4c-41ed-bfe6-e74ff506bc18",
   "metadata": {
    "execution": {
     "iopub.execute_input": "2024-06-18T19:43:55.093351Z",
     "iopub.status.busy": "2024-06-18T19:43:55.093229Z",
     "iopub.status.idle": "2024-06-18T19:43:58.259450Z",
     "shell.execute_reply": "2024-06-18T19:43:58.258918Z",
     "shell.execute_reply.started": "2024-06-18T19:43:55.093339Z"
    }
   },
   "outputs": [],
   "source": [
    "# visit of interest\n",
    "visit_y = butler.get('calexp',\n",
    "                        collections = input_collection,\n",
    "                        instrument='HSC',\n",
    "                        detector=0,\n",
    "                        visit = 318,\n",
    "                        band = 'y',\n",
    "                        day_obs = 20140325,\n",
    "                        physical_filter = 'HSC-Y',\n",
    "                       )"
   ]
  },
  {
   "cell_type": "code",
   "execution_count": 15,
   "id": "028f7310-2643-448d-8429-084b15d20e5d",
   "metadata": {
    "execution": {
     "iopub.execute_input": "2024-06-18T18:22:49.560939Z",
     "iopub.status.busy": "2024-06-18T18:22:49.560372Z",
     "iopub.status.idle": "2024-06-18T18:22:50.139338Z",
     "shell.execute_reply": "2024-06-18T18:22:50.138742Z",
     "shell.execute_reply.started": "2024-06-18T18:22:49.560924Z"
    }
   },
   "outputs": [],
   "source": [
    "display1 = afwDisplay.Display(frame=1)\n",
    "display1.mtv(visit_y.getMaskedImage())"
   ]
  },
  {
   "cell_type": "markdown",
   "id": "f75fb74a-3259-498e-b025-c2d6cfd74fe9",
   "metadata": {},
   "source": [
    "Before going much further, the visit will need to be warped first to match coordinates with the coadds later. To do this, I run the command:\n",
    "```\n",
    "pipetask run -j 4 --register-dataset-types \\\n",
    "-b /sdf/data/rubin/repo/main \\\n",
    "-i HSC/runs/RC2/w_2024_22/DM-44526 \\\n",
    "-o u/$USER/makeWarp_y_band \\\n",
    "-p /sdf/group/rubin/user/mgorsuch/cell-coadd/pipeline-directwarp.yaml \\\n",
    "-d \"instrument='HSC' AND detector=0 AND visit=318 AND day_obs=20140325 AND band='y' AND physical_filter='HSC-Y' AND skymap='hsc_rings_cells_v1'\"\n",
    "```\n",
    "This produces 5 warps, as the visit will overlap several combinations of tracks and patches."
   ]
  },
  {
   "cell_type": "code",
   "execution_count": 4,
   "id": "b9d16d71-9232-4963-85f9-795684470582",
   "metadata": {
    "execution": {
     "iopub.execute_input": "2024-06-18T19:43:58.281995Z",
     "iopub.status.busy": "2024-06-18T19:43:58.281658Z",
     "iopub.status.idle": "2024-06-18T19:43:58.284051Z",
     "shell.execute_reply": "2024-06-18T19:43:58.283649Z",
     "shell.execute_reply.started": "2024-06-18T19:43:58.281978Z"
    }
   },
   "outputs": [],
   "source": [
    "warp_collection = \"u/mgorsuch/makeWarp_y_band/20240618T185910Z\""
   ]
  },
  {
   "cell_type": "code",
   "execution_count": 35,
   "id": "c5b90fe7-d3d7-4141-8809-4ced7c5685a9",
   "metadata": {
    "execution": {
     "iopub.execute_input": "2024-06-18T19:34:38.227140Z",
     "iopub.status.busy": "2024-06-18T19:34:38.226707Z",
     "iopub.status.idle": "2024-06-18T19:34:38.267803Z",
     "shell.execute_reply": "2024-06-18T19:34:38.267325Z",
     "shell.execute_reply.started": "2024-06-18T19:34:38.227121Z"
    }
   },
   "outputs": [
    {
     "name": "stdout",
     "output_type": "stream",
     "text": [
      "{instrument: 'HSC', skymap: 'hsc_rings_cells_v1', tract: 9570, patch: 110, visit: 318, band: 'y', day_obs: 20140325, physical_filter: 'HSC-Y'}\n",
      "{instrument: 'HSC', skymap: 'hsc_rings_cells_v1', tract: 9570, patch: 110, visit: 318, band: 'y', day_obs: 20140325, physical_filter: 'HSC-Y'}\n",
      "{instrument: 'HSC', skymap: 'hsc_rings_cells_v1', tract: 9571, patch: 119, visit: 318, band: 'y', day_obs: 20140325, physical_filter: 'HSC-Y'}\n",
      "{instrument: 'HSC', skymap: 'hsc_rings_cells_v1', tract: 9571, patch: 119, visit: 318, band: 'y', day_obs: 20140325, physical_filter: 'HSC-Y'}\n",
      "{instrument: 'HSC', skymap: 'hsc_rings_cells_v1', tract: 9571, patch: 120, visit: 318, band: 'y', day_obs: 20140325, physical_filter: 'HSC-Y'}\n",
      "{instrument: 'HSC', skymap: 'hsc_rings_cells_v1', tract: 9571, patch: 120, visit: 318, band: 'y', day_obs: 20140325, physical_filter: 'HSC-Y'}\n",
      "{instrument: 'HSC', skymap: 'hsc_rings_cells_v1', tract: 9813, patch: 3, visit: 318, band: 'y', day_obs: 20140325, physical_filter: 'HSC-Y'}\n",
      "{instrument: 'HSC', skymap: 'hsc_rings_cells_v1', tract: 9813, patch: 3, visit: 318, band: 'y', day_obs: 20140325, physical_filter: 'HSC-Y'}\n",
      "{instrument: 'HSC', skymap: 'hsc_rings_cells_v1', tract: 9813, patch: 4, visit: 318, band: 'y', day_obs: 20140325, physical_filter: 'HSC-Y'}\n",
      "{instrument: 'HSC', skymap: 'hsc_rings_cells_v1', tract: 9813, patch: 4, visit: 318, band: 'y', day_obs: 20140325, physical_filter: 'HSC-Y'}\n"
     ]
    }
   ],
   "source": [
    "for ref in butler.registry.queryDatasets('deepCoadd_directWarp', collections=warp_collection,):\n",
    "    print(ref.dataId)"
   ]
  },
  {
   "cell_type": "code",
   "execution_count": 11,
   "id": "a4e79417-dcab-4171-a7c3-25cb381defdb",
   "metadata": {
    "execution": {
     "iopub.execute_input": "2024-06-18T19:46:42.260787Z",
     "iopub.status.busy": "2024-06-18T19:46:42.260504Z",
     "iopub.status.idle": "2024-06-18T19:46:42.577296Z",
     "shell.execute_reply": "2024-06-18T19:46:42.576816Z",
     "shell.execute_reply.started": "2024-06-18T19:46:42.260771Z"
    }
   },
   "outputs": [],
   "source": [
    "warp = butler.get('deepCoadd_directWarp',\n",
    "                   collections = warp_collection,\n",
    "                   instrument='HSC',\n",
    "                   skymap = 'hsc_rings_cells_v1',\n",
    "                   tract = 9571,\n",
    "                   patch = 120,\n",
    "                   visit = 318)"
   ]
  },
  {
   "cell_type": "code",
   "execution_count": 12,
   "id": "23271517-0052-4027-a998-2a3d1aa2c611",
   "metadata": {
    "execution": {
     "iopub.execute_input": "2024-06-18T19:46:44.582358Z",
     "iopub.status.busy": "2024-06-18T19:46:44.581997Z",
     "iopub.status.idle": "2024-06-18T19:46:46.723965Z",
     "shell.execute_reply": "2024-06-18T19:46:46.723432Z",
     "shell.execute_reply.started": "2024-06-18T19:46:44.582339Z"
    }
   },
   "outputs": [],
   "source": [
    "display1 = afwDisplay.Display(frame=1)\n",
    "display1.mtv(visit_y.image)\n",
    "display2 = afwDisplay.Display(frame=2)\n",
    "display2.mtv(warp.image)"
   ]
  },
  {
   "cell_type": "code",
   "execution_count": null,
   "id": "2ba55974-ff27-461e-bcac-a6a67d8fc1d7",
   "metadata": {},
   "outputs": [],
   "source": []
  }
 ],
 "metadata": {
  "kernelspec": {
   "display_name": "LSST",
   "language": "python",
   "name": "lsst"
  },
  "language_info": {
   "codemirror_mode": {
    "name": "ipython",
    "version": 3
   },
   "file_extension": ".py",
   "mimetype": "text/x-python",
   "name": "python",
   "nbconvert_exporter": "python",
   "pygments_lexer": "ipython3",
   "version": "3.11.7"
  }
 },
 "nbformat": 4,
 "nbformat_minor": 5
}
