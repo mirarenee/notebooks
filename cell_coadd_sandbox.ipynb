{
 "cells": [
  {
   "cell_type": "code",
   "execution_count": 1,
   "id": "dcee5f19-6338-49fd-8f55-3ea03d12775b",
   "metadata": {
    "execution": {
     "iopub.execute_input": "2024-03-28T15:52:56.297408Z",
     "iopub.status.busy": "2024-03-28T15:52:56.296745Z",
     "iopub.status.idle": "2024-03-28T15:52:58.284157Z",
     "shell.execute_reply": "2024-03-28T15:52:58.283713Z",
     "shell.execute_reply.started": "2024-03-28T15:52:56.297389Z"
    }
   },
   "outputs": [],
   "source": [
    "REPO = '/sdf/data/rubin/repo/main/'\n",
    "\n",
    "from lsst.daf.butler import Butler\n",
    "from pprint import pprint\n",
    "import lsst.afw.image as afwImage\n",
    "from lsst.skymap import Index2D\n",
    "import numpy as np\n",
    "import matplotlib as mpl\n",
    "from matplotlib import pyplot as plt\n",
    "\n",
    "%matplotlib inline\n",
    "\n",
    "butler = Butler(REPO)\n",
    "registry = butler.registry"
   ]
  },
  {
   "cell_type": "markdown",
   "id": "b41ad15a-0889-4d8f-a8ca-e9938e971c5f",
   "metadata": {},
   "source": [
    "Confirm that local packages are being used, tested with `pipe_tasks` and `drp_tasks`. Need to check this at least until these package versions are in the main stack."
   ]
  },
  {
   "cell_type": "code",
   "execution_count": 6,
   "id": "80a9f13e-11d5-4e1e-a59e-8dc7357bf1c4",
   "metadata": {
    "execution": {
     "iopub.execute_input": "2024-03-28T15:56:30.863412Z",
     "iopub.status.busy": "2024-03-28T15:56:30.862817Z",
     "iopub.status.idle": "2024-03-28T15:56:33.200353Z",
     "shell.execute_reply": "2024-03-28T15:56:33.199869Z",
     "shell.execute_reply.started": "2024-03-28T15:56:30.863395Z"
    }
   },
   "outputs": [
    {
     "name": "stdout",
     "output_type": "stream",
     "text": [
      "/home/m/mgorsuch/rubin-user/repos/pipe_tasks/python/lsst/pipe/tasks/__init__.py\n",
      "/home/m/mgorsuch/rubin-user/repos/drp_tasks/python/lsst/drp/tasks/__init__.py\n"
     ]
    }
   ],
   "source": [
    "import lsst.pipe.tasks\n",
    "import lsst.drp.tasks\n",
    "print(lsst.pipe.tasks.__file__)\n",
    "print(lsst.drp.tasks.__file__)"
   ]
  },
  {
   "cell_type": "code",
   "execution_count": 9,
   "id": "f709b466-c137-4a56-af0a-754368e3b357",
   "metadata": {
    "execution": {
     "iopub.execute_input": "2024-03-28T15:58:35.091128Z",
     "iopub.status.busy": "2024-03-28T15:58:35.090840Z",
     "iopub.status.idle": "2024-03-28T15:58:35.093381Z",
     "shell.execute_reply": "2024-03-28T15:58:35.093014Z",
     "shell.execute_reply.started": "2024-03-28T15:58:35.091113Z"
    }
   },
   "outputs": [],
   "source": [
    "# collection = 'u/mgorsuch/make_direct_warp/20240313T003812Z' # for the patch 37 collection, with two visits.\n",
    "collection = 'u/mgorsuch/make_direct_warp_61/20240314T194854Z' # for the patch 61 collection, with 8 detected warps.\n",
    "# collection = 'u/mgorsuch/make_direct_warp_61/20240326T202732Z' # to test new code"
   ]
  },
  {
   "cell_type": "markdown",
   "id": "17a6d40b-9d58-4a23-957c-50e7723cc048",
   "metadata": {},
   "source": [
    "Check which dataset types are registered in the collection."
   ]
  },
  {
   "cell_type": "code",
   "execution_count": 23,
   "id": "40cfee3f-d40f-4187-bc32-43eee516c9b4",
   "metadata": {
    "collapsed": true,
    "execution": {
     "iopub.execute_input": "2024-03-15T14:51:40.263882Z",
     "iopub.status.busy": "2024-03-15T14:51:40.263381Z",
     "iopub.status.idle": "2024-03-15T14:51:57.044921Z",
     "shell.execute_reply": "2024-03-15T14:51:57.044504Z",
     "shell.execute_reply.started": "2024-03-15T14:51:40.263865Z"
    },
    "jupyter": {
     "outputs_hidden": true
    }
   },
   "outputs": [
    {
     "name": "stdout",
     "output_type": "stream",
     "text": [
      "DatasetType('packages', {}, Packages)\n",
      "DatasetType('deepCoadd_directWarp', {band, instrument, skymap, physical_filter, tract, patch, visit}, ExposureF)\n",
      "DatasetType('makeDirectWarp_config', {}, Config)\n",
      "DatasetType('deepCoaddCell', {band, skymap, tract, patch}, MultipleCellCoadd)\n",
      "DatasetType('deepCoadd_directWarp_maskedFraction', {band, instrument, skymap, physical_filter, tract, patch, visit}, MaskedImageF)\n",
      "DatasetType('deepCoadd_directWarp_noise0', {band, instrument, skymap, physical_filter, tract, patch, visit}, MaskedImageF)\n",
      "DatasetType('deepCoadd_directWarp_noise1', {band, instrument, skymap, physical_filter, tract, patch, visit}, MaskedImageF)\n",
      "DatasetType('makeDirectWarp_metadata', {band, instrument, skymap, physical_filter, tract, patch, visit}, TaskMetadata)\n",
      "DatasetType('makeDirectWarp_log', {band, instrument, skymap, physical_filter, tract, patch, visit}, ButlerLogRecords)\n",
      "DatasetType('assembleCellCoadd_config', {}, Config)\n",
      "DatasetType('assembleCellCoadd_metadata', {band, skymap, tract, patch}, TaskMetadata)\n",
      "DatasetType('assembleCellCoadd_log', {band, skymap, tract, patch}, ButlerLogRecords)\n"
     ]
    }
   ],
   "source": [
    "for datasetType in registry.queryDatasetTypes():\n",
    "    if registry.queryDatasets(datasetType, collections=collection).any(execute=False, exact=False):\n",
    "        print(datasetType)"
   ]
  },
  {
   "cell_type": "code",
   "execution_count": 43,
   "id": "8c3aecec-586f-45f7-b67a-c05cd7ee809b",
   "metadata": {
    "collapsed": true,
    "execution": {
     "iopub.execute_input": "2024-03-20T19:06:16.970326Z",
     "iopub.status.busy": "2024-03-20T19:06:16.970007Z",
     "iopub.status.idle": "2024-03-20T19:06:17.591918Z",
     "shell.execute_reply": "2024-03-20T19:06:17.591580Z",
     "shell.execute_reply.started": "2024-03-20T19:06:16.970311Z"
    },
    "jupyter": {
     "outputs_hidden": true
    },
    "scrolled": true
   },
   "outputs": [
    {
     "name": "stdout",
     "output_type": "stream",
     "text": [
      "{instrument: 'HSC', skymap: 'hsc_rings_cells_v1', tract: 9813, patch: 61, visit: 1242, band: 'i', physical_filter: 'HSC-I'}\n",
      "{instrument: 'HSC', skymap: 'hsc_rings_cells_v1', tract: 9813, patch: 61, visit: 1242, band: 'i', physical_filter: 'HSC-I'}\n",
      "{instrument: 'HSC', skymap: 'hsc_rings_cells_v1', tract: 9813, patch: 61, visit: 1242, band: 'i', physical_filter: 'HSC-I'}\n",
      "{instrument: 'HSC', skymap: 'hsc_rings_cells_v1', tract: 9813, patch: 61, visit: 1242, band: 'i', physical_filter: 'HSC-I'}\n",
      "{instrument: 'HSC', skymap: 'hsc_rings_cells_v1', tract: 9813, patch: 61, visit: 1242, band: 'i', physical_filter: 'HSC-I'}\n",
      "{instrument: 'HSC', skymap: 'hsc_rings_cells_v1', tract: 9813, patch: 61, visit: 1242, band: 'i', physical_filter: 'HSC-I'}\n",
      "{instrument: 'HSC', skymap: 'hsc_rings_cells_v1', tract: 9813, patch: 61, visit: 30490, band: 'i', physical_filter: 'HSC-I'}\n",
      "{instrument: 'HSC', skymap: 'hsc_rings_cells_v1', tract: 9813, patch: 61, visit: 30490, band: 'i', physical_filter: 'HSC-I'}\n",
      "{instrument: 'HSC', skymap: 'hsc_rings_cells_v1', tract: 9813, patch: 61, visit: 30490, band: 'i', physical_filter: 'HSC-I'}\n",
      "{instrument: 'HSC', skymap: 'hsc_rings_cells_v1', tract: 9813, patch: 61, visit: 30490, band: 'i', physical_filter: 'HSC-I'}\n",
      "{instrument: 'HSC', skymap: 'hsc_rings_cells_v1', tract: 9813, patch: 61, visit: 30490, band: 'i', physical_filter: 'HSC-I'}\n",
      "{instrument: 'HSC', skymap: 'hsc_rings_cells_v1', tract: 9813, patch: 61, visit: 30490, band: 'i', physical_filter: 'HSC-I'}\n",
      "{instrument: 'HSC', skymap: 'hsc_rings_cells_v1', tract: 9813, patch: 61, visit: 19694, band: 'i', physical_filter: 'HSC-I'}\n",
      "{instrument: 'HSC', skymap: 'hsc_rings_cells_v1', tract: 9813, patch: 61, visit: 19694, band: 'i', physical_filter: 'HSC-I'}\n",
      "{instrument: 'HSC', skymap: 'hsc_rings_cells_v1', tract: 9813, patch: 61, visit: 19694, band: 'i', physical_filter: 'HSC-I'}\n",
      "{instrument: 'HSC', skymap: 'hsc_rings_cells_v1', tract: 9813, patch: 61, visit: 19694, band: 'i', physical_filter: 'HSC-I'}\n",
      "{instrument: 'HSC', skymap: 'hsc_rings_cells_v1', tract: 9813, patch: 61, visit: 19694, band: 'i', physical_filter: 'HSC-I'}\n",
      "{instrument: 'HSC', skymap: 'hsc_rings_cells_v1', tract: 9813, patch: 61, visit: 19694, band: 'i', physical_filter: 'HSC-I'}\n",
      "{instrument: 'HSC', skymap: 'hsc_rings_cells_v1', tract: 9813, patch: 61, visit: 19696, band: 'i', physical_filter: 'HSC-I'}\n",
      "{instrument: 'HSC', skymap: 'hsc_rings_cells_v1', tract: 9813, patch: 61, visit: 19696, band: 'i', physical_filter: 'HSC-I'}\n",
      "{instrument: 'HSC', skymap: 'hsc_rings_cells_v1', tract: 9813, patch: 61, visit: 19696, band: 'i', physical_filter: 'HSC-I'}\n",
      "{instrument: 'HSC', skymap: 'hsc_rings_cells_v1', tract: 9813, patch: 61, visit: 19696, band: 'i', physical_filter: 'HSC-I'}\n",
      "{instrument: 'HSC', skymap: 'hsc_rings_cells_v1', tract: 9813, patch: 61, visit: 19696, band: 'i', physical_filter: 'HSC-I'}\n",
      "{instrument: 'HSC', skymap: 'hsc_rings_cells_v1', tract: 9813, patch: 61, visit: 19696, band: 'i', physical_filter: 'HSC-I'}\n",
      "{instrument: 'HSC', skymap: 'hsc_rings_cells_v1', tract: 9813, patch: 61, visit: 30482, band: 'i', physical_filter: 'HSC-I'}\n",
      "{instrument: 'HSC', skymap: 'hsc_rings_cells_v1', tract: 9813, patch: 61, visit: 30482, band: 'i', physical_filter: 'HSC-I'}\n",
      "{instrument: 'HSC', skymap: 'hsc_rings_cells_v1', tract: 9813, patch: 61, visit: 30482, band: 'i', physical_filter: 'HSC-I'}\n",
      "{instrument: 'HSC', skymap: 'hsc_rings_cells_v1', tract: 9813, patch: 61, visit: 30482, band: 'i', physical_filter: 'HSC-I'}\n",
      "{instrument: 'HSC', skymap: 'hsc_rings_cells_v1', tract: 9813, patch: 61, visit: 30482, band: 'i', physical_filter: 'HSC-I'}\n",
      "{instrument: 'HSC', skymap: 'hsc_rings_cells_v1', tract: 9813, patch: 61, visit: 30482, band: 'i', physical_filter: 'HSC-I'}\n",
      "{instrument: 'HSC', skymap: 'hsc_rings_cells_v1', tract: 9813, patch: 61, visit: 1248, band: 'i', physical_filter: 'HSC-I'}\n",
      "{instrument: 'HSC', skymap: 'hsc_rings_cells_v1', tract: 9813, patch: 61, visit: 1248, band: 'i', physical_filter: 'HSC-I'}\n",
      "{instrument: 'HSC', skymap: 'hsc_rings_cells_v1', tract: 9813, patch: 61, visit: 1248, band: 'i', physical_filter: 'HSC-I'}\n",
      "{instrument: 'HSC', skymap: 'hsc_rings_cells_v1', tract: 9813, patch: 61, visit: 1248, band: 'i', physical_filter: 'HSC-I'}\n",
      "{instrument: 'HSC', skymap: 'hsc_rings_cells_v1', tract: 9813, patch: 61, visit: 1248, band: 'i', physical_filter: 'HSC-I'}\n",
      "{instrument: 'HSC', skymap: 'hsc_rings_cells_v1', tract: 9813, patch: 61, visit: 1248, band: 'i', physical_filter: 'HSC-I'}\n",
      "{instrument: 'HSC', skymap: 'hsc_rings_cells_v1', tract: 9813, patch: 61, visit: 19680, band: 'i', physical_filter: 'HSC-I'}\n",
      "{instrument: 'HSC', skymap: 'hsc_rings_cells_v1', tract: 9813, patch: 61, visit: 19680, band: 'i', physical_filter: 'HSC-I'}\n",
      "{instrument: 'HSC', skymap: 'hsc_rings_cells_v1', tract: 9813, patch: 61, visit: 19680, band: 'i', physical_filter: 'HSC-I'}\n",
      "{instrument: 'HSC', skymap: 'hsc_rings_cells_v1', tract: 9813, patch: 61, visit: 19680, band: 'i', physical_filter: 'HSC-I'}\n",
      "{instrument: 'HSC', skymap: 'hsc_rings_cells_v1', tract: 9813, patch: 61, visit: 19680, band: 'i', physical_filter: 'HSC-I'}\n",
      "{instrument: 'HSC', skymap: 'hsc_rings_cells_v1', tract: 9813, patch: 61, visit: 19680, band: 'i', physical_filter: 'HSC-I'}\n",
      "{instrument: 'HSC', skymap: 'hsc_rings_cells_v1', tract: 9813, patch: 61, visit: 19684, band: 'i', physical_filter: 'HSC-I'}\n",
      "{instrument: 'HSC', skymap: 'hsc_rings_cells_v1', tract: 9813, patch: 61, visit: 19684, band: 'i', physical_filter: 'HSC-I'}\n",
      "{instrument: 'HSC', skymap: 'hsc_rings_cells_v1', tract: 9813, patch: 61, visit: 19684, band: 'i', physical_filter: 'HSC-I'}\n",
      "{instrument: 'HSC', skymap: 'hsc_rings_cells_v1', tract: 9813, patch: 61, visit: 19684, band: 'i', physical_filter: 'HSC-I'}\n",
      "{instrument: 'HSC', skymap: 'hsc_rings_cells_v1', tract: 9813, patch: 61, visit: 19684, band: 'i', physical_filter: 'HSC-I'}\n",
      "{instrument: 'HSC', skymap: 'hsc_rings_cells_v1', tract: 9813, patch: 61, visit: 19684, band: 'i', physical_filter: 'HSC-I'}\n"
     ]
    }
   ],
   "source": [
    "for ref in butler.registry.queryDatasets('deepCoadd_directWarp', physical_filter='HSC-I', collections=collection, instrument='HSC'):\n",
    "    print(ref.dataId)"
   ]
  },
  {
   "cell_type": "code",
   "execution_count": 3,
   "id": "85b26f09-bc13-4f80-8433-8afbaa358345",
   "metadata": {
    "execution": {
     "iopub.execute_input": "2024-03-20T20:12:48.310810Z",
     "iopub.status.busy": "2024-03-20T20:12:48.310196Z",
     "iopub.status.idle": "2024-03-20T20:12:48.813073Z",
     "shell.execute_reply": "2024-03-20T20:12:48.812585Z",
     "shell.execute_reply.started": "2024-03-20T20:12:48.310794Z"
    }
   },
   "outputs": [
    {
     "name": "stdout",
     "output_type": "stream",
     "text": [
      "{band: 'i', skymap: 'hsc_rings_cells_v1', tract: 9813, patch: 61}\n"
     ]
    }
   ],
   "source": [
    "for ref in butler.registry.queryDatasets('deepCoaddCell', physical_filter='HSC-I', collections=collection, instrument='HSC'):\n",
    "    print(ref.dataId.mapping)"
   ]
  },
  {
   "cell_type": "markdown",
   "id": "c396a683-f405-4f07-a226-92838c209e4d",
   "metadata": {
    "execution": {
     "iopub.execute_input": "2024-03-14T20:42:24.218851Z",
     "iopub.status.busy": "2024-03-14T20:42:24.218724Z",
     "iopub.status.idle": "2024-03-14T20:42:24.251832Z",
     "shell.execute_reply": "2024-03-14T20:42:24.251457Z",
     "shell.execute_reply.started": "2024-03-14T20:42:24.218839Z"
    }
   },
   "source": [
    "for ref in butler.registry.queryDatasets('deepCoadd_directWarp', physical_filter='HSC-I', collections=collection, instrument='HSC'):\n",
    "    print(ref.dataId.mapping)"
   ]
  },
  {
   "cell_type": "code",
   "execution_count": 10,
   "id": "318ee2a8-c02d-4b60-9353-dfbe4bbe8392",
   "metadata": {
    "execution": {
     "iopub.execute_input": "2024-03-28T15:58:38.387498Z",
     "iopub.status.busy": "2024-03-28T15:58:38.387223Z",
     "iopub.status.idle": "2024-03-28T15:58:40.396609Z",
     "shell.execute_reply": "2024-03-28T15:58:40.396178Z",
     "shell.execute_reply.started": "2024-03-28T15:58:38.387483Z"
    }
   },
   "outputs": [],
   "source": [
    "warp1 = butler.get('deepCoadd_directWarp',\n",
    "                   collections = collection,\n",
    "                   instrument='HSC',\n",
    "                   skymap = 'hsc_rings_cells_v1',\n",
    "                   tract = 9813,\n",
    "                   patch = 61,\n",
    "                   visit = 19684)"
   ]
  },
  {
   "cell_type": "code",
   "execution_count": 11,
   "id": "6ee686a6-387a-455d-9a43-d4f488e04148",
   "metadata": {
    "execution": {
     "iopub.execute_input": "2024-03-28T15:58:43.941656Z",
     "iopub.status.busy": "2024-03-28T15:58:43.941219Z",
     "iopub.status.idle": "2024-03-28T15:58:43.944296Z",
     "shell.execute_reply": "2024-03-28T15:58:43.943927Z",
     "shell.execute_reply.started": "2024-03-28T15:58:43.941640Z"
    }
   },
   "outputs": [
    {
     "name": "stdout",
     "output_type": "stream",
     "text": [
      "['Factory', 'apCorrMap', 'clone', 'containsSkyCoords', 'convertD', 'convertF', 'convex_polygon', 'detector', 'dtype', 'filter', 'getBBox', 'getConvexPolygon', 'getCutout', 'getDetector', 'getDimensions', 'getFilter', 'getHeight', 'getImage', 'getInfo', 'getMask', 'getMaskedImage', 'getMetadata', 'getPhotoCalib', 'getPsf', 'getVariance', 'getWcs', 'getWidth', 'getX0', 'getXY0', 'getY0', 'hasPsf', 'hasWcs', 'height', 'image', 'info', 'mask', 'maskedImage', 'photoCalib', 'psf', 'readFits', 'readFitsWithOptions', 'setApCorrMap', 'setDetector', 'setFilter', 'setImage', 'setInfo', 'setMask', 'setMaskedImage', 'setMetadata', 'setPhotoCalib', 'setPsf', 'setVariance', 'setWcs', 'setXY0', 'subset', 'variance', 'visitInfo', 'wcs', 'width', 'writeFits', 'writeFitsWithOptions', 'x0', 'y0']\n"
     ]
    }
   ],
   "source": [
    "warp_methods = [m for m in dir(warp1) if not m.startswith('_')]\n",
    "print(warp_methods)"
   ]
  },
  {
   "cell_type": "markdown",
   "id": "d266c6b7-c553-4f96-a656-5a7d8d9c56e2",
   "metadata": {},
   "source": [
    "### Take a look at the cell coadd structure"
   ]
  },
  {
   "cell_type": "code",
   "execution_count": 12,
   "id": "d1c02422-3f20-48a1-bed2-3b0831418273",
   "metadata": {
    "execution": {
     "iopub.execute_input": "2024-03-28T15:58:46.006997Z",
     "iopub.status.busy": "2024-03-28T15:58:46.006711Z",
     "iopub.status.idle": "2024-03-28T15:58:47.145146Z",
     "shell.execute_reply": "2024-03-28T15:58:47.144642Z",
     "shell.execute_reply.started": "2024-03-28T15:58:46.006982Z"
    }
   },
   "outputs": [],
   "source": [
    "coadd = butler.get('deepCoaddCell', \n",
    "                     collections=collection, \n",
    "                     instrument='HSC', \n",
    "                     skymap = 'hsc_rings_cells_v1', \n",
    "                     tract = 9813, \n",
    "                     patch=61,\n",
    "                     band='i')"
   ]
  },
  {
   "cell_type": "markdown",
   "id": "017e05fd-a5ad-4b5d-8d3b-21debaaa6ced",
   "metadata": {},
   "source": [
    "The cells within the produced coadd can be \"stitched\" together to produce a single coadd structure. Useful for displaying the image of an entire patch formed by combining all cells."
   ]
  },
  {
   "cell_type": "code",
   "execution_count": 24,
   "id": "db2f250a-57ae-42e8-ba3a-0e68f031f8b2",
   "metadata": {
    "execution": {
     "iopub.execute_input": "2024-03-28T16:25:14.992946Z",
     "iopub.status.busy": "2024-03-28T16:25:14.992487Z",
     "iopub.status.idle": "2024-03-28T16:25:14.995162Z",
     "shell.execute_reply": "2024-03-28T16:25:14.994798Z",
     "shell.execute_reply.started": "2024-03-28T16:25:14.992929Z"
    }
   },
   "outputs": [],
   "source": [
    "stitch_coadd = coadd.stitch()"
   ]
  },
  {
   "cell_type": "markdown",
   "id": "434444ee-8303-4eb5-a19b-3fee52d4e4c3",
   "metadata": {},
   "source": [
    "Check the number of cells with inputs. For instance, the patch 37 contains 85 cells with inputs, while patch 61 has all 484 cells with inputs (484=22x22 cells in a patch, with this configuration)."
   ]
  },
  {
   "cell_type": "code",
   "execution_count": 8,
   "id": "5f602559-ab13-47eb-abdb-adc154f33d46",
   "metadata": {
    "execution": {
     "iopub.execute_input": "2024-03-22T16:29:31.616871Z",
     "iopub.status.busy": "2024-03-22T16:29:31.616563Z",
     "iopub.status.idle": "2024-03-22T16:29:31.620277Z",
     "shell.execute_reply": "2024-03-22T16:29:31.619730Z",
     "shell.execute_reply.started": "2024-03-22T16:29:31.616854Z"
    }
   },
   "outputs": [
    {
     "name": "stdout",
     "output_type": "stream",
     "text": [
      "484\n"
     ]
    }
   ],
   "source": [
    "cell_num = len(list(coadd.cells.keys()))\n",
    "print(cell_num)"
   ]
  },
  {
   "cell_type": "markdown",
   "id": "440eb366-7d95-4b8c-849c-e57ac6065daf",
   "metadata": {},
   "source": [
    "We can see a list of the available cells with their index information:"
   ]
  },
  {
   "cell_type": "code",
   "execution_count": 14,
   "id": "5488076a-e732-4b74-987c-bd71d86f297c",
   "metadata": {
    "execution": {
     "iopub.execute_input": "2024-03-28T16:03:02.745932Z",
     "iopub.status.busy": "2024-03-28T16:03:02.745739Z",
     "iopub.status.idle": "2024-03-28T16:03:02.749249Z",
     "shell.execute_reply": "2024-03-28T16:03:02.748842Z",
     "shell.execute_reply.started": "2024-03-28T16:03:02.745917Z"
    },
    "scrolled": true
   },
   "outputs": [
    {
     "name": "stdout",
     "output_type": "stream",
     "text": [
      "[Index2D(x=0, y=0), Index2D(x=1, y=0), Index2D(x=2, y=0), Index2D(x=3, y=0), Index2D(x=4, y=0), Index2D(x=5, y=0), Index2D(x=6, y=0), Index2D(x=7, y=0), Index2D(x=8, y=0), Index2D(x=9, y=0), Index2D(x=10, y=0), Index2D(x=11, y=0), Index2D(x=12, y=0), Index2D(x=13, y=0), Index2D(x=14, y=0), Index2D(x=15, y=0), Index2D(x=16, y=0), Index2D(x=17, y=0), Index2D(x=18, y=0), Index2D(x=19, y=0), Index2D(x=20, y=0), Index2D(x=21, y=0), Index2D(x=0, y=1), Index2D(x=1, y=1), Index2D(x=2, y=1), Index2D(x=3, y=1), Index2D(x=4, y=1), Index2D(x=5, y=1), Index2D(x=6, y=1), Index2D(x=7, y=1), Index2D(x=8, y=1), Index2D(x=9, y=1), Index2D(x=10, y=1), Index2D(x=11, y=1), Index2D(x=12, y=1), Index2D(x=13, y=1), Index2D(x=14, y=1), Index2D(x=15, y=1), Index2D(x=16, y=1), Index2D(x=17, y=1), Index2D(x=18, y=1), Index2D(x=19, y=1), Index2D(x=20, y=1), Index2D(x=21, y=1), Index2D(x=0, y=2), Index2D(x=1, y=2), Index2D(x=2, y=2), Index2D(x=3, y=2), Index2D(x=4, y=2), Index2D(x=5, y=2), Index2D(x=6, y=2), Index2D(x=7, y=2), Index2D(x=8, y=2), Index2D(x=9, y=2), Index2D(x=10, y=2), Index2D(x=11, y=2), Index2D(x=12, y=2), Index2D(x=13, y=2), Index2D(x=14, y=2), Index2D(x=15, y=2), Index2D(x=16, y=2), Index2D(x=17, y=2), Index2D(x=18, y=2), Index2D(x=19, y=2), Index2D(x=20, y=2), Index2D(x=21, y=2), Index2D(x=0, y=3), Index2D(x=1, y=3), Index2D(x=2, y=3), Index2D(x=3, y=3), Index2D(x=4, y=3), Index2D(x=5, y=3), Index2D(x=6, y=3), Index2D(x=7, y=3), Index2D(x=8, y=3), Index2D(x=9, y=3), Index2D(x=10, y=3), Index2D(x=11, y=3), Index2D(x=12, y=3), Index2D(x=13, y=3), Index2D(x=14, y=3), Index2D(x=15, y=3), Index2D(x=16, y=3), Index2D(x=17, y=3), Index2D(x=18, y=3), Index2D(x=19, y=3), Index2D(x=20, y=3), Index2D(x=21, y=3), Index2D(x=0, y=4), Index2D(x=1, y=4), Index2D(x=2, y=4), Index2D(x=3, y=4), Index2D(x=4, y=4), Index2D(x=5, y=4), Index2D(x=6, y=4), Index2D(x=7, y=4), Index2D(x=8, y=4), Index2D(x=9, y=4), Index2D(x=10, y=4), Index2D(x=11, y=4), Index2D(x=12, y=4), Index2D(x=13, y=4), Index2D(x=14, y=4), Index2D(x=15, y=4), Index2D(x=16, y=4), Index2D(x=17, y=4), Index2D(x=18, y=4), Index2D(x=19, y=4), Index2D(x=20, y=4), Index2D(x=21, y=4), Index2D(x=0, y=5), Index2D(x=1, y=5), Index2D(x=2, y=5), Index2D(x=3, y=5), Index2D(x=4, y=5), Index2D(x=5, y=5), Index2D(x=6, y=5), Index2D(x=7, y=5), Index2D(x=8, y=5), Index2D(x=9, y=5), Index2D(x=10, y=5), Index2D(x=11, y=5), Index2D(x=12, y=5), Index2D(x=13, y=5), Index2D(x=14, y=5), Index2D(x=15, y=5), Index2D(x=16, y=5), Index2D(x=17, y=5), Index2D(x=18, y=5), Index2D(x=19, y=5), Index2D(x=20, y=5), Index2D(x=21, y=5), Index2D(x=0, y=6), Index2D(x=1, y=6), Index2D(x=2, y=6), Index2D(x=3, y=6), Index2D(x=4, y=6), Index2D(x=5, y=6), Index2D(x=6, y=6), Index2D(x=7, y=6), Index2D(x=8, y=6), Index2D(x=9, y=6), Index2D(x=10, y=6), Index2D(x=11, y=6), Index2D(x=12, y=6), Index2D(x=13, y=6), Index2D(x=14, y=6), Index2D(x=15, y=6), Index2D(x=16, y=6), Index2D(x=17, y=6), Index2D(x=18, y=6), Index2D(x=19, y=6), Index2D(x=20, y=6), Index2D(x=21, y=6), Index2D(x=0, y=7), Index2D(x=1, y=7), Index2D(x=2, y=7), Index2D(x=3, y=7), Index2D(x=4, y=7), Index2D(x=5, y=7), Index2D(x=6, y=7), Index2D(x=7, y=7), Index2D(x=8, y=7), Index2D(x=9, y=7), Index2D(x=10, y=7), Index2D(x=11, y=7), Index2D(x=12, y=7), Index2D(x=13, y=7), Index2D(x=14, y=7), Index2D(x=15, y=7), Index2D(x=16, y=7), Index2D(x=17, y=7), Index2D(x=18, y=7), Index2D(x=19, y=7), Index2D(x=20, y=7), Index2D(x=21, y=7), Index2D(x=0, y=8), Index2D(x=1, y=8), Index2D(x=2, y=8), Index2D(x=3, y=8), Index2D(x=4, y=8), Index2D(x=5, y=8), Index2D(x=6, y=8), Index2D(x=7, y=8), Index2D(x=8, y=8), Index2D(x=9, y=8), Index2D(x=10, y=8), Index2D(x=11, y=8), Index2D(x=12, y=8), Index2D(x=13, y=8), Index2D(x=14, y=8), Index2D(x=15, y=8), Index2D(x=16, y=8), Index2D(x=17, y=8), Index2D(x=18, y=8), Index2D(x=19, y=8), Index2D(x=20, y=8), Index2D(x=21, y=8), Index2D(x=0, y=9), Index2D(x=1, y=9), Index2D(x=2, y=9), Index2D(x=3, y=9), Index2D(x=4, y=9), Index2D(x=5, y=9), Index2D(x=6, y=9), Index2D(x=7, y=9), Index2D(x=8, y=9), Index2D(x=9, y=9), Index2D(x=10, y=9), Index2D(x=11, y=9), Index2D(x=12, y=9), Index2D(x=13, y=9), Index2D(x=14, y=9), Index2D(x=15, y=9), Index2D(x=16, y=9), Index2D(x=17, y=9), Index2D(x=18, y=9), Index2D(x=19, y=9), Index2D(x=20, y=9), Index2D(x=21, y=9), Index2D(x=0, y=10), Index2D(x=1, y=10), Index2D(x=2, y=10), Index2D(x=3, y=10), Index2D(x=4, y=10), Index2D(x=5, y=10), Index2D(x=6, y=10), Index2D(x=7, y=10), Index2D(x=8, y=10), Index2D(x=9, y=10), Index2D(x=10, y=10), Index2D(x=11, y=10), Index2D(x=12, y=10), Index2D(x=13, y=10), Index2D(x=14, y=10), Index2D(x=15, y=10), Index2D(x=16, y=10), Index2D(x=17, y=10), Index2D(x=18, y=10), Index2D(x=19, y=10), Index2D(x=20, y=10), Index2D(x=21, y=10), Index2D(x=0, y=11), Index2D(x=1, y=11), Index2D(x=2, y=11), Index2D(x=3, y=11), Index2D(x=4, y=11), Index2D(x=5, y=11), Index2D(x=6, y=11), Index2D(x=7, y=11), Index2D(x=8, y=11), Index2D(x=9, y=11), Index2D(x=10, y=11), Index2D(x=11, y=11), Index2D(x=12, y=11), Index2D(x=13, y=11), Index2D(x=14, y=11), Index2D(x=15, y=11), Index2D(x=16, y=11), Index2D(x=17, y=11), Index2D(x=18, y=11), Index2D(x=19, y=11), Index2D(x=20, y=11), Index2D(x=21, y=11), Index2D(x=0, y=12), Index2D(x=1, y=12), Index2D(x=2, y=12), Index2D(x=3, y=12), Index2D(x=4, y=12), Index2D(x=5, y=12), Index2D(x=6, y=12), Index2D(x=7, y=12), Index2D(x=8, y=12), Index2D(x=9, y=12), Index2D(x=10, y=12), Index2D(x=11, y=12), Index2D(x=12, y=12), Index2D(x=13, y=12), Index2D(x=14, y=12), Index2D(x=15, y=12), Index2D(x=16, y=12), Index2D(x=17, y=12), Index2D(x=18, y=12), Index2D(x=19, y=12), Index2D(x=20, y=12), Index2D(x=21, y=12), Index2D(x=0, y=13), Index2D(x=1, y=13), Index2D(x=2, y=13), Index2D(x=3, y=13), Index2D(x=4, y=13), Index2D(x=5, y=13), Index2D(x=6, y=13), Index2D(x=7, y=13), Index2D(x=8, y=13), Index2D(x=9, y=13), Index2D(x=10, y=13), Index2D(x=11, y=13), Index2D(x=12, y=13), Index2D(x=13, y=13), Index2D(x=14, y=13), Index2D(x=15, y=13), Index2D(x=16, y=13), Index2D(x=17, y=13), Index2D(x=18, y=13), Index2D(x=19, y=13), Index2D(x=20, y=13), Index2D(x=21, y=13), Index2D(x=0, y=14), Index2D(x=1, y=14), Index2D(x=2, y=14), Index2D(x=3, y=14), Index2D(x=4, y=14), Index2D(x=5, y=14), Index2D(x=6, y=14), Index2D(x=7, y=14), Index2D(x=8, y=14), Index2D(x=9, y=14), Index2D(x=10, y=14), Index2D(x=11, y=14), Index2D(x=12, y=14), Index2D(x=13, y=14), Index2D(x=14, y=14), Index2D(x=15, y=14), Index2D(x=16, y=14), Index2D(x=17, y=14), Index2D(x=18, y=14), Index2D(x=19, y=14), Index2D(x=20, y=14), Index2D(x=21, y=14), Index2D(x=0, y=15), Index2D(x=1, y=15), Index2D(x=2, y=15), Index2D(x=3, y=15), Index2D(x=4, y=15), Index2D(x=5, y=15), Index2D(x=6, y=15), Index2D(x=7, y=15), Index2D(x=8, y=15), Index2D(x=9, y=15), Index2D(x=10, y=15), Index2D(x=11, y=15), Index2D(x=12, y=15), Index2D(x=13, y=15), Index2D(x=14, y=15), Index2D(x=15, y=15), Index2D(x=16, y=15), Index2D(x=17, y=15), Index2D(x=18, y=15), Index2D(x=19, y=15), Index2D(x=20, y=15), Index2D(x=21, y=15), Index2D(x=0, y=16), Index2D(x=1, y=16), Index2D(x=2, y=16), Index2D(x=3, y=16), Index2D(x=4, y=16), Index2D(x=5, y=16), Index2D(x=6, y=16), Index2D(x=7, y=16), Index2D(x=8, y=16), Index2D(x=9, y=16), Index2D(x=10, y=16), Index2D(x=11, y=16), Index2D(x=12, y=16), Index2D(x=13, y=16), Index2D(x=14, y=16), Index2D(x=15, y=16), Index2D(x=16, y=16), Index2D(x=17, y=16), Index2D(x=18, y=16), Index2D(x=19, y=16), Index2D(x=20, y=16), Index2D(x=21, y=16), Index2D(x=0, y=17), Index2D(x=1, y=17), Index2D(x=2, y=17), Index2D(x=3, y=17), Index2D(x=4, y=17), Index2D(x=5, y=17), Index2D(x=6, y=17), Index2D(x=7, y=17), Index2D(x=8, y=17), Index2D(x=9, y=17), Index2D(x=10, y=17), Index2D(x=11, y=17), Index2D(x=12, y=17), Index2D(x=13, y=17), Index2D(x=14, y=17), Index2D(x=15, y=17), Index2D(x=16, y=17), Index2D(x=17, y=17), Index2D(x=18, y=17), Index2D(x=19, y=17), Index2D(x=20, y=17), Index2D(x=21, y=17), Index2D(x=0, y=18), Index2D(x=1, y=18), Index2D(x=2, y=18), Index2D(x=3, y=18), Index2D(x=4, y=18), Index2D(x=5, y=18), Index2D(x=6, y=18), Index2D(x=7, y=18), Index2D(x=8, y=18), Index2D(x=9, y=18), Index2D(x=10, y=18), Index2D(x=11, y=18), Index2D(x=12, y=18), Index2D(x=13, y=18), Index2D(x=14, y=18), Index2D(x=15, y=18), Index2D(x=16, y=18), Index2D(x=17, y=18), Index2D(x=18, y=18), Index2D(x=19, y=18), Index2D(x=20, y=18), Index2D(x=21, y=18), Index2D(x=0, y=19), Index2D(x=1, y=19), Index2D(x=2, y=19), Index2D(x=3, y=19), Index2D(x=4, y=19), Index2D(x=5, y=19), Index2D(x=6, y=19), Index2D(x=7, y=19), Index2D(x=8, y=19), Index2D(x=9, y=19), Index2D(x=10, y=19), Index2D(x=11, y=19), Index2D(x=12, y=19), Index2D(x=13, y=19), Index2D(x=14, y=19), Index2D(x=15, y=19), Index2D(x=16, y=19), Index2D(x=17, y=19), Index2D(x=18, y=19), Index2D(x=19, y=19), Index2D(x=20, y=19), Index2D(x=21, y=19), Index2D(x=0, y=20), Index2D(x=1, y=20), Index2D(x=2, y=20), Index2D(x=3, y=20), Index2D(x=4, y=20), Index2D(x=5, y=20), Index2D(x=6, y=20), Index2D(x=7, y=20), Index2D(x=8, y=20), Index2D(x=9, y=20), Index2D(x=10, y=20), Index2D(x=11, y=20), Index2D(x=12, y=20), Index2D(x=13, y=20), Index2D(x=14, y=20), Index2D(x=15, y=20), Index2D(x=16, y=20), Index2D(x=17, y=20), Index2D(x=18, y=20), Index2D(x=19, y=20), Index2D(x=20, y=20), Index2D(x=21, y=20), Index2D(x=0, y=21), Index2D(x=1, y=21), Index2D(x=2, y=21), Index2D(x=3, y=21), Index2D(x=4, y=21), Index2D(x=5, y=21), Index2D(x=6, y=21), Index2D(x=7, y=21), Index2D(x=8, y=21), Index2D(x=9, y=21), Index2D(x=10, y=21), Index2D(x=11, y=21), Index2D(x=12, y=21), Index2D(x=13, y=21), Index2D(x=14, y=21), Index2D(x=15, y=21), Index2D(x=16, y=21), Index2D(x=17, y=21), Index2D(x=18, y=21), Index2D(x=19, y=21), Index2D(x=20, y=21), Index2D(x=21, y=21)]\n"
     ]
    }
   ],
   "source": [
    "cell_list = list(coadd.cells.keys())\n",
    "print(cell_list)"
   ]
  },
  {
   "cell_type": "markdown",
   "id": "7fb9979d-1a18-4195-932d-003b08929377",
   "metadata": {},
   "source": [
    "See how many inputs go into a specific cell:"
   ]
  },
  {
   "cell_type": "code",
   "execution_count": 15,
   "id": "6f60cbaf-b569-4c02-b485-929828b8dde6",
   "metadata": {
    "execution": {
     "iopub.execute_input": "2024-03-28T16:03:07.790429Z",
     "iopub.status.busy": "2024-03-28T16:03:07.789847Z",
     "iopub.status.idle": "2024-03-28T16:03:07.796481Z",
     "shell.execute_reply": "2024-03-28T16:03:07.796077Z",
     "shell.execute_reply.started": "2024-03-28T16:03:07.790413Z"
    },
    "scrolled": true
   },
   "outputs": [
    {
     "name": "stdout",
     "output_type": "stream",
     "text": [
      "Index2D(x=0, y=0) 7\n",
      "Index2D(x=1, y=0) 7\n",
      "Index2D(x=2, y=0) 7\n",
      "Index2D(x=3, y=0) 7\n",
      "Index2D(x=4, y=0) 7\n",
      "Index2D(x=5, y=0) 7\n",
      "Index2D(x=6, y=0) 7\n",
      "Index2D(x=7, y=0) 7\n",
      "Index2D(x=8, y=0) 7\n",
      "Index2D(x=9, y=0) 7\n",
      "Index2D(x=10, y=0) 7\n",
      "Index2D(x=11, y=0) 7\n",
      "Index2D(x=12, y=0) 7\n",
      "Index2D(x=13, y=0) 6\n",
      "Index2D(x=14, y=0) 6\n",
      "Index2D(x=15, y=0) 5\n",
      "Index2D(x=16, y=0) 4\n",
      "Index2D(x=17, y=0) 4\n",
      "Index2D(x=18, y=0) 5\n",
      "Index2D(x=19, y=0) 4\n",
      "Index2D(x=20, y=0) 4\n",
      "Index2D(x=21, y=0) 4\n",
      "Index2D(x=0, y=1) 7\n",
      "Index2D(x=1, y=1) 7\n",
      "Index2D(x=2, y=1) 7\n",
      "Index2D(x=3, y=1) 7\n",
      "Index2D(x=4, y=1) 7\n",
      "Index2D(x=5, y=1) 7\n",
      "Index2D(x=6, y=1) 7\n",
      "Index2D(x=7, y=1) 7\n",
      "Index2D(x=8, y=1) 7\n",
      "Index2D(x=9, y=1) 7\n",
      "Index2D(x=10, y=1) 7\n",
      "Index2D(x=11, y=1) 7\n",
      "Index2D(x=12, y=1) 7\n",
      "Index2D(x=13, y=1) 6\n",
      "Index2D(x=14, y=1) 6\n",
      "Index2D(x=15, y=1) 5\n",
      "Index2D(x=16, y=1) 4\n",
      "Index2D(x=17, y=1) 4\n",
      "Index2D(x=18, y=1) 5\n",
      "Index2D(x=19, y=1) 4\n",
      "Index2D(x=20, y=1) 4\n",
      "Index2D(x=21, y=1) 4\n",
      "Index2D(x=0, y=2) 7\n",
      "Index2D(x=1, y=2) 7\n",
      "Index2D(x=2, y=2) 7\n",
      "Index2D(x=3, y=2) 7\n",
      "Index2D(x=4, y=2) 7\n",
      "Index2D(x=5, y=2) 7\n",
      "Index2D(x=6, y=2) 7\n",
      "Index2D(x=7, y=2) 7\n",
      "Index2D(x=8, y=2) 7\n",
      "Index2D(x=9, y=2) 7\n",
      "Index2D(x=10, y=2) 7\n",
      "Index2D(x=11, y=2) 7\n",
      "Index2D(x=12, y=2) 7\n",
      "Index2D(x=13, y=2) 6\n",
      "Index2D(x=14, y=2) 6\n",
      "Index2D(x=15, y=2) 5\n",
      "Index2D(x=16, y=2) 4\n",
      "Index2D(x=17, y=2) 4\n",
      "Index2D(x=18, y=2) 5\n",
      "Index2D(x=19, y=2) 4\n",
      "Index2D(x=20, y=2) 4\n",
      "Index2D(x=21, y=2) 4\n",
      "Index2D(x=0, y=3) 4\n",
      "Index2D(x=1, y=3) 4\n",
      "Index2D(x=2, y=3) 4\n",
      "Index2D(x=3, y=3) 4\n",
      "Index2D(x=4, y=3) 4\n",
      "Index2D(x=5, y=3) 4\n",
      "Index2D(x=6, y=3) 4\n",
      "Index2D(x=7, y=3) 4\n",
      "Index2D(x=8, y=3) 4\n",
      "Index2D(x=9, y=3) 4\n",
      "Index2D(x=10, y=3) 4\n",
      "Index2D(x=11, y=3) 4\n",
      "Index2D(x=12, y=3) 4\n",
      "Index2D(x=13, y=3) 3\n",
      "Index2D(x=14, y=3) 3\n",
      "Index2D(x=15, y=3) 2\n",
      "Index2D(x=16, y=3) 1\n",
      "Index2D(x=17, y=3) 1\n",
      "Index2D(x=18, y=3) 2\n",
      "Index2D(x=19, y=3) 3\n",
      "Index2D(x=20, y=3) 3\n",
      "Index2D(x=21, y=3) 3\n",
      "Index2D(x=0, y=4) 3\n",
      "Index2D(x=1, y=4) 3\n",
      "Index2D(x=2, y=4) 3\n",
      "Index2D(x=3, y=4) 3\n",
      "Index2D(x=4, y=4) 3\n",
      "Index2D(x=5, y=4) 3\n",
      "Index2D(x=6, y=4) 3\n",
      "Index2D(x=7, y=4) 3\n",
      "Index2D(x=8, y=4) 3\n",
      "Index2D(x=9, y=4) 3\n",
      "Index2D(x=10, y=4) 3\n",
      "Index2D(x=11, y=4) 3\n",
      "Index2D(x=12, y=4) 3\n",
      "Index2D(x=13, y=4) 2\n",
      "Index2D(x=14, y=4) 2\n",
      "Index2D(x=15, y=4) 1\n",
      "Index2D(x=16, y=4) 1\n",
      "Index2D(x=17, y=4) 1\n",
      "Index2D(x=18, y=4) 2\n",
      "Index2D(x=19, y=4) 2\n",
      "Index2D(x=20, y=4) 2\n",
      "Index2D(x=21, y=4) 2\n",
      "Index2D(x=0, y=5) 5\n",
      "Index2D(x=1, y=5) 5\n",
      "Index2D(x=2, y=5) 5\n",
      "Index2D(x=3, y=5) 5\n",
      "Index2D(x=4, y=5) 4\n",
      "Index2D(x=5, y=5) 4\n",
      "Index2D(x=6, y=5) 4\n",
      "Index2D(x=7, y=5) 5\n",
      "Index2D(x=8, y=5) 5\n",
      "Index2D(x=9, y=5) 5\n",
      "Index2D(x=10, y=5) 5\n",
      "Index2D(x=11, y=5) 5\n",
      "Index2D(x=12, y=5) 5\n",
      "Index2D(x=13, y=5) 4\n",
      "Index2D(x=14, y=5) 4\n",
      "Index2D(x=15, y=5) 4\n",
      "Index2D(x=16, y=5) 4\n",
      "Index2D(x=17, y=5) 4\n",
      "Index2D(x=18, y=5) 4\n",
      "Index2D(x=19, y=5) 3\n",
      "Index2D(x=20, y=5) 3\n",
      "Index2D(x=21, y=5) 3\n",
      "Index2D(x=0, y=6) 5\n",
      "Index2D(x=1, y=6) 5\n",
      "Index2D(x=2, y=6) 5\n",
      "Index2D(x=3, y=6) 5\n",
      "Index2D(x=4, y=6) 4\n",
      "Index2D(x=5, y=6) 4\n",
      "Index2D(x=6, y=6) 4\n",
      "Index2D(x=7, y=6) 5\n",
      "Index2D(x=8, y=6) 5\n",
      "Index2D(x=9, y=6) 5\n",
      "Index2D(x=10, y=6) 5\n",
      "Index2D(x=11, y=6) 5\n",
      "Index2D(x=12, y=6) 5\n",
      "Index2D(x=13, y=6) 4\n",
      "Index2D(x=14, y=6) 4\n",
      "Index2D(x=15, y=6) 4\n",
      "Index2D(x=16, y=6) 4\n",
      "Index2D(x=17, y=6) 4\n",
      "Index2D(x=18, y=6) 4\n",
      "Index2D(x=19, y=6) 3\n",
      "Index2D(x=20, y=6) 3\n",
      "Index2D(x=21, y=6) 3\n",
      "Index2D(x=0, y=7) 7\n",
      "Index2D(x=1, y=7) 7\n",
      "Index2D(x=2, y=7) 7\n",
      "Index2D(x=3, y=7) 7\n",
      "Index2D(x=4, y=7) 6\n",
      "Index2D(x=5, y=7) 6\n",
      "Index2D(x=6, y=7) 6\n",
      "Index2D(x=7, y=7) 7\n",
      "Index2D(x=8, y=7) 7\n",
      "Index2D(x=9, y=7) 7\n",
      "Index2D(x=10, y=7) 7\n",
      "Index2D(x=11, y=7) 7\n",
      "Index2D(x=12, y=7) 7\n",
      "Index2D(x=13, y=7) 6\n",
      "Index2D(x=14, y=7) 6\n",
      "Index2D(x=15, y=7) 5\n",
      "Index2D(x=16, y=7) 4\n",
      "Index2D(x=17, y=7) 4\n",
      "Index2D(x=18, y=7) 5\n",
      "Index2D(x=19, y=7) 5\n",
      "Index2D(x=20, y=7) 5\n",
      "Index2D(x=21, y=7) 5\n",
      "Index2D(x=0, y=8) 7\n",
      "Index2D(x=1, y=8) 7\n",
      "Index2D(x=2, y=8) 7\n",
      "Index2D(x=3, y=8) 7\n",
      "Index2D(x=4, y=8) 6\n",
      "Index2D(x=5, y=8) 6\n",
      "Index2D(x=6, y=8) 6\n",
      "Index2D(x=7, y=8) 7\n",
      "Index2D(x=8, y=8) 7\n",
      "Index2D(x=9, y=8) 7\n",
      "Index2D(x=10, y=8) 7\n",
      "Index2D(x=11, y=8) 7\n",
      "Index2D(x=12, y=8) 7\n",
      "Index2D(x=13, y=8) 6\n",
      "Index2D(x=14, y=8) 6\n",
      "Index2D(x=15, y=8) 5\n",
      "Index2D(x=16, y=8) 4\n",
      "Index2D(x=17, y=8) 4\n",
      "Index2D(x=18, y=8) 5\n",
      "Index2D(x=19, y=8) 5\n",
      "Index2D(x=20, y=8) 5\n",
      "Index2D(x=21, y=8) 5\n",
      "Index2D(x=0, y=9) 6\n",
      "Index2D(x=1, y=9) 6\n",
      "Index2D(x=2, y=9) 6\n",
      "Index2D(x=3, y=9) 6\n",
      "Index2D(x=4, y=9) 5\n",
      "Index2D(x=5, y=9) 5\n",
      "Index2D(x=6, y=9) 5\n",
      "Index2D(x=7, y=9) 6\n",
      "Index2D(x=8, y=9) 6\n",
      "Index2D(x=9, y=9) 6\n",
      "Index2D(x=10, y=9) 6\n",
      "Index2D(x=11, y=9) 6\n",
      "Index2D(x=12, y=9) 6\n",
      "Index2D(x=13, y=9) 5\n",
      "Index2D(x=14, y=9) 5\n",
      "Index2D(x=15, y=9) 4\n",
      "Index2D(x=16, y=9) 3\n",
      "Index2D(x=17, y=9) 3\n",
      "Index2D(x=18, y=9) 4\n",
      "Index2D(x=19, y=9) 4\n",
      "Index2D(x=20, y=9) 4\n",
      "Index2D(x=21, y=9) 4\n",
      "Index2D(x=0, y=10) 6\n",
      "Index2D(x=1, y=10) 6\n",
      "Index2D(x=2, y=10) 6\n",
      "Index2D(x=3, y=10) 6\n",
      "Index2D(x=4, y=10) 5\n",
      "Index2D(x=5, y=10) 5\n",
      "Index2D(x=6, y=10) 5\n",
      "Index2D(x=7, y=10) 6\n",
      "Index2D(x=8, y=10) 6\n",
      "Index2D(x=9, y=10) 6\n",
      "Index2D(x=10, y=10) 6\n",
      "Index2D(x=11, y=10) 6\n",
      "Index2D(x=12, y=10) 6\n",
      "Index2D(x=13, y=10) 5\n",
      "Index2D(x=14, y=10) 5\n",
      "Index2D(x=15, y=10) 4\n",
      "Index2D(x=16, y=10) 3\n",
      "Index2D(x=17, y=10) 3\n",
      "Index2D(x=18, y=10) 4\n",
      "Index2D(x=19, y=10) 4\n",
      "Index2D(x=20, y=10) 4\n",
      "Index2D(x=21, y=10) 4\n",
      "Index2D(x=0, y=11) 7\n",
      "Index2D(x=1, y=11) 7\n",
      "Index2D(x=2, y=11) 7\n",
      "Index2D(x=3, y=11) 7\n",
      "Index2D(x=4, y=11) 6\n",
      "Index2D(x=5, y=11) 6\n",
      "Index2D(x=6, y=11) 6\n",
      "Index2D(x=7, y=11) 7\n",
      "Index2D(x=8, y=11) 7\n",
      "Index2D(x=9, y=11) 7\n",
      "Index2D(x=10, y=11) 7\n",
      "Index2D(x=11, y=11) 7\n",
      "Index2D(x=12, y=11) 7\n",
      "Index2D(x=13, y=11) 6\n",
      "Index2D(x=14, y=11) 6\n",
      "Index2D(x=15, y=11) 5\n",
      "Index2D(x=16, y=11) 4\n",
      "Index2D(x=17, y=11) 4\n",
      "Index2D(x=18, y=11) 5\n",
      "Index2D(x=19, y=11) 5\n",
      "Index2D(x=20, y=11) 5\n",
      "Index2D(x=21, y=11) 5\n",
      "Index2D(x=0, y=12) 6\n",
      "Index2D(x=1, y=12) 6\n",
      "Index2D(x=2, y=12) 6\n",
      "Index2D(x=3, y=12) 6\n",
      "Index2D(x=4, y=12) 5\n",
      "Index2D(x=5, y=12) 5\n",
      "Index2D(x=6, y=12) 5\n",
      "Index2D(x=7, y=12) 6\n",
      "Index2D(x=8, y=12) 6\n",
      "Index2D(x=9, y=12) 6\n",
      "Index2D(x=10, y=12) 6\n",
      "Index2D(x=11, y=12) 6\n",
      "Index2D(x=12, y=12) 6\n",
      "Index2D(x=13, y=12) 6\n",
      "Index2D(x=14, y=12) 6\n",
      "Index2D(x=15, y=12) 5\n",
      "Index2D(x=16, y=12) 4\n",
      "Index2D(x=17, y=12) 4\n",
      "Index2D(x=18, y=12) 5\n",
      "Index2D(x=19, y=12) 5\n",
      "Index2D(x=20, y=12) 5\n",
      "Index2D(x=21, y=12) 5\n",
      "Index2D(x=0, y=13) 6\n",
      "Index2D(x=1, y=13) 6\n",
      "Index2D(x=2, y=13) 6\n",
      "Index2D(x=3, y=13) 6\n",
      "Index2D(x=4, y=13) 5\n",
      "Index2D(x=5, y=13) 5\n",
      "Index2D(x=6, y=13) 5\n",
      "Index2D(x=7, y=13) 6\n",
      "Index2D(x=8, y=13) 6\n",
      "Index2D(x=9, y=13) 6\n",
      "Index2D(x=10, y=13) 6\n",
      "Index2D(x=11, y=13) 6\n",
      "Index2D(x=12, y=13) 6\n",
      "Index2D(x=13, y=13) 6\n",
      "Index2D(x=14, y=13) 6\n",
      "Index2D(x=15, y=13) 5\n",
      "Index2D(x=16, y=13) 4\n",
      "Index2D(x=17, y=13) 4\n",
      "Index2D(x=18, y=13) 5\n",
      "Index2D(x=19, y=13) 5\n",
      "Index2D(x=20, y=13) 5\n",
      "Index2D(x=21, y=13) 5\n",
      "Index2D(x=0, y=14) 7\n",
      "Index2D(x=1, y=14) 7\n",
      "Index2D(x=2, y=14) 7\n",
      "Index2D(x=3, y=14) 7\n",
      "Index2D(x=4, y=14) 6\n",
      "Index2D(x=5, y=14) 6\n",
      "Index2D(x=6, y=14) 6\n",
      "Index2D(x=7, y=14) 7\n",
      "Index2D(x=8, y=14) 7\n",
      "Index2D(x=9, y=14) 7\n",
      "Index2D(x=10, y=14) 7\n",
      "Index2D(x=11, y=14) 7\n",
      "Index2D(x=12, y=14) 7\n",
      "Index2D(x=13, y=14) 6\n",
      "Index2D(x=14, y=14) 6\n",
      "Index2D(x=15, y=14) 5\n",
      "Index2D(x=16, y=14) 4\n",
      "Index2D(x=17, y=14) 4\n",
      "Index2D(x=18, y=14) 5\n",
      "Index2D(x=19, y=14) 5\n",
      "Index2D(x=20, y=14) 5\n",
      "Index2D(x=21, y=14) 5\n",
      "Index2D(x=0, y=15) 7\n",
      "Index2D(x=1, y=15) 7\n",
      "Index2D(x=2, y=15) 7\n",
      "Index2D(x=3, y=15) 7\n",
      "Index2D(x=4, y=15) 6\n",
      "Index2D(x=5, y=15) 6\n",
      "Index2D(x=6, y=15) 6\n",
      "Index2D(x=7, y=15) 7\n",
      "Index2D(x=8, y=15) 7\n",
      "Index2D(x=9, y=15) 7\n",
      "Index2D(x=10, y=15) 7\n",
      "Index2D(x=11, y=15) 7\n",
      "Index2D(x=12, y=15) 7\n",
      "Index2D(x=13, y=15) 6\n",
      "Index2D(x=14, y=15) 6\n",
      "Index2D(x=15, y=15) 5\n",
      "Index2D(x=16, y=15) 4\n",
      "Index2D(x=17, y=15) 4\n",
      "Index2D(x=18, y=15) 5\n",
      "Index2D(x=19, y=15) 5\n",
      "Index2D(x=20, y=15) 5\n",
      "Index2D(x=21, y=15) 5\n",
      "Index2D(x=0, y=16) 7\n",
      "Index2D(x=1, y=16) 7\n",
      "Index2D(x=2, y=16) 7\n",
      "Index2D(x=3, y=16) 7\n",
      "Index2D(x=4, y=16) 6\n",
      "Index2D(x=5, y=16) 6\n",
      "Index2D(x=6, y=16) 6\n",
      "Index2D(x=7, y=16) 7\n",
      "Index2D(x=8, y=16) 7\n",
      "Index2D(x=9, y=16) 7\n",
      "Index2D(x=10, y=16) 7\n",
      "Index2D(x=11, y=16) 7\n",
      "Index2D(x=12, y=16) 7\n",
      "Index2D(x=13, y=16) 6\n",
      "Index2D(x=14, y=16) 6\n",
      "Index2D(x=15, y=16) 5\n",
      "Index2D(x=16, y=16) 4\n",
      "Index2D(x=17, y=16) 4\n",
      "Index2D(x=18, y=16) 5\n",
      "Index2D(x=19, y=16) 5\n",
      "Index2D(x=20, y=16) 5\n",
      "Index2D(x=21, y=16) 5\n",
      "Index2D(x=0, y=17) 4\n",
      "Index2D(x=1, y=17) 4\n",
      "Index2D(x=2, y=17) 4\n",
      "Index2D(x=3, y=17) 4\n",
      "Index2D(x=4, y=17) 4\n",
      "Index2D(x=5, y=17) 4\n",
      "Index2D(x=6, y=17) 4\n",
      "Index2D(x=7, y=17) 4\n",
      "Index2D(x=8, y=17) 4\n",
      "Index2D(x=9, y=17) 4\n",
      "Index2D(x=10, y=17) 4\n",
      "Index2D(x=11, y=17) 4\n",
      "Index2D(x=12, y=17) 4\n",
      "Index2D(x=13, y=17) 3\n",
      "Index2D(x=14, y=17) 3\n",
      "Index2D(x=15, y=17) 2\n",
      "Index2D(x=16, y=17) 1\n",
      "Index2D(x=17, y=17) 1\n",
      "Index2D(x=18, y=17) 2\n",
      "Index2D(x=19, y=17) 3\n",
      "Index2D(x=20, y=17) 3\n",
      "Index2D(x=21, y=17) 3\n",
      "Index2D(x=0, y=18) 4\n",
      "Index2D(x=1, y=18) 4\n",
      "Index2D(x=2, y=18) 4\n",
      "Index2D(x=3, y=18) 4\n",
      "Index2D(x=4, y=18) 4\n",
      "Index2D(x=5, y=18) 4\n",
      "Index2D(x=6, y=18) 4\n",
      "Index2D(x=7, y=18) 4\n",
      "Index2D(x=8, y=18) 4\n",
      "Index2D(x=9, y=18) 4\n",
      "Index2D(x=10, y=18) 4\n",
      "Index2D(x=11, y=18) 4\n",
      "Index2D(x=12, y=18) 4\n",
      "Index2D(x=13, y=18) 3\n",
      "Index2D(x=14, y=18) 3\n",
      "Index2D(x=15, y=18) 2\n",
      "Index2D(x=16, y=18) 1\n",
      "Index2D(x=17, y=18) 1\n",
      "Index2D(x=18, y=18) 2\n",
      "Index2D(x=19, y=18) 3\n",
      "Index2D(x=20, y=18) 3\n",
      "Index2D(x=21, y=18) 3\n",
      "Index2D(x=0, y=19) 3\n",
      "Index2D(x=1, y=19) 3\n",
      "Index2D(x=2, y=19) 3\n",
      "Index2D(x=3, y=19) 3\n",
      "Index2D(x=4, y=19) 3\n",
      "Index2D(x=5, y=19) 3\n",
      "Index2D(x=6, y=19) 3\n",
      "Index2D(x=7, y=19) 3\n",
      "Index2D(x=8, y=19) 3\n",
      "Index2D(x=9, y=19) 3\n",
      "Index2D(x=10, y=19) 3\n",
      "Index2D(x=11, y=19) 3\n",
      "Index2D(x=12, y=19) 3\n",
      "Index2D(x=13, y=19) 2\n",
      "Index2D(x=14, y=19) 2\n",
      "Index2D(x=15, y=19) 2\n",
      "Index2D(x=16, y=19) 2\n",
      "Index2D(x=17, y=19) 2\n",
      "Index2D(x=18, y=19) 2\n",
      "Index2D(x=19, y=19) 2\n",
      "Index2D(x=20, y=19) 2\n",
      "Index2D(x=21, y=19) 2\n",
      "Index2D(x=0, y=20) 4\n",
      "Index2D(x=1, y=20) 4\n",
      "Index2D(x=2, y=20) 4\n",
      "Index2D(x=3, y=20) 4\n",
      "Index2D(x=4, y=20) 3\n",
      "Index2D(x=5, y=20) 3\n",
      "Index2D(x=6, y=20) 3\n",
      "Index2D(x=7, y=20) 4\n",
      "Index2D(x=8, y=20) 4\n",
      "Index2D(x=9, y=20) 4\n",
      "Index2D(x=10, y=20) 4\n",
      "Index2D(x=11, y=20) 4\n",
      "Index2D(x=12, y=20) 4\n",
      "Index2D(x=13, y=20) 3\n",
      "Index2D(x=14, y=20) 3\n",
      "Index2D(x=15, y=20) 3\n",
      "Index2D(x=16, y=20) 3\n",
      "Index2D(x=17, y=20) 3\n",
      "Index2D(x=18, y=20) 3\n",
      "Index2D(x=19, y=20) 3\n",
      "Index2D(x=20, y=20) 3\n",
      "Index2D(x=21, y=20) 3\n",
      "Index2D(x=0, y=21) 4\n",
      "Index2D(x=1, y=21) 4\n",
      "Index2D(x=2, y=21) 4\n",
      "Index2D(x=3, y=21) 4\n",
      "Index2D(x=4, y=21) 3\n",
      "Index2D(x=5, y=21) 3\n",
      "Index2D(x=6, y=21) 3\n",
      "Index2D(x=7, y=21) 4\n",
      "Index2D(x=8, y=21) 4\n",
      "Index2D(x=9, y=21) 4\n",
      "Index2D(x=10, y=21) 4\n",
      "Index2D(x=11, y=21) 4\n",
      "Index2D(x=12, y=21) 4\n",
      "Index2D(x=13, y=21) 3\n",
      "Index2D(x=14, y=21) 3\n",
      "Index2D(x=15, y=21) 3\n",
      "Index2D(x=16, y=21) 3\n",
      "Index2D(x=17, y=21) 3\n",
      "Index2D(x=18, y=21) 4\n",
      "Index2D(x=19, y=21) 5\n",
      "Index2D(x=20, y=21) 5\n",
      "Index2D(x=21, y=21) 5\n",
      "[7 7 7 7 7 7 7 7 7 7 7 7 7 6 6 5 4 4 5 4 4 4 7 7 7 7 7 7 7 7 7 7 7 7 7 6 6\n",
      " 5 4 4 5 4 4 4 7 7 7 7 7 7 7 7 7 7 7 7 7 6 6 5 4 4 5 4 4 4 4 4 4 4 4 4 4 4\n",
      " 4 4 4 4 4 3 3 2 1 1 2 3 3 3 3 3 3 3 3 3 3 3 3 3 3 3 3 2 2 1 1 1 2 2 2 2 5\n",
      " 5 5 5 4 4 4 5 5 5 5 5 5 4 4 4 4 4 4 3 3 3 5 5 5 5 4 4 4 5 5 5 5 5 5 4 4 4\n",
      " 4 4 4 3 3 3 7 7 7 7 6 6 6 7 7 7 7 7 7 6 6 5 4 4 5 5 5 5 7 7 7 7 6 6 6 7 7\n",
      " 7 7 7 7 6 6 5 4 4 5 5 5 5 6 6 6 6 5 5 5 6 6 6 6 6 6 5 5 4 3 3 4 4 4 4 6 6\n",
      " 6 6 5 5 5 6 6 6 6 6 6 5 5 4 3 3 4 4 4 4 7 7 7 7 6 6 6 7 7 7 7 7 7 6 6 5 4\n",
      " 4 5 5 5 5 6 6 6 6 5 5 5 6 6 6 6 6 6 6 6 5 4 4 5 5 5 5 6 6 6 6 5 5 5 6 6 6\n",
      " 6 6 6 6 6 5 4 4 5 5 5 5 7 7 7 7 6 6 6 7 7 7 7 7 7 6 6 5 4 4 5 5 5 5 7 7 7\n",
      " 7 6 6 6 7 7 7 7 7 7 6 6 5 4 4 5 5 5 5 7 7 7 7 6 6 6 7 7 7 7 7 7 6 6 5 4 4\n",
      " 5 5 5 5 4 4 4 4 4 4 4 4 4 4 4 4 4 3 3 2 1 1 2 3 3 3 4 4 4 4 4 4 4 4 4 4 4\n",
      " 4 4 3 3 2 1 1 2 3 3 3 3 3 3 3 3 3 3 3 3 3 3 3 3 2 2 2 2 2 2 2 2 2 4 4 4 4\n",
      " 3 3 3 4 4 4 4 4 4 3 3 3 3 3 3 3 3 3 4 4 4 4 3 3 3 4 4 4 4 4 4 3 3 3 3 3 4\n",
      " 5 5 5]\n"
     ]
    }
   ],
   "source": [
    "inputs_list = []\n",
    "for cell in cell_list:\n",
    "    cell_inputs = coadd.cells[cell].inputs\n",
    "    print(cell, len(cell_inputs))\n",
    "    inputs_list.append(len(cell_inputs))\n",
    "inputs_list = np.array(inputs_list)\n",
    "print(inputs_list)"
   ]
  },
  {
   "cell_type": "markdown",
   "id": "7a7cb3bf-cb88-4594-b0b6-8799c52fc236",
   "metadata": {},
   "source": [
    "## Plotting cell input histogram"
   ]
  },
  {
   "cell_type": "code",
   "execution_count": 16,
   "id": "3553c5d3-0c37-4067-9a97-1b3516d476af",
   "metadata": {
    "execution": {
     "iopub.execute_input": "2024-03-28T16:03:18.238869Z",
     "iopub.status.busy": "2024-03-28T16:03:18.238256Z",
     "iopub.status.idle": "2024-03-28T16:03:18.616025Z",
     "shell.execute_reply": "2024-03-28T16:03:18.615578Z",
     "shell.execute_reply.started": "2024-03-28T16:03:18.238851Z"
    }
   },
   "outputs": [
    {
     "data": {
      "text/plain": [
       "(array([  0.,   9.,  21.,  71., 119.,  85.,  80.,  99.,   0.]),\n",
       " array([0., 1., 2., 3., 4., 5., 6., 7., 8., 9.]),\n",
       " <BarContainer object of 9 artists>)"
      ]
     },
     "execution_count": 16,
     "metadata": {},
     "output_type": "execute_result"
    },
    {
     "data": {
      "image/png": "[encoded data removed]",
      "text/plain": [
       "<Figure size 640x480 with 1 Axes>"
      ]
     },
     "metadata": {},
     "output_type": "display_data"
    }
   ],
   "source": [
    "bins = np.arange(0, np.max(inputs_list)+3)\n",
    "plt.xlabel(\"Number of input warps\")\n",
    "plt.ylabel(\"Cell count\")\n",
    "plt.title(\"Distribution of cell inputs\")\n",
    "plt.xticks(bins)\n",
    "plt.hist(inputs_list, bins)"
   ]
  },
  {
   "cell_type": "markdown",
   "id": "ba9e6d98-b0bd-4510-80ac-3a0c419493e5",
   "metadata": {
    "execution": {
     "iopub.execute_input": "2024-03-13T00:25:34.494076Z",
     "iopub.status.busy": "2024-03-13T00:25:34.493850Z",
     "iopub.status.idle": "2024-03-13T00:25:34.496607Z",
     "shell.execute_reply": "2024-03-13T00:25:34.496176Z",
     "shell.execute_reply.started": "2024-03-13T00:25:34.494059Z"
    }
   },
   "source": [
    "## Showing cell images"
   ]
  },
  {
   "cell_type": "markdown",
   "id": "3ce2516d-76d3-4e65-8d48-89024e268f0b",
   "metadata": {},
   "source": [
    "The backend used for displaying image data will be firefly here, though other options are available. \n",
    "\n",
    "Some other points:\n",
    "- Define both `display1` and `display2` in the same notebook cell each time, to keep the displays updated and avoid loading image data from previous notebook cells.\n",
    "- Firefly will load another tab within the notebook environment. Keep this tab open, since as far as I know the only way to get this tab back is to reload the notebook environment. Redefining the displays will update the current tab instead of creating a new tab."
   ]
  },
  {
   "cell_type": "code",
   "execution_count": 20,
   "id": "7a3b3e4e-4099-49e9-906a-1a716a611c18",
   "metadata": {
    "execution": {
     "iopub.execute_input": "2024-03-28T16:15:11.801354Z",
     "iopub.status.busy": "2024-03-28T16:15:11.800839Z",
     "iopub.status.idle": "2024-03-28T16:15:12.316964Z",
     "shell.execute_reply": "2024-03-28T16:15:12.316488Z",
     "shell.execute_reply.started": "2024-03-28T16:15:11.801337Z"
    }
   },
   "outputs": [],
   "source": [
    "import lsst.afw.display as afwDisplay\n",
    "afwDisplay.setDefaultBackend('firefly')"
   ]
  },
  {
   "cell_type": "markdown",
   "id": "022a7644-89aa-44a9-af0d-2a3a6c9ec8b5",
   "metadata": {},
   "source": [
    "The image data stored in a cell can be called in the following way: "
   ]
  },
  {
   "cell_type": "code",
   "execution_count": 18,
   "id": "0a4e773b-fae1-46a2-8acb-dae80cc6f037",
   "metadata": {
    "execution": {
     "iopub.execute_input": "2024-03-28T16:14:53.366121Z",
     "iopub.status.busy": "2024-03-28T16:14:53.365614Z",
     "iopub.status.idle": "2024-03-28T16:14:53.368632Z",
     "shell.execute_reply": "2024-03-28T16:14:53.368274Z",
     "shell.execute_reply.started": "2024-03-28T16:14:53.366106Z"
    }
   },
   "outputs": [],
   "source": [
    "cell_imMask_out = coadd.cells[Index2D(x=17, y=18)].outer.asMaskedImage()\n",
    "cell_imMask_in = coadd.cells[Index2D(x=17, y=18)].inner.asMaskedImage()"
   ]
  },
  {
   "cell_type": "markdown",
   "id": "5c03cbad-a600-4d3c-8768-94fc3303c46e",
   "metadata": {},
   "source": [
    "The inner cell is the boundary of just the single cell, whereas the outer cell contains overlapping image data with neighboring cells. To display the difference between those images, call the below notebook cell:"
   ]
  },
  {
   "cell_type": "code",
   "execution_count": 21,
   "id": "d5fff4a6-4059-492f-bc74-35fdb8f65c1f",
   "metadata": {
    "execution": {
     "iopub.execute_input": "2024-03-28T16:15:14.592263Z",
     "iopub.status.busy": "2024-03-28T16:15:14.591668Z",
     "iopub.status.idle": "2024-03-28T16:15:15.102231Z",
     "shell.execute_reply": "2024-03-28T16:15:15.101741Z",
     "shell.execute_reply.started": "2024-03-28T16:15:14.592247Z"
    }
   },
   "outputs": [],
   "source": [
    "display1 = afwDisplay.Display(frame=1)\n",
    "display1.mtv(cell_imMask_out)\n",
    "display2 = afwDisplay.Display(frame=2)\n",
    "display2.mtv(cell_imMask_in)"
   ]
  },
  {
   "cell_type": "markdown",
   "id": "8693ee52-4232-471c-ab3d-277b0d544f5a",
   "metadata": {},
   "source": [
    "We can also call on the `stitch_coadd` object to display all cells across an entire patch:"
   ]
  },
  {
   "cell_type": "code",
   "execution_count": 85,
   "id": "f0b8ca74-3f69-41e0-9c4c-3010ebd2829c",
   "metadata": {
    "execution": {
     "iopub.execute_input": "2024-03-26T18:19:20.942698Z",
     "iopub.status.busy": "2024-03-26T18:19:20.942392Z",
     "iopub.status.idle": "2024-03-26T18:19:22.893154Z",
     "shell.execute_reply": "2024-03-26T18:19:22.892715Z",
     "shell.execute_reply.started": "2024-03-26T18:19:20.942672Z"
    }
   },
   "outputs": [],
   "source": [
    "display1 = afwDisplay.Display(frame=1)\n",
    "display1.mtv(stitch_coadd.asMaskedImage())\n",
    "display2 = afwDisplay.Display(frame=2)\n",
    "display2.mtv(stitch_coadd.asExposure())"
   ]
  },
  {
   "cell_type": "markdown",
   "id": "6e549bab-5401-48a7-9011-ba0f4a99f663",
   "metadata": {},
   "source": [
    "## Investigate NO_DATA"
   ]
  },
  {
   "cell_type": "markdown",
   "id": "5d5edda8-41ec-464c-beeb-7d911ca9bd2c",
   "metadata": {},
   "source": [
    "Find the cell that contains a large amount of NO_DATA masked pixels.\n",
    "- The 2305, 715 coordinate is found using the Firefly display and hovering over the masked pixels. The readout option should be set to FITS Image Pixel. However, the coadd object does not have an origin at 0,0. This offset must be added, and is found using `getMin()` method."
   ]
  },
  {
   "cell_type": "code",
   "execution_count": 35,
   "id": "3a476fa6-105c-44a9-ad68-373daac4cba4",
   "metadata": {
    "execution": {
     "iopub.execute_input": "2024-03-28T16:36:59.678456Z",
     "iopub.status.busy": "2024-03-28T16:36:59.677803Z",
     "iopub.status.idle": "2024-03-28T16:36:59.681228Z",
     "shell.execute_reply": "2024-03-28T16:36:59.680814Z",
     "shell.execute_reply.started": "2024-03-28T16:36:59.678438Z"
    }
   },
   "outputs": [
    {
     "name": "stdout",
     "output_type": "stream",
     "text": [
      "Index2D(x=15, y=4)\n"
     ]
    }
   ],
   "source": [
    "import lsst.geom as geom\n",
    "print(coadd.grid.index(coadd.inner_bbox.getMin()+(geom.Extent2I(2305, 715))))"
   ]
  },
  {
   "cell_type": "markdown",
   "id": "0d7b2fc2-1455-4a77-a20d-6dc3c144e807",
   "metadata": {},
   "source": [
    "Find the input warps used in this cell:"
   ]
  },
  {
   "cell_type": "code",
   "execution_count": 24,
   "id": "5e53d1a6-9d32-4bd0-ab29-719430c699f6",
   "metadata": {
    "execution": {
     "iopub.execute_input": "2024-03-25T16:00:28.507547Z",
     "iopub.status.busy": "2024-03-25T16:00:28.506958Z",
     "iopub.status.idle": "2024-03-25T16:00:28.510230Z",
     "shell.execute_reply": "2024-03-25T16:00:28.509915Z",
     "shell.execute_reply.started": "2024-03-25T16:00:28.507530Z"
    }
   },
   "outputs": [
    {
     "name": "stdout",
     "output_type": "stream",
     "text": [
      "frozenset({ObservationIdentifiers(instrument='HSC', packed=4690, visit=19684, detector=50)})\n"
     ]
    }
   ],
   "source": [
    "cell_no_data = coadd.cells[Index2D(x=15, y=4)]\n",
    "print(cell_no_data.inputs)"
   ]
  },
  {
   "cell_type": "markdown",
   "id": "33838db8-2945-4565-92f3-6e544e86b846",
   "metadata": {},
   "source": [
    "Using the output above, read in the relevant warp:"
   ]
  },
  {
   "cell_type": "code",
   "execution_count": 22,
   "id": "bb314124-7314-41fa-80cc-e2a9939201b1",
   "metadata": {
    "execution": {
     "iopub.execute_input": "2024-03-28T16:22:10.409942Z",
     "iopub.status.busy": "2024-03-28T16:22:10.409516Z",
     "iopub.status.idle": "2024-03-28T16:22:10.880846Z",
     "shell.execute_reply": "2024-03-28T16:22:10.880450Z",
     "shell.execute_reply.started": "2024-03-28T16:22:10.409925Z"
    }
   },
   "outputs": [],
   "source": [
    "# get the above warp with no_data from the butler\n",
    "warp2 = butler.get('deepCoadd_directWarp',\n",
    "                   collections = collection,\n",
    "                   instrument='HSC',\n",
    "                   skymap = 'hsc_rings_cells_v1',\n",
    "                   tract=9813,\n",
    "                   patch=61,\n",
    "                   visit = 19684)"
   ]
  },
  {
   "cell_type": "markdown",
   "id": "5aa1a7ce-9689-4de0-9e0a-ddb90a2c109a",
   "metadata": {},
   "source": [
    "#### Compare the warp, stitiched coadd, and cell images"
   ]
  },
  {
   "cell_type": "markdown",
   "id": "6f88f36f-d49e-486c-8d19-bb780e678822",
   "metadata": {},
   "source": [
    "Read in the relevant warp and the cell with NO_DATA masked pixels:"
   ]
  },
  {
   "cell_type": "code",
   "execution_count": 11,
   "id": "dc78811a-80c5-4591-82b0-629da32f7d96",
   "metadata": {
    "execution": {
     "iopub.execute_input": "2024-03-22T20:01:26.760698Z",
     "iopub.status.busy": "2024-03-22T20:01:26.760494Z",
     "iopub.status.idle": "2024-03-22T20:01:29.806953Z",
     "shell.execute_reply": "2024-03-22T20:01:29.806489Z",
     "shell.execute_reply.started": "2024-03-22T20:01:26.760679Z"
    }
   },
   "outputs": [],
   "source": [
    "display1 = afwDisplay.Display(frame=1)\n",
    "display1.mtv(warp2.maskedImage)\n",
    "display2 = afwDisplay.Display(frame=2)\n",
    "display2.mtv(coadd.cells[Index2D(x=15, y=4)].inner.asMaskedImage())"
   ]
  },
  {
   "cell_type": "markdown",
   "id": "3e5c8c97-6eaa-4d75-b2b2-1aeecdeb5e3f",
   "metadata": {},
   "source": [
    "Read in the stitched coadd and the cell with NO_DATA masked pixels:"
   ]
  },
  {
   "cell_type": "code",
   "execution_count": 10,
   "id": "9e50fec6-aa81-40ae-b9aa-70356516e607",
   "metadata": {
    "execution": {
     "iopub.execute_input": "2024-03-22T19:54:33.084020Z",
     "iopub.status.busy": "2024-03-22T19:54:33.083820Z",
     "iopub.status.idle": "2024-03-22T19:54:34.432205Z",
     "shell.execute_reply": "2024-03-22T19:54:34.431754Z",
     "shell.execute_reply.started": "2024-03-22T19:54:33.084005Z"
    }
   },
   "outputs": [],
   "source": [
    "display1 = afwDisplay.Display(frame=1)\n",
    "display1.mtv(stitch_coadd.asMaskedImage())\n",
    "display2 = afwDisplay.Display(frame=2)\n",
    "display2.mtv(coadd.cells[Index2D(x=15, y=4)].inner.asMaskedImage())"
   ]
  },
  {
   "cell_type": "markdown",
   "id": "107b3dd3-7e69-480a-9898-c8c11ba26000",
   "metadata": {},
   "source": [
    "### Investigate NO_DATA in normal warping/coaddition process (none cell-based)"
   ]
  },
  {
   "cell_type": "code",
   "execution_count": 3,
   "id": "01f3dea3-f316-465b-b7aa-84209895d210",
   "metadata": {
    "execution": {
     "iopub.execute_input": "2024-03-20T21:27:46.729257Z",
     "iopub.status.busy": "2024-03-20T21:27:46.729043Z",
     "iopub.status.idle": "2024-03-20T21:27:46.732041Z",
     "shell.execute_reply": "2024-03-20T21:27:46.731605Z",
     "shell.execute_reply.started": "2024-03-20T21:27:46.729240Z"
    }
   },
   "outputs": [],
   "source": [
    "collection_warp_no_data = 'u/mgorsuch/make_warp_patch_61/20240320T205831Z'\n",
    "collection_coadd_no_data = 'u/mgorsuch/coadd_patch_61/20240320T210806Z'"
   ]
  },
  {
   "cell_type": "code",
   "execution_count": 21,
   "id": "0f7761cb-3499-46bb-a9cb-b8692de4a94f",
   "metadata": {
    "execution": {
     "iopub.execute_input": "2024-03-20T21:17:03.978694Z",
     "iopub.status.busy": "2024-03-20T21:17:03.978124Z",
     "iopub.status.idle": "2024-03-20T21:17:21.340712Z",
     "shell.execute_reply": "2024-03-20T21:17:21.340341Z",
     "shell.execute_reply.started": "2024-03-20T21:17:03.978677Z"
    }
   },
   "outputs": [
    {
     "name": "stdout",
     "output_type": "stream",
     "text": [
      "DatasetType('packages', {}, Packages)\n",
      "DatasetType('deepCoadd_psfMatchedWarp', {band, instrument, skymap, physical_filter, tract, patch, visit}, ExposureF)\n",
      "DatasetType('deepCoadd_directWarp', {band, instrument, skymap, physical_filter, tract, patch, visit}, ExposureF)\n",
      "DatasetType('makeWarp_metadata', {band, instrument, skymap, physical_filter, tract, patch, visit}, PropertySet)\n",
      "DatasetType('makeWarp_config', {}, Config)\n",
      "DatasetType('makeWarp_log', {band, instrument, skymap, physical_filter, tract, patch, visit}, ButlerLogRecords)\n"
     ]
    }
   ],
   "source": [
    "for datasetType in registry.queryDatasetTypes():\n",
    "    if registry.queryDatasets(datasetType, collections=collection_warp_no_data).any(execute=False, exact=False):\n",
    "        print(datasetType)"
   ]
  },
  {
   "cell_type": "code",
   "execution_count": 22,
   "id": "9edff814-6c46-4db2-a106-c4e63d51971d",
   "metadata": {
    "execution": {
     "iopub.execute_input": "2024-03-20T21:17:21.341529Z",
     "iopub.status.busy": "2024-03-20T21:17:21.341392Z",
     "iopub.status.idle": "2024-03-20T21:17:39.124696Z",
     "shell.execute_reply": "2024-03-20T21:17:39.124189Z",
     "shell.execute_reply.started": "2024-03-20T21:17:21.341516Z"
    }
   },
   "outputs": [
    {
     "name": "stdout",
     "output_type": "stream",
     "text": [
      "DatasetType('packages', {}, Packages)\n",
      "DatasetType('deepCoadd', {band, skymap, tract, patch}, ExposureF)\n",
      "DatasetType('deepCoadd_nImage', {band, skymap, tract, patch}, ImageU)\n",
      "DatasetType('assembleCoadd_metadata', {band, skymap, tract, patch}, PropertySet)\n",
      "DatasetType('assembleCoadd_config', {}, Config)\n",
      "DatasetType('deepCoadd_inputMap', {band, skymap, tract, patch}, HealSparseMap)\n",
      "DatasetType('assembleCoadd_log', {band, skymap, tract, patch}, ButlerLogRecords)\n"
     ]
    }
   ],
   "source": [
    "for datasetType in registry.queryDatasetTypes():\n",
    "    if registry.queryDatasets(datasetType, collections=collection_coadd_no_data).any(execute=False, exact=False):\n",
    "        print(datasetType)"
   ]
  },
  {
   "cell_type": "code",
   "execution_count": 23,
   "id": "851acdcf-0cee-4e82-8f99-828d2c2af0d4",
   "metadata": {
    "collapsed": true,
    "execution": {
     "iopub.execute_input": "2024-03-20T21:18:08.345844Z",
     "iopub.status.busy": "2024-03-20T21:18:08.345546Z",
     "iopub.status.idle": "2024-03-20T21:18:08.401269Z",
     "shell.execute_reply": "2024-03-20T21:18:08.400853Z",
     "shell.execute_reply.started": "2024-03-20T21:18:08.345828Z"
    },
    "jupyter": {
     "outputs_hidden": true
    },
    "scrolled": true
   },
   "outputs": [
    {
     "name": "stdout",
     "output_type": "stream",
     "text": [
      "{instrument: 'HSC', skymap: 'hsc_rings_cells_v1', tract: 9813, patch: 61, visit: 1242, band: 'i', physical_filter: 'HSC-I'}\n",
      "{instrument: 'HSC', skymap: 'hsc_rings_cells_v1', tract: 9813, patch: 61, visit: 1242, band: 'i', physical_filter: 'HSC-I'}\n",
      "{instrument: 'HSC', skymap: 'hsc_rings_cells_v1', tract: 9813, patch: 61, visit: 1242, band: 'i', physical_filter: 'HSC-I'}\n",
      "{instrument: 'HSC', skymap: 'hsc_rings_cells_v1', tract: 9813, patch: 61, visit: 1242, band: 'i', physical_filter: 'HSC-I'}\n",
      "{instrument: 'HSC', skymap: 'hsc_rings_cells_v1', tract: 9813, patch: 61, visit: 1242, band: 'i', physical_filter: 'HSC-I'}\n",
      "{instrument: 'HSC', skymap: 'hsc_rings_cells_v1', tract: 9813, patch: 61, visit: 1242, band: 'i', physical_filter: 'HSC-I'}\n",
      "{instrument: 'HSC', skymap: 'hsc_rings_cells_v1', tract: 9813, patch: 61, visit: 30490, band: 'i', physical_filter: 'HSC-I'}\n",
      "{instrument: 'HSC', skymap: 'hsc_rings_cells_v1', tract: 9813, patch: 61, visit: 30490, band: 'i', physical_filter: 'HSC-I'}\n",
      "{instrument: 'HSC', skymap: 'hsc_rings_cells_v1', tract: 9813, patch: 61, visit: 30490, band: 'i', physical_filter: 'HSC-I'}\n",
      "{instrument: 'HSC', skymap: 'hsc_rings_cells_v1', tract: 9813, patch: 61, visit: 30490, band: 'i', physical_filter: 'HSC-I'}\n",
      "{instrument: 'HSC', skymap: 'hsc_rings_cells_v1', tract: 9813, patch: 61, visit: 30490, band: 'i', physical_filter: 'HSC-I'}\n",
      "{instrument: 'HSC', skymap: 'hsc_rings_cells_v1', tract: 9813, patch: 61, visit: 30490, band: 'i', physical_filter: 'HSC-I'}\n",
      "{instrument: 'HSC', skymap: 'hsc_rings_cells_v1', tract: 9813, patch: 61, visit: 19694, band: 'i', physical_filter: 'HSC-I'}\n",
      "{instrument: 'HSC', skymap: 'hsc_rings_cells_v1', tract: 9813, patch: 61, visit: 19694, band: 'i', physical_filter: 'HSC-I'}\n",
      "{instrument: 'HSC', skymap: 'hsc_rings_cells_v1', tract: 9813, patch: 61, visit: 19694, band: 'i', physical_filter: 'HSC-I'}\n",
      "{instrument: 'HSC', skymap: 'hsc_rings_cells_v1', tract: 9813, patch: 61, visit: 19694, band: 'i', physical_filter: 'HSC-I'}\n",
      "{instrument: 'HSC', skymap: 'hsc_rings_cells_v1', tract: 9813, patch: 61, visit: 19694, band: 'i', physical_filter: 'HSC-I'}\n",
      "{instrument: 'HSC', skymap: 'hsc_rings_cells_v1', tract: 9813, patch: 61, visit: 19694, band: 'i', physical_filter: 'HSC-I'}\n",
      "{instrument: 'HSC', skymap: 'hsc_rings_cells_v1', tract: 9813, patch: 61, visit: 19696, band: 'i', physical_filter: 'HSC-I'}\n",
      "{instrument: 'HSC', skymap: 'hsc_rings_cells_v1', tract: 9813, patch: 61, visit: 19696, band: 'i', physical_filter: 'HSC-I'}\n",
      "{instrument: 'HSC', skymap: 'hsc_rings_cells_v1', tract: 9813, patch: 61, visit: 19696, band: 'i', physical_filter: 'HSC-I'}\n",
      "{instrument: 'HSC', skymap: 'hsc_rings_cells_v1', tract: 9813, patch: 61, visit: 19696, band: 'i', physical_filter: 'HSC-I'}\n",
      "{instrument: 'HSC', skymap: 'hsc_rings_cells_v1', tract: 9813, patch: 61, visit: 19696, band: 'i', physical_filter: 'HSC-I'}\n",
      "{instrument: 'HSC', skymap: 'hsc_rings_cells_v1', tract: 9813, patch: 61, visit: 19696, band: 'i', physical_filter: 'HSC-I'}\n",
      "{instrument: 'HSC', skymap: 'hsc_rings_cells_v1', tract: 9813, patch: 61, visit: 30482, band: 'i', physical_filter: 'HSC-I'}\n",
      "{instrument: 'HSC', skymap: 'hsc_rings_cells_v1', tract: 9813, patch: 61, visit: 30482, band: 'i', physical_filter: 'HSC-I'}\n",
      "{instrument: 'HSC', skymap: 'hsc_rings_cells_v1', tract: 9813, patch: 61, visit: 30482, band: 'i', physical_filter: 'HSC-I'}\n",
      "{instrument: 'HSC', skymap: 'hsc_rings_cells_v1', tract: 9813, patch: 61, visit: 30482, band: 'i', physical_filter: 'HSC-I'}\n",
      "{instrument: 'HSC', skymap: 'hsc_rings_cells_v1', tract: 9813, patch: 61, visit: 30482, band: 'i', physical_filter: 'HSC-I'}\n",
      "{instrument: 'HSC', skymap: 'hsc_rings_cells_v1', tract: 9813, patch: 61, visit: 30482, band: 'i', physical_filter: 'HSC-I'}\n",
      "{instrument: 'HSC', skymap: 'hsc_rings_cells_v1', tract: 9813, patch: 61, visit: 1248, band: 'i', physical_filter: 'HSC-I'}\n",
      "{instrument: 'HSC', skymap: 'hsc_rings_cells_v1', tract: 9813, patch: 61, visit: 1248, band: 'i', physical_filter: 'HSC-I'}\n",
      "{instrument: 'HSC', skymap: 'hsc_rings_cells_v1', tract: 9813, patch: 61, visit: 1248, band: 'i', physical_filter: 'HSC-I'}\n",
      "{instrument: 'HSC', skymap: 'hsc_rings_cells_v1', tract: 9813, patch: 61, visit: 1248, band: 'i', physical_filter: 'HSC-I'}\n",
      "{instrument: 'HSC', skymap: 'hsc_rings_cells_v1', tract: 9813, patch: 61, visit: 1248, band: 'i', physical_filter: 'HSC-I'}\n",
      "{instrument: 'HSC', skymap: 'hsc_rings_cells_v1', tract: 9813, patch: 61, visit: 1248, band: 'i', physical_filter: 'HSC-I'}\n",
      "{instrument: 'HSC', skymap: 'hsc_rings_cells_v1', tract: 9813, patch: 61, visit: 19680, band: 'i', physical_filter: 'HSC-I'}\n",
      "{instrument: 'HSC', skymap: 'hsc_rings_cells_v1', tract: 9813, patch: 61, visit: 19680, band: 'i', physical_filter: 'HSC-I'}\n",
      "{instrument: 'HSC', skymap: 'hsc_rings_cells_v1', tract: 9813, patch: 61, visit: 19680, band: 'i', physical_filter: 'HSC-I'}\n",
      "{instrument: 'HSC', skymap: 'hsc_rings_cells_v1', tract: 9813, patch: 61, visit: 19680, band: 'i', physical_filter: 'HSC-I'}\n",
      "{instrument: 'HSC', skymap: 'hsc_rings_cells_v1', tract: 9813, patch: 61, visit: 19680, band: 'i', physical_filter: 'HSC-I'}\n",
      "{instrument: 'HSC', skymap: 'hsc_rings_cells_v1', tract: 9813, patch: 61, visit: 19680, band: 'i', physical_filter: 'HSC-I'}\n",
      "{instrument: 'HSC', skymap: 'hsc_rings_cells_v1', tract: 9813, patch: 61, visit: 19684, band: 'i', physical_filter: 'HSC-I'}\n",
      "{instrument: 'HSC', skymap: 'hsc_rings_cells_v1', tract: 9813, patch: 61, visit: 19684, band: 'i', physical_filter: 'HSC-I'}\n",
      "{instrument: 'HSC', skymap: 'hsc_rings_cells_v1', tract: 9813, patch: 61, visit: 19684, band: 'i', physical_filter: 'HSC-I'}\n",
      "{instrument: 'HSC', skymap: 'hsc_rings_cells_v1', tract: 9813, patch: 61, visit: 19684, band: 'i', physical_filter: 'HSC-I'}\n",
      "{instrument: 'HSC', skymap: 'hsc_rings_cells_v1', tract: 9813, patch: 61, visit: 19684, band: 'i', physical_filter: 'HSC-I'}\n",
      "{instrument: 'HSC', skymap: 'hsc_rings_cells_v1', tract: 9813, patch: 61, visit: 19684, band: 'i', physical_filter: 'HSC-I'}\n"
     ]
    }
   ],
   "source": [
    "for ref in butler.registry.queryDatasets('deepCoadd_directWarp', physical_filter='HSC-I', collections=collection_warp_no_data, instrument='HSC'):\n",
    "    print(ref.dataId)"
   ]
  },
  {
   "cell_type": "code",
   "execution_count": 24,
   "id": "2cc60f35-8ab0-45ef-b734-326827e75dd4",
   "metadata": {
    "execution": {
     "iopub.execute_input": "2024-03-20T21:18:45.302937Z",
     "iopub.status.busy": "2024-03-20T21:18:45.302659Z",
     "iopub.status.idle": "2024-03-20T21:18:45.318440Z",
     "shell.execute_reply": "2024-03-20T21:18:45.318005Z",
     "shell.execute_reply.started": "2024-03-20T21:18:45.302923Z"
    }
   },
   "outputs": [
    {
     "name": "stdout",
     "output_type": "stream",
     "text": [
      "{band: 'i', skymap: 'hsc_rings_cells_v1', tract: 9813, patch: 61}\n"
     ]
    }
   ],
   "source": [
    "for ref in butler.registry.queryDatasets('deepCoadd', physical_filter='HSC-I', collections=collection_coadd_no_data, instrument='HSC'):\n",
    "    print(ref.dataId)"
   ]
  },
  {
   "cell_type": "markdown",
   "id": "1199e11f-9109-4f70-a897-56ba29f53bbc",
   "metadata": {},
   "source": [
    "Read in the relevant warp and coadd"
   ]
  },
  {
   "cell_type": "code",
   "execution_count": 4,
   "id": "c6c481d3-9762-445f-8d13-a1afe63aafd7",
   "metadata": {
    "execution": {
     "iopub.execute_input": "2024-03-20T21:27:52.470709Z",
     "iopub.status.busy": "2024-03-20T21:27:52.470165Z",
     "iopub.status.idle": "2024-03-20T21:27:56.964288Z",
     "shell.execute_reply": "2024-03-20T21:27:56.963813Z",
     "shell.execute_reply.started": "2024-03-20T21:27:52.470694Z"
    }
   },
   "outputs": [],
   "source": [
    "warp_no_data = butler.get('deepCoadd_directWarp',\n",
    "                   collections = collection_warp_no_data,\n",
    "                   instrument='HSC',\n",
    "                   skymap = 'hsc_rings_cells_v1',\n",
    "                   tract=9813,\n",
    "                   patch=61,\n",
    "                   visit = 19684)"
   ]
  },
  {
   "cell_type": "code",
   "execution_count": 5,
   "id": "4ca62cb7-c0fb-4c24-b878-43bf66ba6c66",
   "metadata": {
    "execution": {
     "iopub.execute_input": "2024-03-20T21:27:56.972390Z",
     "iopub.status.busy": "2024-03-20T21:27:56.972273Z",
     "iopub.status.idle": "2024-03-20T21:27:57.575627Z",
     "shell.execute_reply": "2024-03-20T21:27:57.575154Z",
     "shell.execute_reply.started": "2024-03-20T21:27:56.972379Z"
    }
   },
   "outputs": [],
   "source": [
    "coadd_no_data = butler.get('deepCoadd',\n",
    "                   collections = collection_coadd_no_data,\n",
    "                   instrument='HSC',\n",
    "                   skymap = 'hsc_rings_cells_v1',\n",
    "                   tract=9813,\n",
    "                   patch=61,\n",
    "                   band = 'i')"
   ]
  },
  {
   "cell_type": "code",
   "execution_count": 6,
   "id": "7fadb63b-cded-498f-b11a-4621c24edfbe",
   "metadata": {
    "execution": {
     "iopub.execute_input": "2024-03-20T21:28:13.990877Z",
     "iopub.status.busy": "2024-03-20T21:28:13.990338Z",
     "iopub.status.idle": "2024-03-20T21:28:15.888836Z",
     "shell.execute_reply": "2024-03-20T21:28:15.888374Z",
     "shell.execute_reply.started": "2024-03-20T21:28:13.990862Z"
    }
   },
   "outputs": [],
   "source": [
    "display1 = afwDisplay.Display(frame=1)\n",
    "display1.mtv(warp_no_data.maskedImage)\n",
    "display2 = afwDisplay.Display(frame=2)\n",
    "display2.mtv(coadd_no_data.getMaskedImage())"
   ]
  },
  {
   "cell_type": "markdown",
   "id": "9d5ac0ed-af45-4f4a-b8cd-d93ee8e45ab6",
   "metadata": {},
   "source": [
    "## Play with mask information"
   ]
  },
  {
   "cell_type": "markdown",
   "id": "a7faf09e-1a6c-408b-85e4-9d42a33d6e65",
   "metadata": {},
   "source": [
    "### For a single cell"
   ]
  },
  {
   "cell_type": "markdown",
   "id": "3ddce8c6-f8da-4139-9e5b-79c7716ea0b5",
   "metadata": {},
   "source": [
    "See what masks are being used in a cell"
   ]
  },
  {
   "cell_type": "code",
   "execution_count": 21,
   "id": "d521687c-65a6-41b8-b328-1ab414c72651",
   "metadata": {
    "execution": {
     "iopub.execute_input": "2024-03-20T18:00:54.277927Z",
     "iopub.status.busy": "2024-03-20T18:00:54.277653Z",
     "iopub.status.idle": "2024-03-20T18:00:54.280349Z",
     "shell.execute_reply": "2024-03-20T18:00:54.280048Z",
     "shell.execute_reply.started": "2024-03-20T18:00:54.277912Z"
    }
   },
   "outputs": [
    {
     "name": "stdout",
     "output_type": "stream",
     "text": [
      "{'BAD': 0, 'CR': 3, 'DETECTED': 5, 'DETECTED_NEGATIVE': 6, 'EDGE': 4, 'INTRP': 2, 'NO_DATA': 8, 'SAT': 1, 'SUSPECT': 7}\n"
     ]
    }
   ],
   "source": [
    "print(cell.inner.mask.getMaskPlaneDict())"
   ]
  },
  {
   "cell_type": "markdown",
   "id": "35dd7aa0-7404-469a-a2ec-a2425c21af26",
   "metadata": {},
   "source": [
    "If you have the mask plane name, find what value is associated with it"
   ]
  },
  {
   "cell_type": "code",
   "execution_count": 40,
   "id": "f833efcc-6dc0-4353-b95f-6fc1917fcb65",
   "metadata": {
    "execution": {
     "iopub.execute_input": "2024-03-18T16:26:57.625610Z",
     "iopub.status.busy": "2024-03-18T16:26:57.625396Z",
     "iopub.status.idle": "2024-03-18T16:26:57.628208Z",
     "shell.execute_reply": "2024-03-18T16:26:57.627734Z",
     "shell.execute_reply.started": "2024-03-18T16:26:57.625597Z"
    }
   },
   "outputs": [
    {
     "name": "stdout",
     "output_type": "stream",
     "text": [
      "3\n"
     ]
    }
   ],
   "source": [
    "print(cell.inner.mask.getMaskPlane('CR'))"
   ]
  },
  {
   "cell_type": "markdown",
   "id": "007cdcce-4846-4ece-8b8f-da92292871a9",
   "metadata": {},
   "source": [
    "Get the number of pixels with a specific mask within a cell"
   ]
  },
  {
   "cell_type": "code",
   "execution_count": 25,
   "id": "9363cbc8-62db-4a7a-9cc9-401a33d7b2f0",
   "metadata": {
    "execution": {
     "iopub.execute_input": "2024-03-20T18:19:24.407984Z",
     "iopub.status.busy": "2024-03-20T18:19:24.407692Z",
     "iopub.status.idle": "2024-03-20T18:19:24.411198Z",
     "shell.execute_reply": "2024-03-20T18:19:24.410871Z",
     "shell.execute_reply.started": "2024-03-20T18:19:24.407968Z"
    }
   },
   "outputs": [
    {
     "name": "stdout",
     "output_type": "stream",
     "text": [
      "Mask used:  CR\n",
      "Mask bit number:  8\n",
      "Number of masked pixels:  68\n"
     ]
    }
   ],
   "source": [
    "mask_used = 'CR'\n",
    "print(\"Mask used: \", mask_used)\n",
    "mask_bit = cell.inner.mask.getPlaneBitMask(mask_used)\n",
    "print(\"Mask bit number: \", mask_bit)\n",
    "num_bad_pixels = len(np.where(np.bitwise_and(cell.inner.mask.array, mask_bit))[0])\n",
    "print(\"Number of masked pixels: \", num_bad_pixels)"
   ]
  },
  {
   "cell_type": "markdown",
   "id": "d9feb25a-07e1-4de6-974d-4e1d08645346",
   "metadata": {},
   "source": [
    "### For a whole patch (22x22 cells)"
   ]
  },
  {
   "cell_type": "code",
   "execution_count": 26,
   "id": "438bcb90-2ff3-4c5f-9bd1-3398fc86eba3",
   "metadata": {
    "execution": {
     "iopub.execute_input": "2024-03-20T18:19:31.048688Z",
     "iopub.status.busy": "2024-03-20T18:19:31.048413Z",
     "iopub.status.idle": "2024-03-20T18:19:31.235811Z",
     "shell.execute_reply": "2024-03-20T18:19:31.235454Z",
     "shell.execute_reply.started": "2024-03-20T18:19:31.048673Z"
    }
   },
   "outputs": [
    {
     "name": "stdout",
     "output_type": "stream",
     "text": [
      "Mask used:  CR\n",
      "Mask bit number:  8\n",
      "Number of masked pixels:  84482\n"
     ]
    }
   ],
   "source": [
    "mask_used = 'CR'\n",
    "print(\"Mask used: \", mask_used)\n",
    "mask_bit = stitch_coadd.mask.getPlaneBitMask(mask_used)\n",
    "print(\"Mask bit number: \", mask_bit)\n",
    "num_bad_pixels = len(np.where(np.bitwise_and(stitch_coadd.mask.array, mask_bit))[0])\n",
    "print(\"Number of masked pixels: \", num_bad_pixels)"
   ]
  },
  {
   "cell_type": "markdown",
   "id": "f6756f72-5b80-4fe9-8ae3-07fc525cc6cb",
   "metadata": {},
   "source": [
    "## Plot mask information"
   ]
  },
  {
   "cell_type": "markdown",
   "id": "0c3e82d9-dff2-42f4-9077-58f23060c781",
   "metadata": {},
   "source": [
    "There is probably a more efficient way to do this but this is for a first try"
   ]
  },
  {
   "cell_type": "code",
   "execution_count": 44,
   "id": "26050e59-d72e-4661-bb9a-334143fb2a41",
   "metadata": {
    "collapsed": true,
    "execution": {
     "iopub.execute_input": "2024-03-20T19:08:49.369045Z",
     "iopub.status.busy": "2024-03-20T19:08:49.368597Z",
     "iopub.status.idle": "2024-03-20T19:08:49.692469Z",
     "shell.execute_reply": "2024-03-20T19:08:49.692151Z",
     "shell.execute_reply.started": "2024-03-20T19:08:49.369017Z"
    },
    "jupyter": {
     "outputs_hidden": true
    },
    "scrolled": true
   },
   "outputs": [
    {
     "name": "stdout",
     "output_type": "stream",
     "text": [
      "Index2D(x=10, y=0)\n",
      "Index2D(x=16, y=0)\n",
      "Index2D(x=17, y=0)\n",
      "Index2D(x=18, y=0)\n",
      "Index2D(x=19, y=0)\n",
      "Index2D(x=20, y=0)\n",
      "Index2D(x=21, y=0)\n",
      "Index2D(x=0, y=1)\n",
      "Index2D(x=4, y=2)\n",
      "Index2D(x=5, y=2)\n",
      "Index2D(x=10, y=2)\n",
      "Index2D(x=21, y=2)\n",
      "Index2D(x=16, y=3)\n",
      "Index2D(x=17, y=3)\n",
      "Index2D(x=19, y=3)\n",
      "Index2D(x=6, y=4)\n",
      "Index2D(x=7, y=4)\n",
      "Index2D(x=9, y=4)\n",
      "Index2D(x=10, y=4)\n",
      "Index2D(x=15, y=4)\n",
      "Index2D(x=16, y=4)\n",
      "Index2D(x=17, y=4)\n",
      "Index2D(x=19, y=4)\n",
      "Index2D(x=20, y=4)\n",
      "Index2D(x=6, y=5)\n",
      "Index2D(x=7, y=5)\n",
      "Index2D(x=19, y=6)\n",
      "Index2D(x=9, y=7)\n",
      "Index2D(x=13, y=8)\n",
      "Index2D(x=5, y=9)\n",
      "Index2D(x=15, y=9)\n",
      "Index2D(x=17, y=9)\n",
      "Index2D(x=11, y=10)\n",
      "Index2D(x=17, y=10)\n",
      "Index2D(x=4, y=11)\n",
      "Index2D(x=5, y=11)\n",
      "Index2D(x=5, y=12)\n",
      "Index2D(x=6, y=12)\n",
      "Index2D(x=9, y=12)\n",
      "Index2D(x=10, y=12)\n",
      "Index2D(x=13, y=12)\n",
      "Index2D(x=14, y=12)\n",
      "Index2D(x=9, y=13)\n",
      "Index2D(x=6, y=15)\n",
      "Index2D(x=0, y=16)\n",
      "Index2D(x=1, y=16)\n",
      "Index2D(x=15, y=16)\n",
      "Index2D(x=16, y=16)\n",
      "Index2D(x=17, y=16)\n",
      "Index2D(x=19, y=16)\n",
      "Index2D(x=20, y=16)\n",
      "Index2D(x=0, y=17)\n",
      "Index2D(x=1, y=17)\n",
      "Index2D(x=5, y=17)\n",
      "Index2D(x=16, y=17)\n",
      "Index2D(x=17, y=17)\n",
      "Index2D(x=19, y=17)\n",
      "Index2D(x=5, y=18)\n",
      "Index2D(x=13, y=19)\n",
      "Index2D(x=17, y=19)\n",
      "Index2D(x=15, y=20)\n",
      "Index2D(x=16, y=20)\n",
      "Index2D(x=17, y=20)\n"
     ]
    },
    {
     "data": {
      "text/plain": [
       "Text(0, 0.5, 'Cell count')"
      ]
     },
     "execution_count": 44,
     "metadata": {},
     "output_type": "execute_result"
    },
    {
     "data": {
      "image/png": "[encoded data removed]",
      "text/plain": [
       "<Figure size 640x480 with 1 Axes>"
      ]
     },
     "metadata": {},
     "output_type": "display_data"
    }
   ],
   "source": [
    "num_mask_pix = []\n",
    "plot_mask = 'NO_DATA'\n",
    "# for now assume the bit is the same for each cell, and use the bit from the first cell to avoid calling the bit number 400+ times\n",
    "# TO-DO check that each cell uses the same bits for each mask\n",
    "mask_bit = cell.inner.mask.getPlaneBitMask(plot_mask)\n",
    "\n",
    "for cell_index in cell_list:\n",
    "    \n",
    "    cell_mask = coadd.cells[cell_index]\n",
    "    num_bad_pixels = len(np.where(np.bitwise_and(cell_mask.inner.mask.array, mask_bit))[0])\n",
    "    if num_bad_pixels>0:\n",
    "        print(cell_index)\n",
    "    num_mask_pix.append(num_bad_pixels)\n",
    "num_mask_pix = np.array(num_mask_pix)\n",
    "# print(num_mask_pix)\n",
    "\n",
    "# plot data as a histogram\n",
    "bins = np.arange(0, np.max(num_mask_pix)+1, 100)\n",
    "plt.hist(num_mask_pix, bins)\n",
    "plt.title(f\"Mask: {plot_mask}\")\n",
    "plt.xlabel(f\"Number of {plot_mask} pixels in a cell\")\n",
    "plt.yscale(\"log\")\n",
    "plt.ylabel(\"Cell count\")"
   ]
  },
  {
   "cell_type": "markdown",
   "id": "36231aa2-2944-4e06-82d6-50440195d53a",
   "metadata": {},
   "source": [
    "## Generate 2D histogram of number of cell inputs across patch 61"
   ]
  },
  {
   "cell_type": "markdown",
   "id": "1fe26528-640d-41e1-b454-6bf4ca0cfa10",
   "metadata": {},
   "source": [
    "Generate an array of input data from each cell (this may need some fiddling with getting differing array structures to work together)"
   ]
  },
  {
   "cell_type": "code",
   "execution_count": 26,
   "id": "c0ad2074-8d3d-47a1-9129-fedd211d2018",
   "metadata": {
    "execution": {
     "iopub.execute_input": "2024-03-28T16:25:27.915018Z",
     "iopub.status.busy": "2024-03-28T16:25:27.914461Z",
     "iopub.status.idle": "2024-03-28T16:25:27.917878Z",
     "shell.execute_reply": "2024-03-28T16:25:27.917532Z",
     "shell.execute_reply.started": "2024-03-28T16:25:27.915001Z"
    }
   },
   "outputs": [
    {
     "data": {
      "text/plain": [
       "Extent2I(3400, 3400)"
      ]
     },
     "execution_count": 26,
     "metadata": {},
     "output_type": "execute_result"
    }
   ],
   "source": [
    "stitch_coadd.asExposure().getDimensions()"
   ]
  },
  {
   "cell_type": "markdown",
   "id": "fe6ccd2d-3f57-4162-ae19-d9d238e66d7f",
   "metadata": {},
   "source": [
    "Get the grid structure of the stitched coadd:"
   ]
  },
  {
   "cell_type": "code",
   "execution_count": 27,
   "id": "8d7fd339-8390-4379-b36d-6806bc143d37",
   "metadata": {
    "execution": {
     "iopub.execute_input": "2024-03-28T16:26:15.566427Z",
     "iopub.status.busy": "2024-03-28T16:26:15.565938Z",
     "iopub.status.idle": "2024-03-28T16:26:15.568707Z",
     "shell.execute_reply": "2024-03-28T16:26:15.568346Z",
     "shell.execute_reply.started": "2024-03-28T16:26:15.566412Z"
    }
   },
   "outputs": [
    {
     "name": "stdout",
     "output_type": "stream",
     "text": [
      "UniformGrid(cell_size=Extent2I(150, 150), shape=(22, 22), min=Point2I(17850, 14850))\n"
     ]
    }
   ],
   "source": [
    "print(stitch_coadd.grid)"
   ]
  },
  {
   "cell_type": "markdown",
   "id": "1c097124-e2d6-408c-aa03-ac73f6f2545c",
   "metadata": {},
   "source": [
    "Arrange the number if inputs for each cell into a 2D grid:"
   ]
  },
  {
   "cell_type": "code",
   "execution_count": 40,
   "id": "3468b785-9e72-4327-aab0-f498413b552d",
   "metadata": {
    "execution": {
     "iopub.execute_input": "2024-03-28T16:37:47.003208Z",
     "iopub.status.busy": "2024-03-28T16:37:47.002717Z",
     "iopub.status.idle": "2024-03-28T16:37:47.006220Z",
     "shell.execute_reply": "2024-03-28T16:37:47.005922Z",
     "shell.execute_reply.started": "2024-03-28T16:37:47.003193Z"
    }
   },
   "outputs": [],
   "source": [
    "x_cell_bin = np.arange(0,22+1,1)\n",
    "y_cell_bin = np.arange(0,22+1,1)\n",
    "\n",
    "inputs_list = np.empty([22,22])\n",
    "\n",
    "for cell in cell_list:\n",
    "    num_cell_inputs = len(coadd.cells[cell].inputs)\n",
    "    x_index = cell.x\n",
    "    y_index = cell.y\n",
    "        \n",
    "    inputs_list[y_index][x_index] = num_cell_inputs"
   ]
  },
  {
   "cell_type": "markdown",
   "id": "c539ee29-abd1-4599-946b-e09876f8e12e",
   "metadata": {},
   "source": [
    "Plot the 2D grid of cell inputs:"
   ]
  },
  {
   "cell_type": "code",
   "execution_count": 47,
   "id": "0846119c-c9b2-4c1d-bba2-f50096aa389a",
   "metadata": {
    "execution": {
     "iopub.execute_input": "2024-03-26T16:18:14.492193Z",
     "iopub.status.busy": "2024-03-26T16:18:14.491779Z",
     "iopub.status.idle": "2024-03-26T16:18:14.645939Z",
     "shell.execute_reply": "2024-03-26T16:18:14.645581Z",
     "shell.execute_reply.started": "2024-03-26T16:18:14.492179Z"
    }
   },
   "outputs": [
    {
     "data": {
      "text/plain": [
       "<matplotlib.colorbar.Colorbar at 0x7f40e8681910>"
      ]
     },
     "execution_count": 47,
     "metadata": {},
     "output_type": "execute_result"
    },
    {
     "data": {
      "image/png": "[encoded data removed]",
      "text/plain": [
       "<Figure size 640x480 with 2 Axes>"
      ]
     },
     "metadata": {},
     "output_type": "display_data"
    }
   ],
   "source": [
    "plt.pcolormesh(x_cell_bin, y_cell_bin, inputs_list, shading='auto', vmin=inputs_list.min(), vmax=inputs_list.max(), linewidths=4)\n",
    "plt.xticks(np.arange(0, 21, 2))\n",
    "plt.yticks(np.arange(0, 21, 2))\n",
    "plt.title(\"Cell input distribution across tract 9813, patch 61\")\n",
    "plt.colorbar()"
   ]
  },
  {
   "cell_type": "markdown",
   "id": "51847fdf-29a5-4ae6-b1e6-5105b5423fab",
   "metadata": {},
   "source": [
    "Brief check that index of cells are lining up as expected"
   ]
  },
  {
   "cell_type": "code",
   "execution_count": 14,
   "id": "c2f793d4-b845-4aa2-bb04-a50e2bddc034",
   "metadata": {
    "execution": {
     "iopub.execute_input": "2024-03-26T15:35:55.256677Z",
     "iopub.status.busy": "2024-03-26T15:35:55.256485Z",
     "iopub.status.idle": "2024-03-26T15:35:55.260173Z",
     "shell.execute_reply": "2024-03-26T15:35:55.259743Z",
     "shell.execute_reply.started": "2024-03-26T15:35:55.256664Z"
    }
   },
   "outputs": [
    {
     "name": "stdout",
     "output_type": "stream",
     "text": [
      "7\n",
      "1\n",
      "6\n"
     ]
    }
   ],
   "source": [
    "print(len(coadd.cells[Index2D(x=0, y=0)].inputs)) # expect 7\n",
    "print(len(coadd.cells[Index2D(x=15, y=4)].inputs)) # expect 1\n",
    "print(len(coadd.cells[Index2D(x=7, y=9)].inputs)) # expect 6"
   ]
  },
  {
   "cell_type": "markdown",
   "id": "25c9e70c-7acb-4065-b824-2d535721bffb",
   "metadata": {},
   "source": [
    "## Display above histogram over the stitched coadd"
   ]
  },
  {
   "cell_type": "markdown",
   "id": "0cc227c8-fc89-4b8c-abbc-5c7c27bf92a0",
   "metadata": {},
   "source": [
    "Maybe not as useful as I had hoped, but still an interesting exercise in manipulating array images."
   ]
  },
  {
   "cell_type": "code",
   "execution_count": 33,
   "id": "05c98ff2-0d88-4a9e-830b-9674503f4e9f",
   "metadata": {
    "execution": {
     "iopub.execute_input": "2024-03-28T16:36:42.593679Z",
     "iopub.status.busy": "2024-03-28T16:36:42.593111Z",
     "iopub.status.idle": "2024-03-28T16:36:42.595845Z",
     "shell.execute_reply": "2024-03-28T16:36:42.595469Z",
     "shell.execute_reply.started": "2024-03-28T16:36:42.593661Z"
    }
   },
   "outputs": [],
   "source": [
    "import lsst.geom as afwGeom"
   ]
  },
  {
   "cell_type": "code",
   "execution_count": 30,
   "id": "6728a994-b915-45b8-81de-f159f7d1f446",
   "metadata": {
    "execution": {
     "iopub.execute_input": "2024-03-28T16:32:24.404303Z",
     "iopub.status.busy": "2024-03-28T16:32:24.403592Z",
     "iopub.status.idle": "2024-03-28T16:32:24.406603Z",
     "shell.execute_reply": "2024-03-28T16:32:24.406221Z",
     "shell.execute_reply.started": "2024-03-28T16:32:24.404285Z"
    }
   },
   "outputs": [],
   "source": [
    "flipped_stitch = np.flip(stitch_coadd.image.getArray(), axis=0)"
   ]
  },
  {
   "cell_type": "markdown",
   "id": "e05b45e6-b236-42db-9982-9e9dda599c01",
   "metadata": {},
   "source": [
    "Many different ways to retrieve the bounding box coordinates:"
   ]
  },
  {
   "cell_type": "code",
   "execution_count": 31,
   "id": "1148c678-38fe-4573-b8ee-e31965f07c36",
   "metadata": {
    "execution": {
     "iopub.execute_input": "2024-03-28T16:35:52.783106Z",
     "iopub.status.busy": "2024-03-28T16:35:52.782677Z",
     "iopub.status.idle": "2024-03-28T16:35:52.786133Z",
     "shell.execute_reply": "2024-03-28T16:35:52.785753Z",
     "shell.execute_reply.started": "2024-03-28T16:35:52.783089Z"
    }
   },
   "outputs": [
    {
     "name": "stdout",
     "output_type": "stream",
     "text": [
      "(minimum=(17800, 14800), maximum=(21199, 18199))\n",
      "17800\n",
      "14800\n",
      "21199\n",
      "18199\n",
      "(17800, 14800)\n",
      "(21199, 18199)\n"
     ]
    }
   ],
   "source": [
    "# coadd pixel coordinates for minimum corner and maximum corner\n",
    "print(stitch_coadd.bbox)\n",
    "# split up the four values\n",
    "print(stitch_coadd.bbox.beginX)\n",
    "print(stitch_coadd.bbox.beginY)\n",
    "print(stitch_coadd.bbox.maxX)\n",
    "print(stitch_coadd.bbox.maxY)\n",
    "# get each corner\n",
    "print(stitch_coadd.bbox.getBegin())\n",
    "print(stitch_coadd.bbox.getMax())"
   ]
  },
  {
   "cell_type": "markdown",
   "id": "14014323-721e-482a-87c6-6eabe44115dd",
   "metadata": {},
   "source": [
    "Remove the image padding (50 pixels added to each side, actual image should be 3300x3300 pixels:"
   ]
  },
  {
   "cell_type": "code",
   "execution_count": 36,
   "id": "085d2dcd-185f-4952-ab39-2738220d15eb",
   "metadata": {
    "execution": {
     "iopub.execute_input": "2024-03-28T16:37:08.865486Z",
     "iopub.status.busy": "2024-03-28T16:37:08.865146Z",
     "iopub.status.idle": "2024-03-28T16:37:08.868572Z",
     "shell.execute_reply": "2024-03-28T16:37:08.868250Z",
     "shell.execute_reply.started": "2024-03-28T16:37:08.865471Z"
    }
   },
   "outputs": [
    {
     "name": "stdout",
     "output_type": "stream",
     "text": [
      "(3300, 3300)\n"
     ]
    }
   ],
   "source": [
    "bbox = afwGeom.Box2I()\n",
    "bbox.include(afwGeom.Point2I(stitch_coadd.bbox.getBegin()+(geom.Extent2I(50, 50))))\n",
    "bbox.include(afwGeom.Point2I(stitch_coadd.bbox.getMax()-(geom.Extent2I(50, 50))))\n",
    "cutout = stitch_coadd.asExposure()[bbox]\n",
    "print(cutout.getDimensions())"
   ]
  },
  {
   "cell_type": "code",
   "execution_count": 41,
   "id": "f161547e-22b9-430b-a9a4-d7eef39691c9",
   "metadata": {
    "execution": {
     "iopub.execute_input": "2024-03-28T16:37:50.440217Z",
     "iopub.status.busy": "2024-03-28T16:37:50.439714Z",
     "iopub.status.idle": "2024-03-28T16:37:52.509334Z",
     "shell.execute_reply": "2024-03-28T16:37:52.508846Z",
     "shell.execute_reply.started": "2024-03-28T16:37:50.440200Z"
    }
   },
   "outputs": [
    {
     "data": {
      "image/png": "[encoded data removed]",
      "text/plain": [
       "<Figure size 640x480 with 3 Axes>"
      ]
     },
     "metadata": {},
     "output_type": "display_data"
    }
   ],
   "source": [
    "from matplotlib.colors import LogNorm\n",
    "plt.pcolormesh(x_cell_bin, y_cell_bin, inputs_list, shading='auto', vmin=inputs_list.min(), vmax=inputs_list.max(), alpha=0.5)\n",
    "# extent = np.min(x), np.max(x), np.min(y), np.max(y)\n",
    "extent = 0, 3300, 0, 3300\n",
    "im1 = plt.imshow(np.flip(inputs_list, axis=0), alpha=0.5, extent=extent)\n",
    "color1 = plt.colorbar(im1)\n",
    "im2 = plt.imshow(np.flip(cutout.image.getArray(), axis=0), cmap='gray', norm=LogNorm(), extent=extent)\n",
    "color2 = plt.colorbar(im2)\n",
    "plt.show()"
   ]
  },
  {
   "cell_type": "code",
   "execution_count": null,
   "id": "18337741-d7a8-4f79-91ec-3fe0c0103877",
   "metadata": {},
   "outputs": [],
   "source": []
  }
 ],
 "metadata": {
  "kernelspec": {
   "display_name": "LSST",
   "language": "python",
   "name": "lsst"
  },
  "language_info": {
   "codemirror_mode": {
    "name": "ipython",
    "version": 3
   },
   "file_extension": ".py",
   "mimetype": "text/x-python",
   "name": "python",
   "nbconvert_exporter": "python",
   "pygments_lexer": "ipython3",
   "version": "3.11.7"
  }
 },
 "nbformat": 4,
 "nbformat_minor": 5
}
