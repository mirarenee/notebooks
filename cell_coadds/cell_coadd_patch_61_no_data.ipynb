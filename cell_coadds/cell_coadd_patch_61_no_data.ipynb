{
 "cells": [
  {
   "cell_type": "markdown",
   "id": "286edc62-8c22-491e-9a45-864c125250fc",
   "metadata": {},
   "source": [
    "## Load in imports and data"
   ]
  },
  {
   "cell_type": "markdown",
   "id": "2f1eb55c-842a-4246-b33a-67c5b09c3c03",
   "metadata": {},
   "source": [
    "Last working weekly: w2024_25"
   ]
  },
  {
   "cell_type": "code",
   "execution_count": 1,
   "id": "a3d11c0b-8bce-40bf-95a4-fc052daa8637",
   "metadata": {
    "execution": {
     "iopub.execute_input": "2024-06-25T17:26:23.327678Z",
     "iopub.status.busy": "2024-06-25T17:26:23.327359Z",
     "iopub.status.idle": "2024-06-25T17:26:26.474693Z",
     "shell.execute_reply": "2024-06-25T17:26:26.474318Z",
     "shell.execute_reply.started": "2024-06-25T17:26:23.327661Z"
    }
   },
   "outputs": [],
   "source": [
    "REPO = '/sdf/data/rubin/repo/main/'\n",
    "\n",
    "from lsst.daf.butler import Butler\n",
    "from pprint import pprint\n",
    "import lsst.afw.image as afwImage\n",
    "from lsst.skymap import Index2D\n",
    "import numpy as np\n",
    "import matplotlib as mpl\n",
    "from matplotlib import pyplot as plt\n",
    "\n",
    "%matplotlib inline\n",
    "\n",
    "butler = Butler(REPO)\n",
    "registry = butler.registry\n",
    "\n",
    "# define image display backend\n",
    "import lsst.afw.display as afwDisplay\n",
    "afwDisplay.setDefaultBackend('firefly')\n",
    "\n",
    "# NO_DATA investigation\n",
    "import lsst.geom as geom"
   ]
  },
  {
   "cell_type": "code",
   "execution_count": 2,
   "id": "d69c473d-1eb0-4bb3-a572-12c648eb5744",
   "metadata": {
    "execution": {
     "iopub.execute_input": "2024-06-25T17:26:26.475560Z",
     "iopub.status.busy": "2024-06-25T17:26:26.475422Z",
     "iopub.status.idle": "2024-06-25T17:26:26.477650Z",
     "shell.execute_reply": "2024-06-25T17:26:26.477356Z",
     "shell.execute_reply.started": "2024-06-25T17:26:26.475547Z"
    }
   },
   "outputs": [],
   "source": [
    "collection = 'u/mgorsuch/assemble_cell_coadd_patch_61_d0508' # updated patch 61 collection"
   ]
  },
  {
   "cell_type": "code",
   "execution_count": 3,
   "id": "c6a29fdb-a9ed-4672-8a37-c9aad51137b6",
   "metadata": {
    "execution": {
     "iopub.execute_input": "2024-06-25T17:26:26.478151Z",
     "iopub.status.busy": "2024-06-25T17:26:26.478033Z",
     "iopub.status.idle": "2024-06-25T17:26:29.206181Z",
     "shell.execute_reply": "2024-06-25T17:26:29.205694Z",
     "shell.execute_reply.started": "2024-06-25T17:26:26.478140Z"
    }
   },
   "outputs": [],
   "source": [
    "coadd = butler.get('deepCoaddCell', \n",
    "                     collections=collection, \n",
    "                     instrument='HSC', \n",
    "                     skymap = 'hsc_rings_cells_v1', \n",
    "                     tract = 9813, \n",
    "                     patch=61,\n",
    "                     band='i',)"
   ]
  },
  {
   "cell_type": "code",
   "execution_count": 4,
   "id": "1cc3ddbc-a398-45fa-8e5f-62568c39afa3",
   "metadata": {
    "execution": {
     "iopub.execute_input": "2024-06-25T17:26:29.207398Z",
     "iopub.status.busy": "2024-06-25T17:26:29.207259Z",
     "iopub.status.idle": "2024-06-25T17:26:29.209787Z",
     "shell.execute_reply": "2024-06-25T17:26:29.209446Z",
     "shell.execute_reply.started": "2024-06-25T17:26:29.207386Z"
    }
   },
   "outputs": [],
   "source": [
    "stitch_coadd = coadd.stitch()"
   ]
  },
  {
   "cell_type": "markdown",
   "id": "4f43bbf4-1fdf-4f9e-8641-89d3974d5d42",
   "metadata": {},
   "source": [
    "## Investigate NO_DATA"
   ]
  },
  {
   "cell_type": "markdown",
   "id": "67a9b99f-c670-4b3a-83e0-4b47961d7e5c",
   "metadata": {},
   "source": [
    "Find the cell that contains a large amount of NO_DATA masked pixels.\n",
    "- The 2305, 715 coordinate is found using the Firefly display and hovering over the masked pixels. The readout option should be set to FITS Image Pixel. However, the coadd object does not have an origin at 0,0. This offset must be added, and is found using `getMin()` method."
   ]
  },
  {
   "cell_type": "code",
   "execution_count": 5,
   "id": "4637a157-84b9-42ba-8763-69e66e5dd3cb",
   "metadata": {
    "execution": {
     "iopub.execute_input": "2024-06-25T17:26:29.210356Z",
     "iopub.status.busy": "2024-06-25T17:26:29.210236Z",
     "iopub.status.idle": "2024-06-25T17:26:29.216860Z",
     "shell.execute_reply": "2024-06-25T17:26:29.216487Z",
     "shell.execute_reply.started": "2024-06-25T17:26:29.210345Z"
    }
   },
   "outputs": [
    {
     "name": "stdout",
     "output_type": "stream",
     "text": [
      "Index2D(x=15, y=4)\n"
     ]
    }
   ],
   "source": [
    "print(coadd.grid.index(coadd.inner_bbox.getMin()+(geom.Extent2I(2305, 715))))"
   ]
  },
  {
   "cell_type": "markdown",
   "id": "59137ba4-6287-48e4-a48f-90bb44cf025b",
   "metadata": {},
   "source": [
    "Alterate way to determine NO_MASK cell"
   ]
  },
  {
   "cell_type": "code",
   "execution_count": 6,
   "id": "2a48869e-5c1d-4148-9a37-36b4f87981b6",
   "metadata": {
    "execution": {
     "iopub.execute_input": "2024-06-25T17:26:29.217431Z",
     "iopub.status.busy": "2024-06-25T17:26:29.217310Z",
     "iopub.status.idle": "2024-06-25T17:26:29.223338Z",
     "shell.execute_reply": "2024-06-25T17:26:29.222981Z",
     "shell.execute_reply.started": "2024-06-25T17:26:29.217420Z"
    }
   },
   "outputs": [
    {
     "name": "stdout",
     "output_type": "stream",
     "text": [
      "Index2D(x=15, y=4)\n"
     ]
    }
   ],
   "source": [
    "print(coadd.grid.index(geom.Point2I(20105,15512)))"
   ]
  },
  {
   "cell_type": "markdown",
   "id": "fd043c0c-efe4-468f-a35d-e3252cbf5ff8",
   "metadata": {},
   "source": [
    "Find the input warps used in this cell:"
   ]
  },
  {
   "cell_type": "code",
   "execution_count": 7,
   "id": "ee2bf42b-74ae-40a5-a819-96005498e168",
   "metadata": {
    "execution": {
     "iopub.execute_input": "2024-06-25T17:26:29.223928Z",
     "iopub.status.busy": "2024-06-25T17:26:29.223801Z",
     "iopub.status.idle": "2024-06-25T17:26:29.229631Z",
     "shell.execute_reply": "2024-06-25T17:26:29.229271Z",
     "shell.execute_reply.started": "2024-06-25T17:26:29.223916Z"
    }
   },
   "outputs": [
    {
     "name": "stdout",
     "output_type": "stream",
     "text": [
      "(ObservationIdentifiers(instrument='HSC', physical_filter='HSC-I', visit=19684, day_obs=20150121, detector=50),)\n"
     ]
    }
   ],
   "source": [
    "cell_no_data = coadd.cells[Index2D(x=15, y=4)]\n",
    "print(cell_no_data.inputs)"
   ]
  },
  {
   "cell_type": "markdown",
   "id": "80779c22-fd75-4f39-89cc-20f3007d6838",
   "metadata": {},
   "source": [
    "Using the output above, read in the relevant warp:"
   ]
  },
  {
   "cell_type": "code",
   "execution_count": 8,
   "id": "ace04f06-8d4d-47c7-a2bb-d82daae0dada",
   "metadata": {
    "execution": {
     "iopub.execute_input": "2024-06-25T17:26:29.230275Z",
     "iopub.status.busy": "2024-06-25T17:26:29.230159Z",
     "iopub.status.idle": "2024-06-25T17:26:30.319277Z",
     "shell.execute_reply": "2024-06-25T17:26:30.318926Z",
     "shell.execute_reply.started": "2024-06-25T17:26:29.230265Z"
    }
   },
   "outputs": [],
   "source": [
    "# get the above warp with no_data from the butler\n",
    "warp2 = butler.get('deepCoadd_directWarp',\n",
    "                   collections = collection,\n",
    "                   instrument='HSC',\n",
    "                   skymap = 'hsc_rings_cells_v1',\n",
    "                   tract=9813,\n",
    "                   patch=61,\n",
    "                   visit = 19684)"
   ]
  },
  {
   "cell_type": "markdown",
   "id": "5c01d929-5ced-47a7-a9b5-c71cf3798e32",
   "metadata": {},
   "source": [
    "#### Compare the warp, stitiched coadd, and cell images"
   ]
  },
  {
   "cell_type": "markdown",
   "id": "1ef4fee7-748a-4a08-a0fe-a777d8e9aa1f",
   "metadata": {},
   "source": [
    "Read in the relevant warp and the cell with NO_DATA masked pixels:"
   ]
  },
  {
   "cell_type": "code",
   "execution_count": 9,
   "id": "0ff14376-0258-47db-b9bc-a6a567293c17",
   "metadata": {
    "execution": {
     "iopub.execute_input": "2024-06-25T17:26:30.319900Z",
     "iopub.status.busy": "2024-06-25T17:26:30.319773Z",
     "iopub.status.idle": "2024-06-25T17:26:30.322086Z",
     "shell.execute_reply": "2024-06-25T17:26:30.321796Z",
     "shell.execute_reply.started": "2024-06-25T17:26:30.319888Z"
    }
   },
   "outputs": [],
   "source": [
    "cell_test = coadd.cells[Index2D(x=15, y=4)]"
   ]
  },
  {
   "cell_type": "code",
   "execution_count": 10,
   "id": "a12ec05e-479e-477b-b6ea-68cdf9a5ee5c",
   "metadata": {
    "execution": {
     "iopub.execute_input": "2024-06-25T17:26:30.323469Z",
     "iopub.status.busy": "2024-06-25T17:26:30.323189Z",
     "iopub.status.idle": "2024-06-25T17:26:31.010136Z",
     "shell.execute_reply": "2024-06-25T17:26:31.009668Z",
     "shell.execute_reply.started": "2024-06-25T17:26:30.323456Z"
    }
   },
   "outputs": [],
   "source": [
    "display1 = afwDisplay.Display(frame=1)\n",
    "display1.mtv(warp2.getMaskedImage())\n",
    "display2 = afwDisplay.Display(frame=2)\n",
    "display2.mtv(coadd.cells[Index2D(x=15, y=4)].inner.asMaskedImage())"
   ]
  },
  {
   "cell_type": "markdown",
   "id": "b066746e-2a39-47e4-bfc1-bf9f044959f6",
   "metadata": {},
   "source": [
    "Read in the stitched coadd and the cell with NO_DATA masked pixels:"
   ]
  },
  {
   "cell_type": "code",
   "execution_count": 11,
   "id": "0b8526bb-0f82-4348-9303-4b6809220414",
   "metadata": {
    "execution": {
     "iopub.execute_input": "2024-06-25T17:26:31.010807Z",
     "iopub.status.busy": "2024-06-25T17:26:31.010673Z",
     "iopub.status.idle": "2024-06-25T17:26:31.354218Z",
     "shell.execute_reply": "2024-06-25T17:26:31.353711Z",
     "shell.execute_reply.started": "2024-06-25T17:26:31.010795Z"
    }
   },
   "outputs": [],
   "source": [
    "display1 = afwDisplay.Display(frame=1)\n",
    "display1.mtv(warp2.variance)\n",
    "display2 = afwDisplay.Display(frame=2)\n",
    "display2.mtv(coadd.cells[Index2D(x=0, y=0)].inner.variance)"
   ]
  },
  {
   "cell_type": "code",
   "execution_count": 12,
   "id": "797e1af9-49e7-4344-ac2d-bbaf27883e72",
   "metadata": {
    "execution": {
     "iopub.execute_input": "2024-06-25T17:26:31.355003Z",
     "iopub.status.busy": "2024-06-25T17:26:31.354820Z",
     "iopub.status.idle": "2024-06-25T17:26:32.062977Z",
     "shell.execute_reply": "2024-06-25T17:26:32.062537Z",
     "shell.execute_reply.started": "2024-06-25T17:26:31.354989Z"
    }
   },
   "outputs": [],
   "source": [
    "display1 = afwDisplay.Display(frame=1)\n",
    "display1.mtv(stitch_coadd.asMaskedImage())\n",
    "display2 = afwDisplay.Display(frame=2)\n",
    "display2.mtv(coadd.cells[Index2D(x=15, y=4)].inner.asMaskedImage())"
   ]
  },
  {
   "cell_type": "markdown",
   "id": "2dd034b5-af6a-44af-8e89-8c52e1c1874c",
   "metadata": {},
   "source": [
    "### Investigate NO_DATA in normal warping/coaddition process (none cell-based)\n",
    "**TO-DO**: need to rerun with updated dataset types"
   ]
  },
  {
   "cell_type": "raw",
   "id": "81514b6f-ea46-4cb2-a59a-9093eb7a9859",
   "metadata": {
    "execution": {
     "iopub.execute_input": "2024-04-10T16:31:41.791201Z",
     "iopub.status.busy": "2024-04-10T16:31:41.790897Z",
     "iopub.status.idle": "2024-04-10T16:31:41.793191Z",
     "shell.execute_reply": "2024-04-10T16:31:41.792906Z",
     "shell.execute_reply.started": "2024-04-10T16:31:41.791187Z"
    }
   },
   "source": [
    "collection_warp_no_data = 'u/mgorsuch/make_warp_patch_61/20240320T205831Z'\n",
    "collection_coadd_no_data = 'u/mgorsuch/coadd_patch_61/20240320T210806Z'"
   ]
  },
  {
   "cell_type": "raw",
   "id": "ad7f9daf-41dc-4191-bcb2-2c0e427dd841",
   "metadata": {
    "execution": {
     "iopub.execute_input": "2024-04-10T16:31:51.317151Z",
     "iopub.status.busy": "2024-04-10T16:31:51.316833Z",
     "iopub.status.idle": "2024-04-10T16:31:51.486876Z",
     "shell.execute_reply": "2024-04-10T16:31:51.486283Z",
     "shell.execute_reply.started": "2024-04-10T16:31:51.317137Z"
    }
   },
   "source": [
    "for datasetType in registry.queryDatasetTypes():\n",
    "    if registry.queryDatasets(datasetType, collections=collection_warp_no_data).any(execute=False, exact=False):\n",
    "        print(datasetType)"
   ]
  },
  {
   "cell_type": "raw",
   "id": "73d66177-3761-4f85-b1c0-ad942d545047",
   "metadata": {
    "execution": {
     "iopub.execute_input": "2024-03-20T21:17:21.341529Z",
     "iopub.status.busy": "2024-03-20T21:17:21.341392Z",
     "iopub.status.idle": "2024-03-20T21:17:39.124696Z",
     "shell.execute_reply": "2024-03-20T21:17:39.124189Z",
     "shell.execute_reply.started": "2024-03-20T21:17:21.341516Z"
    }
   },
   "source": [
    "for datasetType in registry.queryDatasetTypes():\n",
    "    if registry.queryDatasets(datasetType, collections=collection_coadd_no_data).any(execute=False, exact=False):\n",
    "        print(datasetType)"
   ]
  },
  {
   "cell_type": "raw",
   "id": "9b4e0406-c8eb-4ee5-b410-d7e9fa6e2431",
   "metadata": {
    "collapsed": true,
    "execution": {
     "iopub.execute_input": "2024-03-20T21:18:08.345844Z",
     "iopub.status.busy": "2024-03-20T21:18:08.345546Z",
     "iopub.status.idle": "2024-03-20T21:18:08.401269Z",
     "shell.execute_reply": "2024-03-20T21:18:08.400853Z",
     "shell.execute_reply.started": "2024-03-20T21:18:08.345828Z"
    },
    "jupyter": {
     "outputs_hidden": true
    },
    "scrolled": true
   },
   "source": [
    "for ref in butler.registry.queryDatasets('deepCoadd_directWarp', physical_filter='HSC-I', collections=collection_warp_no_data, instrument='HSC'):\n",
    "    print(ref.dataId)"
   ]
  },
  {
   "cell_type": "raw",
   "id": "f2d29a9c-74cd-40aa-9c61-e5d61f968f2a",
   "metadata": {
    "execution": {
     "iopub.execute_input": "2024-03-20T21:18:45.302937Z",
     "iopub.status.busy": "2024-03-20T21:18:45.302659Z",
     "iopub.status.idle": "2024-03-20T21:18:45.318440Z",
     "shell.execute_reply": "2024-03-20T21:18:45.318005Z",
     "shell.execute_reply.started": "2024-03-20T21:18:45.302923Z"
    }
   },
   "source": [
    "for ref in butler.registry.queryDatasets('deepCoadd', physical_filter='HSC-I', collections=collection_coadd_no_data, instrument='HSC'):\n",
    "    print(ref.dataId)"
   ]
  },
  {
   "cell_type": "markdown",
   "id": "a093ff69-2dd4-4229-a4aa-1ea0ed78f6c8",
   "metadata": {},
   "source": [
    "Read in the relevant warp and coadd"
   ]
  },
  {
   "cell_type": "raw",
   "id": "59c50e5d-b227-4b38-97a6-80443ce9bdfc",
   "metadata": {
    "execution": {
     "iopub.execute_input": "2024-03-20T21:27:52.470709Z",
     "iopub.status.busy": "2024-03-20T21:27:52.470165Z",
     "iopub.status.idle": "2024-03-20T21:27:56.964288Z",
     "shell.execute_reply": "2024-03-20T21:27:56.963813Z",
     "shell.execute_reply.started": "2024-03-20T21:27:52.470694Z"
    }
   },
   "source": [
    "warp_no_data = butler.get('deepCoadd_directWarp',\n",
    "                   collections = collection_warp_no_data,\n",
    "                   instrument='HSC',\n",
    "                   skymap = 'hsc_rings_cells_v1',\n",
    "                   tract=9813,\n",
    "                   patch=61,\n",
    "                   visit = 19684)"
   ]
  },
  {
   "cell_type": "raw",
   "id": "7eeaf17f-f07b-4cc8-ae63-17135214cc72",
   "metadata": {
    "execution": {
     "iopub.execute_input": "2024-03-20T21:27:56.972390Z",
     "iopub.status.busy": "2024-03-20T21:27:56.972273Z",
     "iopub.status.idle": "2024-03-20T21:27:57.575627Z",
     "shell.execute_reply": "2024-03-20T21:27:57.575154Z",
     "shell.execute_reply.started": "2024-03-20T21:27:56.972379Z"
    }
   },
   "source": [
    "coadd_no_data = butler.get('deepCoadd',\n",
    "                   collections = collection_coadd_no_data,\n",
    "                   instrument='HSC',\n",
    "                   skymap = 'hsc_rings_cells_v1',\n",
    "                   tract=9813,\n",
    "                   patch=61,\n",
    "                   band = 'i')"
   ]
  },
  {
   "cell_type": "raw",
   "id": "302219db-b8d9-43dd-94bd-c3365581c1c1",
   "metadata": {
    "execution": {
     "iopub.execute_input": "2024-03-20T21:28:13.990877Z",
     "iopub.status.busy": "2024-03-20T21:28:13.990338Z",
     "iopub.status.idle": "2024-03-20T21:28:15.888836Z",
     "shell.execute_reply": "2024-03-20T21:28:15.888374Z",
     "shell.execute_reply.started": "2024-03-20T21:28:13.990862Z"
    }
   },
   "source": [
    "display1 = afwDisplay.Display(frame=1)\n",
    "display1.mtv(warp_no_data.maskedImage)\n",
    "display2 = afwDisplay.Display(frame=2)\n",
    "display2.mtv(coadd_no_data.getMaskedImage())"
   ]
  }
 ],
 "metadata": {
  "kernelspec": {
   "display_name": "LSST",
   "language": "python",
   "name": "lsst"
  },
  "language_info": {
   "codemirror_mode": {
    "name": "ipython",
    "version": 3
   },
   "file_extension": ".py",
   "mimetype": "text/x-python",
   "name": "python",
   "nbconvert_exporter": "python",
   "pygments_lexer": "ipython3",
   "version": "3.11.7"
  }
 },
 "nbformat": 4,
 "nbformat_minor": 5
}
