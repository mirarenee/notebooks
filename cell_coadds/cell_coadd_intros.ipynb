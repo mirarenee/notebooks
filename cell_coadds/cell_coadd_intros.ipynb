{
 "cells": [
  {
   "cell_type": "markdown",
   "id": "b55162d2-78c3-46d6-af64-1037714dc578",
   "metadata": {},
   "source": [
    "# Working with cell-based coadds\n",
    "\n",
    "A collection of useful snippets to get started with using cell-based coadds."
   ]
  },
  {
   "cell_type": "markdown",
   "id": "18264cf0-672a-405f-aa60-0f646e474ad2",
   "metadata": {},
   "source": [
    "Last working weekly: w2024_28"
   ]
  },
  {
   "cell_type": "markdown",
   "id": "ca044724-f6c6-4a4b-ae8c-8bd7b46a55e5",
   "metadata": {},
   "source": [
    "## Load in relevant data"
   ]
  },
  {
   "cell_type": "code",
   "execution_count": 1,
   "id": "69cc91dd-84b2-4068-a569-a982f046293d",
   "metadata": {
    "execution": {
     "iopub.execute_input": "2024-08-28T21:06:10.378166Z",
     "iopub.status.busy": "2024-08-28T21:06:10.378053Z",
     "iopub.status.idle": "2024-08-28T21:06:13.069763Z",
     "shell.execute_reply": "2024-08-28T21:06:13.069308Z",
     "shell.execute_reply.started": "2024-08-28T21:06:10.378153Z"
    }
   },
   "outputs": [],
   "source": [
    "REPO = '/sdf/data/rubin/repo/main/'\n",
    "\n",
    "from lsst.daf.butler import Butler\n",
    "from pprint import pprint\n",
    "import lsst.afw.image as afwImage\n",
    "from lsst.skymap import Index2D\n",
    "import numpy as np\n",
    "import matplotlib as mpl\n",
    "from matplotlib import pyplot as plt\n",
    "\n",
    "%matplotlib inline\n",
    "\n",
    "butler = Butler(REPO)\n",
    "registry = butler.registry"
   ]
  },
  {
   "cell_type": "markdown",
   "id": "60288f7d-c145-4966-8a5d-ef021a7d61f3",
   "metadata": {},
   "source": [
    "Define the collection of interest"
   ]
  },
  {
   "cell_type": "code",
   "execution_count": 2,
   "id": "0163cd89-3a6f-4e08-a5ac-e09a940cac3c",
   "metadata": {
    "execution": {
     "iopub.execute_input": "2024-08-28T21:06:13.071926Z",
     "iopub.status.busy": "2024-08-28T21:06:13.071800Z",
     "iopub.status.idle": "2024-08-28T21:06:13.073924Z",
     "shell.execute_reply": "2024-08-28T21:06:13.073597Z",
     "shell.execute_reply.started": "2024-08-28T21:06:13.071913Z"
    }
   },
   "outputs": [],
   "source": [
    "# collection = 'u/mgorsuch/assemble_cell_coadd_patch_61/20240403T183342Z' # for the patch 61 collection, with 8 detected warps.\n",
    "collection = 'u/mgorsuch/assemble_cell_coadd_patch_61_d0508/20240509T165409Z' # updated patch 61 collection"
   ]
  },
  {
   "cell_type": "markdown",
   "id": "e74712da-829b-415c-bddb-9cbf439b5ca6",
   "metadata": {},
   "source": [
    "## Example butler queries"
   ]
  },
  {
   "cell_type": "markdown",
   "id": "408d5c98-0d2a-497e-a8e9-a0c0d0dcc70c",
   "metadata": {},
   "source": [
    "Check which dataset types are registered in the collection."
   ]
  },
  {
   "cell_type": "code",
   "execution_count": 3,
   "id": "73903793-f95f-4c72-94e9-359bcd39f138",
   "metadata": {
    "execution": {
     "iopub.execute_input": "2024-08-28T21:06:13.075570Z",
     "iopub.status.busy": "2024-08-28T21:06:13.075455Z",
     "iopub.status.idle": "2024-08-28T21:08:18.219157Z",
     "shell.execute_reply": "2024-08-28T21:08:18.218701Z",
     "shell.execute_reply.started": "2024-08-28T21:06:13.075558Z"
    }
   },
   "outputs": [
    {
     "name": "stdout",
     "output_type": "stream",
     "text": [
      "DatasetType('packages', {}, Packages)\n",
      "DatasetType('deepCoadd_directWarp', {band, instrument, skymap, day_obs, physical_filter, tract, patch, visit}, ExposureF)\n",
      "DatasetType('makeDirectWarp_config', {}, Config)\n",
      "DatasetType('deepCoaddCell', {band, skymap, tract, patch}, MultipleCellCoadd)\n",
      "DatasetType('deepCoadd_directWarp_noise0', {band, instrument, skymap, day_obs, physical_filter, tract, patch, visit}, MaskedImageF)\n",
      "DatasetType('makeDirectWarp_metadata', {band, instrument, skymap, day_obs, physical_filter, tract, patch, visit}, TaskMetadata)\n",
      "DatasetType('makeDirectWarp_log', {band, instrument, skymap, day_obs, physical_filter, tract, patch, visit}, ButlerLogRecords)\n",
      "DatasetType('assembleCellCoadd_config', {}, Config)\n",
      "DatasetType('assembleCellCoadd_metadata', {band, skymap, tract, patch}, TaskMetadata)\n",
      "DatasetType('assembleCellCoadd_log', {band, skymap, tract, patch}, ButlerLogRecords)\n",
      "DatasetType('deepCoadd_directWarp_maskedFraction', {band, instrument, skymap, day_obs, physical_filter, tract, patch, visit}, ImageF)\n"
     ]
    }
   ],
   "source": [
    "for datasetType in registry.queryDatasetTypes():\n",
    "    if registry.queryDatasets(datasetType, collections=collection).any(execute=False, exact=False):\n",
    "        print(datasetType)"
   ]
  },
  {
   "cell_type": "markdown",
   "id": "ed9b7c51-a6da-46ff-98ba-2e47cb1164ac",
   "metadata": {},
   "source": [
    "See how many objects of `deepCoadd_directWarp` are in the collection"
   ]
  },
  {
   "cell_type": "code",
   "execution_count": 4,
   "id": "519f65d4-7dca-4ba5-ad36-28a7aa9e4b13",
   "metadata": {
    "execution": {
     "iopub.execute_input": "2024-08-28T21:08:18.221229Z",
     "iopub.status.busy": "2024-08-28T21:08:18.221107Z",
     "iopub.status.idle": "2024-08-28T21:08:18.460124Z",
     "shell.execute_reply": "2024-08-28T21:08:18.459824Z",
     "shell.execute_reply.started": "2024-08-28T21:08:18.221216Z"
    }
   },
   "outputs": [
    {
     "name": "stdout",
     "output_type": "stream",
     "text": [
      "{instrument: 'HSC', skymap: 'hsc_rings_cells_v1', tract: 9813, patch: 61, visit: 1242, band: 'i', day_obs: 20140328, physical_filter: 'HSC-I'}\n",
      "{instrument: 'HSC', skymap: 'hsc_rings_cells_v1', tract: 9813, patch: 61, visit: 30490, band: 'i', day_obs: 20150521, physical_filter: 'HSC-I'}\n",
      "{instrument: 'HSC', skymap: 'hsc_rings_cells_v1', tract: 9813, patch: 61, visit: 19694, band: 'i', day_obs: 20150121, physical_filter: 'HSC-I'}\n",
      "{instrument: 'HSC', skymap: 'hsc_rings_cells_v1', tract: 9813, patch: 61, visit: 19696, band: 'i', day_obs: 20150121, physical_filter: 'HSC-I'}\n",
      "{instrument: 'HSC', skymap: 'hsc_rings_cells_v1', tract: 9813, patch: 61, visit: 30482, band: 'i', day_obs: 20150521, physical_filter: 'HSC-I'}\n",
      "{instrument: 'HSC', skymap: 'hsc_rings_cells_v1', tract: 9813, patch: 61, visit: 1248, band: 'i', day_obs: 20140328, physical_filter: 'HSC-I'}\n",
      "{instrument: 'HSC', skymap: 'hsc_rings_cells_v1', tract: 9813, patch: 61, visit: 19680, band: 'i', day_obs: 20150121, physical_filter: 'HSC-I'}\n",
      "{instrument: 'HSC', skymap: 'hsc_rings_cells_v1', tract: 9813, patch: 61, visit: 19684, band: 'i', day_obs: 20150121, physical_filter: 'HSC-I'}\n"
     ]
    }
   ],
   "source": [
    "for ref in butler.registry.queryDatasets('deepCoadd_directWarp', physical_filter='HSC-I', collections=collection, instrument='HSC'):\n",
    "    print(ref.dataId)"
   ]
  },
  {
   "cell_type": "markdown",
   "id": "472ec908-2f1e-4f74-bb47-f1d2c6150221",
   "metadata": {},
   "source": [
    "## Load in example warp"
   ]
  },
  {
   "cell_type": "code",
   "execution_count": 5,
   "id": "11d49171-1ace-46db-8777-b42e8d4d86e4",
   "metadata": {
    "execution": {
     "iopub.execute_input": "2024-08-28T21:08:18.461836Z",
     "iopub.status.busy": "2024-08-28T21:08:18.461717Z",
     "iopub.status.idle": "2024-08-28T21:08:18.463724Z",
     "shell.execute_reply": "2024-08-28T21:08:18.463448Z",
     "shell.execute_reply.started": "2024-08-28T21:08:18.461824Z"
    }
   },
   "outputs": [],
   "source": [
    "patch=61"
   ]
  },
  {
   "cell_type": "code",
   "execution_count": 6,
   "id": "5092ada0-884d-4915-885b-249fedee8765",
   "metadata": {
    "execution": {
     "iopub.execute_input": "2024-08-28T21:08:18.465323Z",
     "iopub.status.busy": "2024-08-28T21:08:18.465074Z",
     "iopub.status.idle": "2024-08-28T21:08:20.821438Z",
     "shell.execute_reply": "2024-08-28T21:08:20.821080Z",
     "shell.execute_reply.started": "2024-08-28T21:08:18.465311Z"
    }
   },
   "outputs": [],
   "source": [
    "warp = butler.get('deepCoadd_directWarp',\n",
    "                   collections = collection,\n",
    "                   instrument='HSC',\n",
    "                   skymap = 'hsc_rings_cells_v1',\n",
    "                   tract = 9813,\n",
    "                   patch = patch,\n",
    "                   visit = 30482)"
   ]
  },
  {
   "cell_type": "markdown",
   "id": "94e5ead8-e885-438d-8264-0d02ef89b893",
   "metadata": {},
   "source": [
    "Take a look at the cell coadd structure"
   ]
  },
  {
   "cell_type": "code",
   "execution_count": 7,
   "id": "103d19c0-9841-4641-9aa5-a0f10e3d412a",
   "metadata": {
    "execution": {
     "iopub.execute_input": "2024-08-28T21:08:20.823576Z",
     "iopub.status.busy": "2024-08-28T21:08:20.823455Z",
     "iopub.status.idle": "2024-08-28T21:08:21.352875Z",
     "shell.execute_reply": "2024-08-28T21:08:21.352407Z",
     "shell.execute_reply.started": "2024-08-28T21:08:20.823564Z"
    }
   },
   "outputs": [],
   "source": [
    "coadd = butler.get('deepCoaddCell', \n",
    "                     collections=collection, \n",
    "                     instrument='HSC', \n",
    "                     skymap = 'hsc_rings_cells_v1', \n",
    "                     tract = 9813, \n",
    "                     patch=patch,\n",
    "                     band='i',)"
   ]
  },
  {
   "cell_type": "markdown",
   "id": "dd26f7ce-0b32-487c-ac37-c3fef1c04af5",
   "metadata": {},
   "source": [
    "The cells within the produced coadd can be \"stitched\" together to produce a single coadd structure. Useful for displaying the image of an entire patch formed by combining all cells."
   ]
  },
  {
   "cell_type": "code",
   "execution_count": 8,
   "id": "0e1bdb85-9b24-4662-8f11-8bbbff10d29e",
   "metadata": {
    "execution": {
     "iopub.execute_input": "2024-08-28T21:08:21.354812Z",
     "iopub.status.busy": "2024-08-28T21:08:21.354691Z",
     "iopub.status.idle": "2024-08-28T21:08:21.356941Z",
     "shell.execute_reply": "2024-08-28T21:08:21.356614Z",
     "shell.execute_reply.started": "2024-08-28T21:08:21.354798Z"
    }
   },
   "outputs": [],
   "source": [
    "stitch_coadd = coadd.stitch()"
   ]
  },
  {
   "cell_type": "markdown",
   "id": "6f65c754-cb33-44e7-9087-e6053af28a7c",
   "metadata": {},
   "source": [
    "Check the number of cells with inputs. For instance, the patch 37 contains 85 cells with inputs, while patch 61 has all 484 cells with inputs (484=22x22 cells in a patch, with this configuration)."
   ]
  },
  {
   "cell_type": "code",
   "execution_count": 9,
   "id": "41404e4a-1963-4317-a8da-86387a388a10",
   "metadata": {
    "execution": {
     "iopub.execute_input": "2024-08-28T21:08:21.358563Z",
     "iopub.status.busy": "2024-08-28T21:08:21.358443Z",
     "iopub.status.idle": "2024-08-28T21:08:21.361133Z",
     "shell.execute_reply": "2024-08-28T21:08:21.360792Z",
     "shell.execute_reply.started": "2024-08-28T21:08:21.358551Z"
    }
   },
   "outputs": [
    {
     "name": "stdout",
     "output_type": "stream",
     "text": [
      "484\n"
     ]
    }
   ],
   "source": [
    "cell_num = len(list(coadd.cells.keys()))\n",
    "print(cell_num)"
   ]
  },
  {
   "cell_type": "markdown",
   "id": "1bff2d27-2711-47d0-8abf-29725fcf5b07",
   "metadata": {},
   "source": [
    "We can see a list of the available cells with their index information:"
   ]
  },
  {
   "cell_type": "code",
   "execution_count": 10,
   "id": "ddb1a6fa-ef7e-4586-b402-84e61d581d64",
   "metadata": {
    "execution": {
     "iopub.execute_input": "2024-08-28T21:08:21.362852Z",
     "iopub.status.busy": "2024-08-28T21:08:21.362611Z",
     "iopub.status.idle": "2024-08-28T21:08:21.365788Z",
     "shell.execute_reply": "2024-08-28T21:08:21.365445Z",
     "shell.execute_reply.started": "2024-08-28T21:08:21.362839Z"
    },
    "scrolled": true
   },
   "outputs": [
    {
     "name": "stdout",
     "output_type": "stream",
     "text": [
      "[Index2D(x=0, y=0), Index2D(x=1, y=0), Index2D(x=2, y=0), Index2D(x=3, y=0), Index2D(x=4, y=0), Index2D(x=5, y=0), Index2D(x=6, y=0), Index2D(x=7, y=0), Index2D(x=8, y=0), Index2D(x=9, y=0), Index2D(x=10, y=0), Index2D(x=11, y=0), Index2D(x=12, y=0), Index2D(x=13, y=0), Index2D(x=14, y=0), Index2D(x=15, y=0), Index2D(x=16, y=0), Index2D(x=17, y=0), Index2D(x=18, y=0), Index2D(x=19, y=0), Index2D(x=20, y=0), Index2D(x=21, y=0), Index2D(x=0, y=1), Index2D(x=1, y=1), Index2D(x=2, y=1), Index2D(x=3, y=1), Index2D(x=4, y=1), Index2D(x=5, y=1), Index2D(x=6, y=1), Index2D(x=7, y=1), Index2D(x=8, y=1), Index2D(x=9, y=1), Index2D(x=10, y=1), Index2D(x=11, y=1), Index2D(x=12, y=1), Index2D(x=13, y=1), Index2D(x=14, y=1), Index2D(x=15, y=1), Index2D(x=16, y=1), Index2D(x=17, y=1), Index2D(x=18, y=1), Index2D(x=19, y=1), Index2D(x=20, y=1), Index2D(x=21, y=1), Index2D(x=0, y=2), Index2D(x=1, y=2), Index2D(x=2, y=2), Index2D(x=3, y=2), Index2D(x=4, y=2), Index2D(x=5, y=2), Index2D(x=6, y=2), Index2D(x=7, y=2), Index2D(x=8, y=2), Index2D(x=9, y=2), Index2D(x=10, y=2), Index2D(x=11, y=2), Index2D(x=12, y=2), Index2D(x=13, y=2), Index2D(x=14, y=2), Index2D(x=15, y=2), Index2D(x=16, y=2), Index2D(x=17, y=2), Index2D(x=18, y=2), Index2D(x=19, y=2), Index2D(x=20, y=2), Index2D(x=21, y=2), Index2D(x=0, y=3), Index2D(x=1, y=3), Index2D(x=2, y=3), Index2D(x=3, y=3), Index2D(x=4, y=3), Index2D(x=5, y=3), Index2D(x=6, y=3), Index2D(x=7, y=3), Index2D(x=8, y=3), Index2D(x=9, y=3), Index2D(x=10, y=3), Index2D(x=11, y=3), Index2D(x=12, y=3), Index2D(x=13, y=3), Index2D(x=14, y=3), Index2D(x=15, y=3), Index2D(x=16, y=3), Index2D(x=17, y=3), Index2D(x=18, y=3), Index2D(x=19, y=3), Index2D(x=20, y=3), Index2D(x=21, y=3), Index2D(x=0, y=4), Index2D(x=1, y=4), Index2D(x=2, y=4), Index2D(x=3, y=4), Index2D(x=4, y=4), Index2D(x=5, y=4), Index2D(x=6, y=4), Index2D(x=7, y=4), Index2D(x=8, y=4), Index2D(x=9, y=4), Index2D(x=10, y=4), Index2D(x=11, y=4), Index2D(x=12, y=4), Index2D(x=13, y=4), Index2D(x=14, y=4), Index2D(x=15, y=4), Index2D(x=16, y=4), Index2D(x=17, y=4), Index2D(x=18, y=4), Index2D(x=19, y=4), Index2D(x=20, y=4), Index2D(x=21, y=4), Index2D(x=0, y=5), Index2D(x=1, y=5), Index2D(x=2, y=5), Index2D(x=3, y=5), Index2D(x=4, y=5), Index2D(x=5, y=5), Index2D(x=6, y=5), Index2D(x=7, y=5), Index2D(x=8, y=5), Index2D(x=9, y=5), Index2D(x=10, y=5), Index2D(x=11, y=5), Index2D(x=12, y=5), Index2D(x=13, y=5), Index2D(x=14, y=5), Index2D(x=15, y=5), Index2D(x=16, y=5), Index2D(x=17, y=5), Index2D(x=18, y=5), Index2D(x=19, y=5), Index2D(x=20, y=5), Index2D(x=21, y=5), Index2D(x=0, y=6), Index2D(x=1, y=6), Index2D(x=2, y=6), Index2D(x=3, y=6), Index2D(x=4, y=6), Index2D(x=5, y=6), Index2D(x=6, y=6), Index2D(x=7, y=6), Index2D(x=8, y=6), Index2D(x=9, y=6), Index2D(x=10, y=6), Index2D(x=11, y=6), Index2D(x=12, y=6), Index2D(x=13, y=6), Index2D(x=14, y=6), Index2D(x=15, y=6), Index2D(x=16, y=6), Index2D(x=17, y=6), Index2D(x=18, y=6), Index2D(x=19, y=6), Index2D(x=20, y=6), Index2D(x=21, y=6), Index2D(x=0, y=7), Index2D(x=1, y=7), Index2D(x=2, y=7), Index2D(x=3, y=7), Index2D(x=4, y=7), Index2D(x=5, y=7), Index2D(x=6, y=7), Index2D(x=7, y=7), Index2D(x=8, y=7), Index2D(x=9, y=7), Index2D(x=10, y=7), Index2D(x=11, y=7), Index2D(x=12, y=7), Index2D(x=13, y=7), Index2D(x=14, y=7), Index2D(x=15, y=7), Index2D(x=16, y=7), Index2D(x=17, y=7), Index2D(x=18, y=7), Index2D(x=19, y=7), Index2D(x=20, y=7), Index2D(x=21, y=7), Index2D(x=0, y=8), Index2D(x=1, y=8), Index2D(x=2, y=8), Index2D(x=3, y=8), Index2D(x=4, y=8), Index2D(x=5, y=8), Index2D(x=6, y=8), Index2D(x=7, y=8), Index2D(x=8, y=8), Index2D(x=9, y=8), Index2D(x=10, y=8), Index2D(x=11, y=8), Index2D(x=12, y=8), Index2D(x=13, y=8), Index2D(x=14, y=8), Index2D(x=15, y=8), Index2D(x=16, y=8), Index2D(x=17, y=8), Index2D(x=18, y=8), Index2D(x=19, y=8), Index2D(x=20, y=8), Index2D(x=21, y=8), Index2D(x=0, y=9), Index2D(x=1, y=9), Index2D(x=2, y=9), Index2D(x=3, y=9), Index2D(x=4, y=9), Index2D(x=5, y=9), Index2D(x=6, y=9), Index2D(x=7, y=9), Index2D(x=8, y=9), Index2D(x=9, y=9), Index2D(x=10, y=9), Index2D(x=11, y=9), Index2D(x=12, y=9), Index2D(x=13, y=9), Index2D(x=14, y=9), Index2D(x=15, y=9), Index2D(x=16, y=9), Index2D(x=17, y=9), Index2D(x=18, y=9), Index2D(x=19, y=9), Index2D(x=20, y=9), Index2D(x=21, y=9), Index2D(x=0, y=10), Index2D(x=1, y=10), Index2D(x=2, y=10), Index2D(x=3, y=10), Index2D(x=4, y=10), Index2D(x=5, y=10), Index2D(x=6, y=10), Index2D(x=7, y=10), Index2D(x=8, y=10), Index2D(x=9, y=10), Index2D(x=10, y=10), Index2D(x=11, y=10), Index2D(x=12, y=10), Index2D(x=13, y=10), Index2D(x=14, y=10), Index2D(x=15, y=10), Index2D(x=16, y=10), Index2D(x=17, y=10), Index2D(x=18, y=10), Index2D(x=19, y=10), Index2D(x=20, y=10), Index2D(x=21, y=10), Index2D(x=0, y=11), Index2D(x=1, y=11), Index2D(x=2, y=11), Index2D(x=3, y=11), Index2D(x=4, y=11), Index2D(x=5, y=11), Index2D(x=6, y=11), Index2D(x=7, y=11), Index2D(x=8, y=11), Index2D(x=9, y=11), Index2D(x=10, y=11), Index2D(x=11, y=11), Index2D(x=12, y=11), Index2D(x=13, y=11), Index2D(x=14, y=11), Index2D(x=15, y=11), Index2D(x=16, y=11), Index2D(x=17, y=11), Index2D(x=18, y=11), Index2D(x=19, y=11), Index2D(x=20, y=11), Index2D(x=21, y=11), Index2D(x=0, y=12), Index2D(x=1, y=12), Index2D(x=2, y=12), Index2D(x=3, y=12), Index2D(x=4, y=12), Index2D(x=5, y=12), Index2D(x=6, y=12), Index2D(x=7, y=12), Index2D(x=8, y=12), Index2D(x=9, y=12), Index2D(x=10, y=12), Index2D(x=11, y=12), Index2D(x=12, y=12), Index2D(x=13, y=12), Index2D(x=14, y=12), Index2D(x=15, y=12), Index2D(x=16, y=12), Index2D(x=17, y=12), Index2D(x=18, y=12), Index2D(x=19, y=12), Index2D(x=20, y=12), Index2D(x=21, y=12), Index2D(x=0, y=13), Index2D(x=1, y=13), Index2D(x=2, y=13), Index2D(x=3, y=13), Index2D(x=4, y=13), Index2D(x=5, y=13), Index2D(x=6, y=13), Index2D(x=7, y=13), Index2D(x=8, y=13), Index2D(x=9, y=13), Index2D(x=10, y=13), Index2D(x=11, y=13), Index2D(x=12, y=13), Index2D(x=13, y=13), Index2D(x=14, y=13), Index2D(x=15, y=13), Index2D(x=16, y=13), Index2D(x=17, y=13), Index2D(x=18, y=13), Index2D(x=19, y=13), Index2D(x=20, y=13), Index2D(x=21, y=13), Index2D(x=0, y=14), Index2D(x=1, y=14), Index2D(x=2, y=14), Index2D(x=3, y=14), Index2D(x=4, y=14), Index2D(x=5, y=14), Index2D(x=6, y=14), Index2D(x=7, y=14), Index2D(x=8, y=14), Index2D(x=9, y=14), Index2D(x=10, y=14), Index2D(x=11, y=14), Index2D(x=12, y=14), Index2D(x=13, y=14), Index2D(x=14, y=14), Index2D(x=15, y=14), Index2D(x=16, y=14), Index2D(x=17, y=14), Index2D(x=18, y=14), Index2D(x=19, y=14), Index2D(x=20, y=14), Index2D(x=21, y=14), Index2D(x=0, y=15), Index2D(x=1, y=15), Index2D(x=2, y=15), Index2D(x=3, y=15), Index2D(x=4, y=15), Index2D(x=5, y=15), Index2D(x=6, y=15), Index2D(x=7, y=15), Index2D(x=8, y=15), Index2D(x=9, y=15), Index2D(x=10, y=15), Index2D(x=11, y=15), Index2D(x=12, y=15), Index2D(x=13, y=15), Index2D(x=14, y=15), Index2D(x=15, y=15), Index2D(x=16, y=15), Index2D(x=17, y=15), Index2D(x=18, y=15), Index2D(x=19, y=15), Index2D(x=20, y=15), Index2D(x=21, y=15), Index2D(x=0, y=16), Index2D(x=1, y=16), Index2D(x=2, y=16), Index2D(x=3, y=16), Index2D(x=4, y=16), Index2D(x=5, y=16), Index2D(x=6, y=16), Index2D(x=7, y=16), Index2D(x=8, y=16), Index2D(x=9, y=16), Index2D(x=10, y=16), Index2D(x=11, y=16), Index2D(x=12, y=16), Index2D(x=13, y=16), Index2D(x=14, y=16), Index2D(x=15, y=16), Index2D(x=16, y=16), Index2D(x=17, y=16), Index2D(x=18, y=16), Index2D(x=19, y=16), Index2D(x=20, y=16), Index2D(x=21, y=16), Index2D(x=0, y=17), Index2D(x=1, y=17), Index2D(x=2, y=17), Index2D(x=3, y=17), Index2D(x=4, y=17), Index2D(x=5, y=17), Index2D(x=6, y=17), Index2D(x=7, y=17), Index2D(x=8, y=17), Index2D(x=9, y=17), Index2D(x=10, y=17), Index2D(x=11, y=17), Index2D(x=12, y=17), Index2D(x=13, y=17), Index2D(x=14, y=17), Index2D(x=15, y=17), Index2D(x=16, y=17), Index2D(x=17, y=17), Index2D(x=18, y=17), Index2D(x=19, y=17), Index2D(x=20, y=17), Index2D(x=21, y=17), Index2D(x=0, y=18), Index2D(x=1, y=18), Index2D(x=2, y=18), Index2D(x=3, y=18), Index2D(x=4, y=18), Index2D(x=5, y=18), Index2D(x=6, y=18), Index2D(x=7, y=18), Index2D(x=8, y=18), Index2D(x=9, y=18), Index2D(x=10, y=18), Index2D(x=11, y=18), Index2D(x=12, y=18), Index2D(x=13, y=18), Index2D(x=14, y=18), Index2D(x=15, y=18), Index2D(x=16, y=18), Index2D(x=17, y=18), Index2D(x=18, y=18), Index2D(x=19, y=18), Index2D(x=20, y=18), Index2D(x=21, y=18), Index2D(x=0, y=19), Index2D(x=1, y=19), Index2D(x=2, y=19), Index2D(x=3, y=19), Index2D(x=4, y=19), Index2D(x=5, y=19), Index2D(x=6, y=19), Index2D(x=7, y=19), Index2D(x=8, y=19), Index2D(x=9, y=19), Index2D(x=10, y=19), Index2D(x=11, y=19), Index2D(x=12, y=19), Index2D(x=13, y=19), Index2D(x=14, y=19), Index2D(x=15, y=19), Index2D(x=16, y=19), Index2D(x=17, y=19), Index2D(x=18, y=19), Index2D(x=19, y=19), Index2D(x=20, y=19), Index2D(x=21, y=19), Index2D(x=0, y=20), Index2D(x=1, y=20), Index2D(x=2, y=20), Index2D(x=3, y=20), Index2D(x=4, y=20), Index2D(x=5, y=20), Index2D(x=6, y=20), Index2D(x=7, y=20), Index2D(x=8, y=20), Index2D(x=9, y=20), Index2D(x=10, y=20), Index2D(x=11, y=20), Index2D(x=12, y=20), Index2D(x=13, y=20), Index2D(x=14, y=20), Index2D(x=15, y=20), Index2D(x=16, y=20), Index2D(x=17, y=20), Index2D(x=18, y=20), Index2D(x=19, y=20), Index2D(x=20, y=20), Index2D(x=21, y=20), Index2D(x=0, y=21), Index2D(x=1, y=21), Index2D(x=2, y=21), Index2D(x=3, y=21), Index2D(x=4, y=21), Index2D(x=5, y=21), Index2D(x=6, y=21), Index2D(x=7, y=21), Index2D(x=8, y=21), Index2D(x=9, y=21), Index2D(x=10, y=21), Index2D(x=11, y=21), Index2D(x=12, y=21), Index2D(x=13, y=21), Index2D(x=14, y=21), Index2D(x=15, y=21), Index2D(x=16, y=21), Index2D(x=17, y=21), Index2D(x=18, y=21), Index2D(x=19, y=21), Index2D(x=20, y=21), Index2D(x=21, y=21)]\n"
     ]
    }
   ],
   "source": [
    "cell_list = list(coadd.cells.keys())\n",
    "print(cell_list)"
   ]
  },
  {
   "cell_type": "markdown",
   "id": "44b72ea4-f2b5-44a8-afad-a98ddf53a143",
   "metadata": {},
   "source": [
    "To pick out a single cell from the coadd, we can use any of the `Index2D` indices to pick one out."
   ]
  },
  {
   "cell_type": "code",
   "execution_count": 11,
   "id": "eb2db27d-6d17-445b-ae5b-835c6bb02aee",
   "metadata": {
    "execution": {
     "iopub.execute_input": "2024-08-28T21:08:21.369129Z",
     "iopub.status.busy": "2024-08-28T21:08:21.369001Z",
     "iopub.status.idle": "2024-08-28T21:08:21.371071Z",
     "shell.execute_reply": "2024-08-28T21:08:21.370739Z",
     "shell.execute_reply.started": "2024-08-28T21:08:21.369117Z"
    }
   },
   "outputs": [],
   "source": [
    "example_cell = coadd.cells[Index2D(x=5,y=4)]"
   ]
  },
  {
   "cell_type": "markdown",
   "id": "e1cbe7de-b955-4bc4-8306-42467253feae",
   "metadata": {},
   "source": [
    "To see the number of input warps that went into a cell:"
   ]
  },
  {
   "cell_type": "code",
   "execution_count": 12,
   "id": "f4247ed9-7e7c-4634-bcad-af887b23489d",
   "metadata": {
    "execution": {
     "iopub.execute_input": "2024-08-28T21:08:21.371667Z",
     "iopub.status.busy": "2024-08-28T21:08:21.371549Z",
     "iopub.status.idle": "2024-08-28T21:08:21.377079Z",
     "shell.execute_reply": "2024-08-28T21:08:21.376729Z",
     "shell.execute_reply.started": "2024-08-28T21:08:21.371656Z"
    }
   },
   "outputs": [
    {
     "name": "stdout",
     "output_type": "stream",
     "text": [
      "3\n"
     ]
    }
   ],
   "source": [
    "cell_inputs = example_cell.inputs\n",
    "print(len(cell_inputs))"
   ]
  },
  {
   "cell_type": "markdown",
   "id": "43d0df46-c2fd-4c46-8ef2-cb0a5ed95e2e",
   "metadata": {},
   "source": [
    "## Showing cell images"
   ]
  },
  {
   "cell_type": "markdown",
   "id": "0f721175-ff67-476f-b311-bfb56a2217e3",
   "metadata": {},
   "source": [
    "The backend used for displaying image data will be firefly here, though other options are available. \n",
    "\n",
    "Some other points:\n",
    "- Define both `display1` and `display2` in the same notebook cell each time, to keep the displays updated and avoid loading image data from previous notebook cells.\n",
    "- Firefly will load another tab within the notebook environment. Keep this tab open, since as far as I know the only way to get this tab back is to reload the notebook environment. Redefining the displays will update the current tab instead of creating a new tab."
   ]
  },
  {
   "cell_type": "code",
   "execution_count": 13,
   "id": "1a1d4adc-a08f-4c78-b7bb-716510770c68",
   "metadata": {
    "execution": {
     "iopub.execute_input": "2024-08-28T21:08:21.377619Z",
     "iopub.status.busy": "2024-08-28T21:08:21.377505Z",
     "iopub.status.idle": "2024-08-28T21:08:21.710184Z",
     "shell.execute_reply": "2024-08-28T21:08:21.709674Z",
     "shell.execute_reply.started": "2024-08-28T21:08:21.377609Z"
    }
   },
   "outputs": [],
   "source": [
    "import lsst.afw.display as afwDisplay\n",
    "afwDisplay.setDefaultBackend('firefly')"
   ]
  },
  {
   "cell_type": "markdown",
   "id": "a391e9b7-b947-4e76-9381-7d7c651ac8d6",
   "metadata": {},
   "source": [
    "The image data stored in a cell can be called in the following way: "
   ]
  },
  {
   "cell_type": "code",
   "execution_count": 14,
   "id": "76dcfae0-1ef1-4244-9169-175873c7025b",
   "metadata": {
    "execution": {
     "iopub.execute_input": "2024-08-28T21:08:21.710927Z",
     "iopub.status.busy": "2024-08-28T21:08:21.710791Z",
     "iopub.status.idle": "2024-08-28T21:08:21.713506Z",
     "shell.execute_reply": "2024-08-28T21:08:21.713130Z",
     "shell.execute_reply.started": "2024-08-28T21:08:21.710915Z"
    }
   },
   "outputs": [],
   "source": [
    "cell_imMask_out = coadd.cells[Index2D(x=0, y=0)].outer.asMaskedImage()\n",
    "cell_imMask_in = coadd.cells[Index2D(x=0, y=0)].inner.asMaskedImage()"
   ]
  },
  {
   "cell_type": "markdown",
   "id": "5a6c7300-0d16-46e7-a5a9-9749a1f6877f",
   "metadata": {},
   "source": [
    "The inner cell is the boundary of just the single cell, whereas the outer cell contains overlapping image data with neighboring cells. To display the difference between those images, call the below notebook cell:"
   ]
  },
  {
   "cell_type": "code",
   "execution_count": 15,
   "id": "d7c5f1b3-0895-4ad5-8c32-34a87c8f8277",
   "metadata": {
    "execution": {
     "iopub.execute_input": "2024-08-28T21:08:21.714442Z",
     "iopub.status.busy": "2024-08-28T21:08:21.714281Z",
     "iopub.status.idle": "2024-08-28T21:08:21.866377Z",
     "shell.execute_reply": "2024-08-28T21:08:21.865927Z",
     "shell.execute_reply.started": "2024-08-28T21:08:21.714425Z"
    }
   },
   "outputs": [],
   "source": [
    "display1 = afwDisplay.Display(frame=1)\n",
    "display1.mtv(cell_imMask_out)\n",
    "display2 = afwDisplay.Display(frame=2)\n",
    "display2.mtv(cell_imMask_in)"
   ]
  },
  {
   "cell_type": "markdown",
   "id": "ac4e3e89-4197-4008-8640-cadd47e5c53a",
   "metadata": {
    "execution": {
     "iopub.execute_input": "2024-04-24T19:45:14.669575Z",
     "iopub.status.busy": "2024-04-24T19:45:14.669283Z",
     "iopub.status.idle": "2024-04-24T19:45:14.673348Z",
     "shell.execute_reply": "2024-04-24T19:45:14.672860Z",
     "shell.execute_reply.started": "2024-04-24T19:45:14.669558Z"
    }
   },
   "source": [
    "We can also call on the `stitch_coadd` object to display all cells across an entire patch:"
   ]
  },
  {
   "cell_type": "code",
   "execution_count": 16,
   "id": "098c97d2-b2c1-4166-8e5b-b662b30787fb",
   "metadata": {
    "execution": {
     "iopub.execute_input": "2024-08-28T21:08:21.867199Z",
     "iopub.status.busy": "2024-08-28T21:08:21.867047Z",
     "iopub.status.idle": "2024-08-28T21:08:22.539031Z",
     "shell.execute_reply": "2024-08-28T21:08:22.538619Z",
     "shell.execute_reply.started": "2024-08-28T21:08:21.867181Z"
    }
   },
   "outputs": [],
   "source": [
    "display1 = afwDisplay.Display(frame=1)\n",
    "display1.mtv(stitch_coadd.asExposure())"
   ]
  },
  {
   "cell_type": "markdown",
   "id": "41bbe6fc-a085-47bd-9ba3-43179994a04e",
   "metadata": {},
   "source": [
    "### Cells and input warps"
   ]
  },
  {
   "cell_type": "markdown",
   "id": "79a4f719-08fd-4cdb-9502-8184303d6963",
   "metadata": {},
   "source": [
    "Another way to visualize the cell information may be to plot both the cell image and a cutout of an input warp that aligns with the cell.\n",
    "\n",
    "First pick a cell and see what input warps go into it."
   ]
  },
  {
   "cell_type": "code",
   "execution_count": 17,
   "id": "99d25222-004d-418f-8e27-c349aeb20062",
   "metadata": {
    "execution": {
     "iopub.execute_input": "2024-08-28T21:08:22.539739Z",
     "iopub.status.busy": "2024-08-28T21:08:22.539602Z",
     "iopub.status.idle": "2024-08-28T21:08:22.542442Z",
     "shell.execute_reply": "2024-08-28T21:08:22.542083Z",
     "shell.execute_reply.started": "2024-08-28T21:08:22.539726Z"
    }
   },
   "outputs": [
    {
     "name": "stdout",
     "output_type": "stream",
     "text": [
      "[1242, 1248, 19680, 19684, 19694, 19696, 30490]\n"
     ]
    }
   ],
   "source": [
    "cell_warps = list(coadd.cells[cell_list[0]].inputs)\n",
    "cell_visits = [input.visit for input in cell_warps]\n",
    "print(cell_visits)"
   ]
  },
  {
   "cell_type": "markdown",
   "id": "8ee97798-0904-4992-8b6e-edd609e6c935",
   "metadata": {},
   "source": [
    "We can see that the example warp loaded in earlier is also an input for this cell, so we can use that one."
   ]
  },
  {
   "cell_type": "code",
   "execution_count": 18,
   "id": "ff01a72b-57c7-447e-a031-07d0e1b54d5f",
   "metadata": {
    "execution": {
     "iopub.execute_input": "2024-08-28T21:08:22.543029Z",
     "iopub.status.busy": "2024-08-28T21:08:22.542912Z",
     "iopub.status.idle": "2024-08-28T21:08:22.644894Z",
     "shell.execute_reply": "2024-08-28T21:08:22.644447Z",
     "shell.execute_reply.started": "2024-08-28T21:08:22.543018Z"
    }
   },
   "outputs": [],
   "source": [
    "bbox = coadd.cells[Index2D(x=11,y=11)].outer.bbox\n",
    "masked_warp = warp[bbox].getMaskedImage()\n",
    "\n",
    "# display the cell and warp cutout side by side\n",
    "display1 = afwDisplay.Display(frame=1)\n",
    "display1.mtv(coadd.cells[Index2D(x=11,y=11)].outer.image)\n",
    "display2 = afwDisplay.Display(frame=2)\n",
    "display2.mtv(masked_warp.image)"
   ]
  },
  {
   "cell_type": "markdown",
   "id": "28f72882-e236-4ecc-847a-f4a56990f726",
   "metadata": {},
   "source": [
    "### List of cells with a specific visit\n",
    "\n",
    "Let's find all the cells that use a specific visit. First, query the butler for all possible visits for this patch."
   ]
  },
  {
   "cell_type": "code",
   "execution_count": 19,
   "id": "5744c580-3576-44b6-b8ba-8deddb32ef2c",
   "metadata": {
    "execution": {
     "iopub.execute_input": "2024-08-28T21:08:22.645609Z",
     "iopub.status.busy": "2024-08-28T21:08:22.645467Z",
     "iopub.status.idle": "2024-08-28T21:08:22.680648Z",
     "shell.execute_reply": "2024-08-28T21:08:22.680164Z",
     "shell.execute_reply.started": "2024-08-28T21:08:22.645597Z"
    }
   },
   "outputs": [
    {
     "name": "stdout",
     "output_type": "stream",
     "text": [
      "[ 1242  1248 19680 19684 19694 19696 30482 30490]\n"
     ]
    }
   ],
   "source": [
    "visits = []\n",
    "\n",
    "for ref in butler.registry.queryDatasets('deepCoadd_directWarp', \n",
    "                                         physical_filter='HSC-I', \n",
    "                                         collections=collection, \n",
    "                                         instrument='HSC', \n",
    "                                         tract=9813, \n",
    "                                         skymap = 'hsc_rings_cells_v1', \n",
    "                                         patch=61):\n",
    "    visits.append(ref.dataId.get('visit'))\n",
    "\n",
    "visits = np.unique(visits)\n",
    "print(visits)"
   ]
  },
  {
   "cell_type": "markdown",
   "id": "37ba17cb-d3bc-4f71-b35d-5fe1c5619dae",
   "metadata": {},
   "source": [
    "Now we have the list of all possible visits for these cells. Let's just pick the first one."
   ]
  },
  {
   "cell_type": "code",
   "execution_count": 20,
   "id": "043a66bc-b070-492f-8ab0-96326e83761a",
   "metadata": {
    "execution": {
     "iopub.execute_input": "2024-08-28T21:08:22.681415Z",
     "iopub.status.busy": "2024-08-28T21:08:22.681281Z",
     "iopub.status.idle": "2024-08-28T21:08:22.683417Z",
     "shell.execute_reply": "2024-08-28T21:08:22.683073Z",
     "shell.execute_reply.started": "2024-08-28T21:08:22.681402Z"
    }
   },
   "outputs": [],
   "source": [
    "test_visit = 1242"
   ]
  },
  {
   "cell_type": "code",
   "execution_count": 21,
   "id": "94f4a64a-a886-48d6-b552-2708345f3e66",
   "metadata": {
    "execution": {
     "iopub.execute_input": "2024-08-28T21:08:22.684046Z",
     "iopub.status.busy": "2024-08-28T21:08:22.683927Z",
     "iopub.status.idle": "2024-08-28T21:08:22.687284Z",
     "shell.execute_reply": "2024-08-28T21:08:22.686906Z",
     "shell.execute_reply.started": "2024-08-28T21:08:22.684036Z"
    }
   },
   "outputs": [],
   "source": [
    "cell_list_test = [index for index in cell_list if (test_visit in [input.visit for input in list(coadd.cells[index].inputs)])]"
   ]
  },
  {
   "cell_type": "code",
   "execution_count": 22,
   "id": "6fe00f02-a4e2-4cc1-a2b6-65aa430c6187",
   "metadata": {
    "execution": {
     "iopub.execute_input": "2024-08-28T21:08:22.687866Z",
     "iopub.status.busy": "2024-08-28T21:08:22.687748Z",
     "iopub.status.idle": "2024-08-28T21:08:22.692284Z",
     "shell.execute_reply": "2024-08-28T21:08:22.691911Z",
     "shell.execute_reply.started": "2024-08-28T21:08:22.687855Z"
    },
    "scrolled": true
   },
   "outputs": [
    {
     "name": "stdout",
     "output_type": "stream",
     "text": [
      "396\n",
      "[Index2D(x=0, y=0), Index2D(x=1, y=0), Index2D(x=2, y=0), Index2D(x=3, y=0), Index2D(x=4, y=0), Index2D(x=5, y=0), Index2D(x=6, y=0), Index2D(x=7, y=0), Index2D(x=8, y=0), Index2D(x=9, y=0), Index2D(x=10, y=0), Index2D(x=11, y=0), Index2D(x=12, y=0), Index2D(x=13, y=0), Index2D(x=14, y=0), Index2D(x=15, y=0), Index2D(x=16, y=0), Index2D(x=17, y=0), Index2D(x=18, y=0), Index2D(x=19, y=0), Index2D(x=20, y=0), Index2D(x=21, y=0), Index2D(x=0, y=1), Index2D(x=1, y=1), Index2D(x=2, y=1), Index2D(x=3, y=1), Index2D(x=4, y=1), Index2D(x=5, y=1), Index2D(x=6, y=1), Index2D(x=7, y=1), Index2D(x=8, y=1), Index2D(x=9, y=1), Index2D(x=10, y=1), Index2D(x=11, y=1), Index2D(x=12, y=1), Index2D(x=13, y=1), Index2D(x=14, y=1), Index2D(x=15, y=1), Index2D(x=16, y=1), Index2D(x=17, y=1), Index2D(x=18, y=1), Index2D(x=19, y=1), Index2D(x=20, y=1), Index2D(x=21, y=1), Index2D(x=0, y=2), Index2D(x=1, y=2), Index2D(x=2, y=2), Index2D(x=3, y=2), Index2D(x=4, y=2), Index2D(x=5, y=2), Index2D(x=6, y=2), Index2D(x=7, y=2), Index2D(x=8, y=2), Index2D(x=9, y=2), Index2D(x=10, y=2), Index2D(x=11, y=2), Index2D(x=12, y=2), Index2D(x=13, y=2), Index2D(x=14, y=2), Index2D(x=15, y=2), Index2D(x=16, y=2), Index2D(x=17, y=2), Index2D(x=18, y=2), Index2D(x=19, y=2), Index2D(x=20, y=2), Index2D(x=21, y=2), Index2D(x=0, y=5), Index2D(x=1, y=5), Index2D(x=2, y=5), Index2D(x=3, y=5), Index2D(x=4, y=5), Index2D(x=5, y=5), Index2D(x=6, y=5), Index2D(x=7, y=5), Index2D(x=8, y=5), Index2D(x=9, y=5), Index2D(x=10, y=5), Index2D(x=11, y=5), Index2D(x=12, y=5), Index2D(x=13, y=5), Index2D(x=14, y=5), Index2D(x=15, y=5), Index2D(x=16, y=5), Index2D(x=17, y=5), Index2D(x=18, y=5), Index2D(x=19, y=5), Index2D(x=20, y=5), Index2D(x=21, y=5), Index2D(x=0, y=6), Index2D(x=1, y=6), Index2D(x=2, y=6), Index2D(x=3, y=6), Index2D(x=4, y=6), Index2D(x=5, y=6), Index2D(x=6, y=6), Index2D(x=7, y=6), Index2D(x=8, y=6), Index2D(x=9, y=6), Index2D(x=10, y=6), Index2D(x=11, y=6), Index2D(x=12, y=6), Index2D(x=13, y=6), Index2D(x=14, y=6), Index2D(x=15, y=6), Index2D(x=16, y=6), Index2D(x=17, y=6), Index2D(x=18, y=6), Index2D(x=19, y=6), Index2D(x=20, y=6), Index2D(x=21, y=6), Index2D(x=0, y=7), Index2D(x=1, y=7), Index2D(x=2, y=7), Index2D(x=3, y=7), Index2D(x=4, y=7), Index2D(x=5, y=7), Index2D(x=6, y=7), Index2D(x=7, y=7), Index2D(x=8, y=7), Index2D(x=9, y=7), Index2D(x=10, y=7), Index2D(x=11, y=7), Index2D(x=12, y=7), Index2D(x=13, y=7), Index2D(x=14, y=7), Index2D(x=15, y=7), Index2D(x=16, y=7), Index2D(x=17, y=7), Index2D(x=18, y=7), Index2D(x=19, y=7), Index2D(x=20, y=7), Index2D(x=21, y=7), Index2D(x=0, y=8), Index2D(x=1, y=8), Index2D(x=2, y=8), Index2D(x=3, y=8), Index2D(x=4, y=8), Index2D(x=5, y=8), Index2D(x=6, y=8), Index2D(x=7, y=8), Index2D(x=8, y=8), Index2D(x=9, y=8), Index2D(x=10, y=8), Index2D(x=11, y=8), Index2D(x=12, y=8), Index2D(x=13, y=8), Index2D(x=14, y=8), Index2D(x=15, y=8), Index2D(x=16, y=8), Index2D(x=17, y=8), Index2D(x=18, y=8), Index2D(x=19, y=8), Index2D(x=20, y=8), Index2D(x=21, y=8), Index2D(x=0, y=9), Index2D(x=1, y=9), Index2D(x=2, y=9), Index2D(x=3, y=9), Index2D(x=4, y=9), Index2D(x=5, y=9), Index2D(x=6, y=9), Index2D(x=7, y=9), Index2D(x=8, y=9), Index2D(x=9, y=9), Index2D(x=10, y=9), Index2D(x=11, y=9), Index2D(x=12, y=9), Index2D(x=13, y=9), Index2D(x=14, y=9), Index2D(x=15, y=9), Index2D(x=16, y=9), Index2D(x=17, y=9), Index2D(x=18, y=9), Index2D(x=19, y=9), Index2D(x=20, y=9), Index2D(x=21, y=9), Index2D(x=0, y=10), Index2D(x=1, y=10), Index2D(x=2, y=10), Index2D(x=3, y=10), Index2D(x=4, y=10), Index2D(x=5, y=10), Index2D(x=6, y=10), Index2D(x=7, y=10), Index2D(x=8, y=10), Index2D(x=9, y=10), Index2D(x=10, y=10), Index2D(x=11, y=10), Index2D(x=12, y=10), Index2D(x=13, y=10), Index2D(x=14, y=10), Index2D(x=15, y=10), Index2D(x=16, y=10), Index2D(x=17, y=10), Index2D(x=18, y=10), Index2D(x=19, y=10), Index2D(x=20, y=10), Index2D(x=21, y=10), Index2D(x=0, y=11), Index2D(x=1, y=11), Index2D(x=2, y=11), Index2D(x=3, y=11), Index2D(x=4, y=11), Index2D(x=5, y=11), Index2D(x=6, y=11), Index2D(x=7, y=11), Index2D(x=8, y=11), Index2D(x=9, y=11), Index2D(x=10, y=11), Index2D(x=11, y=11), Index2D(x=12, y=11), Index2D(x=13, y=11), Index2D(x=14, y=11), Index2D(x=15, y=11), Index2D(x=16, y=11), Index2D(x=17, y=11), Index2D(x=18, y=11), Index2D(x=19, y=11), Index2D(x=20, y=11), Index2D(x=21, y=11), Index2D(x=0, y=12), Index2D(x=1, y=12), Index2D(x=2, y=12), Index2D(x=3, y=12), Index2D(x=4, y=12), Index2D(x=5, y=12), Index2D(x=6, y=12), Index2D(x=7, y=12), Index2D(x=8, y=12), Index2D(x=9, y=12), Index2D(x=10, y=12), Index2D(x=11, y=12), Index2D(x=12, y=12), Index2D(x=13, y=12), Index2D(x=14, y=12), Index2D(x=15, y=12), Index2D(x=16, y=12), Index2D(x=17, y=12), Index2D(x=18, y=12), Index2D(x=19, y=12), Index2D(x=20, y=12), Index2D(x=21, y=12), Index2D(x=0, y=13), Index2D(x=1, y=13), Index2D(x=2, y=13), Index2D(x=3, y=13), Index2D(x=4, y=13), Index2D(x=5, y=13), Index2D(x=6, y=13), Index2D(x=7, y=13), Index2D(x=8, y=13), Index2D(x=9, y=13), Index2D(x=10, y=13), Index2D(x=11, y=13), Index2D(x=12, y=13), Index2D(x=13, y=13), Index2D(x=14, y=13), Index2D(x=15, y=13), Index2D(x=16, y=13), Index2D(x=17, y=13), Index2D(x=18, y=13), Index2D(x=19, y=13), Index2D(x=20, y=13), Index2D(x=21, y=13), Index2D(x=0, y=14), Index2D(x=1, y=14), Index2D(x=2, y=14), Index2D(x=3, y=14), Index2D(x=4, y=14), Index2D(x=5, y=14), Index2D(x=6, y=14), Index2D(x=7, y=14), Index2D(x=8, y=14), Index2D(x=9, y=14), Index2D(x=10, y=14), Index2D(x=11, y=14), Index2D(x=12, y=14), Index2D(x=13, y=14), Index2D(x=14, y=14), Index2D(x=15, y=14), Index2D(x=16, y=14), Index2D(x=17, y=14), Index2D(x=18, y=14), Index2D(x=19, y=14), Index2D(x=20, y=14), Index2D(x=21, y=14), Index2D(x=0, y=15), Index2D(x=1, y=15), Index2D(x=2, y=15), Index2D(x=3, y=15), Index2D(x=4, y=15), Index2D(x=5, y=15), Index2D(x=6, y=15), Index2D(x=7, y=15), Index2D(x=8, y=15), Index2D(x=9, y=15), Index2D(x=10, y=15), Index2D(x=11, y=15), Index2D(x=12, y=15), Index2D(x=13, y=15), Index2D(x=14, y=15), Index2D(x=15, y=15), Index2D(x=16, y=15), Index2D(x=17, y=15), Index2D(x=18, y=15), Index2D(x=19, y=15), Index2D(x=20, y=15), Index2D(x=21, y=15), Index2D(x=0, y=16), Index2D(x=1, y=16), Index2D(x=2, y=16), Index2D(x=3, y=16), Index2D(x=4, y=16), Index2D(x=5, y=16), Index2D(x=6, y=16), Index2D(x=7, y=16), Index2D(x=8, y=16), Index2D(x=9, y=16), Index2D(x=10, y=16), Index2D(x=11, y=16), Index2D(x=12, y=16), Index2D(x=13, y=16), Index2D(x=14, y=16), Index2D(x=15, y=16), Index2D(x=16, y=16), Index2D(x=17, y=16), Index2D(x=18, y=16), Index2D(x=19, y=16), Index2D(x=20, y=16), Index2D(x=21, y=16), Index2D(x=0, y=19), Index2D(x=1, y=19), Index2D(x=2, y=19), Index2D(x=3, y=19), Index2D(x=4, y=19), Index2D(x=5, y=19), Index2D(x=6, y=19), Index2D(x=7, y=19), Index2D(x=8, y=19), Index2D(x=9, y=19), Index2D(x=10, y=19), Index2D(x=11, y=19), Index2D(x=12, y=19), Index2D(x=13, y=19), Index2D(x=14, y=19), Index2D(x=15, y=19), Index2D(x=16, y=19), Index2D(x=17, y=19), Index2D(x=18, y=19), Index2D(x=19, y=19), Index2D(x=20, y=19), Index2D(x=21, y=19), Index2D(x=0, y=20), Index2D(x=1, y=20), Index2D(x=2, y=20), Index2D(x=3, y=20), Index2D(x=4, y=20), Index2D(x=5, y=20), Index2D(x=6, y=20), Index2D(x=7, y=20), Index2D(x=8, y=20), Index2D(x=9, y=20), Index2D(x=10, y=20), Index2D(x=11, y=20), Index2D(x=12, y=20), Index2D(x=13, y=20), Index2D(x=14, y=20), Index2D(x=15, y=20), Index2D(x=16, y=20), Index2D(x=17, y=20), Index2D(x=18, y=20), Index2D(x=19, y=20), Index2D(x=20, y=20), Index2D(x=21, y=20), Index2D(x=0, y=21), Index2D(x=1, y=21), Index2D(x=2, y=21), Index2D(x=3, y=21), Index2D(x=4, y=21), Index2D(x=5, y=21), Index2D(x=6, y=21), Index2D(x=7, y=21), Index2D(x=8, y=21), Index2D(x=9, y=21), Index2D(x=10, y=21), Index2D(x=11, y=21), Index2D(x=12, y=21), Index2D(x=13, y=21), Index2D(x=14, y=21), Index2D(x=15, y=21), Index2D(x=16, y=21), Index2D(x=17, y=21), Index2D(x=18, y=21), Index2D(x=19, y=21), Index2D(x=20, y=21), Index2D(x=21, y=21)]\n"
     ]
    }
   ],
   "source": [
    "print(len(cell_list_test))\n",
    "print(cell_list_test)"
   ]
  },
  {
   "cell_type": "markdown",
   "id": "f0082658-13f7-4550-832e-de7d14a11079",
   "metadata": {},
   "source": [
    "### Distribution histograms of cell inputs\n",
    "\n",
    "The number of inputs for cells will impact the final depth and noise of the coadds. It's useful to get an idea of how many visits each cell contains."
   ]
  },
  {
   "cell_type": "code",
   "execution_count": 23,
   "id": "c7021d3a-3e2d-40c7-b09c-4b106ed516c1",
   "metadata": {
    "execution": {
     "iopub.execute_input": "2024-08-28T21:08:22.692870Z",
     "iopub.status.busy": "2024-08-28T21:08:22.692756Z",
     "iopub.status.idle": "2024-08-28T21:08:22.694968Z",
     "shell.execute_reply": "2024-08-28T21:08:22.694624Z",
     "shell.execute_reply.started": "2024-08-28T21:08:22.692860Z"
    }
   },
   "outputs": [],
   "source": [
    "cell_list_filled = list(coadd.cells.keys())"
   ]
  },
  {
   "cell_type": "markdown",
   "id": "199f9f76-e785-4d80-a9a7-b349d69935f3",
   "metadata": {},
   "source": [
    "The `cell_list_filled` variable only contains indices for cells that have input warps. This is useful in some areas, but requires some extra lines of code so our 2D histograms can handle empty cells.\n",
    "\n",
    "The code cell below generates the fill list of cell indices for a patch of 22x22 cells. Another array, `cells_filled`, will keep track of which of these indices are filled. "
   ]
  },
  {
   "cell_type": "code",
   "execution_count": 24,
   "id": "ed4b9636-d97a-4796-9020-cf0b4d3fb83f",
   "metadata": {
    "execution": {
     "iopub.execute_input": "2024-08-28T21:08:22.695566Z",
     "iopub.status.busy": "2024-08-28T21:08:22.695450Z",
     "iopub.status.idle": "2024-08-28T21:08:22.983724Z",
     "shell.execute_reply": "2024-08-28T21:08:22.983277Z",
     "shell.execute_reply.started": "2024-08-28T21:08:22.695555Z"
    },
    "scrolled": true
   },
   "outputs": [],
   "source": [
    "cell_list = []\n",
    "cells_filled = [False] * 484\n",
    "\n",
    "index = 0\n",
    "for i in range(22):\n",
    "    for j in range(22):\n",
    "        cell_list.append(Index2D(x=j,y=i))\n",
    "\n",
    "        for cell in cell_list_filled:\n",
    "            if (j==cell.x) and (i==cell.y):\n",
    "                cells_filled[index]=True\n",
    "\n",
    "        index += 1"
   ]
  },
  {
   "cell_type": "code",
   "execution_count": 25,
   "id": "5b7e8e15-eee4-4a27-846d-1011098be2ce",
   "metadata": {
    "execution": {
     "iopub.execute_input": "2024-08-28T21:08:22.984517Z",
     "iopub.status.busy": "2024-08-28T21:08:22.984337Z",
     "iopub.status.idle": "2024-08-28T21:08:22.989093Z",
     "shell.execute_reply": "2024-08-28T21:08:22.988744Z",
     "shell.execute_reply.started": "2024-08-28T21:08:22.984503Z"
    },
    "scrolled": true
   },
   "outputs": [],
   "source": [
    "# arrange the number of inputs for each cell into a 2D grid:\n",
    "x_cell_bin = np.arange(0,22+1,1)\n",
    "y_cell_bin = np.arange(0,22+1,1)\n",
    "\n",
    "inputs_list = np.zeros([22,22])\n",
    "\n",
    "# for cell in cell_list:\n",
    "for index, cell in enumerate(cell_list):\n",
    "\n",
    "    # check if the cell is filled, skip if not\n",
    "    if not (cells_filled[index]):\n",
    "        continue \n",
    "        \n",
    "    num_cell_inputs = len(coadd.cells[cell].inputs)\n",
    "    x_index = cell.x\n",
    "    y_index = cell.y\n",
    "        \n",
    "    inputs_list[y_index][x_index] = num_cell_inputs"
   ]
  },
  {
   "cell_type": "markdown",
   "id": "a6fc86e3-88b8-4d05-a149-f7c51c7adb7c",
   "metadata": {},
   "source": [
    "#### Plotting cell input 1D histogram"
   ]
  },
  {
   "cell_type": "code",
   "execution_count": 26,
   "id": "58b51b3c-7d91-4804-9284-df7615f40944",
   "metadata": {
    "execution": {
     "iopub.execute_input": "2024-08-28T21:08:22.989712Z",
     "iopub.status.busy": "2024-08-28T21:08:22.989590Z",
     "iopub.status.idle": "2024-08-28T21:08:23.085805Z",
     "shell.execute_reply": "2024-08-28T21:08:23.085434Z",
     "shell.execute_reply.started": "2024-08-28T21:08:22.989701Z"
    }
   },
   "outputs": [
    {
     "data": {
      "image/png": "[encoded data removed]",
      "text/plain": [
       "<Figure size 640x480 with 1 Axes>"
      ]
     },
     "metadata": {},
     "output_type": "display_data"
    }
   ],
   "source": [
    "flat_inputs_list = inputs_list.flatten()\n",
    "\n",
    "bins = np.arange(0, np.max(inputs_list)+3)\n",
    "plt.xlabel(\"Number of input warps\")\n",
    "plt.ylabel(\"Cell count\")\n",
    "plt.title(\"Distribution of cell inputs\")\n",
    "plt.xticks(bins)\n",
    "plt.hist(flat_inputs_list, bins)\n",
    "plt.show()"
   ]
  },
  {
   "cell_type": "markdown",
   "id": "f26d80cf-1aea-47f5-8441-5aa97898ea81",
   "metadata": {},
   "source": [
    "#### Generate 2D histogram of number of cell inputs across a patch"
   ]
  },
  {
   "cell_type": "markdown",
   "id": "89ab7f6b-e469-4326-8d9f-65bc9cb5940d",
   "metadata": {},
   "source": [
    "Generate an array of input data from each cell (this may need some fiddling with getting differing array structures to work together)"
   ]
  },
  {
   "cell_type": "code",
   "execution_count": 27,
   "id": "4f0c41f7-2a19-4a16-8d66-013c87443ce1",
   "metadata": {
    "execution": {
     "iopub.execute_input": "2024-08-28T21:08:23.086421Z",
     "iopub.status.busy": "2024-08-28T21:08:23.086300Z",
     "iopub.status.idle": "2024-08-28T21:08:23.089317Z",
     "shell.execute_reply": "2024-08-28T21:08:23.088968Z",
     "shell.execute_reply.started": "2024-08-28T21:08:23.086410Z"
    }
   },
   "outputs": [
    {
     "data": {
      "text/plain": [
       "Extent2I(3400, 3400)"
      ]
     },
     "execution_count": 27,
     "metadata": {},
     "output_type": "execute_result"
    }
   ],
   "source": [
    "stitch_coadd.asExposure().getDimensions()"
   ]
  },
  {
   "cell_type": "markdown",
   "id": "8cfff166-c4b2-4681-b2c9-8e866236479f",
   "metadata": {},
   "source": [
    "Get the grid structure of the stitched coadd:"
   ]
  },
  {
   "cell_type": "code",
   "execution_count": 28,
   "id": "dba4bd4d-8b7a-45e9-bd9a-f57915fd0dcb",
   "metadata": {
    "execution": {
     "iopub.execute_input": "2024-08-28T21:08:23.089967Z",
     "iopub.status.busy": "2024-08-28T21:08:23.089841Z",
     "iopub.status.idle": "2024-08-28T21:08:23.092778Z",
     "shell.execute_reply": "2024-08-28T21:08:23.092420Z",
     "shell.execute_reply.started": "2024-08-28T21:08:23.089954Z"
    }
   },
   "outputs": [
    {
     "name": "stdout",
     "output_type": "stream",
     "text": [
      "UniformGrid(cell_size=Extent2I(150, 150), shape=(22, 22), min=Point2I(17850, 14850))\n"
     ]
    }
   ],
   "source": [
    "print(stitch_coadd.grid)"
   ]
  },
  {
   "cell_type": "markdown",
   "id": "b15d64e7-7cd0-4ef5-82ab-af561248c518",
   "metadata": {},
   "source": [
    "Plot the 2D grid of cell inputs:"
   ]
  },
  {
   "cell_type": "code",
   "execution_count": 29,
   "id": "13ff573a-3c2e-47bb-823c-344edaaf9f29",
   "metadata": {
    "execution": {
     "iopub.execute_input": "2024-08-28T21:08:23.093365Z",
     "iopub.status.busy": "2024-08-28T21:08:23.093248Z",
     "iopub.status.idle": "2024-08-28T21:08:23.232798Z",
     "shell.execute_reply": "2024-08-28T21:08:23.232445Z",
     "shell.execute_reply.started": "2024-08-28T21:08:23.093355Z"
    }
   },
   "outputs": [
    {
     "data": {
      "text/plain": [
       "<matplotlib.colorbar.Colorbar at 0x7f3bba574b90>"
      ]
     },
     "execution_count": 29,
     "metadata": {},
     "output_type": "execute_result"
    },
    {
     "data": {
      "image/png": "[encoded data removed]",
      "text/plain": [
       "<Figure size 640x480 with 2 Axes>"
      ]
     },
     "metadata": {},
     "output_type": "display_data"
    }
   ],
   "source": [
    "plt.pcolormesh(x_cell_bin, y_cell_bin, inputs_list, shading='auto', vmin=inputs_list.min(), vmax=inputs_list.max(), linewidths=4)\n",
    "plt.xticks(np.arange(0, 21, 2))\n",
    "plt.yticks(np.arange(0, 21, 2))\n",
    "plt.title(f\"Cell input distribution across tract 9813, patch {patch}\")\n",
    "plt.xlabel(\"Cell x-index\")\n",
    "plt.ylabel(\"Cell y-index\")\n",
    "plt.colorbar()"
   ]
  },
  {
   "cell_type": "markdown",
   "id": "d6d3fa55-ea4c-46b8-bdb9-45cebd294290",
   "metadata": {},
   "source": [
    "Brief check that index of cells are lining up as expected, since numpy indexes 2D arrays differently."
   ]
  },
  {
   "cell_type": "code",
   "execution_count": 30,
   "id": "10e42307-6c70-4aee-9bff-c1a68d2430db",
   "metadata": {
    "execution": {
     "iopub.execute_input": "2024-08-28T21:08:23.233426Z",
     "iopub.status.busy": "2024-08-28T21:08:23.233304Z",
     "iopub.status.idle": "2024-08-28T21:08:23.236221Z",
     "shell.execute_reply": "2024-08-28T21:08:23.235869Z",
     "shell.execute_reply.started": "2024-08-28T21:08:23.233414Z"
    }
   },
   "outputs": [
    {
     "name": "stdout",
     "output_type": "stream",
     "text": [
      "7\n",
      "1\n",
      "6\n"
     ]
    }
   ],
   "source": [
    "# for patch 61\n",
    "print(len(coadd.cells[Index2D(x=0, y=0)].inputs)) # expect 7\n",
    "print(len(coadd.cells[Index2D(x=15, y=4)].inputs)) # expect 1\n",
    "print(len(coadd.cells[Index2D(x=7, y=9)].inputs)) # expect 6"
   ]
  },
  {
   "cell_type": "markdown",
   "id": "b1f353ab-abde-4a2a-982c-88e203532f0a",
   "metadata": {},
   "source": [
    "## Getting mask information from cells"
   ]
  },
  {
   "cell_type": "markdown",
   "id": "a8adb417-237a-4cff-8db3-58902bd30dab",
   "metadata": {},
   "source": [
    "### For a single cell"
   ]
  },
  {
   "cell_type": "markdown",
   "id": "4dc54aef-3a75-4a03-9e08-d639414088f5",
   "metadata": {},
   "source": [
    "To see what masks are being used in a cell, load in the mask plane of an example cell."
   ]
  },
  {
   "cell_type": "code",
   "execution_count": 31,
   "id": "2d5a6ba3-15a6-453e-8769-5cdd3b2c20ec",
   "metadata": {
    "execution": {
     "iopub.execute_input": "2024-08-28T21:08:23.236843Z",
     "iopub.status.busy": "2024-08-28T21:08:23.236725Z",
     "iopub.status.idle": "2024-08-28T21:08:23.241284Z",
     "shell.execute_reply": "2024-08-28T21:08:23.240903Z",
     "shell.execute_reply.started": "2024-08-28T21:08:23.236832Z"
    }
   },
   "outputs": [],
   "source": [
    "cell_mask = coadd.cells[Index2D(x=0, y=0)].inner.mask"
   ]
  },
  {
   "cell_type": "code",
   "execution_count": 32,
   "id": "ec84b632-2577-4936-a544-2edd44d89881",
   "metadata": {
    "execution": {
     "iopub.execute_input": "2024-08-28T21:08:23.241870Z",
     "iopub.status.busy": "2024-08-28T21:08:23.241757Z",
     "iopub.status.idle": "2024-08-28T21:08:23.245738Z",
     "shell.execute_reply": "2024-08-28T21:08:23.245403Z",
     "shell.execute_reply.started": "2024-08-28T21:08:23.241860Z"
    }
   },
   "outputs": [
    {
     "name": "stdout",
     "output_type": "stream",
     "text": [
      "{'BAD': 0, 'CR': 3, 'CROSSTALK': 9, 'DETECTED': 5, 'DETECTED_NEGATIVE': 6, 'EDGE': 4, 'INTRP': 2, 'NOT_DEBLENDED': 10, 'NO_DATA': 8, 'SAT': 1, 'STREAK': 11, 'SUSPECT': 7, 'UNMASKEDNAN': 12}\n"
     ]
    }
   ],
   "source": [
    "print(cell_mask.getMaskPlaneDict())"
   ]
  },
  {
   "cell_type": "markdown",
   "id": "b07ef581-f268-454a-a136-8c2f987e2428",
   "metadata": {},
   "source": [
    "If you have the mask plane name, find what value is associated with it"
   ]
  },
  {
   "cell_type": "code",
   "execution_count": 33,
   "id": "1d9f8c07-1996-40e9-8748-8ece12c42186",
   "metadata": {
    "execution": {
     "iopub.execute_input": "2024-08-28T21:08:23.246453Z",
     "iopub.status.busy": "2024-08-28T21:08:23.246203Z",
     "iopub.status.idle": "2024-08-28T21:08:23.248902Z",
     "shell.execute_reply": "2024-08-28T21:08:23.248573Z",
     "shell.execute_reply.started": "2024-08-28T21:08:23.246440Z"
    }
   },
   "outputs": [
    {
     "name": "stdout",
     "output_type": "stream",
     "text": [
      "3\n"
     ]
    }
   ],
   "source": [
    "print(cell_mask.getMaskPlane('CR'))"
   ]
  },
  {
   "cell_type": "markdown",
   "id": "6f779bfa-fbdc-4e75-8fb5-ee5ddfea961d",
   "metadata": {},
   "source": [
    "Get the number of pixels with a specific mask within a cell"
   ]
  },
  {
   "cell_type": "code",
   "execution_count": 34,
   "id": "e0ee08ca-8992-4641-ad9b-505e9e0d06d8",
   "metadata": {
    "execution": {
     "iopub.execute_input": "2024-08-28T21:08:23.249531Z",
     "iopub.status.busy": "2024-08-28T21:08:23.249407Z",
     "iopub.status.idle": "2024-08-28T21:08:23.254094Z",
     "shell.execute_reply": "2024-08-28T21:08:23.253743Z",
     "shell.execute_reply.started": "2024-08-28T21:08:23.249520Z"
    }
   },
   "outputs": [
    {
     "name": "stdout",
     "output_type": "stream",
     "text": [
      "Mask used:  CR\n",
      "Mask bit number:  8\n",
      "Number of masked pixels:  244\n"
     ]
    }
   ],
   "source": [
    "mask_used = 'CR'\n",
    "print(\"Mask used: \", mask_used)\n",
    "mask_bit = cell_mask.getPlaneBitMask(mask_used)\n",
    "print(\"Mask bit number: \", mask_bit)\n",
    "num_bad_pixels = len(np.where(np.bitwise_and(cell_mask.array, mask_bit))[0])\n",
    "print(\"Number of masked pixels: \", num_bad_pixels)"
   ]
  },
  {
   "cell_type": "markdown",
   "id": "b2fefeda-da4e-43da-89b5-d509c193dd71",
   "metadata": {},
   "source": [
    "### For a whole patch"
   ]
  },
  {
   "cell_type": "code",
   "execution_count": 35,
   "id": "88b6f894-bda2-41b5-b855-d27db64c2ba6",
   "metadata": {
    "execution": {
     "iopub.execute_input": "2024-08-28T21:08:23.254683Z",
     "iopub.status.busy": "2024-08-28T21:08:23.254568Z",
     "iopub.status.idle": "2024-08-28T21:08:23.304960Z",
     "shell.execute_reply": "2024-08-28T21:08:23.304537Z",
     "shell.execute_reply.started": "2024-08-28T21:08:23.254672Z"
    }
   },
   "outputs": [
    {
     "name": "stdout",
     "output_type": "stream",
     "text": [
      "Mask used:  CR\n",
      "Mask bit number:  8\n",
      "Number of masked pixels:  84878\n"
     ]
    }
   ],
   "source": [
    "mask_used = 'CR'\n",
    "print(\"Mask used: \", mask_used)\n",
    "mask_bit = stitch_coadd.mask.getPlaneBitMask(mask_used)\n",
    "print(\"Mask bit number: \", mask_bit)\n",
    "num_bad_pixels = len(np.where(np.bitwise_and(stitch_coadd.mask.array, mask_bit))[0])\n",
    "print(\"Number of masked pixels: \", num_bad_pixels)"
   ]
  },
  {
   "cell_type": "markdown",
   "id": "508f1059-4dc7-4eed-b6fa-75f67a48c2de",
   "metadata": {},
   "source": [
    "### Plot distribution of masked pixels"
   ]
  },
  {
   "cell_type": "code",
   "execution_count": 36,
   "id": "867700f2-4c31-4bc0-aeb5-fd6ebde3da6e",
   "metadata": {
    "execution": {
     "iopub.execute_input": "2024-08-28T21:08:23.305849Z",
     "iopub.status.busy": "2024-08-28T21:08:23.305569Z",
     "iopub.status.idle": "2024-08-28T21:08:23.782649Z",
     "shell.execute_reply": "2024-08-28T21:08:23.782257Z",
     "shell.execute_reply.started": "2024-08-28T21:08:23.305834Z"
    }
   },
   "outputs": [
    {
     "data": {
      "text/plain": [
       "Text(0, 0.5, 'Cell count')"
      ]
     },
     "execution_count": 36,
     "metadata": {},
     "output_type": "execute_result"
    },
    {
     "data": {
      "image/png": "[encoded data removed]",
      "text/plain": [
       "<Figure size 640x480 with 1 Axes>"
      ]
     },
     "metadata": {},
     "output_type": "display_data"
    }
   ],
   "source": [
    "num_mask_pix = []\n",
    "plot_mask = 'CR'\n",
    "# for now assume the bit is the same for each cell, and use the bit from the first cell to avoid calling the bit number 400+ times\n",
    "# TO-DO check that each cell uses the same bits for each mask\n",
    "some_cell = coadd.cells[cell_list_filled[0]]\n",
    "mask_bit = some_cell.inner.mask.getPlaneBitMask(plot_mask)\n",
    "\n",
    "for cell_index in cell_list_filled:\n",
    "    \n",
    "    cell_mask = coadd.cells[cell_index]\n",
    "    num_bad_pixels = len(np.where(np.bitwise_and(cell_mask.inner.mask.array, mask_bit))[0])\n",
    "    # optionally print cells that contain the defined masked pixels\n",
    "    # if num_bad_pixels > 0:\n",
    "    #     print(cell_index)\n",
    "    num_mask_pix.append(num_bad_pixels)\n",
    "    \n",
    "num_mask_pix = np.array(num_mask_pix)\n",
    "\n",
    "# plot data as a histogram\n",
    "bins = np.arange(0, np.max(num_mask_pix)+1, (np.max(num_mask_pix)+1)/20)\n",
    "plt.hist(num_mask_pix, bins)\n",
    "plt.title(f\"Mask: {plot_mask}\")\n",
    "plt.xlabel(f\"Number of {plot_mask} pixels in a cell\")\n",
    "plt.yscale(\"log\")\n",
    "plt.ylabel(\"Cell count\")"
   ]
  },
  {
   "cell_type": "markdown",
   "id": "28973d76-3a0b-48bf-9203-6a1de8db7b66",
   "metadata": {},
   "source": [
    "### Display the mask plane\n",
    "\n",
    "See the warp and example cell mask planes."
   ]
  },
  {
   "cell_type": "code",
   "execution_count": 37,
   "id": "181f6f78-cad4-43a1-b3fb-43751966eba4",
   "metadata": {
    "execution": {
     "iopub.execute_input": "2024-08-28T21:08:23.783365Z",
     "iopub.status.busy": "2024-08-28T21:08:23.783233Z",
     "iopub.status.idle": "2024-08-28T21:08:23.904763Z",
     "shell.execute_reply": "2024-08-28T21:08:23.904343Z",
     "shell.execute_reply.started": "2024-08-28T21:08:23.783353Z"
    }
   },
   "outputs": [],
   "source": [
    "display1 = afwDisplay.Display(frame=1)\n",
    "display1.mtv(coadd.cells[Index2D(x=11,y=11)].outer.mask)\n",
    "display2 = afwDisplay.Display(frame=2)\n",
    "display2.mtv(masked_warp.mask)"
   ]
  },
  {
   "cell_type": "code",
   "execution_count": null,
   "id": "fffc4cf6-c070-4c99-8a66-88ecd7a90bad",
   "metadata": {},
   "outputs": [],
   "source": []
  }
 ],
 "metadata": {
  "kernelspec": {
   "display_name": "LSST",
   "language": "python",
   "name": "lsst"
  },
  "language_info": {
   "codemirror_mode": {
    "name": "ipython",
    "version": 3
   },
   "file_extension": ".py",
   "mimetype": "text/x-python",
   "name": "python",
   "nbconvert_exporter": "python",
   "pygments_lexer": "ipython3",
   "version": "3.11.9"
  }
 },
 "nbformat": 4,
 "nbformat_minor": 5
}
