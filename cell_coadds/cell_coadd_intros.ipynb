{
 "cells": [
  {
   "cell_type": "markdown",
   "id": "b55162d2-78c3-46d6-af64-1037714dc578",
   "metadata": {},
   "source": [
    "# Working with cell-based coadds"
   ]
  },
  {
   "cell_type": "markdown",
   "id": "18264cf0-672a-405f-aa60-0f646e474ad2",
   "metadata": {},
   "source": [
    "Last working weekly: w2024_28"
   ]
  },
  {
   "cell_type": "markdown",
   "id": "ca044724-f6c6-4a4b-ae8c-8bd7b46a55e5",
   "metadata": {},
   "source": [
    "## Load in relevant data"
   ]
  },
  {
   "cell_type": "code",
   "execution_count": 1,
   "id": "69cc91dd-84b2-4068-a569-a982f046293d",
   "metadata": {
    "execution": {
     "iopub.execute_input": "2024-07-15T22:49:06.311072Z",
     "iopub.status.busy": "2024-07-15T22:49:06.310951Z",
     "iopub.status.idle": "2024-07-15T22:49:08.199083Z",
     "shell.execute_reply": "2024-07-15T22:49:08.198628Z",
     "shell.execute_reply.started": "2024-07-15T22:49:06.311059Z"
    }
   },
   "outputs": [],
   "source": [
    "REPO = '/sdf/data/rubin/repo/main/'\n",
    "\n",
    "from lsst.daf.butler import Butler\n",
    "from pprint import pprint\n",
    "import lsst.afw.image as afwImage\n",
    "from lsst.skymap import Index2D\n",
    "import numpy as np\n",
    "import matplotlib as mpl\n",
    "from matplotlib import pyplot as plt\n",
    "\n",
    "%matplotlib inline\n",
    "\n",
    "butler = Butler(REPO)\n",
    "registry = butler.registry"
   ]
  },
  {
   "cell_type": "markdown",
   "id": "6cc1e5a0-a93a-4af4-85ef-09bc6e444a63",
   "metadata": {},
   "source": [
    "Confirm that local packages are being used, tested with `pipe_tasks` and `drp_tasks`. Need to check this at least until these package versions are in the main stack."
   ]
  },
  {
   "cell_type": "code",
   "execution_count": 2,
   "id": "7e7f4bb8-7722-42a6-833b-1a333d1074cf",
   "metadata": {
    "execution": {
     "iopub.execute_input": "2024-07-15T22:49:08.199825Z",
     "iopub.status.busy": "2024-07-15T22:49:08.199697Z",
     "iopub.status.idle": "2024-07-15T22:49:09.450579Z",
     "shell.execute_reply": "2024-07-15T22:49:09.450037Z",
     "shell.execute_reply.started": "2024-07-15T22:49:08.199812Z"
    }
   },
   "outputs": [
    {
     "name": "stdout",
     "output_type": "stream",
     "text": [
      "/opt/lsst/software/stack/stack/miniconda3-py38_4.9.2-8.0.0/Linux64/pipe_tasks/gf226f04e1d+4607d2a8d7/python/lsst/pipe/tasks/__init__.py\n",
      "/opt/lsst/software/stack/stack/miniconda3-py38_4.9.2-8.0.0/Linux64/drp_tasks/g5d9d3f8791+31958832b9/python/lsst/drp/tasks/__init__.py\n"
     ]
    }
   ],
   "source": [
    "import lsst.pipe.tasks\n",
    "import lsst.drp.tasks\n",
    "print(lsst.pipe.tasks.__file__)\n",
    "print(lsst.drp.tasks.__file__)"
   ]
  },
  {
   "cell_type": "markdown",
   "id": "60288f7d-c145-4966-8a5d-ef021a7d61f3",
   "metadata": {},
   "source": [
    "Define the collection of interest"
   ]
  },
  {
   "cell_type": "code",
   "execution_count": 3,
   "id": "0163cd89-3a6f-4e08-a5ac-e09a940cac3c",
   "metadata": {
    "execution": {
     "iopub.execute_input": "2024-07-15T22:49:09.451877Z",
     "iopub.status.busy": "2024-07-15T22:49:09.451291Z",
     "iopub.status.idle": "2024-07-15T22:49:09.454191Z",
     "shell.execute_reply": "2024-07-15T22:49:09.453745Z",
     "shell.execute_reply.started": "2024-07-15T22:49:09.451861Z"
    }
   },
   "outputs": [],
   "source": [
    "# collection = 'u/mgorsuch/assemble_cell_coadd_patch_61/20240403T183342Z' # for the patch 61 collection, with 8 detected warps.\n",
    "collection = 'u/mgorsuch/assemble_cell_coadd_patch_61_d0508/20240509T165409Z' # updated patch 61 collection"
   ]
  },
  {
   "cell_type": "markdown",
   "id": "e74712da-829b-415c-bddb-9cbf439b5ca6",
   "metadata": {},
   "source": [
    "## Example butler queries"
   ]
  },
  {
   "cell_type": "markdown",
   "id": "408d5c98-0d2a-497e-a8e9-a0c0d0dcc70c",
   "metadata": {},
   "source": [
    "Check which dataset types are registered in the collection."
   ]
  },
  {
   "cell_type": "code",
   "execution_count": 4,
   "id": "73903793-f95f-4c72-94e9-359bcd39f138",
   "metadata": {
    "execution": {
     "iopub.execute_input": "2024-07-15T22:49:09.455111Z",
     "iopub.status.busy": "2024-07-15T22:49:09.454785Z",
     "iopub.status.idle": "2024-07-15T22:49:37.647031Z",
     "shell.execute_reply": "2024-07-15T22:49:37.646585Z",
     "shell.execute_reply.started": "2024-07-15T22:49:09.455089Z"
    },
    "scrolled": true
   },
   "outputs": [
    {
     "name": "stdout",
     "output_type": "stream",
     "text": [
      "DatasetType('packages', {}, Packages)\n",
      "DatasetType('deepCoadd_directWarp', {band, instrument, skymap, day_obs, physical_filter, tract, patch, visit}, ExposureF)\n",
      "DatasetType('makeDirectWarp_config', {}, Config)\n",
      "DatasetType('deepCoaddCell', {band, skymap, tract, patch}, MultipleCellCoadd)\n",
      "DatasetType('deepCoadd_directWarp_noise0', {band, instrument, skymap, day_obs, physical_filter, tract, patch, visit}, MaskedImageF)\n",
      "DatasetType('makeDirectWarp_metadata', {band, instrument, skymap, day_obs, physical_filter, tract, patch, visit}, TaskMetadata)\n",
      "DatasetType('makeDirectWarp_log', {band, instrument, skymap, day_obs, physical_filter, tract, patch, visit}, ButlerLogRecords)\n",
      "DatasetType('assembleCellCoadd_config', {}, Config)\n",
      "DatasetType('assembleCellCoadd_metadata', {band, skymap, tract, patch}, TaskMetadata)\n",
      "DatasetType('assembleCellCoadd_log', {band, skymap, tract, patch}, ButlerLogRecords)\n",
      "DatasetType('deepCoadd_directWarp_maskedFraction', {band, instrument, skymap, day_obs, physical_filter, tract, patch, visit}, ImageF)\n"
     ]
    }
   ],
   "source": [
    "for datasetType in registry.queryDatasetTypes():\n",
    "    if registry.queryDatasets(datasetType, collections=collection).any(execute=False, exact=False):\n",
    "        print(datasetType)"
   ]
  },
  {
   "cell_type": "markdown",
   "id": "ed9b7c51-a6da-46ff-98ba-2e47cb1164ac",
   "metadata": {},
   "source": [
    "See how many objects of `deepCoadd_directWarp` are in the collection"
   ]
  },
  {
   "cell_type": "code",
   "execution_count": 5,
   "id": "519f65d4-7dca-4ba5-ad36-28a7aa9e4b13",
   "metadata": {
    "execution": {
     "iopub.execute_input": "2024-07-15T22:49:37.647759Z",
     "iopub.status.busy": "2024-07-15T22:49:37.647626Z",
     "iopub.status.idle": "2024-07-15T22:49:37.883162Z",
     "shell.execute_reply": "2024-07-15T22:49:37.882765Z",
     "shell.execute_reply.started": "2024-07-15T22:49:37.647746Z"
    },
    "scrolled": true
   },
   "outputs": [
    {
     "name": "stdout",
     "output_type": "stream",
     "text": [
      "{instrument: 'HSC', skymap: 'hsc_rings_cells_v1', tract: 9813, patch: 61, visit: 1242, band: 'i', day_obs: 20140328, physical_filter: 'HSC-I'}\n",
      "{instrument: 'HSC', skymap: 'hsc_rings_cells_v1', tract: 9813, patch: 61, visit: 1242, band: 'i', day_obs: 20140328, physical_filter: 'HSC-I'}\n",
      "{instrument: 'HSC', skymap: 'hsc_rings_cells_v1', tract: 9813, patch: 61, visit: 1242, band: 'i', day_obs: 20140328, physical_filter: 'HSC-I'}\n",
      "{instrument: 'HSC', skymap: 'hsc_rings_cells_v1', tract: 9813, patch: 61, visit: 1242, band: 'i', day_obs: 20140328, physical_filter: 'HSC-I'}\n",
      "{instrument: 'HSC', skymap: 'hsc_rings_cells_v1', tract: 9813, patch: 61, visit: 1242, band: 'i', day_obs: 20140328, physical_filter: 'HSC-I'}\n",
      "{instrument: 'HSC', skymap: 'hsc_rings_cells_v1', tract: 9813, patch: 61, visit: 1242, band: 'i', day_obs: 20140328, physical_filter: 'HSC-I'}\n",
      "{instrument: 'HSC', skymap: 'hsc_rings_cells_v1', tract: 9813, patch: 61, visit: 30490, band: 'i', day_obs: 20150521, physical_filter: 'HSC-I'}\n",
      "{instrument: 'HSC', skymap: 'hsc_rings_cells_v1', tract: 9813, patch: 61, visit: 30490, band: 'i', day_obs: 20150521, physical_filter: 'HSC-I'}\n",
      "{instrument: 'HSC', skymap: 'hsc_rings_cells_v1', tract: 9813, patch: 61, visit: 30490, band: 'i', day_obs: 20150521, physical_filter: 'HSC-I'}\n",
      "{instrument: 'HSC', skymap: 'hsc_rings_cells_v1', tract: 9813, patch: 61, visit: 30490, band: 'i', day_obs: 20150521, physical_filter: 'HSC-I'}\n",
      "{instrument: 'HSC', skymap: 'hsc_rings_cells_v1', tract: 9813, patch: 61, visit: 30490, band: 'i', day_obs: 20150521, physical_filter: 'HSC-I'}\n",
      "{instrument: 'HSC', skymap: 'hsc_rings_cells_v1', tract: 9813, patch: 61, visit: 30490, band: 'i', day_obs: 20150521, physical_filter: 'HSC-I'}\n",
      "{instrument: 'HSC', skymap: 'hsc_rings_cells_v1', tract: 9813, patch: 61, visit: 19694, band: 'i', day_obs: 20150121, physical_filter: 'HSC-I'}\n",
      "{instrument: 'HSC', skymap: 'hsc_rings_cells_v1', tract: 9813, patch: 61, visit: 19694, band: 'i', day_obs: 20150121, physical_filter: 'HSC-I'}\n",
      "{instrument: 'HSC', skymap: 'hsc_rings_cells_v1', tract: 9813, patch: 61, visit: 19694, band: 'i', day_obs: 20150121, physical_filter: 'HSC-I'}\n",
      "{instrument: 'HSC', skymap: 'hsc_rings_cells_v1', tract: 9813, patch: 61, visit: 19694, band: 'i', day_obs: 20150121, physical_filter: 'HSC-I'}\n",
      "{instrument: 'HSC', skymap: 'hsc_rings_cells_v1', tract: 9813, patch: 61, visit: 19694, band: 'i', day_obs: 20150121, physical_filter: 'HSC-I'}\n",
      "{instrument: 'HSC', skymap: 'hsc_rings_cells_v1', tract: 9813, patch: 61, visit: 19694, band: 'i', day_obs: 20150121, physical_filter: 'HSC-I'}\n",
      "{instrument: 'HSC', skymap: 'hsc_rings_cells_v1', tract: 9813, patch: 61, visit: 19696, band: 'i', day_obs: 20150121, physical_filter: 'HSC-I'}\n",
      "{instrument: 'HSC', skymap: 'hsc_rings_cells_v1', tract: 9813, patch: 61, visit: 19696, band: 'i', day_obs: 20150121, physical_filter: 'HSC-I'}\n",
      "{instrument: 'HSC', skymap: 'hsc_rings_cells_v1', tract: 9813, patch: 61, visit: 19696, band: 'i', day_obs: 20150121, physical_filter: 'HSC-I'}\n",
      "{instrument: 'HSC', skymap: 'hsc_rings_cells_v1', tract: 9813, patch: 61, visit: 19696, band: 'i', day_obs: 20150121, physical_filter: 'HSC-I'}\n",
      "{instrument: 'HSC', skymap: 'hsc_rings_cells_v1', tract: 9813, patch: 61, visit: 19696, band: 'i', day_obs: 20150121, physical_filter: 'HSC-I'}\n",
      "{instrument: 'HSC', skymap: 'hsc_rings_cells_v1', tract: 9813, patch: 61, visit: 19696, band: 'i', day_obs: 20150121, physical_filter: 'HSC-I'}\n",
      "{instrument: 'HSC', skymap: 'hsc_rings_cells_v1', tract: 9813, patch: 61, visit: 30482, band: 'i', day_obs: 20150521, physical_filter: 'HSC-I'}\n",
      "{instrument: 'HSC', skymap: 'hsc_rings_cells_v1', tract: 9813, patch: 61, visit: 30482, band: 'i', day_obs: 20150521, physical_filter: 'HSC-I'}\n",
      "{instrument: 'HSC', skymap: 'hsc_rings_cells_v1', tract: 9813, patch: 61, visit: 30482, band: 'i', day_obs: 20150521, physical_filter: 'HSC-I'}\n",
      "{instrument: 'HSC', skymap: 'hsc_rings_cells_v1', tract: 9813, patch: 61, visit: 30482, band: 'i', day_obs: 20150521, physical_filter: 'HSC-I'}\n",
      "{instrument: 'HSC', skymap: 'hsc_rings_cells_v1', tract: 9813, patch: 61, visit: 30482, band: 'i', day_obs: 20150521, physical_filter: 'HSC-I'}\n",
      "{instrument: 'HSC', skymap: 'hsc_rings_cells_v1', tract: 9813, patch: 61, visit: 30482, band: 'i', day_obs: 20150521, physical_filter: 'HSC-I'}\n",
      "{instrument: 'HSC', skymap: 'hsc_rings_cells_v1', tract: 9813, patch: 61, visit: 1248, band: 'i', day_obs: 20140328, physical_filter: 'HSC-I'}\n",
      "{instrument: 'HSC', skymap: 'hsc_rings_cells_v1', tract: 9813, patch: 61, visit: 1248, band: 'i', day_obs: 20140328, physical_filter: 'HSC-I'}\n",
      "{instrument: 'HSC', skymap: 'hsc_rings_cells_v1', tract: 9813, patch: 61, visit: 1248, band: 'i', day_obs: 20140328, physical_filter: 'HSC-I'}\n",
      "{instrument: 'HSC', skymap: 'hsc_rings_cells_v1', tract: 9813, patch: 61, visit: 1248, band: 'i', day_obs: 20140328, physical_filter: 'HSC-I'}\n",
      "{instrument: 'HSC', skymap: 'hsc_rings_cells_v1', tract: 9813, patch: 61, visit: 1248, band: 'i', day_obs: 20140328, physical_filter: 'HSC-I'}\n",
      "{instrument: 'HSC', skymap: 'hsc_rings_cells_v1', tract: 9813, patch: 61, visit: 1248, band: 'i', day_obs: 20140328, physical_filter: 'HSC-I'}\n",
      "{instrument: 'HSC', skymap: 'hsc_rings_cells_v1', tract: 9813, patch: 61, visit: 19680, band: 'i', day_obs: 20150121, physical_filter: 'HSC-I'}\n",
      "{instrument: 'HSC', skymap: 'hsc_rings_cells_v1', tract: 9813, patch: 61, visit: 19680, band: 'i', day_obs: 20150121, physical_filter: 'HSC-I'}\n",
      "{instrument: 'HSC', skymap: 'hsc_rings_cells_v1', tract: 9813, patch: 61, visit: 19680, band: 'i', day_obs: 20150121, physical_filter: 'HSC-I'}\n",
      "{instrument: 'HSC', skymap: 'hsc_rings_cells_v1', tract: 9813, patch: 61, visit: 19680, band: 'i', day_obs: 20150121, physical_filter: 'HSC-I'}\n",
      "{instrument: 'HSC', skymap: 'hsc_rings_cells_v1', tract: 9813, patch: 61, visit: 19680, band: 'i', day_obs: 20150121, physical_filter: 'HSC-I'}\n",
      "{instrument: 'HSC', skymap: 'hsc_rings_cells_v1', tract: 9813, patch: 61, visit: 19680, band: 'i', day_obs: 20150121, physical_filter: 'HSC-I'}\n",
      "{instrument: 'HSC', skymap: 'hsc_rings_cells_v1', tract: 9813, patch: 61, visit: 19684, band: 'i', day_obs: 20150121, physical_filter: 'HSC-I'}\n",
      "{instrument: 'HSC', skymap: 'hsc_rings_cells_v1', tract: 9813, patch: 61, visit: 19684, band: 'i', day_obs: 20150121, physical_filter: 'HSC-I'}\n",
      "{instrument: 'HSC', skymap: 'hsc_rings_cells_v1', tract: 9813, patch: 61, visit: 19684, band: 'i', day_obs: 20150121, physical_filter: 'HSC-I'}\n",
      "{instrument: 'HSC', skymap: 'hsc_rings_cells_v1', tract: 9813, patch: 61, visit: 19684, band: 'i', day_obs: 20150121, physical_filter: 'HSC-I'}\n",
      "{instrument: 'HSC', skymap: 'hsc_rings_cells_v1', tract: 9813, patch: 61, visit: 19684, band: 'i', day_obs: 20150121, physical_filter: 'HSC-I'}\n",
      "{instrument: 'HSC', skymap: 'hsc_rings_cells_v1', tract: 9813, patch: 61, visit: 19684, band: 'i', day_obs: 20150121, physical_filter: 'HSC-I'}\n"
     ]
    }
   ],
   "source": [
    "for ref in butler.registry.queryDatasets('deepCoadd_directWarp', physical_filter='HSC-I', collections=collection, instrument='HSC'):\n",
    "    print(ref.dataId)"
   ]
  },
  {
   "cell_type": "markdown",
   "id": "472ec908-2f1e-4f74-bb47-f1d2c6150221",
   "metadata": {},
   "source": [
    "## Load in example warp"
   ]
  },
  {
   "cell_type": "code",
   "execution_count": 6,
   "id": "5092ada0-884d-4915-885b-249fedee8765",
   "metadata": {
    "execution": {
     "iopub.execute_input": "2024-07-15T22:49:37.883796Z",
     "iopub.status.busy": "2024-07-15T22:49:37.883672Z",
     "iopub.status.idle": "2024-07-15T22:49:39.393362Z",
     "shell.execute_reply": "2024-07-15T22:49:39.392902Z",
     "shell.execute_reply.started": "2024-07-15T22:49:37.883784Z"
    }
   },
   "outputs": [],
   "source": [
    "warp = butler.get('deepCoadd_directWarp',\n",
    "                   collections = collection,\n",
    "                   instrument='HSC',\n",
    "                   skymap = 'hsc_rings_cells_v1',\n",
    "                   tract = 9813,\n",
    "                   patch = 61,\n",
    "                   visit = 30482)"
   ]
  },
  {
   "cell_type": "markdown",
   "id": "94e5ead8-e885-438d-8264-0d02ef89b893",
   "metadata": {},
   "source": [
    "Take a look at the cell coadd structure"
   ]
  },
  {
   "cell_type": "code",
   "execution_count": 7,
   "id": "103d19c0-9841-4641-9aa5-a0f10e3d412a",
   "metadata": {
    "execution": {
     "iopub.execute_input": "2024-07-15T22:49:39.394389Z",
     "iopub.status.busy": "2024-07-15T22:49:39.393968Z",
     "iopub.status.idle": "2024-07-15T22:49:39.882219Z",
     "shell.execute_reply": "2024-07-15T22:49:39.881738Z",
     "shell.execute_reply.started": "2024-07-15T22:49:39.394375Z"
    }
   },
   "outputs": [],
   "source": [
    "coadd = butler.get('deepCoaddCell', \n",
    "                     collections=collection, \n",
    "                     instrument='HSC', \n",
    "                     skymap = 'hsc_rings_cells_v1', \n",
    "                     tract = 9813, \n",
    "                     patch=61,\n",
    "                     band='i',)"
   ]
  },
  {
   "cell_type": "markdown",
   "id": "dd26f7ce-0b32-487c-ac37-c3fef1c04af5",
   "metadata": {},
   "source": [
    "The cells within the produced coadd can be \"stitched\" together to produce a single coadd structure. Useful for displaying the image of an entire patch formed by combining all cells."
   ]
  },
  {
   "cell_type": "code",
   "execution_count": 8,
   "id": "0e1bdb85-9b24-4662-8f11-8bbbff10d29e",
   "metadata": {
    "execution": {
     "iopub.execute_input": "2024-07-15T22:49:39.882943Z",
     "iopub.status.busy": "2024-07-15T22:49:39.882811Z",
     "iopub.status.idle": "2024-07-15T22:49:39.885197Z",
     "shell.execute_reply": "2024-07-15T22:49:39.884839Z",
     "shell.execute_reply.started": "2024-07-15T22:49:39.882930Z"
    }
   },
   "outputs": [],
   "source": [
    "stitch_coadd = coadd.stitch()"
   ]
  },
  {
   "cell_type": "markdown",
   "id": "6f65c754-cb33-44e7-9087-e6053af28a7c",
   "metadata": {},
   "source": [
    "Check the number of cells with inputs. For instance, the patch 37 contains 85 cells with inputs, while patch 61 has all 484 cells with inputs (484=22x22 cells in a patch, with this configuration)."
   ]
  },
  {
   "cell_type": "code",
   "execution_count": 9,
   "id": "41404e4a-1963-4317-a8da-86387a388a10",
   "metadata": {
    "execution": {
     "iopub.execute_input": "2024-07-15T22:49:39.887099Z",
     "iopub.status.busy": "2024-07-15T22:49:39.886973Z",
     "iopub.status.idle": "2024-07-15T22:49:39.889555Z",
     "shell.execute_reply": "2024-07-15T22:49:39.889193Z",
     "shell.execute_reply.started": "2024-07-15T22:49:39.887087Z"
    }
   },
   "outputs": [
    {
     "name": "stdout",
     "output_type": "stream",
     "text": [
      "484\n"
     ]
    }
   ],
   "source": [
    "cell_num = len(list(coadd.cells.keys()))\n",
    "print(cell_num)"
   ]
  },
  {
   "cell_type": "markdown",
   "id": "1bff2d27-2711-47d0-8abf-29725fcf5b07",
   "metadata": {},
   "source": [
    "We can see a list of the available cells with their index information:"
   ]
  },
  {
   "cell_type": "code",
   "execution_count": 10,
   "id": "ddb1a6fa-ef7e-4586-b402-84e61d581d64",
   "metadata": {
    "execution": {
     "iopub.execute_input": "2024-07-15T22:49:39.890116Z",
     "iopub.status.busy": "2024-07-15T22:49:39.889996Z",
     "iopub.status.idle": "2024-07-15T22:49:39.894661Z",
     "shell.execute_reply": "2024-07-15T22:49:39.894290Z",
     "shell.execute_reply.started": "2024-07-15T22:49:39.890104Z"
    },
    "scrolled": true
   },
   "outputs": [
    {
     "name": "stdout",
     "output_type": "stream",
     "text": [
      "[Index2D(x=0, y=0), Index2D(x=1, y=0), Index2D(x=2, y=0), Index2D(x=3, y=0), Index2D(x=4, y=0), Index2D(x=5, y=0), Index2D(x=6, y=0), Index2D(x=7, y=0), Index2D(x=8, y=0), Index2D(x=9, y=0), Index2D(x=10, y=0), Index2D(x=11, y=0), Index2D(x=12, y=0), Index2D(x=13, y=0), Index2D(x=14, y=0), Index2D(x=15, y=0), Index2D(x=16, y=0), Index2D(x=17, y=0), Index2D(x=18, y=0), Index2D(x=19, y=0), Index2D(x=20, y=0), Index2D(x=21, y=0), Index2D(x=0, y=1), Index2D(x=1, y=1), Index2D(x=2, y=1), Index2D(x=3, y=1), Index2D(x=4, y=1), Index2D(x=5, y=1), Index2D(x=6, y=1), Index2D(x=7, y=1), Index2D(x=8, y=1), Index2D(x=9, y=1), Index2D(x=10, y=1), Index2D(x=11, y=1), Index2D(x=12, y=1), Index2D(x=13, y=1), Index2D(x=14, y=1), Index2D(x=15, y=1), Index2D(x=16, y=1), Index2D(x=17, y=1), Index2D(x=18, y=1), Index2D(x=19, y=1), Index2D(x=20, y=1), Index2D(x=21, y=1), Index2D(x=0, y=2), Index2D(x=1, y=2), Index2D(x=2, y=2), Index2D(x=3, y=2), Index2D(x=4, y=2), Index2D(x=5, y=2), Index2D(x=6, y=2), Index2D(x=7, y=2), Index2D(x=8, y=2), Index2D(x=9, y=2), Index2D(x=10, y=2), Index2D(x=11, y=2), Index2D(x=12, y=2), Index2D(x=13, y=2), Index2D(x=14, y=2), Index2D(x=15, y=2), Index2D(x=16, y=2), Index2D(x=17, y=2), Index2D(x=18, y=2), Index2D(x=19, y=2), Index2D(x=20, y=2), Index2D(x=21, y=2), Index2D(x=0, y=3), Index2D(x=1, y=3), Index2D(x=2, y=3), Index2D(x=3, y=3), Index2D(x=4, y=3), Index2D(x=5, y=3), Index2D(x=6, y=3), Index2D(x=7, y=3), Index2D(x=8, y=3), Index2D(x=9, y=3), Index2D(x=10, y=3), Index2D(x=11, y=3), Index2D(x=12, y=3), Index2D(x=13, y=3), Index2D(x=14, y=3), Index2D(x=15, y=3), Index2D(x=16, y=3), Index2D(x=17, y=3), Index2D(x=18, y=3), Index2D(x=19, y=3), Index2D(x=20, y=3), Index2D(x=21, y=3), Index2D(x=0, y=4), Index2D(x=1, y=4), Index2D(x=2, y=4), Index2D(x=3, y=4), Index2D(x=4, y=4), Index2D(x=5, y=4), Index2D(x=6, y=4), Index2D(x=7, y=4), Index2D(x=8, y=4), Index2D(x=9, y=4), Index2D(x=10, y=4), Index2D(x=11, y=4), Index2D(x=12, y=4), Index2D(x=13, y=4), Index2D(x=14, y=4), Index2D(x=15, y=4), Index2D(x=16, y=4), Index2D(x=17, y=4), Index2D(x=18, y=4), Index2D(x=19, y=4), Index2D(x=20, y=4), Index2D(x=21, y=4), Index2D(x=0, y=5), Index2D(x=1, y=5), Index2D(x=2, y=5), Index2D(x=3, y=5), Index2D(x=4, y=5), Index2D(x=5, y=5), Index2D(x=6, y=5), Index2D(x=7, y=5), Index2D(x=8, y=5), Index2D(x=9, y=5), Index2D(x=10, y=5), Index2D(x=11, y=5), Index2D(x=12, y=5), Index2D(x=13, y=5), Index2D(x=14, y=5), Index2D(x=15, y=5), Index2D(x=16, y=5), Index2D(x=17, y=5), Index2D(x=18, y=5), Index2D(x=19, y=5), Index2D(x=20, y=5), Index2D(x=21, y=5), Index2D(x=0, y=6), Index2D(x=1, y=6), Index2D(x=2, y=6), Index2D(x=3, y=6), Index2D(x=4, y=6), Index2D(x=5, y=6), Index2D(x=6, y=6), Index2D(x=7, y=6), Index2D(x=8, y=6), Index2D(x=9, y=6), Index2D(x=10, y=6), Index2D(x=11, y=6), Index2D(x=12, y=6), Index2D(x=13, y=6), Index2D(x=14, y=6), Index2D(x=15, y=6), Index2D(x=16, y=6), Index2D(x=17, y=6), Index2D(x=18, y=6), Index2D(x=19, y=6), Index2D(x=20, y=6), Index2D(x=21, y=6), Index2D(x=0, y=7), Index2D(x=1, y=7), Index2D(x=2, y=7), Index2D(x=3, y=7), Index2D(x=4, y=7), Index2D(x=5, y=7), Index2D(x=6, y=7), Index2D(x=7, y=7), Index2D(x=8, y=7), Index2D(x=9, y=7), Index2D(x=10, y=7), Index2D(x=11, y=7), Index2D(x=12, y=7), Index2D(x=13, y=7), Index2D(x=14, y=7), Index2D(x=15, y=7), Index2D(x=16, y=7), Index2D(x=17, y=7), Index2D(x=18, y=7), Index2D(x=19, y=7), Index2D(x=20, y=7), Index2D(x=21, y=7), Index2D(x=0, y=8), Index2D(x=1, y=8), Index2D(x=2, y=8), Index2D(x=3, y=8), Index2D(x=4, y=8), Index2D(x=5, y=8), Index2D(x=6, y=8), Index2D(x=7, y=8), Index2D(x=8, y=8), Index2D(x=9, y=8), Index2D(x=10, y=8), Index2D(x=11, y=8), Index2D(x=12, y=8), Index2D(x=13, y=8), Index2D(x=14, y=8), Index2D(x=15, y=8), Index2D(x=16, y=8), Index2D(x=17, y=8), Index2D(x=18, y=8), Index2D(x=19, y=8), Index2D(x=20, y=8), Index2D(x=21, y=8), Index2D(x=0, y=9), Index2D(x=1, y=9), Index2D(x=2, y=9), Index2D(x=3, y=9), Index2D(x=4, y=9), Index2D(x=5, y=9), Index2D(x=6, y=9), Index2D(x=7, y=9), Index2D(x=8, y=9), Index2D(x=9, y=9), Index2D(x=10, y=9), Index2D(x=11, y=9), Index2D(x=12, y=9), Index2D(x=13, y=9), Index2D(x=14, y=9), Index2D(x=15, y=9), Index2D(x=16, y=9), Index2D(x=17, y=9), Index2D(x=18, y=9), Index2D(x=19, y=9), Index2D(x=20, y=9), Index2D(x=21, y=9), Index2D(x=0, y=10), Index2D(x=1, y=10), Index2D(x=2, y=10), Index2D(x=3, y=10), Index2D(x=4, y=10), Index2D(x=5, y=10), Index2D(x=6, y=10), Index2D(x=7, y=10), Index2D(x=8, y=10), Index2D(x=9, y=10), Index2D(x=10, y=10), Index2D(x=11, y=10), Index2D(x=12, y=10), Index2D(x=13, y=10), Index2D(x=14, y=10), Index2D(x=15, y=10), Index2D(x=16, y=10), Index2D(x=17, y=10), Index2D(x=18, y=10), Index2D(x=19, y=10), Index2D(x=20, y=10), Index2D(x=21, y=10), Index2D(x=0, y=11), Index2D(x=1, y=11), Index2D(x=2, y=11), Index2D(x=3, y=11), Index2D(x=4, y=11), Index2D(x=5, y=11), Index2D(x=6, y=11), Index2D(x=7, y=11), Index2D(x=8, y=11), Index2D(x=9, y=11), Index2D(x=10, y=11), Index2D(x=11, y=11), Index2D(x=12, y=11), Index2D(x=13, y=11), Index2D(x=14, y=11), Index2D(x=15, y=11), Index2D(x=16, y=11), Index2D(x=17, y=11), Index2D(x=18, y=11), Index2D(x=19, y=11), Index2D(x=20, y=11), Index2D(x=21, y=11), Index2D(x=0, y=12), Index2D(x=1, y=12), Index2D(x=2, y=12), Index2D(x=3, y=12), Index2D(x=4, y=12), Index2D(x=5, y=12), Index2D(x=6, y=12), Index2D(x=7, y=12), Index2D(x=8, y=12), Index2D(x=9, y=12), Index2D(x=10, y=12), Index2D(x=11, y=12), Index2D(x=12, y=12), Index2D(x=13, y=12), Index2D(x=14, y=12), Index2D(x=15, y=12), Index2D(x=16, y=12), Index2D(x=17, y=12), Index2D(x=18, y=12), Index2D(x=19, y=12), Index2D(x=20, y=12), Index2D(x=21, y=12), Index2D(x=0, y=13), Index2D(x=1, y=13), Index2D(x=2, y=13), Index2D(x=3, y=13), Index2D(x=4, y=13), Index2D(x=5, y=13), Index2D(x=6, y=13), Index2D(x=7, y=13), Index2D(x=8, y=13), Index2D(x=9, y=13), Index2D(x=10, y=13), Index2D(x=11, y=13), Index2D(x=12, y=13), Index2D(x=13, y=13), Index2D(x=14, y=13), Index2D(x=15, y=13), Index2D(x=16, y=13), Index2D(x=17, y=13), Index2D(x=18, y=13), Index2D(x=19, y=13), Index2D(x=20, y=13), Index2D(x=21, y=13), Index2D(x=0, y=14), Index2D(x=1, y=14), Index2D(x=2, y=14), Index2D(x=3, y=14), Index2D(x=4, y=14), Index2D(x=5, y=14), Index2D(x=6, y=14), Index2D(x=7, y=14), Index2D(x=8, y=14), Index2D(x=9, y=14), Index2D(x=10, y=14), Index2D(x=11, y=14), Index2D(x=12, y=14), Index2D(x=13, y=14), Index2D(x=14, y=14), Index2D(x=15, y=14), Index2D(x=16, y=14), Index2D(x=17, y=14), Index2D(x=18, y=14), Index2D(x=19, y=14), Index2D(x=20, y=14), Index2D(x=21, y=14), Index2D(x=0, y=15), Index2D(x=1, y=15), Index2D(x=2, y=15), Index2D(x=3, y=15), Index2D(x=4, y=15), Index2D(x=5, y=15), Index2D(x=6, y=15), Index2D(x=7, y=15), Index2D(x=8, y=15), Index2D(x=9, y=15), Index2D(x=10, y=15), Index2D(x=11, y=15), Index2D(x=12, y=15), Index2D(x=13, y=15), Index2D(x=14, y=15), Index2D(x=15, y=15), Index2D(x=16, y=15), Index2D(x=17, y=15), Index2D(x=18, y=15), Index2D(x=19, y=15), Index2D(x=20, y=15), Index2D(x=21, y=15), Index2D(x=0, y=16), Index2D(x=1, y=16), Index2D(x=2, y=16), Index2D(x=3, y=16), Index2D(x=4, y=16), Index2D(x=5, y=16), Index2D(x=6, y=16), Index2D(x=7, y=16), Index2D(x=8, y=16), Index2D(x=9, y=16), Index2D(x=10, y=16), Index2D(x=11, y=16), Index2D(x=12, y=16), Index2D(x=13, y=16), Index2D(x=14, y=16), Index2D(x=15, y=16), Index2D(x=16, y=16), Index2D(x=17, y=16), Index2D(x=18, y=16), Index2D(x=19, y=16), Index2D(x=20, y=16), Index2D(x=21, y=16), Index2D(x=0, y=17), Index2D(x=1, y=17), Index2D(x=2, y=17), Index2D(x=3, y=17), Index2D(x=4, y=17), Index2D(x=5, y=17), Index2D(x=6, y=17), Index2D(x=7, y=17), Index2D(x=8, y=17), Index2D(x=9, y=17), Index2D(x=10, y=17), Index2D(x=11, y=17), Index2D(x=12, y=17), Index2D(x=13, y=17), Index2D(x=14, y=17), Index2D(x=15, y=17), Index2D(x=16, y=17), Index2D(x=17, y=17), Index2D(x=18, y=17), Index2D(x=19, y=17), Index2D(x=20, y=17), Index2D(x=21, y=17), Index2D(x=0, y=18), Index2D(x=1, y=18), Index2D(x=2, y=18), Index2D(x=3, y=18), Index2D(x=4, y=18), Index2D(x=5, y=18), Index2D(x=6, y=18), Index2D(x=7, y=18), Index2D(x=8, y=18), Index2D(x=9, y=18), Index2D(x=10, y=18), Index2D(x=11, y=18), Index2D(x=12, y=18), Index2D(x=13, y=18), Index2D(x=14, y=18), Index2D(x=15, y=18), Index2D(x=16, y=18), Index2D(x=17, y=18), Index2D(x=18, y=18), Index2D(x=19, y=18), Index2D(x=20, y=18), Index2D(x=21, y=18), Index2D(x=0, y=19), Index2D(x=1, y=19), Index2D(x=2, y=19), Index2D(x=3, y=19), Index2D(x=4, y=19), Index2D(x=5, y=19), Index2D(x=6, y=19), Index2D(x=7, y=19), Index2D(x=8, y=19), Index2D(x=9, y=19), Index2D(x=10, y=19), Index2D(x=11, y=19), Index2D(x=12, y=19), Index2D(x=13, y=19), Index2D(x=14, y=19), Index2D(x=15, y=19), Index2D(x=16, y=19), Index2D(x=17, y=19), Index2D(x=18, y=19), Index2D(x=19, y=19), Index2D(x=20, y=19), Index2D(x=21, y=19), Index2D(x=0, y=20), Index2D(x=1, y=20), Index2D(x=2, y=20), Index2D(x=3, y=20), Index2D(x=4, y=20), Index2D(x=5, y=20), Index2D(x=6, y=20), Index2D(x=7, y=20), Index2D(x=8, y=20), Index2D(x=9, y=20), Index2D(x=10, y=20), Index2D(x=11, y=20), Index2D(x=12, y=20), Index2D(x=13, y=20), Index2D(x=14, y=20), Index2D(x=15, y=20), Index2D(x=16, y=20), Index2D(x=17, y=20), Index2D(x=18, y=20), Index2D(x=19, y=20), Index2D(x=20, y=20), Index2D(x=21, y=20), Index2D(x=0, y=21), Index2D(x=1, y=21), Index2D(x=2, y=21), Index2D(x=3, y=21), Index2D(x=4, y=21), Index2D(x=5, y=21), Index2D(x=6, y=21), Index2D(x=7, y=21), Index2D(x=8, y=21), Index2D(x=9, y=21), Index2D(x=10, y=21), Index2D(x=11, y=21), Index2D(x=12, y=21), Index2D(x=13, y=21), Index2D(x=14, y=21), Index2D(x=15, y=21), Index2D(x=16, y=21), Index2D(x=17, y=21), Index2D(x=18, y=21), Index2D(x=19, y=21), Index2D(x=20, y=21), Index2D(x=21, y=21)]\n"
     ]
    }
   ],
   "source": [
    "cell_list = list(coadd.cells.keys())\n",
    "print(cell_list)"
   ]
  },
  {
   "cell_type": "markdown",
   "id": "44b72ea4-f2b5-44a8-afad-a98ddf53a143",
   "metadata": {},
   "source": [
    "To pick out a single cell from the coadd, we can use any of the `Index2D` indices to pick one out."
   ]
  },
  {
   "cell_type": "code",
   "execution_count": 11,
   "id": "eb2db27d-6d17-445b-ae5b-835c6bb02aee",
   "metadata": {
    "execution": {
     "iopub.execute_input": "2024-07-15T22:49:39.895254Z",
     "iopub.status.busy": "2024-07-15T22:49:39.895136Z",
     "iopub.status.idle": "2024-07-15T22:49:39.897744Z",
     "shell.execute_reply": "2024-07-15T22:49:39.897401Z",
     "shell.execute_reply.started": "2024-07-15T22:49:39.895243Z"
    }
   },
   "outputs": [],
   "source": [
    "example_cell = coadd.cells[Index2D(x=5,y=4)]"
   ]
  },
  {
   "cell_type": "markdown",
   "id": "e1cbe7de-b955-4bc4-8306-42467253feae",
   "metadata": {},
   "source": [
    "To see the number of input warps that went into a cell:"
   ]
  },
  {
   "cell_type": "code",
   "execution_count": 12,
   "id": "f4247ed9-7e7c-4634-bcad-af887b23489d",
   "metadata": {
    "execution": {
     "iopub.execute_input": "2024-07-15T22:49:39.898325Z",
     "iopub.status.busy": "2024-07-15T22:49:39.898205Z",
     "iopub.status.idle": "2024-07-15T22:49:39.902618Z",
     "shell.execute_reply": "2024-07-15T22:49:39.902269Z",
     "shell.execute_reply.started": "2024-07-15T22:49:39.898314Z"
    }
   },
   "outputs": [
    {
     "name": "stdout",
     "output_type": "stream",
     "text": [
      "3\n"
     ]
    }
   ],
   "source": [
    "cell_inputs = example_cell.inputs\n",
    "print(len(cell_inputs))"
   ]
  },
  {
   "cell_type": "markdown",
   "id": "43d0df46-c2fd-4c46-8ef2-cb0a5ed95e2e",
   "metadata": {},
   "source": [
    "## Showing cell images"
   ]
  },
  {
   "cell_type": "markdown",
   "id": "0f721175-ff67-476f-b311-bfb56a2217e3",
   "metadata": {},
   "source": [
    "The backend used for displaying image data will be firefly here, though other options are available. \n",
    "\n",
    "Some other points:\n",
    "- Define both `display1` and `display2` in the same notebook cell each time, to keep the displays updated and avoid loading image data from previous notebook cells.\n",
    "- Firefly will load another tab within the notebook environment. Keep this tab open, since as far as I know the only way to get this tab back is to reload the notebook environment. Redefining the displays will update the current tab instead of creating a new tab."
   ]
  },
  {
   "cell_type": "code",
   "execution_count": 13,
   "id": "1a1d4adc-a08f-4c78-b7bb-716510770c68",
   "metadata": {
    "execution": {
     "iopub.execute_input": "2024-07-15T22:49:39.903204Z",
     "iopub.status.busy": "2024-07-15T22:49:39.903079Z",
     "iopub.status.idle": "2024-07-15T22:49:40.197466Z",
     "shell.execute_reply": "2024-07-15T22:49:40.197048Z",
     "shell.execute_reply.started": "2024-07-15T22:49:39.903193Z"
    }
   },
   "outputs": [],
   "source": [
    "import lsst.afw.display as afwDisplay\n",
    "afwDisplay.setDefaultBackend('firefly')"
   ]
  },
  {
   "cell_type": "markdown",
   "id": "a391e9b7-b947-4e76-9381-7d7c651ac8d6",
   "metadata": {},
   "source": [
    "The image data stored in a cell can be called in the following way: "
   ]
  },
  {
   "cell_type": "code",
   "execution_count": 14,
   "id": "76dcfae0-1ef1-4244-9169-175873c7025b",
   "metadata": {
    "execution": {
     "iopub.execute_input": "2024-07-15T22:49:40.198110Z",
     "iopub.status.busy": "2024-07-15T22:49:40.197986Z",
     "iopub.status.idle": "2024-07-15T22:49:40.200577Z",
     "shell.execute_reply": "2024-07-15T22:49:40.200237Z",
     "shell.execute_reply.started": "2024-07-15T22:49:40.198098Z"
    }
   },
   "outputs": [],
   "source": [
    "cell_imMask_out = coadd.cells[Index2D(x=0, y=0)].outer.asMaskedImage()\n",
    "cell_imMask_in = coadd.cells[Index2D(x=0, y=0)].inner.asMaskedImage()"
   ]
  },
  {
   "cell_type": "markdown",
   "id": "5a6c7300-0d16-46e7-a5a9-9749a1f6877f",
   "metadata": {},
   "source": [
    "The inner cell is the boundary of just the single cell, whereas the outer cell contains overlapping image data with neighboring cells. To display the difference between those images, call the below notebook cell:"
   ]
  },
  {
   "cell_type": "code",
   "execution_count": 15,
   "id": "d7c5f1b3-0895-4ad5-8c32-34a87c8f8277",
   "metadata": {
    "execution": {
     "iopub.execute_input": "2024-07-15T22:49:40.201125Z",
     "iopub.status.busy": "2024-07-15T22:49:40.201006Z",
     "iopub.status.idle": "2024-07-15T22:49:40.394403Z",
     "shell.execute_reply": "2024-07-15T22:49:40.393935Z",
     "shell.execute_reply.started": "2024-07-15T22:49:40.201110Z"
    }
   },
   "outputs": [],
   "source": [
    "display1 = afwDisplay.Display(frame=1)\n",
    "display1.mtv(cell_imMask_out)\n",
    "display2 = afwDisplay.Display(frame=2)\n",
    "display2.mtv(cell_imMask_in)"
   ]
  },
  {
   "cell_type": "markdown",
   "id": "ac4e3e89-4197-4008-8640-cadd47e5c53a",
   "metadata": {
    "execution": {
     "iopub.execute_input": "2024-04-24T19:45:14.669575Z",
     "iopub.status.busy": "2024-04-24T19:45:14.669283Z",
     "iopub.status.idle": "2024-04-24T19:45:14.673348Z",
     "shell.execute_reply": "2024-04-24T19:45:14.672860Z",
     "shell.execute_reply.started": "2024-04-24T19:45:14.669558Z"
    }
   },
   "source": [
    "We can also call on the `stitch_coadd` object to display all cells across an entire patch:"
   ]
  },
  {
   "cell_type": "code",
   "execution_count": 16,
   "id": "098c97d2-b2c1-4166-8e5b-b662b30787fb",
   "metadata": {
    "execution": {
     "iopub.execute_input": "2024-07-15T22:49:40.395136Z",
     "iopub.status.busy": "2024-07-15T22:49:40.394992Z",
     "iopub.status.idle": "2024-07-15T22:49:40.998852Z",
     "shell.execute_reply": "2024-07-15T22:49:40.998393Z",
     "shell.execute_reply.started": "2024-07-15T22:49:40.395116Z"
    }
   },
   "outputs": [],
   "source": [
    "display1 = afwDisplay.Display(frame=1)\n",
    "display1.mtv(stitch_coadd.asExposure())"
   ]
  },
  {
   "cell_type": "markdown",
   "id": "41bbe6fc-a085-47bd-9ba3-43179994a04e",
   "metadata": {},
   "source": [
    "### Cells and input warps"
   ]
  },
  {
   "cell_type": "markdown",
   "id": "79a4f719-08fd-4cdb-9502-8184303d6963",
   "metadata": {},
   "source": [
    "Another way to visualize the cell information may be to plot both the cell image and a cutout of an input warp that aligns with the cell.\n",
    "\n",
    "First pick a cell and see what input warps go into it."
   ]
  },
  {
   "cell_type": "code",
   "execution_count": 17,
   "id": "99d25222-004d-418f-8e27-c349aeb20062",
   "metadata": {
    "execution": {
     "iopub.execute_input": "2024-07-15T22:49:40.999484Z",
     "iopub.status.busy": "2024-07-15T22:49:40.999359Z",
     "iopub.status.idle": "2024-07-15T22:49:41.002104Z",
     "shell.execute_reply": "2024-07-15T22:49:41.001745Z",
     "shell.execute_reply.started": "2024-07-15T22:49:40.999472Z"
    }
   },
   "outputs": [
    {
     "name": "stdout",
     "output_type": "stream",
     "text": [
      "[1242, 1248, 19680, 19684, 19694, 19696, 30490]\n"
     ]
    }
   ],
   "source": [
    "cell_warps = list(coadd.cells[cell_list[0]].inputs)\n",
    "cell_visits = [input.visit for input in cell_warps]\n",
    "print(cell_visits)"
   ]
  },
  {
   "cell_type": "markdown",
   "id": "8ee97798-0904-4992-8b6e-edd609e6c935",
   "metadata": {},
   "source": [
    "We can see that the example warp loaded in earlier is also an input for this cell, so we can use that one."
   ]
  },
  {
   "cell_type": "code",
   "execution_count": 18,
   "id": "ff01a72b-57c7-447e-a031-07d0e1b54d5f",
   "metadata": {
    "execution": {
     "iopub.execute_input": "2024-07-15T22:49:41.002715Z",
     "iopub.status.busy": "2024-07-15T22:49:41.002596Z",
     "iopub.status.idle": "2024-07-15T22:49:41.100262Z",
     "shell.execute_reply": "2024-07-15T22:49:41.099848Z",
     "shell.execute_reply.started": "2024-07-15T22:49:41.002704Z"
    }
   },
   "outputs": [],
   "source": [
    "bbox = coadd.cells[Index2D(x=11,y=11)].outer.bbox\n",
    "masked_warp = warp[bbox].getMaskedImage()\n",
    "\n",
    "# display the cell and warp cutout side by side\n",
    "display1 = afwDisplay.Display(frame=1)\n",
    "display1.mtv(coadd.cells[Index2D(x=11,y=11)].outer.image)\n",
    "display2 = afwDisplay.Display(frame=2)\n",
    "display2.mtv(masked_warp.image)"
   ]
  },
  {
   "cell_type": "markdown",
   "id": "28f72882-e236-4ecc-847a-f4a56990f726",
   "metadata": {},
   "source": [
    "### List of cells with a specific visit\n",
    "\n",
    "Let's find all the cells that use a specific visit. First, query the butler for all possible visits for this patch."
   ]
  },
  {
   "cell_type": "code",
   "execution_count": 19,
   "id": "5744c580-3576-44b6-b8ba-8deddb32ef2c",
   "metadata": {
    "execution": {
     "iopub.execute_input": "2024-07-15T22:49:41.100971Z",
     "iopub.status.busy": "2024-07-15T22:49:41.100825Z",
     "iopub.status.idle": "2024-07-15T22:49:41.126647Z",
     "shell.execute_reply": "2024-07-15T22:49:41.126271Z",
     "shell.execute_reply.started": "2024-07-15T22:49:41.100960Z"
    }
   },
   "outputs": [
    {
     "name": "stdout",
     "output_type": "stream",
     "text": [
      "[ 1242  1248 19680 19684 19694 19696 30482 30490]\n"
     ]
    }
   ],
   "source": [
    "visits = []\n",
    "\n",
    "for ref in butler.registry.queryDatasets('deepCoadd_directWarp', \n",
    "                                         physical_filter='HSC-I', \n",
    "                                         collections=collection, \n",
    "                                         instrument='HSC', \n",
    "                                         tract=9813, \n",
    "                                         skymap = 'hsc_rings_cells_v1', \n",
    "                                         patch=61):\n",
    "    visits.append(ref.dataId.get('visit'))\n",
    "\n",
    "visits = np.unique(visits)\n",
    "print(visits)"
   ]
  },
  {
   "cell_type": "markdown",
   "id": "37ba17cb-d3bc-4f71-b35d-5fe1c5619dae",
   "metadata": {},
   "source": [
    "Now we have the list of all possible visits for these cells. Let's just pick the first one."
   ]
  },
  {
   "cell_type": "code",
   "execution_count": 20,
   "id": "043a66bc-b070-492f-8ab0-96326e83761a",
   "metadata": {
    "execution": {
     "iopub.execute_input": "2024-07-15T22:49:41.127222Z",
     "iopub.status.busy": "2024-07-15T22:49:41.127097Z",
     "iopub.status.idle": "2024-07-15T22:49:41.129201Z",
     "shell.execute_reply": "2024-07-15T22:49:41.128844Z",
     "shell.execute_reply.started": "2024-07-15T22:49:41.127211Z"
    }
   },
   "outputs": [],
   "source": [
    "test_visit = 1242"
   ]
  },
  {
   "cell_type": "code",
   "execution_count": 21,
   "id": "94f4a64a-a886-48d6-b552-2708345f3e66",
   "metadata": {
    "execution": {
     "iopub.execute_input": "2024-07-15T22:49:41.129784Z",
     "iopub.status.busy": "2024-07-15T22:49:41.129667Z",
     "iopub.status.idle": "2024-07-15T22:49:41.133836Z",
     "shell.execute_reply": "2024-07-15T22:49:41.133466Z",
     "shell.execute_reply.started": "2024-07-15T22:49:41.129774Z"
    }
   },
   "outputs": [],
   "source": [
    "cell_list_test = [index for index in cell_list if (test_visit in [input.visit for input in list(coadd.cells[index].inputs)])]"
   ]
  },
  {
   "cell_type": "code",
   "execution_count": 22,
   "id": "6fe00f02-a4e2-4cc1-a2b6-65aa430c6187",
   "metadata": {
    "execution": {
     "iopub.execute_input": "2024-07-15T22:49:41.134414Z",
     "iopub.status.busy": "2024-07-15T22:49:41.134296Z",
     "iopub.status.idle": "2024-07-15T22:49:41.138730Z",
     "shell.execute_reply": "2024-07-15T22:49:41.138384Z",
     "shell.execute_reply.started": "2024-07-15T22:49:41.134404Z"
    },
    "scrolled": true
   },
   "outputs": [
    {
     "name": "stdout",
     "output_type": "stream",
     "text": [
      "396\n",
      "[Index2D(x=0, y=0), Index2D(x=1, y=0), Index2D(x=2, y=0), Index2D(x=3, y=0), Index2D(x=4, y=0), Index2D(x=5, y=0), Index2D(x=6, y=0), Index2D(x=7, y=0), Index2D(x=8, y=0), Index2D(x=9, y=0), Index2D(x=10, y=0), Index2D(x=11, y=0), Index2D(x=12, y=0), Index2D(x=13, y=0), Index2D(x=14, y=0), Index2D(x=15, y=0), Index2D(x=16, y=0), Index2D(x=17, y=0), Index2D(x=18, y=0), Index2D(x=19, y=0), Index2D(x=20, y=0), Index2D(x=21, y=0), Index2D(x=0, y=1), Index2D(x=1, y=1), Index2D(x=2, y=1), Index2D(x=3, y=1), Index2D(x=4, y=1), Index2D(x=5, y=1), Index2D(x=6, y=1), Index2D(x=7, y=1), Index2D(x=8, y=1), Index2D(x=9, y=1), Index2D(x=10, y=1), Index2D(x=11, y=1), Index2D(x=12, y=1), Index2D(x=13, y=1), Index2D(x=14, y=1), Index2D(x=15, y=1), Index2D(x=16, y=1), Index2D(x=17, y=1), Index2D(x=18, y=1), Index2D(x=19, y=1), Index2D(x=20, y=1), Index2D(x=21, y=1), Index2D(x=0, y=2), Index2D(x=1, y=2), Index2D(x=2, y=2), Index2D(x=3, y=2), Index2D(x=4, y=2), Index2D(x=5, y=2), Index2D(x=6, y=2), Index2D(x=7, y=2), Index2D(x=8, y=2), Index2D(x=9, y=2), Index2D(x=10, y=2), Index2D(x=11, y=2), Index2D(x=12, y=2), Index2D(x=13, y=2), Index2D(x=14, y=2), Index2D(x=15, y=2), Index2D(x=16, y=2), Index2D(x=17, y=2), Index2D(x=18, y=2), Index2D(x=19, y=2), Index2D(x=20, y=2), Index2D(x=21, y=2), Index2D(x=0, y=5), Index2D(x=1, y=5), Index2D(x=2, y=5), Index2D(x=3, y=5), Index2D(x=4, y=5), Index2D(x=5, y=5), Index2D(x=6, y=5), Index2D(x=7, y=5), Index2D(x=8, y=5), Index2D(x=9, y=5), Index2D(x=10, y=5), Index2D(x=11, y=5), Index2D(x=12, y=5), Index2D(x=13, y=5), Index2D(x=14, y=5), Index2D(x=15, y=5), Index2D(x=16, y=5), Index2D(x=17, y=5), Index2D(x=18, y=5), Index2D(x=19, y=5), Index2D(x=20, y=5), Index2D(x=21, y=5), Index2D(x=0, y=6), Index2D(x=1, y=6), Index2D(x=2, y=6), Index2D(x=3, y=6), Index2D(x=4, y=6), Index2D(x=5, y=6), Index2D(x=6, y=6), Index2D(x=7, y=6), Index2D(x=8, y=6), Index2D(x=9, y=6), Index2D(x=10, y=6), Index2D(x=11, y=6), Index2D(x=12, y=6), Index2D(x=13, y=6), Index2D(x=14, y=6), Index2D(x=15, y=6), Index2D(x=16, y=6), Index2D(x=17, y=6), Index2D(x=18, y=6), Index2D(x=19, y=6), Index2D(x=20, y=6), Index2D(x=21, y=6), Index2D(x=0, y=7), Index2D(x=1, y=7), Index2D(x=2, y=7), Index2D(x=3, y=7), Index2D(x=4, y=7), Index2D(x=5, y=7), Index2D(x=6, y=7), Index2D(x=7, y=7), Index2D(x=8, y=7), Index2D(x=9, y=7), Index2D(x=10, y=7), Index2D(x=11, y=7), Index2D(x=12, y=7), Index2D(x=13, y=7), Index2D(x=14, y=7), Index2D(x=15, y=7), Index2D(x=16, y=7), Index2D(x=17, y=7), Index2D(x=18, y=7), Index2D(x=19, y=7), Index2D(x=20, y=7), Index2D(x=21, y=7), Index2D(x=0, y=8), Index2D(x=1, y=8), Index2D(x=2, y=8), Index2D(x=3, y=8), Index2D(x=4, y=8), Index2D(x=5, y=8), Index2D(x=6, y=8), Index2D(x=7, y=8), Index2D(x=8, y=8), Index2D(x=9, y=8), Index2D(x=10, y=8), Index2D(x=11, y=8), Index2D(x=12, y=8), Index2D(x=13, y=8), Index2D(x=14, y=8), Index2D(x=15, y=8), Index2D(x=16, y=8), Index2D(x=17, y=8), Index2D(x=18, y=8), Index2D(x=19, y=8), Index2D(x=20, y=8), Index2D(x=21, y=8), Index2D(x=0, y=9), Index2D(x=1, y=9), Index2D(x=2, y=9), Index2D(x=3, y=9), Index2D(x=4, y=9), Index2D(x=5, y=9), Index2D(x=6, y=9), Index2D(x=7, y=9), Index2D(x=8, y=9), Index2D(x=9, y=9), Index2D(x=10, y=9), Index2D(x=11, y=9), Index2D(x=12, y=9), Index2D(x=13, y=9), Index2D(x=14, y=9), Index2D(x=15, y=9), Index2D(x=16, y=9), Index2D(x=17, y=9), Index2D(x=18, y=9), Index2D(x=19, y=9), Index2D(x=20, y=9), Index2D(x=21, y=9), Index2D(x=0, y=10), Index2D(x=1, y=10), Index2D(x=2, y=10), Index2D(x=3, y=10), Index2D(x=4, y=10), Index2D(x=5, y=10), Index2D(x=6, y=10), Index2D(x=7, y=10), Index2D(x=8, y=10), Index2D(x=9, y=10), Index2D(x=10, y=10), Index2D(x=11, y=10), Index2D(x=12, y=10), Index2D(x=13, y=10), Index2D(x=14, y=10), Index2D(x=15, y=10), Index2D(x=16, y=10), Index2D(x=17, y=10), Index2D(x=18, y=10), Index2D(x=19, y=10), Index2D(x=20, y=10), Index2D(x=21, y=10), Index2D(x=0, y=11), Index2D(x=1, y=11), Index2D(x=2, y=11), Index2D(x=3, y=11), Index2D(x=4, y=11), Index2D(x=5, y=11), Index2D(x=6, y=11), Index2D(x=7, y=11), Index2D(x=8, y=11), Index2D(x=9, y=11), Index2D(x=10, y=11), Index2D(x=11, y=11), Index2D(x=12, y=11), Index2D(x=13, y=11), Index2D(x=14, y=11), Index2D(x=15, y=11), Index2D(x=16, y=11), Index2D(x=17, y=11), Index2D(x=18, y=11), Index2D(x=19, y=11), Index2D(x=20, y=11), Index2D(x=21, y=11), Index2D(x=0, y=12), Index2D(x=1, y=12), Index2D(x=2, y=12), Index2D(x=3, y=12), Index2D(x=4, y=12), Index2D(x=5, y=12), Index2D(x=6, y=12), Index2D(x=7, y=12), Index2D(x=8, y=12), Index2D(x=9, y=12), Index2D(x=10, y=12), Index2D(x=11, y=12), Index2D(x=12, y=12), Index2D(x=13, y=12), Index2D(x=14, y=12), Index2D(x=15, y=12), Index2D(x=16, y=12), Index2D(x=17, y=12), Index2D(x=18, y=12), Index2D(x=19, y=12), Index2D(x=20, y=12), Index2D(x=21, y=12), Index2D(x=0, y=13), Index2D(x=1, y=13), Index2D(x=2, y=13), Index2D(x=3, y=13), Index2D(x=4, y=13), Index2D(x=5, y=13), Index2D(x=6, y=13), Index2D(x=7, y=13), Index2D(x=8, y=13), Index2D(x=9, y=13), Index2D(x=10, y=13), Index2D(x=11, y=13), Index2D(x=12, y=13), Index2D(x=13, y=13), Index2D(x=14, y=13), Index2D(x=15, y=13), Index2D(x=16, y=13), Index2D(x=17, y=13), Index2D(x=18, y=13), Index2D(x=19, y=13), Index2D(x=20, y=13), Index2D(x=21, y=13), Index2D(x=0, y=14), Index2D(x=1, y=14), Index2D(x=2, y=14), Index2D(x=3, y=14), Index2D(x=4, y=14), Index2D(x=5, y=14), Index2D(x=6, y=14), Index2D(x=7, y=14), Index2D(x=8, y=14), Index2D(x=9, y=14), Index2D(x=10, y=14), Index2D(x=11, y=14), Index2D(x=12, y=14), Index2D(x=13, y=14), Index2D(x=14, y=14), Index2D(x=15, y=14), Index2D(x=16, y=14), Index2D(x=17, y=14), Index2D(x=18, y=14), Index2D(x=19, y=14), Index2D(x=20, y=14), Index2D(x=21, y=14), Index2D(x=0, y=15), Index2D(x=1, y=15), Index2D(x=2, y=15), Index2D(x=3, y=15), Index2D(x=4, y=15), Index2D(x=5, y=15), Index2D(x=6, y=15), Index2D(x=7, y=15), Index2D(x=8, y=15), Index2D(x=9, y=15), Index2D(x=10, y=15), Index2D(x=11, y=15), Index2D(x=12, y=15), Index2D(x=13, y=15), Index2D(x=14, y=15), Index2D(x=15, y=15), Index2D(x=16, y=15), Index2D(x=17, y=15), Index2D(x=18, y=15), Index2D(x=19, y=15), Index2D(x=20, y=15), Index2D(x=21, y=15), Index2D(x=0, y=16), Index2D(x=1, y=16), Index2D(x=2, y=16), Index2D(x=3, y=16), Index2D(x=4, y=16), Index2D(x=5, y=16), Index2D(x=6, y=16), Index2D(x=7, y=16), Index2D(x=8, y=16), Index2D(x=9, y=16), Index2D(x=10, y=16), Index2D(x=11, y=16), Index2D(x=12, y=16), Index2D(x=13, y=16), Index2D(x=14, y=16), Index2D(x=15, y=16), Index2D(x=16, y=16), Index2D(x=17, y=16), Index2D(x=18, y=16), Index2D(x=19, y=16), Index2D(x=20, y=16), Index2D(x=21, y=16), Index2D(x=0, y=19), Index2D(x=1, y=19), Index2D(x=2, y=19), Index2D(x=3, y=19), Index2D(x=4, y=19), Index2D(x=5, y=19), Index2D(x=6, y=19), Index2D(x=7, y=19), Index2D(x=8, y=19), Index2D(x=9, y=19), Index2D(x=10, y=19), Index2D(x=11, y=19), Index2D(x=12, y=19), Index2D(x=13, y=19), Index2D(x=14, y=19), Index2D(x=15, y=19), Index2D(x=16, y=19), Index2D(x=17, y=19), Index2D(x=18, y=19), Index2D(x=19, y=19), Index2D(x=20, y=19), Index2D(x=21, y=19), Index2D(x=0, y=20), Index2D(x=1, y=20), Index2D(x=2, y=20), Index2D(x=3, y=20), Index2D(x=4, y=20), Index2D(x=5, y=20), Index2D(x=6, y=20), Index2D(x=7, y=20), Index2D(x=8, y=20), Index2D(x=9, y=20), Index2D(x=10, y=20), Index2D(x=11, y=20), Index2D(x=12, y=20), Index2D(x=13, y=20), Index2D(x=14, y=20), Index2D(x=15, y=20), Index2D(x=16, y=20), Index2D(x=17, y=20), Index2D(x=18, y=20), Index2D(x=19, y=20), Index2D(x=20, y=20), Index2D(x=21, y=20), Index2D(x=0, y=21), Index2D(x=1, y=21), Index2D(x=2, y=21), Index2D(x=3, y=21), Index2D(x=4, y=21), Index2D(x=5, y=21), Index2D(x=6, y=21), Index2D(x=7, y=21), Index2D(x=8, y=21), Index2D(x=9, y=21), Index2D(x=10, y=21), Index2D(x=11, y=21), Index2D(x=12, y=21), Index2D(x=13, y=21), Index2D(x=14, y=21), Index2D(x=15, y=21), Index2D(x=16, y=21), Index2D(x=17, y=21), Index2D(x=18, y=21), Index2D(x=19, y=21), Index2D(x=20, y=21), Index2D(x=21, y=21)]\n"
     ]
    }
   ],
   "source": [
    "print(len(cell_list_test))\n",
    "print(cell_list_test)"
   ]
  },
  {
   "cell_type": "markdown",
   "id": "b1f353ab-abde-4a2a-982c-88e203532f0a",
   "metadata": {},
   "source": [
    "## Getting mask information from cells"
   ]
  },
  {
   "cell_type": "markdown",
   "id": "a8adb417-237a-4cff-8db3-58902bd30dab",
   "metadata": {},
   "source": [
    "### For a single cell"
   ]
  },
  {
   "cell_type": "markdown",
   "id": "4dc54aef-3a75-4a03-9e08-d639414088f5",
   "metadata": {},
   "source": [
    "To see what masks are being used in a cell, load in the mask plane of an example cell."
   ]
  },
  {
   "cell_type": "code",
   "execution_count": 23,
   "id": "2d5a6ba3-15a6-453e-8769-5cdd3b2c20ec",
   "metadata": {
    "execution": {
     "iopub.execute_input": "2024-07-15T22:49:41.139349Z",
     "iopub.status.busy": "2024-07-15T22:49:41.139232Z",
     "iopub.status.idle": "2024-07-15T22:49:41.141944Z",
     "shell.execute_reply": "2024-07-15T22:49:41.141603Z",
     "shell.execute_reply.started": "2024-07-15T22:49:41.139338Z"
    }
   },
   "outputs": [],
   "source": [
    "cell_mask = coadd.cells[Index2D(x=0, y=0)].inner.mask"
   ]
  },
  {
   "cell_type": "code",
   "execution_count": 24,
   "id": "ec84b632-2577-4936-a544-2edd44d89881",
   "metadata": {
    "execution": {
     "iopub.execute_input": "2024-07-15T22:49:41.142498Z",
     "iopub.status.busy": "2024-07-15T22:49:41.142382Z",
     "iopub.status.idle": "2024-07-15T22:49:41.146553Z",
     "shell.execute_reply": "2024-07-15T22:49:41.146204Z",
     "shell.execute_reply.started": "2024-07-15T22:49:41.142487Z"
    }
   },
   "outputs": [
    {
     "name": "stdout",
     "output_type": "stream",
     "text": [
      "{'BAD': 0, 'CR': 3, 'CROSSTALK': 9, 'DETECTED': 5, 'DETECTED_NEGATIVE': 6, 'EDGE': 4, 'INTRP': 2, 'NOT_DEBLENDED': 10, 'NO_DATA': 8, 'SAT': 1, 'STREAK': 11, 'SUSPECT': 7, 'UNMASKEDNAN': 12}\n"
     ]
    }
   ],
   "source": [
    "print(cell_mask.getMaskPlaneDict())"
   ]
  },
  {
   "cell_type": "markdown",
   "id": "b07ef581-f268-454a-a136-8c2f987e2428",
   "metadata": {},
   "source": [
    "If you have the mask plane name, find what value is associated with it"
   ]
  },
  {
   "cell_type": "code",
   "execution_count": 25,
   "id": "1d9f8c07-1996-40e9-8748-8ece12c42186",
   "metadata": {
    "execution": {
     "iopub.execute_input": "2024-07-15T22:49:41.147182Z",
     "iopub.status.busy": "2024-07-15T22:49:41.147060Z",
     "iopub.status.idle": "2024-07-15T22:49:41.149739Z",
     "shell.execute_reply": "2024-07-15T22:49:41.149403Z",
     "shell.execute_reply.started": "2024-07-15T22:49:41.147171Z"
    }
   },
   "outputs": [
    {
     "name": "stdout",
     "output_type": "stream",
     "text": [
      "3\n"
     ]
    }
   ],
   "source": [
    "print(cell_mask.getMaskPlane('CR'))"
   ]
  },
  {
   "cell_type": "markdown",
   "id": "6f779bfa-fbdc-4e75-8fb5-ee5ddfea961d",
   "metadata": {},
   "source": [
    "Get the number of pixels with a specific mask within a cell"
   ]
  },
  {
   "cell_type": "code",
   "execution_count": 26,
   "id": "e0ee08ca-8992-4641-ad9b-505e9e0d06d8",
   "metadata": {
    "execution": {
     "iopub.execute_input": "2024-07-15T22:49:41.150321Z",
     "iopub.status.busy": "2024-07-15T22:49:41.150203Z",
     "iopub.status.idle": "2024-07-15T22:49:41.154942Z",
     "shell.execute_reply": "2024-07-15T22:49:41.154583Z",
     "shell.execute_reply.started": "2024-07-15T22:49:41.150309Z"
    }
   },
   "outputs": [
    {
     "name": "stdout",
     "output_type": "stream",
     "text": [
      "Mask used:  CR\n",
      "Mask bit number:  8\n",
      "Number of masked pixels:  244\n"
     ]
    }
   ],
   "source": [
    "mask_used = 'CR'\n",
    "print(\"Mask used: \", mask_used)\n",
    "mask_bit = cell_mask.getPlaneBitMask(mask_used)\n",
    "print(\"Mask bit number: \", mask_bit)\n",
    "num_bad_pixels = len(np.where(np.bitwise_and(cell_mask.array, mask_bit))[0])\n",
    "print(\"Number of masked pixels: \", num_bad_pixels)"
   ]
  },
  {
   "cell_type": "markdown",
   "id": "b2fefeda-da4e-43da-89b5-d509c193dd71",
   "metadata": {},
   "source": [
    "### For a whole patch"
   ]
  },
  {
   "cell_type": "code",
   "execution_count": 27,
   "id": "88b6f894-bda2-41b5-b855-d27db64c2ba6",
   "metadata": {
    "execution": {
     "iopub.execute_input": "2024-07-15T22:49:41.155517Z",
     "iopub.status.busy": "2024-07-15T22:49:41.155401Z",
     "iopub.status.idle": "2024-07-15T22:49:41.210017Z",
     "shell.execute_reply": "2024-07-15T22:49:41.209583Z",
     "shell.execute_reply.started": "2024-07-15T22:49:41.155506Z"
    }
   },
   "outputs": [
    {
     "name": "stdout",
     "output_type": "stream",
     "text": [
      "Mask used:  CR\n",
      "Mask bit number:  8\n",
      "Number of masked pixels:  84878\n"
     ]
    }
   ],
   "source": [
    "mask_used = 'CR'\n",
    "print(\"Mask used: \", mask_used)\n",
    "mask_bit = stitch_coadd.mask.getPlaneBitMask(mask_used)\n",
    "print(\"Mask bit number: \", mask_bit)\n",
    "num_bad_pixels = len(np.where(np.bitwise_and(stitch_coadd.mask.array, mask_bit))[0])\n",
    "print(\"Number of masked pixels: \", num_bad_pixels)"
   ]
  },
  {
   "cell_type": "markdown",
   "id": "28973d76-3a0b-48bf-9203-6a1de8db7b66",
   "metadata": {},
   "source": [
    "### Plot the mask plane\n",
    "\n",
    "See the warp and example cell mask planes."
   ]
  },
  {
   "cell_type": "code",
   "execution_count": 28,
   "id": "181f6f78-cad4-43a1-b3fb-43751966eba4",
   "metadata": {
    "execution": {
     "iopub.execute_input": "2024-07-15T22:49:41.210701Z",
     "iopub.status.busy": "2024-07-15T22:49:41.210565Z",
     "iopub.status.idle": "2024-07-15T22:49:41.354110Z",
     "shell.execute_reply": "2024-07-15T22:49:41.353714Z",
     "shell.execute_reply.started": "2024-07-15T22:49:41.210689Z"
    }
   },
   "outputs": [],
   "source": [
    "display1 = afwDisplay.Display(frame=1)\n",
    "display1.mtv(coadd.cells[Index2D(x=11,y=11)].outer.mask)\n",
    "display2 = afwDisplay.Display(frame=2)\n",
    "display2.mtv(masked_warp.mask)"
   ]
  },
  {
   "cell_type": "code",
   "execution_count": null,
   "id": "fffc4cf6-c070-4c99-8a66-88ecd7a90bad",
   "metadata": {},
   "outputs": [],
   "source": []
  }
 ],
 "metadata": {
  "kernelspec": {
   "display_name": "LSST",
   "language": "python",
   "name": "lsst"
  },
  "language_info": {
   "codemirror_mode": {
    "name": "ipython",
    "version": 3
   },
   "file_extension": ".py",
   "mimetype": "text/x-python",
   "name": "python",
   "nbconvert_exporter": "python",
   "pygments_lexer": "ipython3",
   "version": "3.11.7"
  }
 },
 "nbformat": 4,
 "nbformat_minor": 5
}
