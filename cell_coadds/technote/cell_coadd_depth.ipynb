{
 "cells": [
  {
   "cell_type": "markdown",
   "id": "fc0d5c5e-1b68-407e-878d-c0e83f6afb0b",
   "metadata": {},
   "source": [
    "Notebook for psf_maglim depth of cell-based coadds."
   ]
  },
  {
   "cell_type": "markdown",
   "id": "109db9f3-8f3f-4f3a-9b66-26e26b77d29d",
   "metadata": {},
   "source": [
    "## Load in imports and data"
   ]
  },
  {
   "cell_type": "markdown",
   "id": "a5e082a1-3d08-49ce-b9a1-daa0aeb75975",
   "metadata": {},
   "source": [
    "Last working weekly: w2024_34"
   ]
  },
  {
   "cell_type": "code",
   "execution_count": 1,
   "id": "277e177c-9fe8-40cb-abd0-98f518f8bd7b",
   "metadata": {
    "execution": {
     "iopub.execute_input": "2024-08-28T20:42:02.890283Z",
     "iopub.status.busy": "2024-08-28T20:42:02.889840Z",
     "iopub.status.idle": "2024-08-28T20:42:07.748249Z",
     "shell.execute_reply": "2024-08-28T20:42:07.747828Z",
     "shell.execute_reply.started": "2024-08-28T20:42:02.890262Z"
    }
   },
   "outputs": [],
   "source": [
    "REPO = '/sdf/data/rubin/repo/main/'\n",
    "\n",
    "from lsst.daf.butler import Butler\n",
    "from pprint import pprint\n",
    "import lsst.afw.image as afwImage\n",
    "from lsst.skymap import Index2D\n",
    "import numpy as np\n",
    "import matplotlib as mpl\n",
    "from matplotlib import pyplot as plt\n",
    "\n",
    "%matplotlib inline\n",
    "\n",
    "butler = Butler(REPO)\n",
    "registry = butler.registry\n",
    "\n",
    "# define image display backend\n",
    "import lsst.afw.display as afwDisplay\n",
    "afwDisplay.setDefaultBackend('firefly')\n",
    "\n",
    "# cell variance\n",
    "import numpy.ma as ma\n",
    "\n",
    "# mean weighted variance\n",
    "from lsst.drp.tasks.assemble_cell_coadd import AssembleCellCoaddTask\n",
    "import lsst.afw.math as afwMath\n",
    "\n",
    "# plotting image with cell inputs\n",
    "import lsst.geom as afwGeom\n",
    "\n",
    "# interpolation mask threshold\n",
    "import lsst.geom as geom"
   ]
  },
  {
   "cell_type": "markdown",
   "id": "9c3c058c-80ad-41c6-8491-c381d6c5a29f",
   "metadata": {},
   "source": [
    "Confirm which version of packages are setup on the notebook environment."
   ]
  },
  {
   "cell_type": "code",
   "execution_count": 2,
   "id": "0e622bfb-0ef9-4ab8-b7f8-6db91f3b6976",
   "metadata": {
    "execution": {
     "iopub.execute_input": "2024-08-28T20:42:07.750540Z",
     "iopub.status.busy": "2024-08-28T20:42:07.750300Z",
     "iopub.status.idle": "2024-08-28T20:42:07.752421Z",
     "shell.execute_reply": "2024-08-28T20:42:07.752082Z",
     "shell.execute_reply.started": "2024-08-28T20:42:07.750525Z"
    }
   },
   "outputs": [],
   "source": [
    "# import lsst.pipe.tasks, lsst.drp.tasks, lsst.cell_coadds\n",
    "# print(lsst.pipe.tasks.__file__)\n",
    "# print(lsst.drp.tasks.__file__)\n",
    "# print(lsst.cell_coadds.__file__)"
   ]
  },
  {
   "cell_type": "code",
   "execution_count": 3,
   "id": "3777257e-6376-402a-93e3-f74981012102",
   "metadata": {
    "execution": {
     "iopub.execute_input": "2024-08-28T20:42:07.754126Z",
     "iopub.status.busy": "2024-08-28T20:42:07.753992Z",
     "iopub.status.idle": "2024-08-28T20:42:07.756435Z",
     "shell.execute_reply": "2024-08-28T20:42:07.756087Z",
     "shell.execute_reply.started": "2024-08-28T20:42:07.754115Z"
    }
   },
   "outputs": [],
   "source": [
    "# collection = 'u/mgorsuch/assemble_cell_coadd_patch_61_d0508' # updated patch 61 collection\n",
    "collection = 'u/mgorsuch/assemble_cell_coadds_tract_9813/20240624T164450Z' # all working patches in tract 9813"
   ]
  },
  {
   "cell_type": "markdown",
   "id": "63730f8e-d817-4f6a-9c2a-34ecf8fe4c21",
   "metadata": {},
   "source": [
    "Patches to choose from: [37, 38, 39, 40, 41, 44, 45, 46, 48, 49, 50, 51, 52, 55, 56, 57, 60, 61, 62, 63, 67, 83, 84]"
   ]
  },
  {
   "cell_type": "code",
   "execution_count": 4,
   "id": "5a4a560f-527b-4d7a-a8b9-2ea29befb445",
   "metadata": {
    "execution": {
     "iopub.execute_input": "2024-08-28T20:42:07.758123Z",
     "iopub.status.busy": "2024-08-28T20:42:07.758011Z",
     "iopub.status.idle": "2024-08-28T20:42:07.760777Z",
     "shell.execute_reply": "2024-08-28T20:42:07.760419Z",
     "shell.execute_reply.started": "2024-08-28T20:42:07.758112Z"
    }
   },
   "outputs": [],
   "source": [
    "patch = 50"
   ]
  },
  {
   "cell_type": "code",
   "execution_count": 5,
   "id": "b524b8b2-a4e8-48f4-8873-6c5b579be300",
   "metadata": {
    "execution": {
     "iopub.execute_input": "2024-08-28T20:42:07.762344Z",
     "iopub.status.busy": "2024-08-28T20:42:07.762223Z",
     "iopub.status.idle": "2024-08-28T20:42:08.787543Z",
     "shell.execute_reply": "2024-08-28T20:42:08.787103Z",
     "shell.execute_reply.started": "2024-08-28T20:42:07.762332Z"
    }
   },
   "outputs": [],
   "source": [
    "coadd = butler.get('deepCoaddCell', \n",
    "                     collections=collection, \n",
    "                     instrument='HSC', \n",
    "                     skymap = 'hsc_rings_cells_v1', \n",
    "                     tract = 9813, \n",
    "                     patch=patch,\n",
    "                     band='i',)"
   ]
  },
  {
   "cell_type": "code",
   "execution_count": 6,
   "id": "a9ee9447-2851-49df-9724-8b76c4d4dc8d",
   "metadata": {
    "execution": {
     "iopub.execute_input": "2024-08-28T20:42:08.789458Z",
     "iopub.status.busy": "2024-08-28T20:42:08.789336Z",
     "iopub.status.idle": "2024-08-28T20:42:08.791531Z",
     "shell.execute_reply": "2024-08-28T20:42:08.791175Z",
     "shell.execute_reply.started": "2024-08-28T20:42:08.789446Z"
    }
   },
   "outputs": [],
   "source": [
    "# stitch_coadd = coadd.stitch() # fails with empty cells\n",
    "explode_coadd = coadd.explode()"
   ]
  },
  {
   "cell_type": "code",
   "execution_count": 7,
   "id": "4aafc672-00dd-475c-848e-e30a2b959b9f",
   "metadata": {
    "execution": {
     "iopub.execute_input": "2024-08-28T20:42:08.793122Z",
     "iopub.status.busy": "2024-08-28T20:42:08.793013Z",
     "iopub.status.idle": "2024-08-28T20:42:08.795511Z",
     "shell.execute_reply": "2024-08-28T20:42:08.795185Z",
     "shell.execute_reply.started": "2024-08-28T20:42:08.793111Z"
    }
   },
   "outputs": [],
   "source": [
    "cell_list_filled = list(coadd.cells.keys())"
   ]
  },
  {
   "cell_type": "code",
   "execution_count": 8,
   "id": "b8dcf953-a149-4330-853a-ae1f07f20707",
   "metadata": {
    "execution": {
     "iopub.execute_input": "2024-08-28T20:42:08.797234Z",
     "iopub.status.busy": "2024-08-28T20:42:08.797103Z",
     "iopub.status.idle": "2024-08-28T20:42:09.087163Z",
     "shell.execute_reply": "2024-08-28T20:42:09.086714Z",
     "shell.execute_reply.started": "2024-08-28T20:42:08.797222Z"
    },
    "scrolled": true
   },
   "outputs": [],
   "source": [
    "cell_list = []\n",
    "cells_filled = [False] * 484\n",
    "\n",
    "index = 0\n",
    "for i in range(22):\n",
    "    for j in range(22):\n",
    "        cell_list.append(Index2D(x=j,y=i))\n",
    "\n",
    "        for cell in cell_list_filled:\n",
    "            if (j==cell.x) and (i==cell.y):\n",
    "                cells_filled[index]=True\n",
    "\n",
    "        index += 1"
   ]
  },
  {
   "cell_type": "code",
   "execution_count": 9,
   "id": "d856a17f-aa54-4279-9566-2f472ddfa565",
   "metadata": {
    "execution": {
     "iopub.execute_input": "2024-08-28T20:42:09.089032Z",
     "iopub.status.busy": "2024-08-28T20:42:09.088913Z",
     "iopub.status.idle": "2024-08-28T20:42:09.090967Z",
     "shell.execute_reply": "2024-08-28T20:42:09.090607Z",
     "shell.execute_reply.started": "2024-08-28T20:42:09.089020Z"
    }
   },
   "outputs": [],
   "source": [
    "# example on how to use equivalent of np.where on lists\n",
    "# cell_list_test = [cell_list[index] for index, val in enumerate(cells_filled) if val == True]"
   ]
  },
  {
   "cell_type": "code",
   "execution_count": 10,
   "id": "c4461c60-cac1-4b2d-8f51-806c489567d9",
   "metadata": {
    "execution": {
     "iopub.execute_input": "2024-08-28T20:42:09.092689Z",
     "iopub.status.busy": "2024-08-28T20:42:09.092571Z",
     "iopub.status.idle": "2024-08-28T20:42:09.194970Z",
     "shell.execute_reply": "2024-08-28T20:42:09.194639Z",
     "shell.execute_reply.started": "2024-08-28T20:42:09.092676Z"
    }
   },
   "outputs": [],
   "source": [
    "visits = []\n",
    "for ref in butler.registry.queryDatasets('deepCoadd_directWarp', physical_filter='HSC-I', collections=collection, instrument='HSC', tract=9813, skymap = 'hsc_rings_cells_v1', patch=patch):\n",
    "    visits.append(ref.dataId.get('visit'))\n",
    "visits = np.unique(visits)"
   ]
  },
  {
   "cell_type": "code",
   "execution_count": 11,
   "id": "b65aa55f-5092-4433-897c-0c5b5dd7e8a6",
   "metadata": {
    "execution": {
     "iopub.execute_input": "2024-08-28T20:42:09.198055Z",
     "iopub.status.busy": "2024-08-28T20:42:09.197752Z",
     "iopub.status.idle": "2024-08-28T20:42:09.202564Z",
     "shell.execute_reply": "2024-08-28T20:42:09.202176Z",
     "shell.execute_reply.started": "2024-08-28T20:42:09.198042Z"
    },
    "scrolled": true
   },
   "outputs": [],
   "source": [
    "# arrange the number of inputs for each cell into a 2D grid:\n",
    "x_cell_bin = np.arange(0,22+1,1)\n",
    "y_cell_bin = np.arange(0,22+1,1)\n",
    "\n",
    "inputs_list = np.zeros([22,22])\n",
    "\n",
    "# for cell in cell_list:\n",
    "for index, cell in enumerate(cell_list):\n",
    "\n",
    "    # check if the cell is filled, skip if not\n",
    "    if not (cells_filled[index]):\n",
    "        continue \n",
    "        \n",
    "    num_cell_inputs = len(coadd.cells[cell].inputs)\n",
    "    x_index = cell.x\n",
    "    y_index = cell.y\n",
    "        \n",
    "    inputs_list[y_index][x_index] = num_cell_inputs"
   ]
  },
  {
   "cell_type": "code",
   "execution_count": 12,
   "id": "b2b68b55-36a8-43e9-b462-b2916378eae8",
   "metadata": {
    "execution": {
     "iopub.execute_input": "2024-08-28T20:42:09.203205Z",
     "iopub.status.busy": "2024-08-28T20:42:09.203072Z",
     "iopub.status.idle": "2024-08-28T20:42:09.205997Z",
     "shell.execute_reply": "2024-08-28T20:42:09.205624Z",
     "shell.execute_reply.started": "2024-08-28T20:42:09.203193Z"
    }
   },
   "outputs": [],
   "source": [
    "# create and configure stats control object as seen in assemble_cell_coadd task\n",
    "statsCtrl = afwMath.StatisticsControl()\n",
    "statsCtrl.setAndMask(afwImage.Mask.getPlaneBitMask((\"BAD\", \"NO_DATA\", \"SAT\"))) # use default PlaneBitMasks from task\n",
    "statsCtrl.setNanSafe(True)"
   ]
  },
  {
   "cell_type": "markdown",
   "id": "1526499d-fd08-4421-9535-8d3061ab0e58",
   "metadata": {},
   "source": [
    "## Cell Depth"
   ]
  },
  {
   "cell_type": "markdown",
   "id": "0fca70c6-ec94-4c4b-87b1-2b268202000e",
   "metadata": {},
   "source": [
    "### Cell Depth Methods"
   ]
  },
  {
   "cell_type": "markdown",
   "id": "7a197c5c-6c4e-4781-8dc4-3256b1b76b16",
   "metadata": {},
   "source": [
    "Example calculations for values needed to calculate cell cepth.\n",
    "\n",
    "Image depth equation from https://github.com/lsst/pipe_tasks/blob/main/python/lsst/pipe/tasks/healSparseMappingProperties.py#L485"
   ]
  },
  {
   "cell_type": "code",
   "execution_count": 13,
   "id": "416bb2ea-1536-413a-ad48-9c78c15acfa1",
   "metadata": {
    "execution": {
     "iopub.execute_input": "2024-08-28T20:42:09.206656Z",
     "iopub.status.busy": "2024-08-28T20:42:09.206522Z",
     "iopub.status.idle": "2024-08-28T20:42:09.211016Z",
     "shell.execute_reply": "2024-08-28T20:42:09.210647Z",
     "shell.execute_reply.started": "2024-08-28T20:42:09.206644Z"
    }
   },
   "outputs": [],
   "source": [
    "# returns effective PSF area given the PSF stamp image array\n",
    "def psfArea(psf_im):\n",
    "    numer = np.square(np.sum(psf_im))\n",
    "    # numer = 1 # I've seen this as well, but said to be prone to changing if stamp size changes\n",
    "    denom = np.sum(np.square(psf_im))\n",
    "    return numer/denom"
   ]
  },
  {
   "cell_type": "code",
   "execution_count": 14,
   "id": "22ccc411-4bf0-44d5-9784-17f1bcd0e527",
   "metadata": {
    "execution": {
     "iopub.execute_input": "2024-08-28T20:42:09.211674Z",
     "iopub.status.busy": "2024-08-28T20:42:09.211547Z",
     "iopub.status.idle": "2024-08-28T20:42:09.214127Z",
     "shell.execute_reply": "2024-08-28T20:42:09.213777Z",
     "shell.execute_reply.started": "2024-08-28T20:42:09.211663Z"
    }
   },
   "outputs": [],
   "source": [
    "# returns the weight (~1/meanVar) of a cell, given the cell object and the statistics settings\n",
    "def cell_weight(cell, statsCtrl):\n",
    "    accTask = AssembleCellCoaddTask()\n",
    "    mask_im = cell.outer.asMaskedImage()\n",
    "    computed_weight = accTask._compute_weight(mask_im, statsCtrl)\n",
    "    # the computed weight will be the same value for each pixel\n",
    "    total_weight = computed_weight * mask_im.getDimensions()[0] * mask_im.getDimensions()[1]\n",
    "    return total_weight"
   ]
  },
  {
   "cell_type": "code",
   "execution_count": 15,
   "id": "0d848b7c-ef96-40ba-9c15-69050f3c7b35",
   "metadata": {
    "execution": {
     "iopub.execute_input": "2024-08-28T20:42:09.214711Z",
     "iopub.status.busy": "2024-08-28T20:42:09.214595Z",
     "iopub.status.idle": "2024-08-28T20:42:09.218815Z",
     "shell.execute_reply": "2024-08-28T20:42:09.218445Z",
     "shell.execute_reply.started": "2024-08-28T20:42:09.214700Z"
    }
   },
   "outputs": [],
   "source": [
    "# returns the limiting PSF magnitude of each pixel, given the PSF area and cell weight\n",
    "def mag_lim(psf_area, weights, zp=27, num_sigma=5):\n",
    "    maglim = zp-2.5*np.log10(num_sigma*np.sqrt(psf_area/weights))\n",
    "    return maglim"
   ]
  },
  {
   "cell_type": "markdown",
   "id": "17cb1d9e-8dcf-4db3-9d70-d27813b777db",
   "metadata": {},
   "source": [
    "Example on test cell:"
   ]
  },
  {
   "cell_type": "code",
   "execution_count": 16,
   "id": "5d86922a-3646-4201-a3d6-56d36a69d752",
   "metadata": {
    "execution": {
     "iopub.execute_input": "2024-08-28T20:42:09.219595Z",
     "iopub.status.busy": "2024-08-28T20:42:09.219332Z",
     "iopub.status.idle": "2024-08-28T20:42:09.228800Z",
     "shell.execute_reply": "2024-08-28T20:42:09.228415Z",
     "shell.execute_reply.started": "2024-08-28T20:42:09.219581Z"
    }
   },
   "outputs": [
    {
     "name": "stdout",
     "output_type": "stream",
     "text": [
      "PSF eff. area:  42.591650153416815\n",
      "Cell totaled weights:  388.155173534826\n",
      "Cell depth:  26.45217612980335\n"
     ]
    }
   ],
   "source": [
    "depth_cell = coadd.cells[Index2D(x=21,y=21)]\n",
    "depth_psf_image = depth_cell.psf_image.array\n",
    "psf_area = psfArea(depth_psf_image)\n",
    "print(\"PSF eff. area: \", psf_area)\n",
    "print(\"Cell totaled weights: \", cell_weight(depth_cell, statsCtrl))\n",
    "print(\"Cell depth: \", np.mean(mag_lim(psf_area, cell_weight(depth_cell, statsCtrl))))"
   ]
  },
  {
   "cell_type": "markdown",
   "id": "dc086a38-0537-4a8c-b016-ae78b03eda4c",
   "metadata": {},
   "source": [
    "### Cell Depth 2D Distribution"
   ]
  },
  {
   "cell_type": "code",
   "execution_count": 17,
   "id": "da5ac18a-4590-4f5e-b34c-0644e5198738",
   "metadata": {
    "execution": {
     "iopub.execute_input": "2024-08-28T20:42:09.229452Z",
     "iopub.status.busy": "2024-08-28T20:42:09.229320Z",
     "iopub.status.idle": "2024-08-28T20:42:10.412295Z",
     "shell.execute_reply": "2024-08-28T20:42:10.411863Z",
     "shell.execute_reply.started": "2024-08-28T20:42:09.229439Z"
    }
   },
   "outputs": [],
   "source": [
    "cell_depths = np.empty([22,22])\n",
    "\n",
    "for index, cell_index in enumerate(cell_list):\n",
    "\n",
    "    # check if the cell is filled, skip if not\n",
    "    if not (cells_filled[index]):\n",
    "        continue \n",
    "\n",
    "    cell = coadd.cells[cell_index]\n",
    "    psf_im = cell.psf_image.array\n",
    "\n",
    "    psf_area = psfArea(psf_im)\n",
    "    weight = cell_weight(cell, statsCtrl)\n",
    "    \n",
    "    cell_depth = mag_lim(psf_area, weight)\n",
    "\n",
    "    x_index = cell_index.x\n",
    "    y_index = cell_index.y\n",
    "    \n",
    "    cell_depths[y_index][x_index] = np.mean(cell_depth)\n",
    "\n",
    "cell_depths = ma.masked_where(cell_depths < 0.1, cell_depths) # TO-DO: remove hard coded condition"
   ]
  },
  {
   "cell_type": "code",
   "execution_count": 18,
   "id": "82d292bd-aea4-42bf-8de5-52bec2b5e88a",
   "metadata": {
    "execution": {
     "iopub.execute_input": "2024-08-28T20:42:10.412986Z",
     "iopub.status.busy": "2024-08-28T20:42:10.412862Z",
     "iopub.status.idle": "2024-08-28T20:42:10.657798Z",
     "shell.execute_reply": "2024-08-28T20:42:10.657419Z",
     "shell.execute_reply.started": "2024-08-28T20:42:10.412975Z"
    }
   },
   "outputs": [
    {
     "data": {
      "image/png": "[encoded data removed]",
      "text/plain": [
       "<Figure size 800x800 with 3 Axes>"
      ]
     },
     "metadata": {},
     "output_type": "display_data"
    }
   ],
   "source": [
    "fig, axs = plt.subplots(1, 2, figsize=(8,8))\n",
    "plt.tight_layout()\n",
    "plt.subplots_adjust(wspace=0.5)\n",
    "\n",
    "depths = axs[0].pcolormesh(cell_depths, \n",
    "                        shading='auto', \n",
    "                        vmin=ma.min(cell_depths), \n",
    "                        vmax=ma.max(cell_depths),)\n",
    "\n",
    "axs[0].set_title(f\"Mean limiting depth of each cell \\n tract 9813, patch {patch}, i-band\")\n",
    "axs[0].set_xlabel(\"Cell x-index\")\n",
    "axs[0].set_ylabel(\"Cell y-index\")\n",
    "axs[0].set_aspect('equal')\n",
    "axs[0].set_xticks(np.arange(0, 21, 2))\n",
    "axs[0].set_yticks(np.arange(0, 21, 2))\n",
    "fig.colorbar(depths, ax=axs[0], cmap='viridis', shrink=0.3, label='AB mag')\n",
    "\n",
    "depths = axs[1].scatter(inputs_list.flatten(), cell_depths)\n",
    "\n",
    "# a rough estimate of the theoretical improvement in depth\n",
    "xs = np.linspace(1, 7, 1000)\n",
    "ys = 1.25*np.log10(xs)+25.8\n",
    "#log_funtion = axs[1].plot(xs, ys)\n",
    "\n",
    "axs[1].set_title(f\"Cell Depth vs Num Inputs \\n tract 9813, patch {patch}, i-band\")\n",
    "axs[1].set_aspect(12)\n",
    "axs[1].set_xlabel(\"Number of input warps\")\n",
    "axs[1].set_ylabel(\"Cell Mean Depth, AB mag\")\n",
    "axs[1].set_aspect(5)"
   ]
  },
  {
   "cell_type": "markdown",
   "id": "6f83387f-0105-4631-9068-5c405ce47450",
   "metadata": {},
   "source": [
    "Fortunately, the limiting depth seems to improve as number of input images increases. This should be tested on a wider range of cells."
   ]
  }
 ],
 "metadata": {
  "kernelspec": {
   "display_name": "LSST",
   "language": "python",
   "name": "lsst"
  },
  "language_info": {
   "codemirror_mode": {
    "name": "ipython",
    "version": 3
   },
   "file_extension": ".py",
   "mimetype": "text/x-python",
   "name": "python",
   "nbconvert_exporter": "python",
   "pygments_lexer": "ipython3",
   "version": "3.11.9"
  }
 },
 "nbformat": 4,
 "nbformat_minor": 5
}
