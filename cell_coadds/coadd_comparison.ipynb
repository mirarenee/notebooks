{
 "cells": [
  {
   "cell_type": "markdown",
   "id": "f70bd147-e638-41a9-b341-cd39b5e165d4",
   "metadata": {},
   "source": [
    "# Compare cell-based coadds to traditional coadds\n",
    "\n",
    "A notebook to compare statistics between two types of coadding algorithms, such as average depth.\n",
    "\n",
    "Last working weekly: w2024_33\n",
    "\n",
    "Very much still WIP"
   ]
  },
  {
   "cell_type": "markdown",
   "id": "4612e62b-8ed6-4482-b22a-5da421e4fe45",
   "metadata": {},
   "source": [
    "## Load imports and data"
   ]
  },
  {
   "cell_type": "code",
   "execution_count": 1,
   "id": "cad308ec-5f67-45dc-a1b1-46e1b5573f93",
   "metadata": {
    "execution": {
     "iopub.execute_input": "2024-08-23T16:03:59.706620Z",
     "iopub.status.busy": "2024-08-23T16:03:59.706298Z",
     "iopub.status.idle": "2024-08-23T16:04:06.430364Z",
     "shell.execute_reply": "2024-08-23T16:04:06.429686Z",
     "shell.execute_reply.started": "2024-08-23T16:03:59.706604Z"
    }
   },
   "outputs": [],
   "source": [
    "REPO = '/sdf/data/rubin/repo/main/'\n",
    "\n",
    "from lsst.daf.butler import Butler\n",
    "from pprint import pprint\n",
    "import lsst.afw.image as afwImage\n",
    "from lsst.skymap import Index2D\n",
    "import numpy as np\n",
    "import pandas as pd\n",
    "import matplotlib as mpl\n",
    "from matplotlib import pyplot as plt\n",
    "import numpy.ma as ma\n",
    "import healsparse as hsp\n",
    "import healpy as hp\n",
    "import lsst.geom as afwGeom\n",
    "import skyproj\n",
    "\n",
    "from lsst.sphgeom import Box, HealpixPixelization\n",
    "\n",
    "# using statsCtrl\n",
    "from lsst.drp.tasks.assemble_cell_coadd import AssembleCellCoaddTask\n",
    "import lsst.afw.math as afwMath\n",
    "\n",
    "%matplotlib inline\n",
    "\n",
    "butler = Butler(REPO)\n",
    "registry = butler.registry\n",
    "\n",
    "# define image display backend\n",
    "import lsst.afw.display as afwDisplay\n",
    "afwDisplay.setDefaultBackend('firefly')"
   ]
  },
  {
   "cell_type": "code",
   "execution_count": 2,
   "id": "02a8cf07-37b3-4c3c-b06d-1c09738ce2e7",
   "metadata": {
    "execution": {
     "iopub.execute_input": "2024-08-23T16:04:06.431577Z",
     "iopub.status.busy": "2024-08-23T16:04:06.431421Z",
     "iopub.status.idle": "2024-08-23T16:04:06.433936Z",
     "shell.execute_reply": "2024-08-23T16:04:06.433555Z",
     "shell.execute_reply.started": "2024-08-23T16:04:06.431564Z"
    }
   },
   "outputs": [],
   "source": [
    "cell_collection = 'u/mgorsuch/cell_coadds_tract_9813_d_2024_07_29/20240822T182932Z'\n",
    "traditional_collection = 'u/mgorsuch/trad_coadds_tract_9813_d_2024_07_29/20240822T182652Z'"
   ]
  },
  {
   "cell_type": "code",
   "execution_count": 3,
   "id": "8a7672c7-7480-4673-9d3c-c4cf6595860d",
   "metadata": {
    "execution": {
     "iopub.execute_input": "2024-08-23T16:04:06.434727Z",
     "iopub.status.busy": "2024-08-23T16:04:06.434442Z",
     "iopub.status.idle": "2024-08-23T16:04:06.438923Z",
     "shell.execute_reply": "2024-08-23T16:04:06.438491Z",
     "shell.execute_reply.started": "2024-08-23T16:04:06.434715Z"
    }
   },
   "outputs": [],
   "source": [
    "# create and configure stats control object as seen in assemble_cell_coadd task\n",
    "statsCtrl = afwMath.StatisticsControl()\n",
    "statsCtrl.setAndMask(afwImage.Mask.getPlaneBitMask((\"BAD\", \"NO_DATA\", \"SAT\"))) # use default PlaneBitMasks from task\n",
    "statsCtrl.setNanSafe(True)"
   ]
  },
  {
   "cell_type": "code",
   "execution_count": 4,
   "id": "aee98db5-1425-4c16-9d2d-1a909dd68929",
   "metadata": {
    "execution": {
     "iopub.execute_input": "2024-08-23T16:04:06.440289Z",
     "iopub.status.busy": "2024-08-23T16:04:06.439864Z",
     "iopub.status.idle": "2024-08-23T16:04:06.445541Z",
     "shell.execute_reply": "2024-08-23T16:04:06.445190Z",
     "shell.execute_reply.started": "2024-08-23T16:04:06.440270Z"
    }
   },
   "outputs": [],
   "source": [
    "patch=50"
   ]
  },
  {
   "cell_type": "code",
   "execution_count": 5,
   "id": "cf6c78de-4b12-4bf7-8c11-eaff4586881c",
   "metadata": {
    "execution": {
     "iopub.execute_input": "2024-08-23T16:04:06.446408Z",
     "iopub.status.busy": "2024-08-23T16:04:06.446082Z",
     "iopub.status.idle": "2024-08-23T16:04:07.431559Z",
     "shell.execute_reply": "2024-08-23T16:04:07.431026Z",
     "shell.execute_reply.started": "2024-08-23T16:04:06.446393Z"
    }
   },
   "outputs": [],
   "source": [
    "coadd_cell = butler.get('deepCoaddCell', \n",
    "                     collections=cell_collection, \n",
    "                     instrument='HSC', \n",
    "                     skymap = 'hsc_rings_cells_v1', \n",
    "                     tract = 9813, \n",
    "                     patch=patch,\n",
    "                     band='i',)"
   ]
  },
  {
   "cell_type": "code",
   "execution_count": 6,
   "id": "25e51953-6e87-4eec-84ca-9706e6c32d3a",
   "metadata": {
    "execution": {
     "iopub.execute_input": "2024-08-22T20:38:27.095055Z",
     "iopub.status.busy": "2024-08-22T20:38:27.094917Z",
     "iopub.status.idle": "2024-08-22T20:40:32.324635Z",
     "shell.execute_reply": "2024-08-22T20:40:32.324119Z",
     "shell.execute_reply.started": "2024-08-22T20:38:27.095042Z"
    }
   },
   "outputs": [
    {
     "name": "stdout",
     "output_type": "stream",
     "text": [
      "DatasetType('packages', {}, Packages)\n",
      "DatasetType('deepCoadd', {band, skymap, tract, patch}, ExposureF)\n",
      "DatasetType('deepCoadd_directWarp', {band, instrument, skymap, day_obs, physical_filter, tract, patch, visit}, ExposureF)\n",
      "DatasetType('deepCoadd_nImage', {band, skymap, tract, patch}, ImageU)\n",
      "DatasetType('makeWarp_metadata', {band, instrument, skymap, day_obs, physical_filter, tract, patch, visit}, PropertySet)\n",
      "DatasetType('assembleCoadd_metadata', {band, skymap, tract, patch}, PropertySet)\n",
      "DatasetType('makeWarp_config', {}, Config)\n",
      "DatasetType('assembleCoadd_config', {}, Config)\n",
      "DatasetType('makeWarp_log', {band, instrument, skymap, day_obs, physical_filter, tract, patch, visit}, ButlerLogRecords)\n",
      "DatasetType('assembleCoadd_log', {band, skymap, tract, patch}, ButlerLogRecords)\n"
     ]
    }
   ],
   "source": [
    "for datasetType in registry.queryDatasetTypes():\n",
    "    if registry.queryDatasets(datasetType, collections=traditional_collection).any(execute=False, exact=False):\n",
    "        print(datasetType)"
   ]
  },
  {
   "cell_type": "code",
   "execution_count": 6,
   "id": "f49c8981-a121-423e-b548-a719cb469f6d",
   "metadata": {
    "execution": {
     "iopub.execute_input": "2024-08-23T16:04:07.439502Z",
     "iopub.status.busy": "2024-08-23T16:04:07.439375Z",
     "iopub.status.idle": "2024-08-23T16:04:08.808120Z",
     "shell.execute_reply": "2024-08-23T16:04:08.807679Z",
     "shell.execute_reply.started": "2024-08-23T16:04:07.439490Z"
    }
   },
   "outputs": [],
   "source": [
    "coadd_trad = butler.get('deepCoadd', \n",
    "                     collections=traditional_collection, \n",
    "                     instrument='HSC', \n",
    "                     skymap = 'hsc_rings_cells_v1', \n",
    "                     tract = 9813, \n",
    "                     patch=patch,\n",
    "                     band='i',)"
   ]
  },
  {
   "cell_type": "code",
   "execution_count": 7,
   "id": "a092f333-4b00-4e57-b9c1-b61501a2acf5",
   "metadata": {
    "execution": {
     "iopub.execute_input": "2024-08-23T16:04:08.808840Z",
     "iopub.status.busy": "2024-08-23T16:04:08.808706Z",
     "iopub.status.idle": "2024-08-23T16:04:08.811100Z",
     "shell.execute_reply": "2024-08-23T16:04:08.810763Z",
     "shell.execute_reply.started": "2024-08-23T16:04:08.808828Z"
    }
   },
   "outputs": [],
   "source": [
    "bbox_trad = coadd_trad.image.getBBox()"
   ]
  },
  {
   "cell_type": "code",
   "execution_count": 8,
   "id": "0592b49f-62de-47f8-a885-5679bd8e499d",
   "metadata": {
    "execution": {
     "iopub.execute_input": "2024-08-23T16:04:08.811746Z",
     "iopub.status.busy": "2024-08-23T16:04:08.811629Z",
     "iopub.status.idle": "2024-08-23T16:04:08.816142Z",
     "shell.execute_reply": "2024-08-23T16:04:08.815794Z",
     "shell.execute_reply.started": "2024-08-23T16:04:08.811736Z"
    }
   },
   "outputs": [
    {
     "name": "stdout",
     "output_type": "stream",
     "text": [
      "17800 11800\n",
      "21200 15200\n",
      "19499.5 13499.5\n"
     ]
    }
   ],
   "source": [
    "print(bbox_trad.beginX, bbox_trad.beginY)\n",
    "print(bbox_trad.endX, bbox_trad.endY)\n",
    "print(bbox_trad.centerX, bbox_trad.centerY)"
   ]
  },
  {
   "cell_type": "code",
   "execution_count": 9,
   "id": "329c1d45-c4d5-41ae-b4ae-bb6a90ede43d",
   "metadata": {
    "execution": {
     "iopub.execute_input": "2024-08-23T16:04:15.022478Z",
     "iopub.status.busy": "2024-08-23T16:04:15.022168Z",
     "iopub.status.idle": "2024-08-23T16:04:15.024865Z",
     "shell.execute_reply": "2024-08-23T16:04:15.024507Z",
     "shell.execute_reply.started": "2024-08-23T16:04:15.022463Z"
    }
   },
   "outputs": [],
   "source": [
    "psf = coadd_trad.getPsf()"
   ]
  },
  {
   "cell_type": "code",
   "execution_count": 10,
   "id": "34803968-72e6-4ac7-9383-2c199ea0bd56",
   "metadata": {
    "execution": {
     "iopub.execute_input": "2024-08-23T16:04:15.026237Z",
     "iopub.status.busy": "2024-08-23T16:04:15.026105Z",
     "iopub.status.idle": "2024-08-23T16:04:15.029473Z",
     "shell.execute_reply": "2024-08-23T16:04:15.029137Z",
     "shell.execute_reply.started": "2024-08-23T16:04:15.026226Z"
    }
   },
   "outputs": [
    {
     "data": {
      "text/plain": [
       "Point2D(19092.438560185026, 13892.68662666704)"
      ]
     },
     "execution_count": 10,
     "metadata": {},
     "output_type": "execute_result"
    }
   ],
   "source": [
    "psf.getAveragePosition()"
   ]
  },
  {
   "cell_type": "code",
   "execution_count": 11,
   "id": "836052f1-4248-44c8-9eef-88dc7eba823f",
   "metadata": {
    "execution": {
     "iopub.execute_input": "2024-08-23T16:04:18.695143Z",
     "iopub.status.busy": "2024-08-23T16:04:18.694808Z",
     "iopub.status.idle": "2024-08-23T16:04:18.731629Z",
     "shell.execute_reply": "2024-08-23T16:04:18.731253Z",
     "shell.execute_reply.started": "2024-08-23T16:04:18.695118Z"
    }
   },
   "outputs": [],
   "source": [
    "psf_compute = psf.computeImage(psf.getAveragePosition()).array"
   ]
  },
  {
   "cell_type": "code",
   "execution_count": 12,
   "id": "79a96180-e991-45a3-b467-d9ee611ea22d",
   "metadata": {
    "execution": {
     "iopub.execute_input": "2024-08-23T16:04:18.732444Z",
     "iopub.status.busy": "2024-08-23T16:04:18.732319Z",
     "iopub.status.idle": "2024-08-23T16:04:18.734449Z",
     "shell.execute_reply": "2024-08-23T16:04:18.734110Z",
     "shell.execute_reply.started": "2024-08-23T16:04:18.732432Z"
    }
   },
   "outputs": [],
   "source": [
    "psf_im = psf.computeKernelImage(psf.getAveragePosition()).array"
   ]
  },
  {
   "cell_type": "code",
   "execution_count": 30,
   "id": "4013a88f-eaf7-466d-b098-db8aad694aae",
   "metadata": {
    "execution": {
     "iopub.execute_input": "2024-08-22T18:08:55.736750Z",
     "iopub.status.busy": "2024-08-22T18:08:55.736380Z",
     "iopub.status.idle": "2024-08-22T18:08:55.807166Z",
     "shell.execute_reply": "2024-08-22T18:08:55.806856Z",
     "shell.execute_reply.started": "2024-08-22T18:08:55.736737Z"
    }
   },
   "outputs": [
    {
     "data": {
      "text/plain": [
       "<matplotlib.image.AxesImage at 0x7fa7797c2e10>"
      ]
     },
     "execution_count": 30,
     "metadata": {},
     "output_type": "execute_result"
    },
    {
     "data": {
      "image/png": "[encoded data removed]",
      "text/plain": [
       "<Figure size 640x480 with 1 Axes>"
      ]
     },
     "metadata": {},
     "output_type": "display_data"
    }
   ],
   "source": [
    "plt.imshow(psf_im)"
   ]
  },
  {
   "cell_type": "code",
   "execution_count": 44,
   "id": "3d041872-f118-47a3-b6a3-941d0b80092f",
   "metadata": {
    "execution": {
     "iopub.execute_input": "2024-08-22T18:34:09.324677Z",
     "iopub.status.busy": "2024-08-22T18:34:09.324338Z",
     "iopub.status.idle": "2024-08-22T18:34:09.391023Z",
     "shell.execute_reply": "2024-08-22T18:34:09.390704Z",
     "shell.execute_reply.started": "2024-08-22T18:34:09.324663Z"
    }
   },
   "outputs": [
    {
     "data": {
      "text/plain": [
       "<matplotlib.image.AxesImage at 0x7fa77bb653d0>"
      ]
     },
     "execution_count": 44,
     "metadata": {},
     "output_type": "execute_result"
    },
    {
     "data": {
      "image/png": "[encoded data removed]",
      "text/plain": [
       "<Figure size 640x480 with 1 Axes>"
      ]
     },
     "metadata": {},
     "output_type": "display_data"
    }
   ],
   "source": [
    "plt.imshow(psf_compute)"
   ]
  },
  {
   "cell_type": "code",
   "execution_count": null,
   "id": "06e46037-9480-42b5-b026-0211a97fbbd5",
   "metadata": {},
   "outputs": [],
   "source": []
  }
 ],
 "metadata": {
  "kernelspec": {
   "display_name": "LSST",
   "language": "python",
   "name": "lsst"
  },
  "language_info": {
   "codemirror_mode": {
    "name": "ipython",
    "version": 3
   },
   "file_extension": ".py",
   "mimetype": "text/x-python",
   "name": "python",
   "nbconvert_exporter": "python",
   "pygments_lexer": "ipython3",
   "version": "3.11.9"
  }
 },
 "nbformat": 4,
 "nbformat_minor": 5
}
