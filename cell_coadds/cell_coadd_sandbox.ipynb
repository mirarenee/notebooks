{
 "cells": [
  {
   "cell_type": "markdown",
   "id": "600959fc-6915-407b-887b-483388055300",
   "metadata": {},
   "source": [
    "## Load in imports and data"
   ]
  },
  {
   "cell_type": "markdown",
   "id": "7bb5717b-c3a3-4a51-8c79-3c221b456719",
   "metadata": {},
   "source": [
    "Last working weekly: w2024_29"
   ]
  },
  {
   "cell_type": "code",
   "execution_count": 1,
   "id": "dcee5f19-6338-49fd-8f55-3ea03d12775b",
   "metadata": {
    "execution": {
     "iopub.execute_input": "2024-07-18T16:13:28.928023Z",
     "iopub.status.busy": "2024-07-18T16:13:28.927901Z",
     "iopub.status.idle": "2024-07-18T16:13:33.550747Z",
     "shell.execute_reply": "2024-07-18T16:13:33.550298Z",
     "shell.execute_reply.started": "2024-07-18T16:13:28.928010Z"
    }
   },
   "outputs": [],
   "source": [
    "REPO = '/sdf/data/rubin/repo/main/'\n",
    "\n",
    "from lsst.daf.butler import Butler\n",
    "from pprint import pprint\n",
    "import lsst.afw.image as afwImage\n",
    "from lsst.skymap import Index2D\n",
    "import numpy as np\n",
    "import matplotlib as mpl\n",
    "from matplotlib import pyplot as plt\n",
    "\n",
    "%matplotlib inline\n",
    "\n",
    "butler = Butler(REPO)\n",
    "registry = butler.registry\n",
    "\n",
    "# define image display backend\n",
    "import lsst.afw.display as afwDisplay\n",
    "afwDisplay.setDefaultBackend('firefly')\n",
    "\n",
    "# cell variance\n",
    "import numpy.ma as ma\n",
    "\n",
    "# mean weighted variance\n",
    "from lsst.drp.tasks.assemble_cell_coadd import AssembleCellCoaddTask\n",
    "import lsst.afw.math as afwMath\n",
    "\n",
    "# plotting image with cell inputs\n",
    "import lsst.geom as afwGeom\n",
    "\n",
    "# interpolation mask threshold\n",
    "import lsst.geom as geom"
   ]
  },
  {
   "cell_type": "markdown",
   "id": "b41ad15a-0889-4d8f-a8ca-e9938e971c5f",
   "metadata": {},
   "source": [
    "Confirm which version of packages are setup on the notebook environment."
   ]
  },
  {
   "cell_type": "code",
   "execution_count": 2,
   "id": "55614a5d-6473-4f0f-9584-50c8b382f025",
   "metadata": {
    "execution": {
     "iopub.execute_input": "2024-07-18T16:13:33.551434Z",
     "iopub.status.busy": "2024-07-18T16:13:33.551297Z",
     "iopub.status.idle": "2024-07-18T16:13:33.553508Z",
     "shell.execute_reply": "2024-07-18T16:13:33.553129Z",
     "shell.execute_reply.started": "2024-07-18T16:13:33.551420Z"
    }
   },
   "outputs": [],
   "source": [
    "# import lsst.pipe.tasks, lsst.drp.tasks, lsst.cell_coadds\n",
    "# print(lsst.pipe.tasks.__file__)\n",
    "# print(lsst.drp.tasks.__file__)\n",
    "# print(lsst.cell_coadds.__file__)"
   ]
  },
  {
   "cell_type": "code",
   "execution_count": 3,
   "id": "e9ec8d3b-9e73-4a9c-a1e0-9ba041eaf355",
   "metadata": {
    "execution": {
     "iopub.execute_input": "2024-07-18T16:13:33.554045Z",
     "iopub.status.busy": "2024-07-18T16:13:33.553926Z",
     "iopub.status.idle": "2024-07-18T16:13:33.557773Z",
     "shell.execute_reply": "2024-07-18T16:13:33.557386Z",
     "shell.execute_reply.started": "2024-07-18T16:13:33.554033Z"
    }
   },
   "outputs": [],
   "source": [
    "# collection = 'u/mgorsuch/assemble_cell_coadd_patch_61_d0508' # updated patch 61 collection\n",
    "collection = 'u/mgorsuch/assemble_cell_coadds_tract_9813/20240624T164450Z' # all working patches in tract 9813"
   ]
  },
  {
   "cell_type": "markdown",
   "id": "39c231e8-3f80-48f3-ab07-179b52e05c49",
   "metadata": {},
   "source": [
    "Patches to choose from: [37, 38, 39, 40, 41, 44, 45, 46, 48, 49, 50, 51, 52, 55, 56, 57, 60, 61, 62, 63, 67, 83, 84]"
   ]
  },
  {
   "cell_type": "code",
   "execution_count": 4,
   "id": "24de8b14-9d38-4cab-8979-bc67de9c6ca6",
   "metadata": {
    "execution": {
     "iopub.execute_input": "2024-07-18T16:13:33.558377Z",
     "iopub.status.busy": "2024-07-18T16:13:33.558247Z",
     "iopub.status.idle": "2024-07-18T16:13:33.562568Z",
     "shell.execute_reply": "2024-07-18T16:13:33.562205Z",
     "shell.execute_reply.started": "2024-07-18T16:13:33.558356Z"
    }
   },
   "outputs": [],
   "source": [
    "patch = 50"
   ]
  },
  {
   "cell_type": "code",
   "execution_count": 5,
   "id": "d1c02422-3f20-48a1-bed2-3b0831418273",
   "metadata": {
    "execution": {
     "iopub.execute_input": "2024-07-18T16:13:33.563141Z",
     "iopub.status.busy": "2024-07-18T16:13:33.563016Z",
     "iopub.status.idle": "2024-07-18T16:13:34.521068Z",
     "shell.execute_reply": "2024-07-18T16:13:34.520658Z",
     "shell.execute_reply.started": "2024-07-18T16:13:33.563129Z"
    }
   },
   "outputs": [],
   "source": [
    "coadd = butler.get('deepCoaddCell', \n",
    "                     collections=collection, \n",
    "                     instrument='HSC', \n",
    "                     skymap = 'hsc_rings_cells_v1', \n",
    "                     tract = 9813, \n",
    "                     patch=patch,\n",
    "                     band='i',)"
   ]
  },
  {
   "cell_type": "code",
   "execution_count": 6,
   "id": "a394cdce-e425-4b35-87ef-06bed7be4844",
   "metadata": {
    "execution": {
     "iopub.execute_input": "2024-07-18T16:13:34.522850Z",
     "iopub.status.busy": "2024-07-18T16:13:34.522678Z",
     "iopub.status.idle": "2024-07-18T16:13:34.524880Z",
     "shell.execute_reply": "2024-07-18T16:13:34.524588Z",
     "shell.execute_reply.started": "2024-07-18T16:13:34.522836Z"
    }
   },
   "outputs": [],
   "source": [
    "# stitch_coadd = coadd.stitch() # fails with empty cells\n",
    "explode_coadd = coadd.explode()"
   ]
  },
  {
   "cell_type": "code",
   "execution_count": 7,
   "id": "d6b09355-c83e-41d2-8f88-86568dca66f2",
   "metadata": {
    "execution": {
     "iopub.execute_input": "2024-07-18T16:13:34.525415Z",
     "iopub.status.busy": "2024-07-18T16:13:34.525257Z",
     "iopub.status.idle": "2024-07-18T16:13:34.528946Z",
     "shell.execute_reply": "2024-07-18T16:13:34.528632Z",
     "shell.execute_reply.started": "2024-07-18T16:13:34.525403Z"
    }
   },
   "outputs": [],
   "source": [
    "cell_list_filled = list(coadd.cells.keys())"
   ]
  },
  {
   "cell_type": "code",
   "execution_count": 8,
   "id": "2e55c3ea-3aed-4135-ad91-44adc9c23898",
   "metadata": {
    "execution": {
     "iopub.execute_input": "2024-07-18T16:13:34.529474Z",
     "iopub.status.busy": "2024-07-18T16:13:34.529348Z",
     "iopub.status.idle": "2024-07-18T16:13:34.803329Z",
     "shell.execute_reply": "2024-07-18T16:13:34.803009Z",
     "shell.execute_reply.started": "2024-07-18T16:13:34.529462Z"
    },
    "scrolled": true
   },
   "outputs": [],
   "source": [
    "cell_list = []\n",
    "cells_filled = [False] * 484\n",
    "\n",
    "index = 0\n",
    "for i in range(22):\n",
    "    for j in range(22):\n",
    "        cell_list.append(Index2D(x=j,y=i))\n",
    "\n",
    "        for cell in cell_list_filled:\n",
    "            if (j==cell.x) and (i==cell.y):\n",
    "                cells_filled[index]=True\n",
    "\n",
    "        index += 1"
   ]
  },
  {
   "cell_type": "code",
   "execution_count": 9,
   "id": "e806cd6d-3ce5-4294-8877-78f92a4c1e80",
   "metadata": {
    "execution": {
     "iopub.execute_input": "2024-07-18T16:13:34.803895Z",
     "iopub.status.busy": "2024-07-18T16:13:34.803754Z",
     "iopub.status.idle": "2024-07-18T16:13:34.805704Z",
     "shell.execute_reply": "2024-07-18T16:13:34.805380Z",
     "shell.execute_reply.started": "2024-07-18T16:13:34.803880Z"
    }
   },
   "outputs": [],
   "source": [
    "# example on how to use equivalent of np.where on lists\n",
    "# cell_list_test = [cell_list[index] for index, val in enumerate(cells_filled) if val == True]"
   ]
  },
  {
   "cell_type": "code",
   "execution_count": 10,
   "id": "86e11f4c-8bb3-4ebb-9701-c312473a452c",
   "metadata": {
    "execution": {
     "iopub.execute_input": "2024-07-18T16:13:34.806343Z",
     "iopub.status.busy": "2024-07-18T16:13:34.806101Z",
     "iopub.status.idle": "2024-07-18T16:13:34.895517Z",
     "shell.execute_reply": "2024-07-18T16:13:34.895097Z",
     "shell.execute_reply.started": "2024-07-18T16:13:34.806332Z"
    }
   },
   "outputs": [],
   "source": [
    "visits = []\n",
    "for ref in butler.registry.queryDatasets('deepCoadd_directWarp', physical_filter='HSC-I', collections=collection, instrument='HSC', tract=9813, skymap = 'hsc_rings_cells_v1', patch=patch):\n",
    "    visits.append(ref.dataId.get('visit'))\n",
    "visits = np.unique(visits)"
   ]
  },
  {
   "cell_type": "code",
   "execution_count": 11,
   "id": "6f60cbaf-b569-4c02-b485-929828b8dde6",
   "metadata": {
    "execution": {
     "iopub.execute_input": "2024-07-18T16:13:34.896077Z",
     "iopub.status.busy": "2024-07-18T16:13:34.895955Z",
     "iopub.status.idle": "2024-07-18T16:13:34.900420Z",
     "shell.execute_reply": "2024-07-18T16:13:34.900104Z",
     "shell.execute_reply.started": "2024-07-18T16:13:34.896066Z"
    },
    "scrolled": true
   },
   "outputs": [],
   "source": [
    "# arrange the number of inputs for each cell into a 2D grid:\n",
    "x_cell_bin = np.arange(0,22+1,1)\n",
    "y_cell_bin = np.arange(0,22+1,1)\n",
    "\n",
    "inputs_list = np.zeros([22,22])\n",
    "\n",
    "# for cell in cell_list:\n",
    "for index, cell in enumerate(cell_list):\n",
    "\n",
    "    # check if the cell is filled, skip if not\n",
    "    if not (cells_filled[index]):\n",
    "        continue \n",
    "        \n",
    "    num_cell_inputs = len(coadd.cells[cell].inputs)\n",
    "    x_index = cell.x\n",
    "    y_index = cell.y\n",
    "        \n",
    "    inputs_list[y_index][x_index] = num_cell_inputs"
   ]
  },
  {
   "cell_type": "code",
   "execution_count": 12,
   "id": "15dc5bf3-4061-47e3-bbc4-67e4a6779b41",
   "metadata": {
    "execution": {
     "iopub.execute_input": "2024-07-18T16:13:34.900932Z",
     "iopub.status.busy": "2024-07-18T16:13:34.900813Z",
     "iopub.status.idle": "2024-07-18T16:13:34.905317Z",
     "shell.execute_reply": "2024-07-18T16:13:34.904979Z",
     "shell.execute_reply.started": "2024-07-18T16:13:34.900921Z"
    }
   },
   "outputs": [],
   "source": [
    "# create and configure stats control object as seen in assemble_cell_coadd task\n",
    "statsCtrl = afwMath.StatisticsControl()\n",
    "statsCtrl.setAndMask(afwImage.Mask.getPlaneBitMask((\"BAD\", \"NO_DATA\", \"SAT\"))) # use default PlaneBitMasks from task\n",
    "statsCtrl.setNanSafe(True)"
   ]
  },
  {
   "cell_type": "markdown",
   "id": "31108f94-90ed-4526-bd3a-a8b4eb7275d4",
   "metadata": {
    "jp-MarkdownHeadingCollapsed": true
   },
   "source": [
    "## 1D Cell Inputs"
   ]
  },
  {
   "cell_type": "markdown",
   "id": "5d50706b-a35d-46c7-8bcf-4583c0b30db2",
   "metadata": {},
   "source": [
    "### Plotting cell input 1D histogram"
   ]
  },
  {
   "cell_type": "code",
   "execution_count": 13,
   "id": "3553c5d3-0c37-4067-9a97-1b3516d476af",
   "metadata": {
    "execution": {
     "iopub.execute_input": "2024-07-18T16:13:34.905840Z",
     "iopub.status.busy": "2024-07-18T16:13:34.905723Z",
     "iopub.status.idle": "2024-07-18T16:13:35.007824Z",
     "shell.execute_reply": "2024-07-18T16:13:35.007539Z",
     "shell.execute_reply.started": "2024-07-18T16:13:34.905829Z"
    }
   },
   "outputs": [
    {
     "data": {
      "image/png": "[encoded data removed]",
      "text/plain": [
       "<Figure size 640x480 with 1 Axes>"
      ]
     },
     "metadata": {},
     "output_type": "display_data"
    }
   ],
   "source": [
    "flat_inputs_list = inputs_list.flatten()\n",
    "\n",
    "bins = np.arange(0, np.max(inputs_list)+3)\n",
    "plt.xlabel(\"Number of input warps\")\n",
    "plt.ylabel(\"Cell count\")\n",
    "plt.title(\"Distribution of cell inputs\")\n",
    "plt.xticks(bins)\n",
    "plt.hist(flat_inputs_list, bins)\n",
    "plt.show()"
   ]
  },
  {
   "cell_type": "markdown",
   "id": "f6756f72-5b80-4fe9-8ae3-07fc525cc6cb",
   "metadata": {
    "jp-MarkdownHeadingCollapsed": true
   },
   "source": [
    "## Plot mask information"
   ]
  },
  {
   "cell_type": "markdown",
   "id": "0c3e82d9-dff2-42f4-9077-58f23060c781",
   "metadata": {},
   "source": [
    "There is probably a more efficient way to do this but this is for a first try"
   ]
  },
  {
   "cell_type": "code",
   "execution_count": 14,
   "id": "26050e59-d72e-4661-bb9a-334143fb2a41",
   "metadata": {
    "execution": {
     "iopub.execute_input": "2024-07-18T16:13:35.008354Z",
     "iopub.status.busy": "2024-07-18T16:13:35.008234Z",
     "iopub.status.idle": "2024-07-18T16:13:35.319728Z",
     "shell.execute_reply": "2024-07-18T16:13:35.319378Z",
     "shell.execute_reply.started": "2024-07-18T16:13:35.008343Z"
    }
   },
   "outputs": [
    {
     "data": {
      "text/plain": [
       "Text(0, 0.5, 'Cell count')"
      ]
     },
     "execution_count": 14,
     "metadata": {},
     "output_type": "execute_result"
    },
    {
     "data": {
      "image/png": "[encoded data removed]",
      "text/plain": [
       "<Figure size 640x480 with 1 Axes>"
      ]
     },
     "metadata": {},
     "output_type": "display_data"
    }
   ],
   "source": [
    "num_mask_pix = []\n",
    "plot_mask = 'CR'\n",
    "# for now assume the bit is the same for each cell, and use the bit from the first cell to avoid calling the bit number 400+ times\n",
    "# TO-DO check that each cell uses the same bits for each mask\n",
    "some_cell = coadd.cells[cell_list_filled[0]]\n",
    "mask_bit = some_cell.inner.mask.getPlaneBitMask(plot_mask)\n",
    "\n",
    "for cell_index in cell_list_filled:\n",
    "    \n",
    "    cell_mask = coadd.cells[cell_index]\n",
    "    num_bad_pixels = len(np.where(np.bitwise_and(cell_mask.inner.mask.array, mask_bit))[0])\n",
    "    # optionally print cells that contain the defined masked pixels\n",
    "    # if num_bad_pixels > 0:\n",
    "    #     print(cell_index)\n",
    "    num_mask_pix.append(num_bad_pixels)\n",
    "    \n",
    "num_mask_pix = np.array(num_mask_pix)\n",
    "\n",
    "# plot data as a histogram\n",
    "bins = np.arange(0, np.max(num_mask_pix)+1, (np.max(num_mask_pix)+1)/20)\n",
    "plt.hist(num_mask_pix, bins)\n",
    "plt.title(f\"Mask: {plot_mask}\")\n",
    "plt.xlabel(f\"Number of {plot_mask} pixels in a cell\")\n",
    "plt.yscale(\"log\")\n",
    "plt.ylabel(\"Cell count\")"
   ]
  },
  {
   "cell_type": "markdown",
   "id": "36231aa2-2944-4e06-82d6-50440195d53a",
   "metadata": {},
   "source": [
    "## Generate 2D histogram of number of cell inputs across a patch"
   ]
  },
  {
   "cell_type": "markdown",
   "id": "1fe26528-640d-41e1-b454-6bf4ca0cfa10",
   "metadata": {},
   "source": [
    "Generate an array of input data from each cell (this may need some fiddling with getting differing array structures to work together)"
   ]
  },
  {
   "cell_type": "code",
   "execution_count": 15,
   "id": "c0ad2074-8d3d-47a1-9129-fedd211d2018",
   "metadata": {
    "execution": {
     "iopub.execute_input": "2024-07-18T16:13:35.320337Z",
     "iopub.status.busy": "2024-07-18T16:13:35.320212Z",
     "iopub.status.idle": "2024-07-18T16:13:35.322150Z",
     "shell.execute_reply": "2024-07-18T16:13:35.321880Z",
     "shell.execute_reply.started": "2024-07-18T16:13:35.320325Z"
    }
   },
   "outputs": [],
   "source": [
    "# stitch_coadd.asExposure().getDimensions()"
   ]
  },
  {
   "cell_type": "markdown",
   "id": "fe6ccd2d-3f57-4162-ae19-d9d238e66d7f",
   "metadata": {},
   "source": [
    "Get the grid structure of the stitched coadd:"
   ]
  },
  {
   "cell_type": "code",
   "execution_count": 16,
   "id": "8d7fd339-8390-4379-b36d-6806bc143d37",
   "metadata": {
    "execution": {
     "iopub.execute_input": "2024-07-18T16:13:35.322643Z",
     "iopub.status.busy": "2024-07-18T16:13:35.322526Z",
     "iopub.status.idle": "2024-07-18T16:13:35.325791Z",
     "shell.execute_reply": "2024-07-18T16:13:35.325492Z",
     "shell.execute_reply.started": "2024-07-18T16:13:35.322632Z"
    }
   },
   "outputs": [],
   "source": [
    "# print(stitch_coadd.grid)"
   ]
  },
  {
   "cell_type": "markdown",
   "id": "c539ee29-abd1-4599-946b-e09876f8e12e",
   "metadata": {},
   "source": [
    "Plot the 2D grid of cell inputs:"
   ]
  },
  {
   "cell_type": "code",
   "execution_count": 17,
   "id": "0846119c-c9b2-4c1d-bba2-f50096aa389a",
   "metadata": {
    "execution": {
     "iopub.execute_input": "2024-07-18T16:13:35.326312Z",
     "iopub.status.busy": "2024-07-18T16:13:35.326201Z",
     "iopub.status.idle": "2024-07-18T16:13:35.490731Z",
     "shell.execute_reply": "2024-07-18T16:13:35.490442Z",
     "shell.execute_reply.started": "2024-07-18T16:13:35.326301Z"
    }
   },
   "outputs": [
    {
     "data": {
      "text/plain": [
       "<matplotlib.colorbar.Colorbar at 0x7f5ef9472b50>"
      ]
     },
     "execution_count": 17,
     "metadata": {},
     "output_type": "execute_result"
    },
    {
     "data": {
      "image/png": "[encoded data removed]",
      "text/plain": [
       "<Figure size 640x480 with 2 Axes>"
      ]
     },
     "metadata": {},
     "output_type": "display_data"
    }
   ],
   "source": [
    "plt.pcolormesh(x_cell_bin, y_cell_bin, inputs_list, shading='auto', vmin=inputs_list.min(), vmax=inputs_list.max(), linewidths=4)\n",
    "plt.xticks(np.arange(0, 21, 2))\n",
    "plt.yticks(np.arange(0, 21, 2))\n",
    "plt.title(f\"Cell input distribution across tract 9813, patch {patch}\")\n",
    "plt.xlabel(\"Cell x-index\")\n",
    "plt.ylabel(\"Cell y-index\")\n",
    "plt.colorbar()"
   ]
  },
  {
   "cell_type": "markdown",
   "id": "51847fdf-29a5-4ae6-b1e6-5105b5423fab",
   "metadata": {},
   "source": [
    "Brief check that index of cells are lining up as expected, since numpy indexes 2D arrays differently."
   ]
  },
  {
   "cell_type": "code",
   "execution_count": 18,
   "id": "c2f793d4-b845-4aa2-bb04-a50e2bddc034",
   "metadata": {
    "execution": {
     "iopub.execute_input": "2024-07-18T16:13:35.491292Z",
     "iopub.status.busy": "2024-07-18T16:13:35.491168Z",
     "iopub.status.idle": "2024-07-18T16:13:35.493001Z",
     "shell.execute_reply": "2024-07-18T16:13:35.492726Z",
     "shell.execute_reply.started": "2024-07-18T16:13:35.491280Z"
    },
    "scrolled": true
   },
   "outputs": [],
   "source": [
    "# for patch 61\n",
    "# print(len(coadd.cells[Index2D(x=0, y=0)].inputs)) # expect 7\n",
    "# print(len(coadd.cells[Index2D(x=15, y=4)].inputs)) # expect 1\n",
    "# print(len(coadd.cells[Index2D(x=7, y=9)].inputs)) # expect 6"
   ]
  },
  {
   "cell_type": "markdown",
   "id": "25c9e70c-7acb-4065-b824-2d535721bffb",
   "metadata": {},
   "source": [
    "### Display above histogram over the stitched coadd"
   ]
  },
  {
   "cell_type": "markdown",
   "id": "0cc227c8-fc89-4b8c-abbc-5c7c27bf92a0",
   "metadata": {},
   "source": [
    "Maybe not as useful as I had hoped, but still an interesting exercise in manipulating array images."
   ]
  },
  {
   "cell_type": "code",
   "execution_count": 19,
   "id": "6728a994-b915-45b8-81de-f159f7d1f446",
   "metadata": {
    "execution": {
     "iopub.execute_input": "2024-07-18T16:13:35.493496Z",
     "iopub.status.busy": "2024-07-18T16:13:35.493380Z",
     "iopub.status.idle": "2024-07-18T16:13:35.496795Z",
     "shell.execute_reply": "2024-07-18T16:13:35.496538Z",
     "shell.execute_reply.started": "2024-07-18T16:13:35.493485Z"
    }
   },
   "outputs": [],
   "source": [
    "# flipped_stitch = np.flip(stitch_coadd.image.getArray(), axis=0)"
   ]
  },
  {
   "cell_type": "markdown",
   "id": "e05b45e6-b236-42db-9982-9e9dda599c01",
   "metadata": {},
   "source": [
    "Many different ways to retrieve the bounding box coordinates:"
   ]
  },
  {
   "cell_type": "code",
   "execution_count": 20,
   "id": "1148c678-38fe-4573-b8ee-e31965f07c36",
   "metadata": {
    "execution": {
     "iopub.execute_input": "2024-07-18T16:13:35.497272Z",
     "iopub.status.busy": "2024-07-18T16:13:35.497163Z",
     "iopub.status.idle": "2024-07-18T16:13:35.501474Z",
     "shell.execute_reply": "2024-07-18T16:13:35.501204Z",
     "shell.execute_reply.started": "2024-07-18T16:13:35.497262Z"
    }
   },
   "outputs": [],
   "source": [
    "# # coadd pixel coordinates for minimum corner and maximum corner\n",
    "# print(stitch_coadd.bbox)\n",
    "# # split up the four values\n",
    "# print(stitch_coadd.bbox.beginX)\n",
    "# print(stitch_coadd.bbox.beginY)\n",
    "# print(stitch_coadd.bbox.maxX)\n",
    "# print(stitch_coadd.bbox.maxY)\n",
    "# # get each corner\n",
    "# print(stitch_coadd.bbox.getBegin())\n",
    "# print(stitch_coadd.bbox.getMax())"
   ]
  },
  {
   "cell_type": "markdown",
   "id": "14014323-721e-482a-87c6-6eabe44115dd",
   "metadata": {},
   "source": [
    "Remove the image padding (50 pixels added to each side, actual image should be 3300x3300 pixels:"
   ]
  },
  {
   "cell_type": "code",
   "execution_count": 21,
   "id": "085d2dcd-185f-4952-ab39-2738220d15eb",
   "metadata": {
    "execution": {
     "iopub.execute_input": "2024-07-18T16:13:35.501958Z",
     "iopub.status.busy": "2024-07-18T16:13:35.501845Z",
     "iopub.status.idle": "2024-07-18T16:13:35.506567Z",
     "shell.execute_reply": "2024-07-18T16:13:35.506299Z",
     "shell.execute_reply.started": "2024-07-18T16:13:35.501947Z"
    }
   },
   "outputs": [],
   "source": [
    "# bbox = afwGeom.Box2I()\n",
    "# bbox.include(afwGeom.Point2I(stitch_coadd.bbox.getBegin()+(geom.Extent2I(50, 50))))\n",
    "# bbox.include(afwGeom.Point2I(stitch_coadd.bbox.getMax()-(geom.Extent2I(50, 50))))\n",
    "# cutout = stitch_coadd.asExposure()[bbox]\n",
    "# print(cutout.getDimensions())"
   ]
  },
  {
   "cell_type": "code",
   "execution_count": 22,
   "id": "f161547e-22b9-430b-a9a4-d7eef39691c9",
   "metadata": {
    "execution": {
     "iopub.execute_input": "2024-07-18T16:13:35.507049Z",
     "iopub.status.busy": "2024-07-18T16:13:35.506938Z",
     "iopub.status.idle": "2024-07-18T16:13:35.510743Z",
     "shell.execute_reply": "2024-07-18T16:13:35.510474Z",
     "shell.execute_reply.started": "2024-07-18T16:13:35.507038Z"
    }
   },
   "outputs": [],
   "source": [
    "# from matplotlib.colors import LogNorm\n",
    "# plt.pcolormesh(x_cell_bin, y_cell_bin, inputs_list, shading='auto', vmin=inputs_list.min(), vmax=inputs_list.max(), alpha=0.5)\n",
    "# # extent = np.min(x), np.max(x), np.min(y), np.max(y)\n",
    "# extent = 0, 3300, 0, 3300\n",
    "# im1 = plt.imshow(np.flip(inputs_list, axis=0), alpha=0.5, extent=extent)\n",
    "# color1 = plt.colorbar(im1)\n",
    "# im2 = plt.imshow(np.flip(cutout.image.getArray(), axis=0), cmap='gray', norm=LogNorm(), extent=extent)\n",
    "# color2 = plt.colorbar(im2)\n",
    "# plt.show()"
   ]
  },
  {
   "cell_type": "markdown",
   "id": "79bbd4c8-59f0-4021-b87a-75e101c7d77a",
   "metadata": {},
   "source": [
    "### Check DC2 run for interpolation errors in warps"
   ]
  },
  {
   "cell_type": "code",
   "execution_count": 35,
   "id": "7014bc54-3b38-4561-bc4f-e64f30f6f2d4",
   "metadata": {
    "execution": {
     "iopub.execute_input": "2024-07-18T16:13:40.844633Z",
     "iopub.status.busy": "2024-07-18T16:13:40.844492Z",
     "iopub.status.idle": "2024-07-18T16:13:40.975186Z",
     "shell.execute_reply": "2024-07-18T16:13:40.974719Z",
     "shell.execute_reply.started": "2024-07-18T16:13:40.844621Z"
    }
   },
   "outputs": [],
   "source": [
    "dc2_repo = '/sdf/data/rubin/repo/dc2/'\n",
    "collection_dc2 = 'u/mgorsuch/assemble_cell_coadd_patch_61/20240509T184123Z'\n",
    "dc2_butler = Butler(dc2_repo)\n",
    "dc2_registry = dc2_butler.registry"
   ]
  },
  {
   "cell_type": "code",
   "execution_count": 36,
   "id": "cf187aad-89dd-4523-9c8b-d15ddc9f08c0",
   "metadata": {
    "execution": {
     "iopub.execute_input": "2024-07-18T16:13:40.975989Z",
     "iopub.status.busy": "2024-07-18T16:13:40.975857Z",
     "iopub.status.idle": "2024-07-18T16:13:41.614310Z",
     "shell.execute_reply": "2024-07-18T16:13:41.613880Z",
     "shell.execute_reply.started": "2024-07-18T16:13:40.975977Z"
    }
   },
   "outputs": [
    {
     "name": "stdout",
     "output_type": "stream",
     "text": [
      "{instrument: 'LSSTCam-imSim', skymap: 'DC2_cells_v1', tract: 3828, patch: 42, visit: 162699, band: 'r', day_obs: 20220806, physical_filter: 'r_sim_1.4'}\n",
      "{instrument: 'LSSTCam-imSim', skymap: 'DC2_cells_v1', tract: 3828, patch: 42, visit: 193147, band: 'r', day_obs: 20220916, physical_filter: 'r_sim_1.4'}\n",
      "{instrument: 'LSSTCam-imSim', skymap: 'DC2_cells_v1', tract: 3828, patch: 42, visit: 193189, band: 'r', day_obs: 20220916, physical_filter: 'r_sim_1.4'}\n",
      "{instrument: 'LSSTCam-imSim', skymap: 'DC2_cells_v1', tract: 3828, patch: 42, visit: 193232, band: 'r', day_obs: 20220916, physical_filter: 'r_sim_1.4'}\n",
      "{instrument: 'LSSTCam-imSim', skymap: 'DC2_cells_v1', tract: 3828, patch: 42, visit: 193233, band: 'r', day_obs: 20220916, physical_filter: 'r_sim_1.4'}\n",
      "{instrument: 'LSSTCam-imSim', skymap: 'DC2_cells_v1', tract: 3828, patch: 42, visit: 193888, band: 'r', day_obs: 20220917, physical_filter: 'r_sim_1.4'}\n",
      "{instrument: 'LSSTCam-imSim', skymap: 'DC2_cells_v1', tract: 3828, patch: 42, visit: 202590, band: 'r', day_obs: 20221001, physical_filter: 'r_sim_1.4'}\n",
      "{instrument: 'LSSTCam-imSim', skymap: 'DC2_cells_v1', tract: 3828, patch: 42, visit: 202617, band: 'r', day_obs: 20221001, physical_filter: 'r_sim_1.4'}\n",
      "{instrument: 'LSSTCam-imSim', skymap: 'DC2_cells_v1', tract: 3828, patch: 42, visit: 212071, band: 'r', day_obs: 20221014, physical_filter: 'r_sim_1.4'}\n",
      "{instrument: 'LSSTCam-imSim', skymap: 'DC2_cells_v1', tract: 3828, patch: 42, visit: 212118, band: 'r', day_obs: 20221014, physical_filter: 'r_sim_1.4'}\n",
      "{instrument: 'LSSTCam-imSim', skymap: 'DC2_cells_v1', tract: 3828, patch: 42, visit: 212739, band: 'r', day_obs: 20221015, physical_filter: 'r_sim_1.4'}\n",
      "{instrument: 'LSSTCam-imSim', skymap: 'DC2_cells_v1', tract: 3828, patch: 42, visit: 212806, band: 'r', day_obs: 20221015, physical_filter: 'r_sim_1.4'}\n",
      "{instrument: 'LSSTCam-imSim', skymap: 'DC2_cells_v1', tract: 3828, patch: 42, visit: 213513, band: 'r', day_obs: 20221016, physical_filter: 'r_sim_1.4'}\n",
      "{instrument: 'LSSTCam-imSim', skymap: 'DC2_cells_v1', tract: 3828, patch: 42, visit: 213545, band: 'r', day_obs: 20221016, physical_filter: 'r_sim_1.4'}\n",
      "{instrument: 'LSSTCam-imSim', skymap: 'DC2_cells_v1', tract: 3828, patch: 42, visit: 219950, band: 'r', day_obs: 20221024, physical_filter: 'r_sim_1.4'}\n",
      "{instrument: 'LSSTCam-imSim', skymap: 'DC2_cells_v1', tract: 3828, patch: 42, visit: 236833, band: 'r', day_obs: 20221122, physical_filter: 'r_sim_1.4'}\n",
      "{instrument: 'LSSTCam-imSim', skymap: 'DC2_cells_v1', tract: 3828, patch: 42, visit: 242597, band: 'r', day_obs: 20221130, physical_filter: 'r_sim_1.4'}\n",
      "{instrument: 'LSSTCam-imSim', skymap: 'DC2_cells_v1', tract: 3828, patch: 42, visit: 252422, band: 'r', day_obs: 20221215, physical_filter: 'r_sim_1.4'}\n",
      "{instrument: 'LSSTCam-imSim', skymap: 'DC2_cells_v1', tract: 3828, patch: 42, visit: 300252, band: 'r', day_obs: 20230225, physical_filter: 'r_sim_1.4'}\n",
      "{instrument: 'LSSTCam-imSim', skymap: 'DC2_cells_v1', tract: 3828, patch: 42, visit: 401660, band: 'r', day_obs: 20230721, physical_filter: 'r_sim_1.4'}\n",
      "{instrument: 'LSSTCam-imSim', skymap: 'DC2_cells_v1', tract: 3828, patch: 42, visit: 414873, band: 'r', day_obs: 20230809, physical_filter: 'r_sim_1.4'}\n",
      "{instrument: 'LSSTCam-imSim', skymap: 'DC2_cells_v1', tract: 3828, patch: 42, visit: 436538, band: 'r', day_obs: 20230918, physical_filter: 'r_sim_1.4'}\n",
      "{instrument: 'LSSTCam-imSim', skymap: 'DC2_cells_v1', tract: 3828, patch: 42, visit: 448317, band: 'r', day_obs: 20231006, physical_filter: 'r_sim_1.4'}\n",
      "{instrument: 'LSSTCam-imSim', skymap: 'DC2_cells_v1', tract: 3828, patch: 42, visit: 452557, band: 'r', day_obs: 20231016, physical_filter: 'r_sim_1.4'}\n",
      "{instrument: 'LSSTCam-imSim', skymap: 'DC2_cells_v1', tract: 3828, patch: 42, visit: 456716, band: 'r', day_obs: 20231022, physical_filter: 'r_sim_1.4'}\n"
     ]
    }
   ],
   "source": [
    "for ref in dc2_butler.registry.queryDatasets('deepCoadd_directWarp', collections=collection_dc2):\n",
    "    print(ref.dataId)"
   ]
  },
  {
   "cell_type": "code",
   "execution_count": 37,
   "id": "382576c4-67c1-47fc-8636-8875f6d51d4f",
   "metadata": {
    "execution": {
     "iopub.execute_input": "2024-07-18T16:13:41.615022Z",
     "iopub.status.busy": "2024-07-18T16:13:41.614885Z",
     "iopub.status.idle": "2024-07-18T16:13:42.080382Z",
     "shell.execute_reply": "2024-07-18T16:13:42.079914Z",
     "shell.execute_reply.started": "2024-07-18T16:13:41.615009Z"
    }
   },
   "outputs": [],
   "source": [
    "warp_dc2 = dc2_butler.get('deepCoadd_directWarp',\n",
    "                   collections = collection_dc2,\n",
    "                   instrument='LSSTCam-imSim',\n",
    "                   skymap = 'DC2_cells_v1',\n",
    "                   tract = 3828,\n",
    "                   patch = 42,\n",
    "                   visit = 212071)"
   ]
  },
  {
   "cell_type": "code",
   "execution_count": 38,
   "id": "6cc148e2-528c-4768-87a2-9f8c5a43bc11",
   "metadata": {
    "execution": {
     "iopub.execute_input": "2024-07-18T16:13:42.081092Z",
     "iopub.status.busy": "2024-07-18T16:13:42.080955Z",
     "iopub.status.idle": "2024-07-18T16:13:42.599315Z",
     "shell.execute_reply": "2024-07-18T16:13:42.598893Z",
     "shell.execute_reply.started": "2024-07-18T16:13:42.081079Z"
    }
   },
   "outputs": [],
   "source": [
    "display1 = afwDisplay.Display(frame=1)\n",
    "display1.mtv(warp_dc2.maskedImage)"
   ]
  },
  {
   "cell_type": "markdown",
   "id": "8bf74d73-7a20-44ce-9cb9-f09987f76677",
   "metadata": {},
   "source": [
    "## Cell Depth"
   ]
  },
  {
   "cell_type": "markdown",
   "id": "95d6963d-8c9d-4349-91d9-fd37e6877dab",
   "metadata": {},
   "source": [
    "### Cell Depth Methods"
   ]
  },
  {
   "cell_type": "markdown",
   "id": "e95c19c0-259e-4afd-a0a5-80f0b3183266",
   "metadata": {},
   "source": [
    "Example calculations for values needed to calculate cell cepth.\n",
    "\n",
    "Image depth equation from https://github.com/lsst/pipe_tasks/blob/main/python/lsst/pipe/tasks/healSparseMappingProperties.py#L485"
   ]
  },
  {
   "cell_type": "code",
   "execution_count": 51,
   "id": "e5442891-3b6f-4bc2-b4c3-169f12c8e196",
   "metadata": {
    "execution": {
     "iopub.execute_input": "2024-07-18T16:14:08.110700Z",
     "iopub.status.busy": "2024-07-18T16:14:08.110571Z",
     "iopub.status.idle": "2024-07-18T16:14:08.113099Z",
     "shell.execute_reply": "2024-07-18T16:14:08.112753Z",
     "shell.execute_reply.started": "2024-07-18T16:14:08.110688Z"
    }
   },
   "outputs": [],
   "source": [
    "# returns effective PSF area given the PSF stamp image array\n",
    "def psfArea(psf_im):\n",
    "    numer = np.square(np.sum(psf_im))\n",
    "    # numer = 1 # I've seen this as well, but said to be prone to changing if stamp size changes\n",
    "    denom = np.sum(np.square(psf_im))\n",
    "    return numer/denom"
   ]
  },
  {
   "cell_type": "code",
   "execution_count": 52,
   "id": "9299bbc0-c302-4106-9a24-f8ccfc660c8c",
   "metadata": {
    "execution": {
     "iopub.execute_input": "2024-07-18T16:14:08.113673Z",
     "iopub.status.busy": "2024-07-18T16:14:08.113553Z",
     "iopub.status.idle": "2024-07-18T16:14:08.117868Z",
     "shell.execute_reply": "2024-07-18T16:14:08.117525Z",
     "shell.execute_reply.started": "2024-07-18T16:14:08.113662Z"
    }
   },
   "outputs": [],
   "source": [
    "# returns the weight (~1/meanVar) of a cell, given the cell object and the statistics settings\n",
    "def cell_weight(cell, statsCtrl):\n",
    "    accTask = AssembleCellCoaddTask()\n",
    "    mask_im = cell.outer.asMaskedImage()\n",
    "    computed_weight = accTask._compute_weight(mask_im, statsCtrl)\n",
    "    # the computed weight will be the same value for each pixel\n",
    "    total_weight = computed_weight * mask_im.getDimensions()[0] * mask_im.getDimensions()[1]\n",
    "    return total_weight"
   ]
  },
  {
   "cell_type": "code",
   "execution_count": 53,
   "id": "12ff1b95-ccd1-4466-815c-6fbc8c01328a",
   "metadata": {
    "execution": {
     "iopub.execute_input": "2024-07-18T16:14:08.118401Z",
     "iopub.status.busy": "2024-07-18T16:14:08.118273Z",
     "iopub.status.idle": "2024-07-18T16:14:08.122816Z",
     "shell.execute_reply": "2024-07-18T16:14:08.122391Z",
     "shell.execute_reply.started": "2024-07-18T16:14:08.118389Z"
    }
   },
   "outputs": [],
   "source": [
    "# returns the limiting PSF magnitude of each pixel, given the PSF area and cell weight\n",
    "def mag_lim(psf_area, weights, zp=27, num_sigma=5):\n",
    "    maglim = zp-2.5*np.log10(num_sigma*np.sqrt(psf_area/weights))\n",
    "    return maglim"
   ]
  },
  {
   "cell_type": "markdown",
   "id": "8f12c768-81d9-47f2-bb97-4c9074ae9440",
   "metadata": {},
   "source": [
    "Example on test cell:"
   ]
  },
  {
   "cell_type": "code",
   "execution_count": 54,
   "id": "68ce4b49-bb93-4f1b-a25f-90dffbe11942",
   "metadata": {
    "execution": {
     "iopub.execute_input": "2024-07-18T16:14:08.123531Z",
     "iopub.status.busy": "2024-07-18T16:14:08.123386Z",
     "iopub.status.idle": "2024-07-18T16:14:08.134762Z",
     "shell.execute_reply": "2024-07-18T16:14:08.134389Z",
     "shell.execute_reply.started": "2024-07-18T16:14:08.123517Z"
    }
   },
   "outputs": [
    {
     "name": "stdout",
     "output_type": "stream",
     "text": [
      "PSF eff. area:  42.591650153416815\n",
      "Cell totaled weights:  388.155173534826\n",
      "Cell depth:  26.45217612980335\n"
     ]
    }
   ],
   "source": [
    "depth_cell = coadd.cells[Index2D(x=21,y=21)]\n",
    "depth_psf_image = depth_cell.psf_image.array\n",
    "psf_area = psfArea(depth_psf_image)\n",
    "print(\"PSF eff. area: \", psf_area)\n",
    "print(\"Cell totaled weights: \", cell_weight(depth_cell, statsCtrl))\n",
    "print(\"Cell depth: \", np.mean(mag_lim(psf_area, cell_weight(depth_cell, statsCtrl))))"
   ]
  },
  {
   "cell_type": "markdown",
   "id": "e38beef0-a597-4d63-9b40-1bec91e21c28",
   "metadata": {},
   "source": [
    "### Cell Depth 2D Distribution"
   ]
  },
  {
   "cell_type": "code",
   "execution_count": 55,
   "id": "e9fa22e8-6d0f-4d90-8490-3d3344ff781b",
   "metadata": {
    "execution": {
     "iopub.execute_input": "2024-07-18T16:14:08.135326Z",
     "iopub.status.busy": "2024-07-18T16:14:08.135207Z",
     "iopub.status.idle": "2024-07-18T16:14:09.304782Z",
     "shell.execute_reply": "2024-07-18T16:14:09.304371Z",
     "shell.execute_reply.started": "2024-07-18T16:14:08.135314Z"
    }
   },
   "outputs": [],
   "source": [
    "cell_depths = np.empty([22,22])\n",
    "\n",
    "for index, cell_index in enumerate(cell_list):\n",
    "\n",
    "    # check if the cell is filled, skip if not\n",
    "    if not (cells_filled[index]):\n",
    "        continue \n",
    "\n",
    "    cell = coadd.cells[cell_index]\n",
    "    psf_im = cell.psf_image.array\n",
    "\n",
    "    psf_area = psfArea(psf_im)\n",
    "    weight = cell_weight(cell, statsCtrl)\n",
    "    \n",
    "    cell_depth = mag_lim(psf_area, weight)\n",
    "\n",
    "    x_index = cell_index.x\n",
    "    y_index = cell_index.y\n",
    "    \n",
    "    cell_depths[y_index][x_index] = np.mean(cell_depth)\n",
    "\n",
    "cell_depths = ma.masked_where(cell_depths < 0.1, cell_depths) # TO-DO: remove hard coded condition"
   ]
  },
  {
   "cell_type": "code",
   "execution_count": 58,
   "id": "e1c6abe1-d84c-422d-be50-2de1c0f106a3",
   "metadata": {
    "execution": {
     "iopub.execute_input": "2024-07-18T16:15:23.560156Z",
     "iopub.status.busy": "2024-07-18T16:15:23.559549Z",
     "iopub.status.idle": "2024-07-18T16:15:23.831427Z",
     "shell.execute_reply": "2024-07-18T16:15:23.831030Z",
     "shell.execute_reply.started": "2024-07-18T16:15:23.560140Z"
    }
   },
   "outputs": [
    {
     "data": {
      "image/png": "[encoded data removed]",
      "text/plain": [
       "<Figure size 800x800 with 3 Axes>"
      ]
     },
     "metadata": {},
     "output_type": "display_data"
    }
   ],
   "source": [
    "fig, axs = plt.subplots(1, 2, figsize=(8,8))\n",
    "plt.tight_layout()\n",
    "plt.subplots_adjust(wspace=0.5)\n",
    "\n",
    "depths = axs[0].pcolormesh(cell_depths, \n",
    "                        shading='auto', \n",
    "                        vmin=ma.min(cell_depths), \n",
    "                        vmax=ma.max(cell_depths),)\n",
    "\n",
    "axs[0].set_title(f\"Mean limiting depth of each cell \\n tract 9813, patch {patch}, i-band\")\n",
    "axs[0].set_xlabel(\"Cell x-index\")\n",
    "axs[0].set_ylabel(\"Cell y-index\")\n",
    "axs[0].set_aspect('equal')\n",
    "axs[0].set_xticks(np.arange(0, 21, 2))\n",
    "axs[0].set_yticks(np.arange(0, 21, 2))\n",
    "fig.colorbar(depths, ax=axs[0], cmap='viridis', shrink=0.3, label='AB mag')\n",
    "\n",
    "depths = axs[1].scatter(inputs_list.flatten(), cell_depths)\n",
    "\n",
    "# a rough estimate of the theoretical improvement in depth\n",
    "xs = np.linspace(1, 7, 1000)\n",
    "ys = 1.25*np.log10(xs)+25.8\n",
    "#log_funtion = axs[1].plot(xs, ys)\n",
    "\n",
    "axs[1].set_title(f\"Cell Depth vs Num Inputs \\n tract 9813, patch {patch}, i-band\")\n",
    "axs[1].set_aspect(12)\n",
    "axs[1].set_xlabel(\"Number of input warps\")\n",
    "axs[1].set_ylabel(\"Cell Mean Depth, AB mag\")\n",
    "axs[1].set_aspect(5)"
   ]
  },
  {
   "cell_type": "markdown",
   "id": "4566b553-c7d5-446c-9843-92fb19fbd66e",
   "metadata": {},
   "source": [
    "Fortunately, the limiting depth seems to improve as number of input images increases. This should be tested on a wider range of cells."
   ]
  },
  {
   "cell_type": "code",
   "execution_count": null,
   "id": "f874afb1-9f3c-49c6-860d-ddcf2a3a6333",
   "metadata": {},
   "outputs": [],
   "source": []
  }
 ],
 "metadata": {
  "kernelspec": {
   "display_name": "LSST",
   "language": "python",
   "name": "lsst"
  },
  "language_info": {
   "codemirror_mode": {
    "name": "ipython",
    "version": 3
   },
   "file_extension": ".py",
   "mimetype": "text/x-python",
   "name": "python",
   "nbconvert_exporter": "python",
   "pygments_lexer": "ipython3",
   "version": "3.11.9"
  }
 },
 "nbformat": 4,
 "nbformat_minor": 5
}
