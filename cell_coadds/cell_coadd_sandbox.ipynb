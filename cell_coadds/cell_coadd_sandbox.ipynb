{
 "cells": [
  {
   "cell_type": "markdown",
   "id": "600959fc-6915-407b-887b-483388055300",
   "metadata": {},
   "source": [
    "## Load in imports and data"
   ]
  },
  {
   "cell_type": "markdown",
   "id": "7bb5717b-c3a3-4a51-8c79-3c221b456719",
   "metadata": {},
   "source": [
    "Last working weekly: w2024_29"
   ]
  },
  {
   "cell_type": "code",
   "execution_count": 1,
   "id": "dcee5f19-6338-49fd-8f55-3ea03d12775b",
   "metadata": {
    "execution": {
     "iopub.execute_input": "2024-07-18T16:13:28.928023Z",
     "iopub.status.busy": "2024-07-18T16:13:28.927901Z",
     "iopub.status.idle": "2024-07-18T16:13:33.550747Z",
     "shell.execute_reply": "2024-07-18T16:13:33.550298Z",
     "shell.execute_reply.started": "2024-07-18T16:13:28.928010Z"
    }
   },
   "outputs": [],
   "source": [
    "REPO = '/sdf/data/rubin/repo/main/'\n",
    "\n",
    "from lsst.daf.butler import Butler\n",
    "from pprint import pprint\n",
    "import lsst.afw.image as afwImage\n",
    "from lsst.skymap import Index2D\n",
    "import numpy as np\n",
    "import matplotlib as mpl\n",
    "from matplotlib import pyplot as plt\n",
    "\n",
    "%matplotlib inline\n",
    "\n",
    "butler = Butler(REPO)\n",
    "registry = butler.registry\n",
    "\n",
    "# define image display backend\n",
    "import lsst.afw.display as afwDisplay\n",
    "afwDisplay.setDefaultBackend('firefly')\n",
    "\n",
    "# cell variance\n",
    "import numpy.ma as ma\n",
    "\n",
    "# mean weighted variance\n",
    "from lsst.drp.tasks.assemble_cell_coadd import AssembleCellCoaddTask\n",
    "import lsst.afw.math as afwMath\n",
    "\n",
    "# plotting image with cell inputs\n",
    "import lsst.geom as afwGeom\n",
    "\n",
    "# interpolation mask threshold\n",
    "import lsst.geom as geom"
   ]
  },
  {
   "cell_type": "markdown",
   "id": "b41ad15a-0889-4d8f-a8ca-e9938e971c5f",
   "metadata": {},
   "source": [
    "Confirm which version of packages are setup on the notebook environment."
   ]
  },
  {
   "cell_type": "code",
   "execution_count": 2,
   "id": "55614a5d-6473-4f0f-9584-50c8b382f025",
   "metadata": {
    "execution": {
     "iopub.execute_input": "2024-07-18T16:13:33.551434Z",
     "iopub.status.busy": "2024-07-18T16:13:33.551297Z",
     "iopub.status.idle": "2024-07-18T16:13:33.553508Z",
     "shell.execute_reply": "2024-07-18T16:13:33.553129Z",
     "shell.execute_reply.started": "2024-07-18T16:13:33.551420Z"
    }
   },
   "outputs": [],
   "source": [
    "# import lsst.pipe.tasks, lsst.drp.tasks, lsst.cell_coadds\n",
    "# print(lsst.pipe.tasks.__file__)\n",
    "# print(lsst.drp.tasks.__file__)\n",
    "# print(lsst.cell_coadds.__file__)"
   ]
  },
  {
   "cell_type": "code",
   "execution_count": 3,
   "id": "e9ec8d3b-9e73-4a9c-a1e0-9ba041eaf355",
   "metadata": {
    "execution": {
     "iopub.execute_input": "2024-07-18T16:13:33.554045Z",
     "iopub.status.busy": "2024-07-18T16:13:33.553926Z",
     "iopub.status.idle": "2024-07-18T16:13:33.557773Z",
     "shell.execute_reply": "2024-07-18T16:13:33.557386Z",
     "shell.execute_reply.started": "2024-07-18T16:13:33.554033Z"
    }
   },
   "outputs": [],
   "source": [
    "# collection = 'u/mgorsuch/assemble_cell_coadd_patch_61_d0508' # updated patch 61 collection\n",
    "collection = 'u/mgorsuch/assemble_cell_coadds_tract_9813/20240624T164450Z' # all working patches in tract 9813"
   ]
  },
  {
   "cell_type": "markdown",
   "id": "39c231e8-3f80-48f3-ab07-179b52e05c49",
   "metadata": {},
   "source": [
    "Patches to choose from: [37, 38, 39, 40, 41, 44, 45, 46, 48, 49, 50, 51, 52, 55, 56, 57, 60, 61, 62, 63, 67, 83, 84]"
   ]
  },
  {
   "cell_type": "code",
   "execution_count": 4,
   "id": "24de8b14-9d38-4cab-8979-bc67de9c6ca6",
   "metadata": {
    "execution": {
     "iopub.execute_input": "2024-07-18T16:13:33.558377Z",
     "iopub.status.busy": "2024-07-18T16:13:33.558247Z",
     "iopub.status.idle": "2024-07-18T16:13:33.562568Z",
     "shell.execute_reply": "2024-07-18T16:13:33.562205Z",
     "shell.execute_reply.started": "2024-07-18T16:13:33.558356Z"
    }
   },
   "outputs": [],
   "source": [
    "patch = 50"
   ]
  },
  {
   "cell_type": "code",
   "execution_count": 5,
   "id": "d1c02422-3f20-48a1-bed2-3b0831418273",
   "metadata": {
    "execution": {
     "iopub.execute_input": "2024-07-18T16:13:33.563141Z",
     "iopub.status.busy": "2024-07-18T16:13:33.563016Z",
     "iopub.status.idle": "2024-07-18T16:13:34.521068Z",
     "shell.execute_reply": "2024-07-18T16:13:34.520658Z",
     "shell.execute_reply.started": "2024-07-18T16:13:33.563129Z"
    }
   },
   "outputs": [],
   "source": [
    "coadd = butler.get('deepCoaddCell', \n",
    "                     collections=collection, \n",
    "                     instrument='HSC', \n",
    "                     skymap = 'hsc_rings_cells_v1', \n",
    "                     tract = 9813, \n",
    "                     patch=patch,\n",
    "                     band='i',)"
   ]
  },
  {
   "cell_type": "code",
   "execution_count": 6,
   "id": "a394cdce-e425-4b35-87ef-06bed7be4844",
   "metadata": {
    "execution": {
     "iopub.execute_input": "2024-07-18T16:13:34.522850Z",
     "iopub.status.busy": "2024-07-18T16:13:34.522678Z",
     "iopub.status.idle": "2024-07-18T16:13:34.524880Z",
     "shell.execute_reply": "2024-07-18T16:13:34.524588Z",
     "shell.execute_reply.started": "2024-07-18T16:13:34.522836Z"
    }
   },
   "outputs": [],
   "source": [
    "# stitch_coadd = coadd.stitch() # fails with empty cells\n",
    "explode_coadd = coadd.explode()"
   ]
  },
  {
   "cell_type": "code",
   "execution_count": 7,
   "id": "d6b09355-c83e-41d2-8f88-86568dca66f2",
   "metadata": {
    "execution": {
     "iopub.execute_input": "2024-07-18T16:13:34.525415Z",
     "iopub.status.busy": "2024-07-18T16:13:34.525257Z",
     "iopub.status.idle": "2024-07-18T16:13:34.528946Z",
     "shell.execute_reply": "2024-07-18T16:13:34.528632Z",
     "shell.execute_reply.started": "2024-07-18T16:13:34.525403Z"
    }
   },
   "outputs": [],
   "source": [
    "cell_list_filled = list(coadd.cells.keys())"
   ]
  },
  {
   "cell_type": "code",
   "execution_count": 8,
   "id": "2e55c3ea-3aed-4135-ad91-44adc9c23898",
   "metadata": {
    "execution": {
     "iopub.execute_input": "2024-07-18T16:13:34.529474Z",
     "iopub.status.busy": "2024-07-18T16:13:34.529348Z",
     "iopub.status.idle": "2024-07-18T16:13:34.803329Z",
     "shell.execute_reply": "2024-07-18T16:13:34.803009Z",
     "shell.execute_reply.started": "2024-07-18T16:13:34.529462Z"
    },
    "scrolled": true
   },
   "outputs": [],
   "source": [
    "cell_list = []\n",
    "cells_filled = [False] * 484\n",
    "\n",
    "index = 0\n",
    "for i in range(22):\n",
    "    for j in range(22):\n",
    "        cell_list.append(Index2D(x=j,y=i))\n",
    "\n",
    "        for cell in cell_list_filled:\n",
    "            if (j==cell.x) and (i==cell.y):\n",
    "                cells_filled[index]=True\n",
    "\n",
    "        index += 1"
   ]
  },
  {
   "cell_type": "code",
   "execution_count": 9,
   "id": "e806cd6d-3ce5-4294-8877-78f92a4c1e80",
   "metadata": {
    "execution": {
     "iopub.execute_input": "2024-07-18T16:13:34.803895Z",
     "iopub.status.busy": "2024-07-18T16:13:34.803754Z",
     "iopub.status.idle": "2024-07-18T16:13:34.805704Z",
     "shell.execute_reply": "2024-07-18T16:13:34.805380Z",
     "shell.execute_reply.started": "2024-07-18T16:13:34.803880Z"
    }
   },
   "outputs": [],
   "source": [
    "# example on how to use equivalent of np.where on lists\n",
    "# cell_list_test = [cell_list[index] for index, val in enumerate(cells_filled) if val == True]"
   ]
  },
  {
   "cell_type": "code",
   "execution_count": 10,
   "id": "86e11f4c-8bb3-4ebb-9701-c312473a452c",
   "metadata": {
    "execution": {
     "iopub.execute_input": "2024-07-18T16:13:34.806343Z",
     "iopub.status.busy": "2024-07-18T16:13:34.806101Z",
     "iopub.status.idle": "2024-07-18T16:13:34.895517Z",
     "shell.execute_reply": "2024-07-18T16:13:34.895097Z",
     "shell.execute_reply.started": "2024-07-18T16:13:34.806332Z"
    }
   },
   "outputs": [],
   "source": [
    "visits = []\n",
    "for ref in butler.registry.queryDatasets('deepCoadd_directWarp', physical_filter='HSC-I', collections=collection, instrument='HSC', tract=9813, skymap = 'hsc_rings_cells_v1', patch=patch):\n",
    "    visits.append(ref.dataId.get('visit'))\n",
    "visits = np.unique(visits)"
   ]
  },
  {
   "cell_type": "code",
   "execution_count": 11,
   "id": "6f60cbaf-b569-4c02-b485-929828b8dde6",
   "metadata": {
    "execution": {
     "iopub.execute_input": "2024-07-18T16:13:34.896077Z",
     "iopub.status.busy": "2024-07-18T16:13:34.895955Z",
     "iopub.status.idle": "2024-07-18T16:13:34.900420Z",
     "shell.execute_reply": "2024-07-18T16:13:34.900104Z",
     "shell.execute_reply.started": "2024-07-18T16:13:34.896066Z"
    },
    "scrolled": true
   },
   "outputs": [],
   "source": [
    "# arrange the number of inputs for each cell into a 2D grid:\n",
    "x_cell_bin = np.arange(0,22+1,1)\n",
    "y_cell_bin = np.arange(0,22+1,1)\n",
    "\n",
    "inputs_list = np.zeros([22,22])\n",
    "\n",
    "# for cell in cell_list:\n",
    "for index, cell in enumerate(cell_list):\n",
    "\n",
    "    # check if the cell is filled, skip if not\n",
    "    if not (cells_filled[index]):\n",
    "        continue \n",
    "        \n",
    "    num_cell_inputs = len(coadd.cells[cell].inputs)\n",
    "    x_index = cell.x\n",
    "    y_index = cell.y\n",
    "        \n",
    "    inputs_list[y_index][x_index] = num_cell_inputs"
   ]
  },
  {
   "cell_type": "code",
   "execution_count": 12,
   "id": "15dc5bf3-4061-47e3-bbc4-67e4a6779b41",
   "metadata": {
    "execution": {
     "iopub.execute_input": "2024-07-18T16:13:34.900932Z",
     "iopub.status.busy": "2024-07-18T16:13:34.900813Z",
     "iopub.status.idle": "2024-07-18T16:13:34.905317Z",
     "shell.execute_reply": "2024-07-18T16:13:34.904979Z",
     "shell.execute_reply.started": "2024-07-18T16:13:34.900921Z"
    }
   },
   "outputs": [],
   "source": [
    "# create and configure stats control object as seen in assemble_cell_coadd task\n",
    "statsCtrl = afwMath.StatisticsControl()\n",
    "statsCtrl.setAndMask(afwImage.Mask.getPlaneBitMask((\"BAD\", \"NO_DATA\", \"SAT\"))) # use default PlaneBitMasks from task\n",
    "statsCtrl.setNanSafe(True)"
   ]
  },
  {
   "cell_type": "code",
   "execution_count": null,
   "id": "f874afb1-9f3c-49c6-860d-ddcf2a3a6333",
   "metadata": {},
   "outputs": [],
   "source": []
  }
 ],
 "metadata": {
  "kernelspec": {
   "display_name": "LSST",
   "language": "python",
   "name": "lsst"
  },
  "language_info": {
   "codemirror_mode": {
    "name": "ipython",
    "version": 3
   },
   "file_extension": ".py",
   "mimetype": "text/x-python",
   "name": "python",
   "nbconvert_exporter": "python",
   "pygments_lexer": "ipython3",
   "version": "3.11.9"
  }
 },
 "nbformat": 4,
 "nbformat_minor": 5
}
